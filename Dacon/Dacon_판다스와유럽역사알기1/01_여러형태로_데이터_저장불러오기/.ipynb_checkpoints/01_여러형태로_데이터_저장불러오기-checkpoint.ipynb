{
 "cells": [
  {
   "cell_type": "markdown",
   "id": "ba74954d-e4af-4bf2-bda6-3f968b61fbee",
   "metadata": {},
   "source": [
    "# 판다스와 유럽 역사 알기\n",
    "https://www.dacon.io/edu/131"
   ]
  },
  {
   "cell_type": "markdown",
   "id": "8d3d126b-d796-4b76-80f6-a211669ecab1",
   "metadata": {},
   "source": [
    "## 1. Pickling 🏛"
   ]
  },
  {
   "cell_type": "code",
   "execution_count": 33,
   "id": "df373677-ae57-495e-a952-ecea660ec266",
   "metadata": {
    "tags": []
   },
   "outputs": [
    {
     "name": "stdout",
     "output_type": "stream",
     "text": [
      "              Name                           Achievements\n",
      "0    Julius Caesar    Gaul conquest, Crossing the Rubicon\n",
      "1         Augustus  Pax Romana, Founding the Roman Empire\n",
      "2           Cicero          Catiline Orations, Philippics\n",
      "3  Marcus Aurelius          Meditations, Stoic philosophy\n"
     ]
    }
   ],
   "source": [
    "import pandas as pd\n",
    "\n",
    "# 로마 시대 중요 인물 데이터\n",
    "data = {\n",
    "    \"Name\": [\"Julius Caesar\", \"Augustus\", \"Cicero\", \"Marcus Aurelius\"],\n",
    "    \"Role\": [\"General/Dictator\", \"Emperor\", \"Philosopher/Statesman\", \"Emperor/Philosopher\"],\n",
    "    \"Born\": [-100, -63, -106, 121],\n",
    "    \"Died\": [-44, 14, -43, 180]\n",
    "}\n",
    "df = pd.DataFrame(data)\n",
    "\n",
    "# Pikcle 형태로 저장\n",
    "df.to_pickle(\"roman_figure.pkl\")\n",
    "df\n",
    "\n",
    "df_loaded = pd.read_pickle(\"roman_figure.pkl\")\n",
    "df_loaded\n",
    "\n",
    "# ---------------------------------------------------\n",
    "\n",
    "achievements = {\n",
    "    \"Name\": [\"Julius Caesar\", \"Augustus\", \"Cicero\", \"Marcus Aurelius\"],\n",
    "    \"Achievements\": [\"Gaul conquest, Crossing the Rubicon\", \"Pax Romana, Founding the Roman Empire\", \"Catiline Orations, Philippics\", \"Meditations, Stoic philosophy\"]\n",
    "}\n",
    "\n",
    "df_achievements = pd.DataFrame(achievements)\n",
    "df_achievements.to_pickle(\"roman_achievements.pkl\")\n",
    "\n",
    "# Pickle 파일로부터 업적 데이터 불러오기\n",
    "df_achievements_loaded = pd.read_pickle(\"roman_achievements.pkl\")\n",
    "print(df_achievements_loaded)"
   ]
  },
  {
   "cell_type": "markdown",
   "id": "d1c7af20-f71a-463a-a455-ce2bff843ff8",
   "metadata": {
    "tags": []
   },
   "source": [
    "## 2. Flat File (CSV) 📜\n",
    "CSV 파일을 활용하여 로마 제국의 주요 전투와 그 결과를 기록하고 불러오는 예제입니다."
   ]
  },
  {
   "cell_type": "code",
   "execution_count": 32,
   "id": "c8ae69fd-9e5a-4423-bb5b-f1a554851c21",
   "metadata": {
    "tags": []
   },
   "outputs": [
    {
     "name": "stdout",
     "output_type": "stream",
     "text": [
      "                           Battle                                  Detail\n",
      "0             Battle of Pharsalus                  Caesar defeated Pompey\n",
      "1                Battle of Actium  Octavian defeated Antony and Cleopatra\n",
      "2  Battle of the Teutoburg Forest              Varus defeated by Arminius\n",
      "3        Battle of Milvian Bridge           Constantine defeats Maxentius\n"
     ]
    }
   ],
   "source": [
    "battles = {\n",
    "    \"Battle\": [\"Battle of Pharsalus\", \"Battle of Actium\", \"Battle of the Teutoburg Forest\", \"Battle of Milvian Bridge\"],\n",
    "    \"Year\": [-48, -31, 9, 312],\n",
    "    \"Result\": [\"Caesar victory\", \"Octavian victory\", \"Germanic tribes victory\", \"Constantine victory\"]\n",
    "}\n",
    "df_battles = pd.DataFrame(battles)\n",
    "\n",
    "# CSV 형태로 저장\n",
    "df_battles.to_csv(\"roman_battles.csv\", index=False)\n",
    "df_battles\n",
    "\n",
    "# CSV 파일로부터 전투 데이터 불러오기\n",
    "df_battles_loaded = pd.read_csv(\"roman_battles.csv\")\n",
    "df_battles_loaded\n",
    "\n",
    "# ---------------------------------------------------\n",
    "\n",
    "battle_details = {\n",
    "    \"Battle\": [\"Battle of Pharsalus\", \"Battle of Actium\", \"Battle of the Teutoburg Forest\", \"Battle of Milvian Bridge\"],\n",
    "    \"Detail\": [\"Caesar defeated Pompey\", \"Octavian defeated Antony and Cleopatra\", \"Varus defeated by Arminius\", \"Constantine defeats Maxentius\"]\n",
    "}\n",
    "df_battle_details = pd.DataFrame(battle_details)\n",
    "\n",
    "# CSV 형태로 저장\n",
    "df_battle_details.to_csv(\"roman_battle_details.csv\", index=False)\n",
    "\n",
    "# CSV 파일로부터 전투의 상세 내용 불러오기\n",
    "df_battle_details_loaded = pd.read_csv(\"roman_battle_details.csv\")\n",
    "print(df_battle_details_loaded)"
   ]
  },
  {
   "cell_type": "markdown",
   "id": "2b6e1bd6-2855-453d-a23b-858208aed76a",
   "metadata": {},
   "source": [
    "## 3. Clipboard 📋\n",
    "클립보드를 사용하여 데이터를 복사하고 붙여넣는 방법에 대한 예제입니다. (참고: 이 예제들은 Jupyter Notebook 또는 대화형 Python 환경에서 직접 시도해 볼 수 있습니다.)"
   ]
  },
  {
   "cell_type": "code",
   "execution_count": 30,
   "id": "c5f9dd44-80d9-4a88-ae03-dab6989b23f5",
   "metadata": {
    "tags": []
   },
   "outputs": [
    {
     "ename": "AttributeError",
     "evalue": "'dict' object has no attribute 'to_clipboard'",
     "output_type": "error",
     "traceback": [
      "\u001b[1;31m---------------------------------------------------------------------------\u001b[0m",
      "\u001b[1;31mAttributeError\u001b[0m                            Traceback (most recent call last)",
      "Cell \u001b[1;32mIn[30], line 2\u001b[0m\n\u001b[0;32m      1\u001b[0m \u001b[38;5;66;03m# DataFrame을 클립보드에 복사 (이 코드를 실행한 후, 다른 애플리케이션에 붙여넣을 수 있습니다.)\u001b[39;00m\n\u001b[1;32m----> 2\u001b[0m battle_details\u001b[38;5;241m.\u001b[39mto_clipboard(index\u001b[38;5;241m=\u001b[39m\u001b[38;5;28;01mFalse\u001b[39;00m)\n\u001b[0;32m      4\u001b[0m \u001b[38;5;66;03m# 클립보드의 데이터를 DataFrame으로 불러오기\u001b[39;00m\n\u001b[0;32m      5\u001b[0m df_from_clipboard \u001b[38;5;241m=\u001b[39m pd\u001b[38;5;241m.\u001b[39mread_clipboard()\n",
      "\u001b[1;31mAttributeError\u001b[0m: 'dict' object has no attribute 'to_clipboard'"
     ]
    }
   ],
   "source": [
    "# DataFrame을 클립보드에 복사 (이 코드를 실행한 후, 다른 애플리케이션에 붙여넣을 수 있습니다.)\n",
    "battle_details.to_clipboard(index=False)\n",
    "\n",
    "# 클립보드의 데이터를 DataFrame으로 불러오기\n",
    "df_from_clipboard = pd.read_clipboard()\n",
    "print(df_from_clipboard)"
   ]
  },
  {
   "cell_type": "markdown",
   "id": "11812afb-c83e-4910-b8ef-b57e087b0c2d",
   "metadata": {},
   "source": [
    "## 4. Excel"
   ]
  },
  {
   "cell_type": "code",
   "execution_count": 31,
   "id": "bea16e14-b033-4aef-ad92-e9a7cf78ec93",
   "metadata": {
    "tags": []
   },
   "outputs": [
    {
     "name": "stdout",
     "output_type": "stream",
     "text": [
      "     Year  Population (millions)  Treasury (million sesterces)\n",
      "0   27 BC                     56                           700\n",
      "1   AD 14                     60                          1700\n",
      "2  AD 117                     75                          3400\n",
      "3  AD 390                     60                           800\n",
      "     Region  Population (millions)\n",
      "0      Rome                    1.0\n",
      "1     Egypt                    4.5\n",
      "2      Gaul                    5.0\n",
      "3  Hispania                    3.5\n"
     ]
    }
   ],
   "source": [
    "economy = {\n",
    "    \"Year\": [\"27 BC\", \"AD 14\", \"AD 117\", \"AD 390\"],\n",
    "    \"Population (millions)\": [56, 60, 75, 60],\n",
    "    \"Treasury (million sesterces)\": [700, 1700, 3400, 800]\n",
    "}\n",
    "df_economy = pd.DataFrame(economy)\n",
    "\n",
    "# Excel 파일로 저장\n",
    "df_economy.to_excel(\"roman_economy.xlsx\", index=False)\n",
    "\n",
    "# Excel 파일로부터 경제 데이터 불러오기\n",
    "df_economy_loaded = pd.read_excel(\"roman_economy.xlsx\")\n",
    "print(df_economy_loaded)\n",
    "\n",
    "# ---------------------------------------------------\n",
    "\n",
    "demographics = {\n",
    "    \"Region\": [\"Rome\", \"Egypt\", \"Gaul\", \"Hispania\"],\n",
    "    \"Population (millions)\": [1, 4.5, 5, 3.5]\n",
    "}\n",
    "df_demographics = pd.DataFrame(demographics)\n",
    "\n",
    "# Excel 파일로 저장\n",
    "df_demographics.to_excel(\"roman_demographics.xlsx\", index=False)\n",
    "\n",
    "# Excel 파일로부터 인구 통계 데이터 불러오기\n",
    "df_demographics_loaded = pd.read_excel(\"roman_demographics.xlsx\")\n",
    "print(df_demographics_loaded)"
   ]
  },
  {
   "cell_type": "markdown",
   "id": "fab7d5d9-ad46-4560-9355-1a9cc0a41a64",
   "metadata": {},
   "source": [
    "## 5. JSON\n",
    "JSON 형식을 사용하여 로마 제국의 유명 건축물과 그 특징을 기록하고 불러오는 예제입니다."
   ]
  },
  {
   "cell_type": "code",
   "execution_count": 34,
   "id": "5ed8c085-9b1d-4945-89a0-6a55b9779033",
   "metadata": {
    "tags": []
   },
   "outputs": [
    {
     "name": "stdout",
     "output_type": "stream",
     "text": [
      "          Monument Constructed                  Purpose\n",
      "0        Colosseum    AD 70-80             Amphitheatre\n",
      "1         Pantheon  AD 113-125                   Temple\n",
      "2  Forum of Trajan  AD 107-112                    Forum\n",
      "3   Hadrian's Wall  AD 122-128  Defensive Fortification\n",
      "          Monument                                     Significance\n",
      "0        Colosseum                   Iconic symbol of Imperial Rome\n",
      "1         Pantheon            Best-preserved ancient Roman building\n",
      "2  Forum of Trajan                              Largest Roman forum\n",
      "3   Hadrian's Wall  Most significant Roman fortification in Britain\n"
     ]
    }
   ],
   "source": [
    "monuments = {\n",
    "    \"Monument\": [\"Colosseum\", \"Pantheon\", \"Forum of Trajan\", \"Hadrian's Wall\"],\n",
    "    \"Constructed\": [\"AD 70-80\", \"AD 113-125\", \"AD 107-112\", \"AD 122-128\"],\n",
    "    \"Purpose\": [\"Amphitheatre\", \"Temple\", \"Forum\", \"Defensive Fortification\"]\n",
    "}\n",
    "df_monuments = pd.DataFrame(monuments)\n",
    "\n",
    "# JSON 형태로 저장\n",
    "df_monuments.to_json(\"roman_monuments.json\")\n",
    "\n",
    "# JSON 파일로부터 건축물 데이터 불러오기\n",
    "df_monuments_loaded = pd.read_json(\"roman_monuments.json\")\n",
    "print(df_monuments_loaded)\n",
    "\n",
    "# ---------------------------------------------------\n",
    "\n",
    "monument_significance = {\n",
    "    \"Monument\": [\"Colosseum\", \"Pantheon\", \"Forum of Trajan\", \"Hadrian's Wall\"],\n",
    "    \"Significance\": [\"Iconic symbol of Imperial Rome\", \"Best-preserved ancient Roman building\", \"Largest Roman forum\", \"Most significant Roman fortification in Britain\"]\n",
    "}\n",
    "df_monument_significance = pd.DataFrame(monument_significance)\n",
    "\n",
    "# JSON 형태로 저장\n",
    "df_monument_significance.to_json(\"roman_monument_significance.json\")\n",
    "\n",
    "# JSON 파일로부터 건축물의 역사적 중요성 데이터 불러오기\n",
    "df_monument_significance_loaded = pd.read_json(\"roman_monument_significance.json\")\n",
    "print(df_monument_significance_loaded)"
   ]
  },
  {
   "cell_type": "markdown",
   "id": "b0b9f8ed-322e-4a22-9e01-4922bea9d994",
   "metadata": {},
   "source": [
    "## 6. HTML\n",
    "HTML 형식을 이용하여 로마 제국의 중요한 건축물과 그 설명을 웹 페이지 형태로 기록하는 예제입니다."
   ]
  },
  {
   "cell_type": "code",
   "execution_count": 43,
   "id": "64284830-a28b-4c28-be0d-fe890b3c1c94",
   "metadata": {
    "tags": []
   },
   "outputs": [
    {
     "ename": "SyntaxError",
     "evalue": "invalid syntax (3370202344.py, line 14)",
     "output_type": "error",
     "traceback": [
      "\u001b[1;36m  Cell \u001b[1;32mIn[43], line 14\u001b[1;36m\u001b[0m\n\u001b[1;33m    df_loaded = pd.read_html(\"https://developer.mozilla.org/ko/docs/Learn/Getting_started_with_the_web/HTML_basics\")[0] print(df_loaded)\u001b[0m\n\u001b[1;37m                                                                                                                        ^\u001b[0m\n\u001b[1;31mSyntaxError\u001b[0m\u001b[1;31m:\u001b[0m invalid syntax\n"
     ]
    }
   ],
   "source": [
    "import pandas as pd\n",
    "\n",
    "monuments = {\n",
    "    \"Monument\": [\"Colosseum\", \"Pantheon\", \"Circus Maximus\", \"Baths of Caracalla\"],\n",
    "    \"Constructed\": [\"AD 70-80\", \"AD 113-125\", \"6th century BC\", \"AD 212-217\"],\n",
    "    \"Purpose\": [\"Amphitheatre\", \"Temple\", \"Chariot racing stadium\", \"Public baths\"]\n",
    "}\n",
    "df_monuments = pd.DataFrame(monuments)\n",
    "\n",
    "# HTML 형태로 저장\n",
    "df_monuments.to_html(\"roman_monuments.html\")\n",
    "\n",
    "# HTML 파일로부터 데이터 불러오기 (웹 서버에 파일이 호스팅되어 있어야 함)\n",
    "df_loaded = pd.read_html(\"https://developer.mozilla.org/ko/docs/Learn/Getting_started_with_the_web/HTML_basics\")[0] print(df_loaded)\n",
    "\n",
    "'''\n",
    "%pip install lxml\n",
    "df_loaded = pd.read_html(\"http://dacon.io\")[0]\n",
    "print(df_loaded)\n",
    "'''"
   ]
  },
  {
   "cell_type": "markdown",
   "id": "56fde410-6586-4922-ad07-1499830b53fa",
   "metadata": {
    "tags": []
   },
   "source": [
    "## 7. XML\n",
    "- XML 파일 생성은 일반적으로 직접적인 Pandas 함수를 사용하지 않지만, Python을 사용하여 XML 구조를 만들 수 있습니다.\n",
    "- 이 예제들은 XML 파일을 수정하여 인물별 상세 정보를 추가하고 조회하는 방법을 보여줍니다. 이를 위해서는 XML 파일의 구조를 이해하고, Python의 XML 라이브러리를 사용하여 데이터를 추가하고 조회해야 합니다.\n"
   ]
  },
  {
   "cell_type": "code",
   "execution_count": 41,
   "id": "d9c210fc-5f33-4d92-963e-1829cbf0cbd2",
   "metadata": {
    "tags": []
   },
   "outputs": [],
   "source": [
    "# 유명 인물 데이터를 XML로 저장하기\n",
    "import xml.etree.ElementTree as ET\n",
    "\n",
    "root = ET.Element(\"RomanFigures\")\n",
    "figures = [(\"Julius Caesar\", \"100-44 BC\", \"Founder of the Roman Empire\"),\n",
    "           (\"Augustus\", \"63 BC-AD 14\", \"First Roman Emperor\"),\n",
    "           (\"Marcus Aurelius\", \"AD 121-180\", \"Stoic Philosopher and Emperor\"),\n",
    "           (\"Constantine the Great\", \"AD 272-337\", \"First Christian Emperor of Rome\")]\n",
    "\n",
    "for name, lifespan, description in figures:\n",
    "    figure = ET.SubElement(root, \"Figure\")\n",
    "    ET.SubElement(figure, \"Name\").text = name\n",
    "    ET.SubElement(figure, \"Lifespan\").text = lifespan\n",
    "    ET.SubElement(figure, \"Description\").text = description\n",
    "\n",
    "tree = ET.ElementTree(root)\n",
    "tree.write(\"roman_figures.xml\")"
   ]
  },
  {
   "cell_type": "code",
   "execution_count": 42,
   "id": "2c510dfe-de9b-4b12-b195-384a9204f46d",
   "metadata": {
    "tags": []
   },
   "outputs": [
    {
     "name": "stdout",
     "output_type": "stream",
     "text": [
      "Julius Caesar 100-44 BC Founder of the Roman Empire\n",
      "Augustus 63 BC-AD 14 First Roman Emperor\n",
      "Marcus Aurelius AD 121-180 Stoic Philosopher and Emperor\n",
      "Constantine the Great AD 272-337 First Christian Emperor of Rome\n"
     ]
    }
   ],
   "source": [
    "# XML 파일로부터 데이터 불러오기\n",
    "tree = ET.parse('roman_figures.xml')\n",
    "root = tree.getroot()\n",
    "\n",
    "for figure in root.findall('Figure'):\n",
    "    name = figure.find('Name').text\n",
    "    lifespan = figure.find('Lifespan').text\n",
    "    description = figure.find('Description').text\n",
    "    print(name, lifespan, description)"
   ]
  },
  {
   "cell_type": "markdown",
   "id": "311a7719-d754-4dbf-a815-0dbace5f26e8",
   "metadata": {},
   "source": [
    "## 8. Latex\n",
    "LaTeX를 사용하여 로마 역사에 관한 데이터를 학술 문서 형식으로 표현하는 예제입니다."
   ]
  },
  {
   "cell_type": "code",
   "execution_count": 49,
   "id": "6f2734cd-3f33-4729-b86a-3dff609e0052",
   "metadata": {
    "tags": []
   },
   "outputs": [],
   "source": [
    "# LaTeX 테이블로 데이터 저장하기\n",
    "economy = {\n",
    "    \"Year\": [\"27 BC\", \"AD 14\", \"AD 117\", \"AD 390\"],\n",
    "    \"Population (Millions)\": [56, 60, 75, 60],\n",
    "    \"Treasury (Million Sesterces)\": [700, 1700, 3400, 800]\n",
    "}\n",
    "df_economy = pd.DataFrame(economy)\n",
    "\n",
    "# LaTeX 파일로 저장\n",
    "with open(\"roman_economy.tex\", \"w\") as file:\n",
    "    file.write(df_economy.to_latex(index=False))"
   ]
  },
  {
   "cell_type": "code",
   "execution_count": 50,
   "id": "5c7c4970-5120-479c-b1b4-965348fd6b76",
   "metadata": {
    "tags": []
   },
   "outputs": [],
   "source": [
    "# LaTeX로 로마 인구 통계 데이터 저장\n",
    "demographics = {\n",
    "    \"Region\": [\"Rome\", \"Egypt\", \"Gaul\", \"Hispania\"],\n",
    "    \"Population (Millions)\": [1, 4.5, 5, 3.5]\n",
    "}\n",
    "df_demographics = pd.DataFrame(demographics)\n",
    "\n",
    "# LaTeX 파일로 저장\n",
    "with open(\"roman_demographics.tex\", \"w\") as file:\n",
    "    file.write(df_demographics.to_latex(index=False))"
   ]
  },
  {
   "cell_type": "code",
   "execution_count": null,
   "id": "f7f91775-f5bb-4fb1-81b8-b3cfb1b4a89f",
   "metadata": {},
   "outputs": [],
   "source": []
  }
 ],
 "metadata": {
  "kernelspec": {
   "display_name": "Python 3 (ipykernel)",
   "language": "python",
   "name": "python3"
  },
  "language_info": {
   "codemirror_mode": {
    "name": "ipython",
    "version": 3
   },
   "file_extension": ".py",
   "mimetype": "text/x-python",
   "name": "python",
   "nbconvert_exporter": "python",
   "pygments_lexer": "ipython3",
   "version": "3.11.5"
  }
 },
 "nbformat": 4,
 "nbformat_minor": 5
}
