{
 "cells": [
  {
   "cell_type": "markdown",
   "id": "a334768a-296d-4951-b82c-0968d34c233a",
   "metadata": {},
   "source": [
    "# 판다스와 유럽 역사 알기1-13\n",
    "\n",
    "- 13_\n",
    "- https://www.dacon.io/edu/131"
   ]
  },
  {
   "cell_type": "markdown",
   "id": "e08c9f67-e14a-4acb-9116-dd97592df6f3",
   "metadata": {},
   "source": [
    "## pandas.Series.median 메서드\n",
    "시리즈 내의 중앙값을 계산합니다.  \n",
    "중앙값은 정렬된 데이터 세트에서 중앙에 위치한 값으로, 데이터 세트의 중심 경향을 나타냅니다."
   ]
  },
  {
   "cell_type": "code",
   "execution_count": 2,
   "id": "9566a475-e9f9-4d2a-8524-2f7c03e29174",
   "metadata": {},
   "outputs": [
    {
     "name": "stdout",
     "output_type": "stream",
     "text": [
      "소크라테스 학파 논리학 테스트 점수의 중앙값: 90.0\n"
     ]
    }
   ],
   "source": [
    "'''\n",
    "예제 1: 소크라테스 학파의 논리학 테스트 점수 중앙값 📚🤔\n",
    "소크라테스 학파에서 실시한 논리학 테스트의 점수 중앙값을 계산합니다. 누락된 점수는 계산에서 제외합니다.\n",
    "'''\n",
    "\n",
    "import pandas as pd\n",
    "\n",
    "# 소크라테스 학파 학생들의 논리학 테스트 점수\n",
    "socratic_logic_scores = pd.Series([85, 90, 95, None, 100, 80, 75, 92])\n",
    "\n",
    "# 논리학 테스트 점수의 중앙값 계산\n",
    "median_score = socratic_logic_scores.median(skipna=True)\n",
    "\n",
    "print(f\"소크라테스 학파 논리학 테스트 점수의 중앙값: {median_score}\")"
   ]
  },
  {
   "cell_type": "code",
   "execution_count": 3,
   "id": "bfc3c69a-1f9c-48ac-b79d-3e1b5d3e06c8",
   "metadata": {},
   "outputs": [
    {
     "name": "stdout",
     "output_type": "stream",
     "text": [
      "헬레니즘 시대 철학 서적 페이지 수의 중앙값: 300.0\n"
     ]
    }
   ],
   "source": [
    "'''\n",
    "예제 2: 헬레니즘 시대의 철학 서적 페이지 수 중앙값 📖\n",
    "헬레니즘 시대에 출판된 철학 서적의 페이지 수 중앙값을 계산합니다. 이는 당시 철학 서적의 일반적인 분량을 나타냅니다.\n",
    "'''\n",
    "\n",
    "import pandas as pd\n",
    "\n",
    "# 헬레니즘 시대 철학 서적의 페이지 수\n",
    "hellenistic_philosophy_book_pages = pd.Series([200, 300, 250, 350, 400, 450, 180, 160, 500])\n",
    "\n",
    "# 철학 서적 페이지 수의 중앙값 계산\n",
    "median_pages = hellenistic_philosophy_book_pages.median(skipna=True)\n",
    "\n",
    "print(f\"헬레니즘 시대 철학 서적 페이지 수의 중앙값: {median_pages}\")"
   ]
  },
  {
   "cell_type": "markdown",
   "id": "5de82474-73b7-499f-9f96-9d480fe70cce",
   "metadata": {},
   "source": [
    "## pandas.Series.min 메서드는\n",
    "시리즈 내의 최소값을 찾습니다.   \n",
    "이 메서드는 수치형 데이터, 문자열 데이터, 날짜/시간 데이터 등 다양한 유형의 데이터에서 가장 작은 값을 식별할 때 사용됩니다."
   ]
  },
  {
   "cell_type": "code",
   "execution_count": 4,
   "id": "952da51f-465b-4150-8e7a-1cf26ea993cd",
   "metadata": {},
   "outputs": [
    {
     "name": "stdout",
     "output_type": "stream",
     "text": [
      "고대 그리스 도시 국가들 중 최소 인구: 50000명\n"
     ]
    }
   ],
   "source": [
    "'''\n",
    "예제 1: 고대 그리스 도시 국가별 인구 최소값 🏛️👥\n",
    "고대 그리스의 주요 도시 국가들의 인구를 나타내는 데이터에서 인구 최소값을 찾습니다.\n",
    "'''\n",
    "\n",
    "import pandas as pd\n",
    "\n",
    "# 고대 그리스 도시 국가들의 인구\n",
    "city_states_population = pd.Series({'Athens': 300000, 'Sparta': 100000, 'Corinth': 150000, 'Thebes': 50000})\n",
    "\n",
    "# 최소 인구 찾기\n",
    "min_population = city_states_population.min(skipna=True)\n",
    "\n",
    "print(f\"고대 그리스 도시 국가들 중 최소 인구: {min_population}명\")"
   ]
  },
  {
   "cell_type": "code",
   "execution_count": 5,
   "id": "d4fcd34b-9660-4134-8965-e4bcac3ebf37",
   "metadata": {},
   "outputs": [
    {
     "name": "stdout",
     "output_type": "stream",
     "text": [
      "플라톤 아카데미아 학생들의 최소 일주일 학습 시간: 25시간\n"
     ]
    }
   ],
   "source": [
    "'''\n",
    "예제 2: 플라톤 아카데미아 학생들의 최소 학습 시간 ⏳📚\n",
    "플라톤 아카데미아에 다니는 학생들의 일주일 학습 시간에서 최소 학습 시간을 찾습니다.\n",
    "'''\n",
    "\n",
    "import pandas as pd\n",
    "\n",
    "# 플라톤 아카데미아 학생들의 일주일 학습 시간\n",
    "academia_study_hours = pd.Series([40, 35, 50, 45, 60, 55, 30, 25])\n",
    "\n",
    "# 최소 학습 시간 찾기\n",
    "min_study_hours = academia_study_hours.min(skipna=True)\n",
    "\n",
    "print(f\"플라톤 아카데미아 학생들의 최소 일주일 학습 시간: {min_study_hours}시간\")"
   ]
  },
  {
   "cell_type": "markdown",
   "id": "e089c3f1-7e54-4483-a72a-f8142f6c8f0c",
   "metadata": {},
   "source": [
    "## pandas.Series.mode 메서드\n",
    "시리즈 내에서 가장 자주 등장하는 값을 찾습니다. 이 메서드는 범주형 데이터, 문자열, 수치 데이터 등 다양한 유형의 데이터에 대해 최빈값을 찾을 때 사용할 수 있습니다."
   ]
  },
  {
   "cell_type": "code",
   "execution_count": 7,
   "id": "e283d054-f5b2-40e2-a8c2-47930c3f2bf6",
   "metadata": {},
   "outputs": [
    {
     "name": "stdout",
     "output_type": "stream",
     "text": [
      "아테네 아고라 시장에서 가장 인기 있는 상품: ['올리브']\n"
     ]
    }
   ],
   "source": [
    "'''\n",
    "예제 1: 아테네 아고라 시장에서 가장 인기 있는 상품 🏺🍇\n",
    "아테네의 아고라 시장에서 판매되는 상품 중 가장 인기 있는 상품을 찾습니다.\n",
    "'''\n",
    "\n",
    "import pandas as pd\n",
    "\n",
    "# 아테네 아고라 시장에서 판매되는 상품\n",
    "agora_market_products = pd.Series(['올리브', '포도', '올리브', '곡물', '올리브', '포도', '와인', '올리브'])\n",
    "\n",
    "# 가장 인기 있는 상품 찾기\n",
    "popular_products = agora_market_products.mode(dropna=True)\n",
    "\n",
    "print(f\"아테네 아고라 시장에서 가장 인기 있는 상품: {popular_products.values}\")"
   ]
  },
  {
   "cell_type": "code",
   "execution_count": 6,
   "id": "4d81663b-f4df-4517-a92f-af79adcf469a",
   "metadata": {},
   "outputs": [
    {
     "name": "stdout",
     "output_type": "stream",
     "text": [
      "소피스트 학파에서 가장 자주 논의된 주제: ['윤리']\n"
     ]
    }
   ],
   "source": [
    "'''\n",
    "예제 2: 소피스트 학파에서 가장 자주 논의된 주제 📚🗣️\n",
    "소피스트 학파에서 가장 자주 논의된 주제를 찾습니다.\n",
    "'''\n",
    "\n",
    "import pandas as pd\n",
    "\n",
    "# 소피스트 학파에서 논의된 주제\n",
    "sophist_topics = pd.Series(['윤리', '진리', '도덕', '윤리', '지식', '윤리', '정의', '도덕', '윤리'])\n",
    "\n",
    "# 가장 자주 논의된 주제 찾기\n",
    "frequent_topics = sophist_topics.mode(dropna=True)\n",
    "\n",
    "print(f\"소피스트 학파에서 가장 자주 논의된 주제: {frequent_topics.values}\")"
   ]
  },
  {
   "cell_type": "markdown",
   "id": "815f445e-73c2-40cb-a037-87dacced9e27",
   "metadata": {},
   "source": [
    "## pandas.Series.nlargest 메서드\n",
    "시리즈에서 가장 큰 n개의 값을 반환합니다. 이 메서드는 큰 값들을 식별할 때 특히 유용하며, 수치형 데이터에 대해 빠르게 상위 n개의 값을 찾고자 할 때 사용됩니다."
   ]
  },
  {
   "cell_type": "code",
   "execution_count": 9,
   "id": "83f0c16e-a52e-4c6b-b519-1165d4afc422",
   "metadata": {},
   "outputs": [
    {
     "name": "stdout",
     "output_type": "stream",
     "text": [
      "올림피아 게임 최고 기록 상위 3개: \n",
      "400m    43.18\n",
      "400m    43.03\n",
      "200m    19.32\n",
      "dtype: float64\n"
     ]
    }
   ],
   "source": [
    "'''\n",
    "예제 1: 올림피아 게임에서의 최고 기록 🏛️🏅\n",
    "올림피아 게임에서 세워진 다양한 종목의 최고 기록 중 상위 3개를 찾습니다.\n",
    "'''\n",
    "\n",
    "import pandas as pd\n",
    "\n",
    "# 올림피아 게임의 종목별 최고 기록 (단위: 초)\n",
    "olympia_records = pd.Series([10.32, 9.58, 19.19, 19.32, 43.03, 43.18], \n",
    "                            index=['100m', '100m', '200m', '200m', '400m', '400m'])\n",
    "\n",
    "# 최고 기록 상위 3개 찾기\n",
    "top_records = olympia_records.nlargest(n=3, keep='all')\n",
    "\n",
    "print(f\"올림피아 게임 최고 기록 상위 3개: \\n{top_records}\")"
   ]
  },
  {
   "cell_type": "code",
   "execution_count": 10,
   "id": "1e1e0163-7e4a-4cde-88f8-4a225a599a36",
   "metadata": {},
   "outputs": [
    {
     "name": "stdout",
     "output_type": "stream",
     "text": [
      "저작물이 가장 많은 고대 그리스 철학자 상위 2명: \n",
      "피타고라스    450\n",
      "플라톤      300\n",
      "dtype: int64\n"
     ]
    }
   ],
   "source": [
    "'''\n",
    "예제 2: 고대 그리스 철학자들의 저작물 수 📚🤔\n",
    "고대 그리스의 유명한 철학자들이 남긴 저작물 수 중에서 가장 많은 저작물을 남긴 상위 2명의 철학자를 찾습니다.\n",
    "'''\n",
    "\n",
    "import pandas as pd\n",
    "\n",
    "# 고대 그리스 철학자들의 저작물 수\n",
    "philosopher_works = pd.Series([300, 150, 120, 450, 200], \n",
    "                              index=['플라톤', '아리스토텔레스', '소크라테스', '피타고라스', '에우리피데스'])\n",
    "\n",
    "# 저작물 수 상위 2명의 철학자 찾기\n",
    "top_philosophers = philosopher_works.nlargest(n=2, keep='all')\n",
    "\n",
    "print(f\"저작물이 가장 많은 고대 그리스 철학자 상위 2명: \\n{top_philosophers}\")"
   ]
  },
  {
   "cell_type": "markdown",
   "id": "9831047b-7caf-44d4-9ade-96c156291544",
   "metadata": {},
   "source": [
    "## pandas.Series.nsmallest 메서드\n",
    "시리즈에서 가장 작은 n개의 값을 반환합니다.  \n",
    "이 메서드는 작은 값들을 식별할 때 특히 유용하며, 수치형 데이터에 대해 빠르게 하위 n개의 값을 찾고자 할 때 사용됩니다."
   ]
  },
  {
   "cell_type": "code",
   "execution_count": 11,
   "id": "11e6dc52-1def-4957-84b4-e1393c4d0876",
   "metadata": {},
   "outputs": [
    {
     "name": "stdout",
     "output_type": "stream",
     "text": [
      "아테네 마라톤 최소 완주 시간 하위 3개: \n",
      "6    3.7\n",
      "1    3.8\n",
      "3    3.9\n",
      "dtype: float64\n"
     ]
    }
   ],
   "source": [
    "'''\n",
    "예제 1: 아테네 마라톤의 최소 완주 시간 🏃‍♂️🏆\n",
    "아테네 마라톤에서 기록된 최소 완주 시간 중 하위 3개를 찾습니다.\n",
    "'''\n",
    "\n",
    "import pandas as pd\n",
    "\n",
    "# 아테네 마라톤의 완주 시간 (단위: 시간)\n",
    "marathon_times = pd.Series([4.5, 3.8, 4.2, 3.9, 5.0, 4.3, 3.7, 4.1])\n",
    "\n",
    "# 최소 완주 시간 하위 3개 찾기\n",
    "fastest_times = marathon_times.nsmallest(n=3, keep='all')\n",
    "\n",
    "print(f\"아테네 마라톤 최소 완주 시간 하위 3개: \\n{fastest_times}\")"
   ]
  },
  {
   "cell_type": "code",
   "execution_count": 12,
   "id": "cd063b1c-2799-4e11-8f66-e076ab79375d",
   "metadata": {},
   "outputs": [
    {
     "name": "stdout",
     "output_type": "stream",
     "text": [
      "아테네 학교 최소 학급 규모 하위 2개: \n",
      "2    15\n",
      "5    18\n",
      "dtype: int64\n"
     ]
    }
   ],
   "source": [
    "'''\n",
    "예제 2: 아테네 학교의 최소 학급 규모 🏫👩‍🏫\n",
    "아테네의 학교에서 각 학급의 학생 수 중에서 가장 작은 학급 규모 하위 2개를 찾습니다.\n",
    "'''\n",
    "\n",
    "import pandas as pd\n",
    "\n",
    "# 아테네 학교의 학급별 학생 수\n",
    "class_sizes = pd.Series([25, 30, 15, 20, 22, 18, 28, 27])\n",
    "\n",
    "# 최소 학급 규모 하위 2개 찾기\n",
    "smallest_classes = class_sizes.nsmallest(n=2, keep='all')\n",
    "\n",
    "print(f\"아테네 학교 최소 학급 규모 하위 2개: \\n{smallest_classes}\")"
   ]
  },
  {
   "cell_type": "markdown",
   "id": "59bdc406-8c25-4fa0-9058-9e50cafbb669",
   "metadata": {},
   "source": [
    "## pandas.Series.pct_change 메서드\n",
    "시리즈 내의 각 요소에 대해 이전 요소 대비 백분율 변화를 계산합니다.   \n",
    "이 메서드는 주로 금융 데이터 분석에서 주가의 백분율 변화를 계산하는 데 사용됩니다."
   ]
  },
  {
   "cell_type": "code",
   "execution_count": 41,
   "id": "285b081e-5ec7-47c9-97cb-8f5bb77c7b2e",
   "metadata": {},
   "outputs": [
    {
     "name": "stdout",
     "output_type": "stream",
     "text": [
      "나일 강의 연간 범람 높이 변화율: \n",
      "0         NaN\n",
      "1    0.034884\n",
      "2    0.011236\n",
      "3   -0.033333\n",
      "4    0.057471\n",
      "5    0.032609\n",
      "6   -0.021053\n",
      "dtype: float64\n"
     ]
    }
   ],
   "source": [
    "'''\n",
    "예제 1: 나일 강의 연간 범람 높이 변화율 🌊\n",
    "나일 강의 연간 범람 높이 변화율을 계산하여, 농작물 재배에 미치는 영향을 분석합니다.\n",
    "'''\n",
    "\n",
    "import pandas as pd\n",
    "\n",
    "# 나일 강의 연간 범람 높이 (단위: 미터)\n",
    "nile_flood_heights = pd.Series([8.6, 8.9, 9.0, 8.7, 9.2, 9.5, 9.3])\n",
    "\n",
    "# 연간 범람 높이 변화율 계산\n",
    "flood_height_changes = nile_flood_heights.pct_change(periods=1)\n",
    "\n",
    "print(f\"나일 강의 연간 범람 높이 변화율: \\n{flood_height_changes}\")\n"
   ]
  },
  {
   "cell_type": "code",
   "execution_count": 40,
   "id": "7fddd971-199c-4b60-9cda-fe3142035d33",
   "metadata": {},
   "outputs": [
    {
     "name": "stdout",
     "output_type": "stream",
     "text": [
      "고대 이집트 건축물의 연간 건설 속도 변화율: \n",
      "0         NaN\n",
      "1    0.250000\n",
      "2   -0.120000\n",
      "3    0.363636\n",
      "4   -0.066667\n",
      "5    0.142857\n",
      "6   -0.031250\n",
      "dtype: float64\n"
     ]
    }
   ],
   "source": [
    "'''\n",
    "예제 2: 고대 이집트 건축물의 연간 건설 속도 변화율 🏗️📈\n",
    "고대 이집트에서 건설된 주요 건축물의 연간 건설 속도 변화율을 계산합니다.\n",
    "'''\n",
    "\n",
    "import pandas as pd\n",
    "\n",
    "# 고대 이집트 건축물의 연간 건설 속도 (단위: 미터/년)\n",
    "construction_speeds = pd.Series([20, 25, 22, 30, 28, 32, 31])\n",
    "\n",
    "# 연간 건설 속도 변화율 계산\n",
    "speed_changes = construction_speeds.pct_change(periods=1, fill_method='pad')\n",
    "\n",
    "print(f\"고대 이집트 건축물의 연간 건설 속도 변화율: \\n{speed_changes}\")"
   ]
  },
  {
   "cell_type": "markdown",
   "id": "1769ace0-8fdf-414b-8806-2652e614e934",
   "metadata": {},
   "source": [
    "## pandas.Series.prod 메서드\n",
    "시리즈 내의 모든 요소의 곱을 계산합니다.   \n",
    "이 메서드는 수치 데이터에 대한 곱셈 집계를 수행할 때 사용됩니다."
   ]
  },
  {
   "cell_type": "code",
   "execution_count": 39,
   "id": "199d4078-5e6a-4eb1-bf90-a14f6fa6e395",
   "metadata": {},
   "outputs": [
    {
     "name": "stdout",
     "output_type": "stream",
     "text": [
      "이집트 피라미드 건설에 사용된 돌 블록의 총 곱: -502776992565297152\n"
     ]
    }
   ],
   "source": [
    "'''\n",
    "예제 1: 이집트 피라미드 건설에 사용된 돌 블록의 총 곱 🏺🔨\n",
    "이집트 피라미드 건설에 사용된 각 돌 블록의 수를 나타내는 시리즈에서 모든 돌 블록의 총 곱을 계산합니다.\n",
    "'''\n",
    "\n",
    "import pandas as pd\n",
    "\n",
    "# 이집트 피라미드 건설에 사용된 돌 블록 수\n",
    "pyramid_blocks = pd.Series([10000, 15000, 20000, 25000, 30000])\n",
    "\n",
    "# 돌 블록의 총 곱 계산\n",
    "total_blocks_prod = pyramid_blocks.prod(skipna=True)\n",
    "\n",
    "print(f\"이집트 피라미드 건설에 사용된 돌 블록의 총 곱: {total_blocks_prod}\")"
   ]
  },
  {
   "cell_type": "code",
   "execution_count": 38,
   "id": "247a6f5c-e493-48fa-82b9-5b71181b435f",
   "metadata": {},
   "outputs": [
    {
     "name": "stdout",
     "output_type": "stream",
     "text": [
      "고대 이집트 상인들의 거래량 총 곱: 100800\n"
     ]
    }
   ],
   "source": [
    "'''\n",
    "예제 2: 고대 이집트 상인들의 거래량 총 곱 📈🛒\n",
    "고대 이집트 시장에서 상인들이 거래한 상품의 수량을 나타내는 시리즈에서 거래량의 총 곱을 계산합니다.\n",
    "'''\n",
    "\n",
    "import pandas as pd\n",
    "\n",
    "# 고대 이집트 상인들의 거래량\n",
    "merchant_volumes = pd.Series([5, 7, 3, 8, 6, 4, 5])\n",
    "\n",
    "# 거래량의 총 곱 계산\n",
    "total_volume_prod = merchant_volumes.prod(skipna=True, min_count=1)\n",
    "\n",
    "print(f\"고대 이집트 상인들의 거래량 총 곱: {total_volume_prod}\")"
   ]
  },
  {
   "cell_type": "markdown",
   "id": "e19e9f3b-8b8d-4ae7-8d0a-2440a700e945",
   "metadata": {},
   "source": [
    "## pandas.Series.quantile 메서드\n",
    "시리즈 데이터의 분위수를 계산합니다. 분위수는 전체 데이터를 동등한 부분으로 나누는 값으로, 중앙값(2분위수), 사분위수 등을 포함합니다."
   ]
  },
  {
   "cell_type": "code",
   "execution_count": 37,
   "id": "f57b7b10-cf77-4e2f-b977-27f8d8ace507",
   "metadata": {},
   "outputs": [
    {
     "name": "stdout",
     "output_type": "stream",
     "text": [
      "나일 강 홍수 높이의 사분위수: \n",
      "0.25    8.80\n",
      "0.50    9.00\n",
      "0.75    9.25\n",
      "dtype: float64\n"
     ]
    }
   ],
   "source": [
    "'''\n",
    "예제 1: 나일 강의 연간 홍수 높이의 중앙값과 사분위수 🌊\n",
    "나일 강의 연간 홍수 높이 데이터에서 중앙값과 하위 및 상위 사분위수를 계산합니다.\n",
    "'''\n",
    "\n",
    "import pandas as pd\n",
    "\n",
    "# 나일 강의 연간 홍수 높이 (단위: 미터)\n",
    "nile_flood_heights = pd.Series([8.6, 8.9, 9.0, 8.7, 9.2, 9.5, 9.3])\n",
    "\n",
    "# 중앙값과 사분위수 계산\n",
    "quantiles = nile_flood_heights.quantile(q=[0.25, 0.5, 0.75], interpolation='midpoint')\n",
    "\n",
    "print(f\"나일 강 홍수 높이의 사분위수: \\n{quantiles}\")"
   ]
  },
  {
   "cell_type": "code",
   "execution_count": 36,
   "id": "d78b94a0-444f-40f8-9e24-053901253ed2",
   "metadata": {},
   "outputs": [
    {
     "name": "stdout",
     "output_type": "stream",
     "text": [
      "고대 이집트 건축 프로젝트 건설 기간의 분위수: \n",
      "0.1    12\n",
      "0.9    25\n",
      "dtype: int64\n"
     ]
    }
   ],
   "source": [
    "'''\n",
    "예제 2: 고대 이집트 건축 프로젝트의 건설 기간 분위수 🏗️⏳\n",
    "고대 이집트에서 진행된 주요 건축 프로젝트의 건설 기간 데이터에서 하위 10% 분위수와 상위 10% 분위수를 계산합니다.\n",
    "'''\n",
    "\n",
    "import pandas as pd\n",
    "\n",
    "# 고대 이집트 건축 프로젝트의 건설 기간 (단위: 년)\n",
    "construction_periods = pd.Series([20, 10, 15, 30, 25, 12, 22])\n",
    "\n",
    "# 하위 10%와 상위 10% 분위수 계산\n",
    "quantiles = construction_periods.quantile(q=[0.1, 0.9], interpolation='nearest')\n",
    "\n",
    "print(f\"고대 이집트 건축 프로젝트 건설 기간의 분위수: \\n{quantiles}\")"
   ]
  },
  {
   "cell_type": "markdown",
   "id": "a9cdd9f6-aae0-4372-a591-244d2f8fd5f1",
   "metadata": {},
   "source": [
    "## pandas.Series.rank 메서드\n",
    "시리즈 내의 각 요소에 순위를 할당합니다. 데이터 내의 각 값에 대해 순위를 매기며, 같은 값에 대해서는 평균 순위를 할당할 수 있습니다."
   ]
  },
  {
   "cell_type": "code",
   "execution_count": 35,
   "id": "e1553b68-f440-426d-a1d3-b48821e65167",
   "metadata": {},
   "outputs": [
    {
     "name": "stdout",
     "output_type": "stream",
     "text": [
      "나일 강 홍수 높이의 순위: \n",
      "0    1.0\n",
      "1    3.0\n",
      "2    4.5\n",
      "3    2.0\n",
      "4    6.0\n",
      "5    4.5\n",
      "6    7.0\n",
      "dtype: float64\n"
     ]
    }
   ],
   "source": [
    "'''\n",
    "예제 1: 나일 강 홍수의 연간 높이 순위 🌊\n",
    "나일 강의 연간 홍수 높이에 대해 순위를 매깁니다. 동일한 홍수 높이에 대해서는 평균 순위를 할당합니다.\n",
    "'''\n",
    "\n",
    "import pandas as pd\n",
    "\n",
    "# 나일 강의 연간 홍수 높이 (단위: 미터)\n",
    "nile_flood_heights = pd.Series([8.6, 8.9, 9.0, 8.7, 9.2, 9.0, 9.3])\n",
    "\n",
    "# 홍수 높이에 대한 순위 매기기\n",
    "flood_height_ranks = nile_flood_heights.rank(method='average', ascending=True)\n",
    "\n",
    "print(f\"나일 강 홍수 높이의 순위: \\n{flood_height_ranks}\")"
   ]
  },
  {
   "cell_type": "code",
   "execution_count": 34,
   "id": "8cc8ff43-8ec3-4d5d-8a2e-e3c9c51351b3",
   "metadata": {},
   "outputs": [
    {
     "name": "stdout",
     "output_type": "stream",
     "text": [
      "고대 이집트 건축물의 위엄 순위: \n",
      "피라미드    2.0\n",
      "스핑크스    6.0\n",
      "카르나크    3.0\n",
      "룩소르     4.0\n",
      "아부심벨    5.0\n",
      "테베      1.0\n",
      "dtype: float64\n"
     ]
    }
   ],
   "source": [
    "'''\n",
    "예제 2: 고대 이집트 건축물의 위엄 순위 🏛️\n",
    "고대 이집트의 주요 건축물에 대한 위엄을 평가하고, 각 건축물에 순위를 매깁니다. 동일한 위엄 점수를 가진 건축물은 먼저 나온 것이 더 높은 순위를 받습니다.\n",
    "'''\n",
    "\n",
    "import pandas as pd\n",
    "\n",
    "# 고대 이집트 건축물의 위엄 점수\n",
    "monument_grandeur = pd.Series([95, 80, 95, 90, 85, 100], \n",
    "                              index=['피라미드', '스핑크스', '카르나크', '룩소르', '아부심벨', '테베'])\n",
    "\n",
    "# 위엄 순위 매기기\n",
    "grandeur_ranks = monument_grandeur.rank(method='first', ascending=False)\n",
    "\n",
    "print(f\"고대 이집트 건축물의 위엄 순위: \\n{grandeur_ranks}\")"
   ]
  },
  {
   "cell_type": "markdown",
   "id": "7623d559-e7ed-444a-a551-66a4cffbeeea",
   "metadata": {},
   "source": [
    "## pandas.Series.sem 메서드\n",
    "시리즈의 표준 오차를 계산합니다. 표준 오차는 샘플 데이터의 분산을 측정하는 것으로, 표본의 크기가 클수록 표준 오차는 작아집니다."
   ]
  },
  {
   "cell_type": "code",
   "execution_count": null,
   "id": "24039918-76a7-49dd-b5f1-d8a912c49836",
   "metadata": {},
   "outputs": [],
   "source": [
    "'''\n",
    "예제 1: 고대 이집트 학자들의 실험 데이터 표준 오차 계산 🧪📊\n",
    "고대 이집트 학자들이 수행한 실험에서 얻은 데이터의 표준 오차를 계산합니다.\n",
    "'''\n",
    "\n",
    "import pandas as pd\n",
    "\n",
    "# 고대 이집트 학자들의 실험 데이터\n",
    "experimental_data = pd.Series([3.2, 3.5, 3.8, 3.3, 3.6])\n",
    "\n",
    "# 실험 데이터의 표준 오차 계산\n",
    "standard_error = experimental_data.sem(ddof=1)\n",
    "\n",
    "print(f\"고대 이집트 학자들의 실험 데이터의 표준 오차: {standard_error}\")"
   ]
  },
  {
   "cell_type": "code",
   "execution_count": 33,
   "id": "edb60426-9582-4a7a-aa44-d54ff15a4a7f",
   "metadata": {},
   "outputs": [
    {
     "name": "stdout",
     "output_type": "stream",
     "text": [
      "이집트 농부들의 곡물 수확량 데이터의 표준 오차: 3.5355339059327373\n"
     ]
    }
   ],
   "source": [
    "'''\n",
    "예제 2: 이집트 농부들의 곡물 수확량 표준 오차 계산 🌾📉\n",
    "고대 이집트 농부들이 수확한 곡물의 양에 대한 데이터의 표준 오차를 계산합니다.\n",
    "'''\n",
    "\n",
    "import pandas as pd\n",
    "\n",
    "# 이집트 농부들의 곡물 수확량 데이터\n",
    "harvest_data = pd.Series([120, 125, 130, 135, 140])\n",
    "\n",
    "# 곡물 수확량 데이터의 표준 오차 계산\n",
    "standard_error = harvest_data.sem(ddof=1)\n",
    "\n",
    "print(f\"이집트 농부들의 곡물 수확량 데이터의 표준 오차: {standard_error}\")"
   ]
  },
  {
   "cell_type": "markdown",
   "id": "2aa04d60-d45f-43ed-9db7-c9999628399a",
   "metadata": {},
   "source": [
    "## pandas.Series.skew 함수\n",
    "\n",
    "주어진 Series의 비대칭도(skewness)를 계산합니다. 비대칭도는 데이터 분포의 비대칭 정도를 나타내며, 양수인 경우 오른쪽으로 치우친 분포를, 음수인 경우 왼쪽으로 치우친 분포를 나타냅니다. 이 함수의 파라미터와 리턴값은 다음과 같습니다:   \n",
    "   \n",
    "```파라미터```:   \n",
    "- axis: 연산을 수행할 축을 지정합니다. 기본값은 0으로, 열을 따라 계산합니다.\n",
    "   \n",
    "```리턴값```:   \n",
    "- skew: 주어진 Series의 비대칭도를 나타내는 부동소수점 수치입니다."
   ]
  },
  {
   "cell_type": "code",
   "execution_count": 32,
   "id": "3b3285d7-3bbc-47b3-ad0a-3718b359c73d",
   "metadata": {},
   "outputs": [
    {
     "name": "stdout",
     "output_type": "stream",
     "text": [
      "데이터의 비대칭도: 0.7044039915072235\n"
     ]
    }
   ],
   "source": [
    "# 코드 예제 1 🐫:\n",
    "\n",
    "import pandas as pd\n",
    "\n",
    "# 이집트 시대 수학과 철학을 기반으로 한 코드 예제\n",
    "# 시대의 숫자 체계를 반영하여 데이터 생성\n",
    "data = pd.Series([3, 5, 7, 10, 15, 20])\n",
    "\n",
    "# 주어진 Series의 비대칭도 계산\n",
    "skewness = data.skew(axis=0)\n",
    "\n",
    "print(\"데이터의 비대칭도:\", skewness)"
   ]
  },
  {
   "cell_type": "code",
   "execution_count": 31,
   "id": "17cf5659-d2b5-433a-8675-eb16165bd4c0",
   "metadata": {},
   "outputs": [
    {
     "name": "stdout",
     "output_type": "stream",
     "text": [
      "데이터의 비대칭도: 0.9364561603531326\n"
     ]
    }
   ],
   "source": [
    "# 코드 예제 2 🌟:\n",
    "\n",
    "import pandas as pd\n",
    "\n",
    "# 이집트 시대 수학과 철학을 기반으로 한 코드 예제\n",
    "# 시대의 숫자 체계를 반영하여 데이터 생성\n",
    "data = pd.Series([6, 9, 12, 18, 24, 36])\n",
    "\n",
    "# 주어진 Series의 비대칭도 계산\n",
    "skewness = data.skew(axis=0)\n",
    "\n",
    "print(\"데이터의 비대칭도:\", skewness)"
   ]
  },
  {
   "cell_type": "markdown",
   "id": "de7b1b24-2e0d-46df-b1ef-1449754ba74c",
   "metadata": {},
   "source": [
    "## pandas.Series.std 함수\n",
    "주어진 Series의 표준편차(standard deviation)를 계산합니다. ```표준편차```는 데이터가 평균에서 얼마나 퍼져있는지를 나타내는 측정 지표로, 값이 작을수록 데이터가 평균 주변에 집중되어 있음을 의미합니다. 이 함수의 파라미터와 리턴값은 다음과 같습니다:    \n",
    "   \n",
    "```파라미터```:\n",
    "- axis: 연산을 수행할 축을 지정합니다. 기본값은 0으로, 열을 따라 계산합니다. \n",
    "- skipna: NA/null 값을 제외할지 여부를 나타내는 부울 값입니다. 기본값은 True로, NA/null 값을 제외합니다.\n",
    "\n",
    "```리턴값```:\n",
    "- std: 주어진 Series의 표준편차를 나타내는 부동소수점 수치입니다."
   ]
  },
  {
   "cell_type": "code",
   "execution_count": 30,
   "id": "277b5cc2-429c-49dd-aa6a-fea01ce75d27",
   "metadata": {},
   "outputs": [
    {
     "name": "stdout",
     "output_type": "stream",
     "text": [
      "데이터의 표준편차: 6.324555320336759\n"
     ]
    }
   ],
   "source": [
    "# 코드 예제 1 🌾:\n",
    "\n",
    "import pandas as pd\n",
    "\n",
    "# 이집트 시대 수학과 철학을 기반으로 한 코드 예제\n",
    "# 시대의 숫자 체계를 반영하여 데이터 생성\n",
    "data = pd.Series([4, 8, 12, 16, 20])\n",
    "\n",
    "# 주어진 Series의 표준편차 계산\n",
    "std_deviation = data.std(axis=0, skipna=True)\n",
    "\n",
    "print(\"데이터의 표준편차:\", std_deviation)"
   ]
  },
  {
   "cell_type": "code",
   "execution_count": 29,
   "id": "d94ef794-66ee-4fd3-a3b4-b1c419921a42",
   "metadata": {},
   "outputs": [
    {
     "name": "stdout",
     "output_type": "stream",
     "text": [
      "데이터의 표준편차: 4.743416490252569\n"
     ]
    }
   ],
   "source": [
    "# 코드 예제 2 🏺:\n",
    "\n",
    "import pandas as pd\n",
    "\n",
    "# 이집트 시대 수학과 철학을 기반으로 한 코드 예제\n",
    "# 시대의 숫자 체계를 반영하여 데이터 생성\n",
    "data = pd.Series([3, 6, 9, 12, 15])\n",
    "\n",
    "# 주어진 Series의 표준편차 계산\n",
    "std_deviation = data.std(axis=0, skipna=True)\n",
    "\n",
    "print(\"데이터의 표준편차:\", std_deviation)"
   ]
  },
  {
   "cell_type": "markdown",
   "id": "c1177747-759f-40fb-9bb5-ce5ea99db76a",
   "metadata": {},
   "source": [
    "## pandas.Series.sum 함수\n",
    "주어진 Series의 합을 계산합니다. 이 함수의 파라미터와 리턴값은 다음과 같습니다:   \n",
    "   \n",
    "```파라미터```:   \n",
    "- axis: 연산을 수행할 축을 지정합니다. 기본값은 0으로, 열을 따라 계산합니다.\n",
    "- skipna: NA/null 값을 제외할지 여부를 나타내는 부울 값입니다. 기본값은 True로, NA/null 값을 제외합니다.\n",
    "\n",
    "```리턴값```:   \n",
    "- sum: 주어진 Series의 합을 나타내는 부동소수점 수치입니다."
   ]
  },
  {
   "cell_type": "code",
   "execution_count": 27,
   "id": "232a1981-1bd7-4104-adbb-6fbcdf744ade",
   "metadata": {},
   "outputs": [
    {
     "name": "stdout",
     "output_type": "stream",
     "text": [
      "데이터의 합: 15\n"
     ]
    }
   ],
   "source": [
    "# 코드 예제 1 🏺:\n",
    "\n",
    "import pandas as pd\n",
    "\n",
    "# 이집트 시대 수학과 철학을 기반으로 한 코드 예제\n",
    "# 시대의 숫자 체계를 반영하여 데이터 생성\n",
    "data = pd.Series([1, 2, 3, 4, 5])\n",
    "\n",
    "# 주어진 Series의 합 계산\n",
    "total_sum = data.sum(axis=0, skipna=True)\n",
    "\n",
    "print(\"데이터의 합:\", total_sum)"
   ]
  },
  {
   "cell_type": "code",
   "execution_count": 28,
   "id": "7b324c5f-22e8-4b68-b0be-9e62d8cdfef1",
   "metadata": {},
   "outputs": [
    {
     "name": "stdout",
     "output_type": "stream",
     "text": [
      "데이터의 합: 150\n"
     ]
    }
   ],
   "source": [
    "# 코드 예제 2 🌾:\n",
    "\n",
    "import pandas as pd\n",
    "\n",
    "# 이집트 시대 수학과 철학을 기반으로 한 코드 예제\n",
    "# 시대의 숫자 체계를 반영하여 데이터 생성\n",
    "data = pd.Series([10, 20, 30, 40, 50])\n",
    "\n",
    "# 주어진 Series의 합 계산\n",
    "total_sum = data.sum(axis=0, skipna=True)\n",
    "\n",
    "print(\"데이터의 합:\", total_sum)"
   ]
  },
  {
   "cell_type": "markdown",
   "id": "df079444-c9c4-465a-93b0-8f6b108213b5",
   "metadata": {},
   "source": [
    "## pandas.Series.var 함수\n",
    "주어진 Series의 분산(variance)을 계산합니다. 분산은 데이터가 평균으로부터 얼마나 퍼져 있는지를 나타내는 지표로, 값이 작을수록 데이터가 평균 주변에 집중되어 있음을 의미합니다. 이 함수의 파라미터와 리턴값은 다음과 같습니다:   \n",
    "   \n",
    "```파라미터```:   \n",
    "- axis: 연산을 수행할 축을 지정합니다. 기본값은 0으로, 열을 따라 계산합니다. \n",
    "- skipna: NA/null 값을 제외할지 여부를 나타내는 부울 값입니다. 기본값은 True로, NA/null 값을 제외합니다.\n",
    "\n",
    "```리턴값```:\n",
    "- variance: 주어진 Series의 분산을 나타내는 부동소수점 수치입니다."
   ]
  },
  {
   "cell_type": "code",
   "execution_count": 25,
   "id": "12fa4d75-7c6c-45c5-b42b-90e5f341767e",
   "metadata": {},
   "outputs": [
    {
     "name": "stdout",
     "output_type": "stream",
     "text": [
      "데이터의 분산: 22.5\n"
     ]
    }
   ],
   "source": [
    "# 코드 예제 1 🏺:\n",
    "\n",
    "import pandas as pd\n",
    "\n",
    "# 이집트 시대 수학과 철학을 기반으로 한 코드 예제\n",
    "# 시대의 숫자 체계를 반영하여 데이터 생성\n",
    "data = pd.Series([3, 6, 9, 12, 15])\n",
    "\n",
    "# 주어진 Series의 분산 계산\n",
    "variance = data.var(axis=0, skipna=True)\n",
    "\n",
    "print(\"데이터의 분산:\", variance)"
   ]
  },
  {
   "cell_type": "code",
   "execution_count": 26,
   "id": "942d67c9-c675-4010-9897-a460d4925066",
   "metadata": {},
   "outputs": [
    {
     "name": "stdout",
     "output_type": "stream",
     "text": [
      "데이터의 분산: 40.0\n"
     ]
    }
   ],
   "source": [
    "# 코드 예제 2 🌾:\n",
    "    \n",
    "import pandas as pd\n",
    "\n",
    "# 이집트 시대 수학과 철학을 기반으로 한 코드 예제\n",
    "# 시대의 숫자 체계를 반영하여 데이터 생성\n",
    "data = pd.Series([4, 8, 12, 16, 20])\n",
    "\n",
    "# 주어진 Series의 분산 계산\n",
    "variance = data.var(axis=0, skipna=True)\n",
    "\n",
    "print(\"데이터의 분산:\", variance)"
   ]
  },
  {
   "cell_type": "markdown",
   "id": "ffb4b2da-44fc-44eb-9833-1c5b6ac151d0",
   "metadata": {},
   "source": [
    "## pandas.Series.kurtosis 함수는\n",
    "주어진 Series의 첨도(kurtosis)를 계산합니다.   \n",
    "첨도는 데이터 분포의 뾰족한 정도를 나타내며, 정규 분포와 비교했을 때 얼마나 중심에 모여 있는지를 나타냅니다. 이 함수의 파라미터와 리턴값은 다음과 같습니다:\n",
    "\n",
    "```파라미터```:   \n",
    "- axis: 연산을 수행할 축을 지정합니다. 기본값은 0으로, 열을 따라 계산합니다.   \n",
    "   \n",
    "- skipna: NA/null 값을 제외할지 여부를 나타내는 부울 값입니다. 기본값은 True로, NA/null 값을 제외합니다.   \n",
    "   \n",
    "```리턴값```:   \n",
    "- kurtosis: 주어진 Series의 첨도를 나타내는 부동소수점 수치입니다.   "
   ]
  },
  {
   "cell_type": "code",
   "execution_count": 23,
   "id": "fac27976-363e-41e1-ba77-2932111fc974",
   "metadata": {},
   "outputs": [
    {
     "name": "stdout",
     "output_type": "stream",
     "text": [
      "데이터의 첨도: -1.2000000000000002\n"
     ]
    }
   ],
   "source": [
    "# 코드 예제 1 🏰:\n",
    "\n",
    "import pandas as pd\n",
    "\n",
    "# 중세 과학과 수학을 기반으로 한 코드 예제\n",
    "# 특정 시대의 측정 체계를 반영하여 데이터 생성\n",
    "data = pd.Series([1, 2, 3, 4, 5])\n",
    "\n",
    "# 주어진 Series의 첨도 계산\n",
    "kurtosis_value = data.kurtosis(axis=0, skipna=True)\n",
    "\n",
    "print(\"데이터의 첨도:\", kurtosis_value)"
   ]
  },
  {
   "cell_type": "code",
   "execution_count": 24,
   "id": "c1ad1afc-063c-4bad-b733-cdd439af4ba4",
   "metadata": {},
   "outputs": [
    {
     "name": "stdout",
     "output_type": "stream",
     "text": [
      "데이터의 첨도: -1.2000000000000002\n"
     ]
    }
   ],
   "source": [
    "# 코드 예제 2 📜:\n",
    "    \n",
    "import pandas as pd\n",
    "\n",
    "# 중세 과학과 수학을 기반으로 한 코드 예제\n",
    "# 특정 시대의 측정 체계를 반영하여 데이터 생성\n",
    "data = pd.Series([2, 4, 6, 8, 10])\n",
    "\n",
    "# 주어진 Series의 첨도 계산\n",
    "kurtosis_value = data.kurtosis(axis=0, skipna=True)\n",
    "\n",
    "print(\"데이터의 첨도:\", kurtosis_value)"
   ]
  },
  {
   "cell_type": "markdown",
   "id": "7d6c6edb-7a16-4f19-a7c5-0ba259046e57",
   "metadata": {},
   "source": [
    "## pandas.Series.unique 함수\n",
    "주어진 Series에서 고유한(unique) 값을 찾아 반환합니다.   \n",
    "이 함수의 파라미터와 리턴값은 다음과 같습니다:\n",
    "\n",
    "```파라미터```:   \n",
    "return_counts: 고유한 값의 등장 횟수도 함께 반환할지 여부를 결정하는 매개변수입니다.   \n",
    "기본값은 False이며, True로 설정하면 각 고유한 값의 등장 횟수를 반환합니다.\n",
    "\n",
    "```리턴값```:   \n",
    "unique_values: Series에서 발견된 고유한 값들을 포함하는 배열(Array) 또는 Index입니다.   \n",
    "counts (옵션): return_counts 매개변수가 True로 설정된 경우, 각 고유한 값의 등장 횟수를 포함하는 배열(Array)이 리턴됩니다."
   ]
  },
  {
   "cell_type": "code",
   "execution_count": 20,
   "id": "98af57b7-606b-4843-8b12-951456806f77",
   "metadata": {},
   "outputs": [
    {
     "name": "stdout",
     "output_type": "stream",
     "text": [
      "고유한 이름들: ['제우스' '헤라' '아테나' '헤패이스트스' '아폴론' '아르테미스']\n"
     ]
    }
   ],
   "source": [
    "# 코드 예제 1 ⚡:\n",
    "    \n",
    "import pandas as pd\n",
    "\n",
    "# 그리스 신화 제우스를 기반으로 한 코드 예제\n",
    "# 제우스의 자손 이름을 포함하는 Series 생성\n",
    "names = pd.Series(['제우스', '헤라', '아테나', '헤패이스트스', '아폴론', '아르테미스'])\n",
    "\n",
    "# 고유한 값 찾기\n",
    "unique_names = names.unique()\n",
    "\n",
    "print(\"고유한 이름들:\", unique_names)"
   ]
  },
  {
   "cell_type": "code",
   "execution_count": 22,
   "id": "dc7029e9-f0a7-40c6-ad8a-003a28deaec2",
   "metadata": {},
   "outputs": [
    {
     "ename": "TypeError",
     "evalue": "Series.unique() got an unexpected keyword argument 'return_counts'",
     "output_type": "error",
     "traceback": [
      "\u001b[1;31m---------------------------------------------------------------------------\u001b[0m",
      "\u001b[1;31mTypeError\u001b[0m                                 Traceback (most recent call last)",
      "Cell \u001b[1;32mIn[22], line 8\u001b[0m\n\u001b[0;32m      5\u001b[0m names \u001b[38;5;241m=\u001b[39m pd\u001b[38;5;241m.\u001b[39mSeries([\u001b[38;5;124m'\u001b[39m\u001b[38;5;124m제우스\u001b[39m\u001b[38;5;124m'\u001b[39m, \u001b[38;5;124m'\u001b[39m\u001b[38;5;124m헤라\u001b[39m\u001b[38;5;124m'\u001b[39m, \u001b[38;5;124m'\u001b[39m\u001b[38;5;124m아테나\u001b[39m\u001b[38;5;124m'\u001b[39m, \u001b[38;5;124m'\u001b[39m\u001b[38;5;124m헤패이스트스\u001b[39m\u001b[38;5;124m'\u001b[39m, \u001b[38;5;124m'\u001b[39m\u001b[38;5;124m아폴론\u001b[39m\u001b[38;5;124m'\u001b[39m, \u001b[38;5;124m'\u001b[39m\u001b[38;5;124m아르테미스\u001b[39m\u001b[38;5;124m'\u001b[39m, \u001b[38;5;124m'\u001b[39m\u001b[38;5;124m헤라\u001b[39m\u001b[38;5;124m'\u001b[39m, \u001b[38;5;124m'\u001b[39m\u001b[38;5;124m아폴론\u001b[39m\u001b[38;5;124m'\u001b[39m])\n\u001b[0;32m      7\u001b[0m \u001b[38;5;66;03m# 고유한 값과 등장 횟수 찾기\u001b[39;00m\n\u001b[1;32m----> 8\u001b[0m unique_names, counts \u001b[38;5;241m=\u001b[39m \u001b[43mnames\u001b[49m\u001b[38;5;241;43m.\u001b[39;49m\u001b[43munique\u001b[49m\u001b[43m(\u001b[49m\u001b[43mreturn_counts\u001b[49m\u001b[38;5;241;43m=\u001b[39;49m\u001b[38;5;28;43;01mTrue\u001b[39;49;00m\u001b[43m)\u001b[49m\n\u001b[0;32m     10\u001b[0m \u001b[38;5;28mprint\u001b[39m(\u001b[38;5;124m\"\u001b[39m\u001b[38;5;124m고유한 이름들:\u001b[39m\u001b[38;5;124m\"\u001b[39m, unique_names)\n\u001b[0;32m     11\u001b[0m \u001b[38;5;28mprint\u001b[39m(\u001b[38;5;124m\"\u001b[39m\u001b[38;5;124m이름별 등장 횟수:\u001b[39m\u001b[38;5;124m\"\u001b[39m, counts)\n",
      "\u001b[1;31mTypeError\u001b[0m: Series.unique() got an unexpected keyword argument 'return_counts'"
     ]
    }
   ],
   "source": [
    "# 코드 예제 2 🌩️:\n",
    "\n",
    "import pandas as pd\n",
    "\n",
    "# 그리스 신화 제우스를 기반으로 한 코드 예제\n",
    "# 제우스의 자손 이름과 등장 횟수를 포함하는 Series 생성\n",
    "names = pd.Series(['제우스', '헤라', '아테나', '헤패이스트스', '아폴론', '아르테미스', '헤라', '아폴론'])\n",
    "\n",
    "# 고유한 값과 등장 횟수 찾기\n",
    "unique_names, counts = names.unique(return_counts=True)\n",
    "\n",
    "print(\"고유한 이름들:\", unique_names)\n",
    "print(\"이름별 등장 횟수:\", counts)"
   ]
  },
  {
   "cell_type": "markdown",
   "id": "05aa8b09-c36e-4e10-bae7-ade1258c395b",
   "metadata": {},
   "source": [
    "## pandas.Series.nunique 함수\n",
    "\n",
    "주어진 Series에서 고유한(unique) 값을 찾아 그 개수를 반환합니다.   \n",
    "이 함수의 파라미터와 리턴값은 다음과 같습니다:\n",
    "   \n",
    "```파라미터```:   \n",
    "dropna: NA/null 값을 제외할지 여부를 결정하는 매개변수입니다. 기본값은 True이며, True로 설정하면 NA/null 값을 제외합니다.\n",
    "\n",
    "```리턴값```:   \n",
    "unique_count: Series에서 발견된 고유한 값들의 개수를 나타내는 정수 값입니다."
   ]
  },
  {
   "cell_type": "code",
   "execution_count": 16,
   "id": "4843e3c7-b79f-4f6d-a5be-4f01066e83f6",
   "metadata": {},
   "outputs": [
    {
     "name": "stdout",
     "output_type": "stream",
     "text": [
      "고유한 값 개수: 6\n"
     ]
    }
   ],
   "source": [
    "# 코드 예제 1 ⚡:\n",
    "\n",
    "import pandas as pd\n",
    "\n",
    "# 그리스 신화 제우스를 기반으로 한 코드 예제\n",
    "# 제우스의 자손 이름을 포함하는 Series 생성\n",
    "names = pd.Series(['제우스', '헤라', '아테나', '헤패이스트스', '아폴론', '아르테미스'])\n",
    "\n",
    "# 고유한 값 개수 찾기\n",
    "unique_count = names.nunique()\n",
    "\n",
    "print(\"고유한 값 개수:\", unique_count)"
   ]
  },
  {
   "cell_type": "code",
   "execution_count": 17,
   "id": "daea0878-7fc1-494c-9ee6-9289f27d56db",
   "metadata": {},
   "outputs": [
    {
     "name": "stdout",
     "output_type": "stream",
     "text": [
      "고유한 값 개수(중복 포함): 6\n"
     ]
    }
   ],
   "source": [
    "# 코드 예제 2 🌩️:\n",
    "\n",
    "import pandas as pd\n",
    "\n",
    "# 그리스 신화 제우스를 기반으로 한 코드 예제\n",
    "# 제우스의 자손 이름과 중복 포함된 이름을 포함하는 Series 생성\n",
    "names = pd.Series(['제우스', '헤라', '아테나', '헤패이스트스', '아폴론', '아르테미스', '헤라', '아폴론'])\n",
    "\n",
    "# 중복을 포함한 고유한 값 개수 찾기\n",
    "unique_count = names.nunique(dropna=False)\n",
    "\n",
    "print(\"고유한 값 개수(중복 포함):\", unique_count)"
   ]
  },
  {
   "cell_type": "markdown",
   "id": "51fc8af7-4365-4e80-bb0e-56ad8a37baff",
   "metadata": {},
   "source": [
    "## pandas.Series.is_unique 함수\n",
    "\n",
    "주어진 Series의 모든 값이 고유한(unique)한지 여부를 판별합니다.   \n",
    "이 함수의 파라미터와 리턴값은 다음과 같습니다:  \n",
    "    \n",
    "```파라미터```:\n",
    "이 함수에는 파라미터가 없습니다.   \n",
    "   \n",
    "```리턴값```:\n",
    "is_unique: Series의 모든 값이 고유한 경우 True를 반환하고, 중복된 값이 하나라도 있는 경우 False를 반환합니다."
   ]
  },
  {
   "cell_type": "code",
   "execution_count": 14,
   "id": "bda94cc4-b147-426b-972c-2287d2e78321",
   "metadata": {},
   "outputs": [
    {
     "name": "stdout",
     "output_type": "stream",
     "text": [
      "모든 값이 고유합니다.\n"
     ]
    }
   ],
   "source": [
    "# 코드 예제 1 ⚡:\n",
    "\n",
    "import pandas as pd\n",
    "\n",
    "# 그리스 신화 제우스를 기반으로 한 코드 예제\n",
    "# 제우스의 자손 이름을 포함하는 Series 생성\n",
    "names = pd.Series(['제우스', '헤라', '아테나', '헤패이스트스', '아폴론', '아르테미스'])\n",
    "\n",
    "# Series의 값이 고유한지 확인\n",
    "is_unique = names.is_unique\n",
    "\n",
    "if is_unique:\n",
    "    print(\"모든 값이 고유합니다.\")\n",
    "else:\n",
    "    print(\"중복된 값이 있습니다.\")"
   ]
  },
  {
   "cell_type": "code",
   "execution_count": 13,
   "id": "e91b40dd-e2b6-43e0-b12f-2a4fb27d61e1",
   "metadata": {},
   "outputs": [
    {
     "name": "stdout",
     "output_type": "stream",
     "text": [
      "중복된 값이 있습니다.\n"
     ]
    }
   ],
   "source": [
    "# 코드 예제 2 🌩️:\n",
    "\n",
    "import pandas as pd\n",
    "\n",
    "# 그리스 신화 제우스를 기반으로 한 코드 예제\n",
    "# 제우스의 자손 이름과 중복 포함된 이름을 포함하는 Series 생성\n",
    "names = pd.Series(['제우스', '헤라', '아테나', '헤패이스트스', '아폴론', '아르테미스', '헤라', '아폴론'])\n",
    "\n",
    "# Series의 값이 고유한지 확인\n",
    "is_unique = names.is_unique\n",
    "\n",
    "if is_unique:\n",
    "    print(\"모든 값이 고유합니다.\")\n",
    "else:\n",
    "    print(\"중복된 값이 있습니다.\")"
   ]
  },
  {
   "cell_type": "code",
   "execution_count": null,
   "id": "96102856-1ab4-4302-921b-25e5bf4d6e33",
   "metadata": {},
   "outputs": [],
   "source": []
  }
 ],
 "metadata": {
  "kernelspec": {
   "display_name": "Python 3 (ipykernel)",
   "language": "python",
   "name": "python3"
  },
  "language_info": {
   "codemirror_mode": {
    "name": "ipython",
    "version": 3
   },
   "file_extension": ".py",
   "mimetype": "text/x-python",
   "name": "python",
   "nbconvert_exporter": "python",
   "pygments_lexer": "ipython3",
   "version": "3.10.9"
  }
 },
 "nbformat": 4,
 "nbformat_minor": 5
}
