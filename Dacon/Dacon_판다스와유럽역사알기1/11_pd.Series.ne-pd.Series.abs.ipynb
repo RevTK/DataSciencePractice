{
 "cells": [
  {
   "cell_type": "markdown",
   "id": "6f0ccc07-df51-45fe-9563-9e6cbe1e8d53",
   "metadata": {},
   "source": [
    "# 판다스와 유럽 역사 알기1-11\n",
    "\n",
    "- 11_\n",
    "- https://www.dacon.io/edu/131"
   ]
  },
  {
   "cell_type": "markdown",
   "id": "22c5804f-7263-42fe-a075-8926a0648086",
   "metadata": {},
   "source": [
    "## pandas.Series.ne 메서드\n",
    "- Series 객체의 각 요소가 다른 Series 객체나 스칼라 값과 같지 않은지 여부를 비교합니다.\n",
    "- 이 메서드는 \"not equal\"의 약자로, 두 값을 비교하여 서로 다를 경우 True, 같을 경우 False를 반환합니다."
   ]
  },
  {
   "cell_type": "code",
   "execution_count": 1,
   "id": "fb96fdf6-1bb6-4688-aaa6-ed75d471a3bc",
   "metadata": {},
   "outputs": [
    {
     "name": "stdout",
     "output_type": "stream",
     "text": [
      "🔬 표준 밀도와 다른 밀도를 가진 재료:\n",
      "목재     True\n",
      "돌     False\n",
      "철      True\n",
      "Name: Material Density, dtype: bool\n"
     ]
    }
   ],
   "source": [
    "# 코드 예제 1: 🔬 로마 시대의 재료 밀도 비교 🔬\n",
    "# 로마 시대의 과학자들은 건축과 공학 프로젝트에 사용되는 다양한 재료의 밀도를 측정했습니다.\n",
    "# 이 코드 예제에서는 주어진 재료의 밀도와 표준 밀도를 비교하여, 표준 밀도와 다른 밀도를 가진 재료들을 찾습니다.\n",
    "\n",
    "import pandas as pd\n",
    "\n",
    "# 재료의 밀도 (단위: g/cm³)\n",
    "material_density = pd.Series({\"목재\": 0.6, \"돌\": 2.5, \"철\": 7.8}, name=\"Material Density\")\n",
    "\n",
    "# 표준 밀도 (단위: g/cm³)\n",
    "standard_density = 2.5\n",
    "\n",
    "# 표준 밀도와 다른 밀도를 가진 재료 찾기\n",
    "different_density = material_density.ne(standard_density)\n",
    "\n",
    "print(\"🔬 표준 밀도와 다른 밀도를 가진 재료:\")\n",
    "print(different_density)"
   ]
  },
  {
   "cell_type": "code",
   "execution_count": 2,
   "id": "a933efc5-8af7-477b-9be7-66a6441f5ddd",
   "metadata": {},
   "outputs": [
    {
     "name": "stdout",
     "output_type": "stream",
     "text": [
      "📏 오류가 있는 수치 확인:\n",
      "면적     True\n",
      "부피    False\n",
      "길이     True\n",
      "dtype: bool\n"
     ]
    }
   ],
   "source": [
    "# 코드 예제 2: 📏 로마 수학에서의 수치 오류 확인 📏\n",
    "# 로마 시대의 수학자들은 건축, 공학 및 무역에서 사용되는 수치를 계산했습니다. \n",
    "# 이 코드 예제에서는 계산된 수치와 검증된 수치를 비교하여, 오류가 있는 수치를 찾습니다.\n",
    "\n",
    "import pandas as pd\n",
    "\n",
    "# 계산된 수치\n",
    "calculated_values = pd.Series({\"면적\": 150, \"부피\": 1200, \"길이\": 300}, name=\"Calculated Values\")\n",
    "\n",
    "# 검증된 수치\n",
    "verified_values = pd.Series({\"면적\": 145, \"부피\": 1200, \"길이\": 305}, name=\"Verified Values\")\n",
    "\n",
    "# 오류가 있는 수치 찾기\n",
    "errors_present = calculated_values.ne(verified_values)\n",
    "\n",
    "print(\"📏 오류가 있는 수치 확인:\")\n",
    "print(errors_present)"
   ]
  },
  {
   "cell_type": "markdown",
   "id": "3cce7ba7-2454-42ca-b627-1e5547570c25",
   "metadata": {},
   "source": [
    "## pandas.Series.eq 메서드\n",
    "- Series 객체의 각 요소가 다른 Series 객체나 스칼라 값과 같은지 여부를 비교합니다.\n",
    "- 이 메서드는 \"equal\"의 약자로, 두 값을 비교하여 서로 같을 경우 True, 다를 경우 False를 반환합니다."
   ]
  },
  {
   "cell_type": "code",
   "execution_count": 4,
   "id": "a008fe0b-7109-4182-8439-bb501c5b643d",
   "metadata": {},
   "outputs": [
    {
     "name": "stdout",
     "output_type": "stream",
     "text": [
      "🔬 표준 밀도에 해당하는 건축 재료:\n",
      "대리석     False\n",
      "벽돌      False\n",
      "콘크리트     True\n",
      "Name: Material Density, dtype: bool\n"
     ]
    }
   ],
   "source": [
    "# 코드 예제 1: 🔬 로마 공학에서의 건축 재료 비교 🔬\n",
    "# 로마 시대의 공학자들은 건축 프로젝트에 다양한 재료를 사용했습니다. \n",
    "# 이 코드 예제에서는 특정 건축 프로젝트에 사용된 재료의 밀도와 표준 밀도를 비교하여, 표준 밀도에 해당하는 재료를 찾습니다.\n",
    "\n",
    "import pandas as pd\n",
    "\n",
    "# 건축 재료의 밀도 (단위: g/cm³)\n",
    "material_density = pd.Series({\"대리석\": 2.7, \"벽돌\": 1.8, \"콘크리트\": 2.4}, name=\"Material Density\")\n",
    "\n",
    "# 표준 밀도 (단위: g/cm³)\n",
    "standard_density = 2.4\n",
    "\n",
    "# 표준 밀도에 해당하는 재료 찾기\n",
    "standard_material = material_density.eq(standard_density)\n",
    "\n",
    "print(\"🔬 표준 밀도에 해당하는 건축 재료:\")\n",
    "print(standard_material)"
   ]
  },
  {
   "cell_type": "code",
   "execution_count": 5,
   "id": "9421dca7-7e95-44e4-9e4e-d7b35d7856b7",
   "metadata": {},
   "outputs": [
    {
     "name": "stdout",
     "output_type": "stream",
     "text": [
      "📏 정확하게 일치하는 계산된 수치:\n",
      "면적     True\n",
      "부피    False\n",
      "길이     True\n",
      "dtype: bool\n"
     ]
    }
   ],
   "source": [
    "# 코드 예제 2: 📏 로마 수학에서의 수치 일치 검증 📏\n",
    "# 로마 시대의 수학자들은 건축과 무역에서 정확한 계산을 중요시했습니다. \n",
    "# 이 코드 예제에서는 계산된 수치와 기대치를 비교하여, 정확하게 일치하는 수치를 확인합니다.\n",
    "\n",
    "import pandas as pd\n",
    "\n",
    "# 계산된 수치\n",
    "calculated_values = pd.Series([100, 200, 300], index=[\"면적\", \"부피\", \"길이\"], name=\"Calculated Values\")\n",
    "\n",
    "# 기대치\n",
    "expected_values = pd.Series([100, 210, 300], index=[\"면적\", \"부피\", \"길이\"], name=\"Expected Values\")\n",
    "\n",
    "# 정확하게 일치하는 수치 확인\n",
    "accurate_measurements = calculated_values.eq(expected_values)\n",
    "\n",
    "print(\"📏 정확하게 일치하는 계산된 수치:\")\n",
    "print(accurate_measurements)"
   ]
  },
  {
   "cell_type": "markdown",
   "id": "b730760f-e73c-41d9-8cd7-b8fe5de79458",
   "metadata": {},
   "source": [
    "## pandas.Series.product 메서드는\n",
    "- Series 객체의 모든 요소의 곱을 계산합니다. 이 메서드는 수학적 계산, 통계 분석, 데이터 전처리 등 다양한 상황에서 유용하게 사용될 수 있습니다."
   ]
  },
  {
   "cell_type": "code",
   "execution_count": 6,
   "id": "a0005578-1024-4e0a-81cc-f4977b403802",
   "metadata": {},
   "outputs": [
    {
     "name": "stdout",
     "output_type": "stream",
     "text": [
      "🔬 구조물 건설에 필요한 전체 재료의 양:\n",
      "6000000\n"
     ]
    }
   ],
   "source": [
    "# 코드 예제 1: 🔬 로마 공학에서의 구조물 재료 계산 🔬\n",
    "# 로마 공학자들은 대규모 구조물을 건설할 때 필요한 재료의 양을 계산하는 복잡한 공식을 사용했습니다. \n",
    "# 이 코드 예제에서는 구조물 건설에 필요한 기본 재료의 양을 나타내는 데이터를 사용하여, 전체 재료의 양을 계산합니다.\n",
    "\n",
    "import pandas as pd\n",
    "\n",
    "# 구조물 건설에 필요한 기본 재료의 양\n",
    "material_quantities = pd.Series([100, 200, 300], index=[\"돌\", \"모래\", \"시멘트\"], name=\"Material Quantities\")\n",
    "\n",
    "# 전체 재료의 양 계산\n",
    "total_quantity = material_quantities.product()\n",
    "\n",
    "print(\"🔬 구조물 건설에 필요한 전체 재료의 양:\")\n",
    "print(total_quantity)"
   ]
  },
  {
   "cell_type": "code",
   "execution_count": 7,
   "id": "8819767f-b842-465e-96d5-c9aed20fa234",
   "metadata": {},
   "outputs": [
    {
     "name": "stdout",
     "output_type": "stream",
     "text": [
      "📐 수학적 계산에 사용된 숫자의 곱:\n",
      "210\n"
     ]
    }
   ],
   "source": [
    "# 코드 예제 2: 📐 로마 수학에서의 곱셈 문제 해결 📐\n",
    "# 로마 시대의 수학자들은 건축, 무역, 군사 작전 등에 필요한 복잡한 곱셈 문제를 해결해야 했습니다. \n",
    "# 이 코드 예제에서는 수학적 계산에 사용된 여러 숫자를 나타내는 데이터를 사용하여, 그 곱을 계산합니다.\n",
    "\n",
    "import pandas as pd\n",
    "\n",
    "# 곱셈 문제에 사용된 숫자\n",
    "multiplication_numbers = pd.Series([2, 3, 5, 7], name=\"Multiplication Numbers\")\n",
    "\n",
    "# 숫자의 곱 계산\n",
    "product_result = multiplication_numbers.product()\n",
    "\n",
    "print(\"📐 수학적 계산에 사용된 숫자의 곱:\")\n",
    "print(product_result)"
   ]
  },
  {
   "cell_type": "markdown",
   "id": "89b6eea3-98e9-4257-a54c-e538849edd48",
   "metadata": {},
   "source": [
    "## pandas.Series.dot 메서드\n",
    "- Series 객체와 다른 Series 객체 또는 유사 배열 구조 사이의 점곱(dot product)을 계산합니다. 점곱은 관련된 두 벡터의 대응하는 요소를 곱한 후 그 결과를 모두 더하는 연산입니다. \n",
    "- 이 메서드는 선형 대수학에서 중요하며, 데이터 분석에서도 여러 상황에서 활용됩니다."
   ]
  },
  {
   "cell_type": "code",
   "execution_count": 9,
   "id": "27311c60-035f-45cd-acbd-0cb50d9af857",
   "metadata": {},
   "outputs": [
    {
     "name": "stdout",
     "output_type": "stream",
     "text": [
      "🛠 구조물에 작용하는 총 힘:\n",
      "300.0\n"
     ]
    }
   ],
   "source": [
    "# 코드 예제 1: 🛠 로마 공학에서의 구조물 설계 계산 🛠\n",
    "# 로마 시대의 공학자들은 복잡한 구조물을 설계할 때 다양한 요소의 힘과 방향을 계산해야 했습니다. \n",
    "# 이 코드 예제에서는 구조물의 여러 부분에 작용하는 힘과 해당 방향 벡터를 나타내는 데이터를 사용하여, 총 작용 힘을 계산합니다.\n",
    "\n",
    "import pandas as pd\n",
    "\n",
    "# 구조물에 작용하는 힘\n",
    "forces = pd.Series([100, 200, 150], index=[\"힘1\", \"힘2\", \"힘3\"], name=\"Forces\")\n",
    "\n",
    "# 해당 방향 벡터\n",
    "directions = pd.Series([0.5, 0.8, 0.6], index=[\"힘1\", \"힘2\", \"힘3\"], name=\"Directions\")\n",
    "\n",
    "# 총 작용 힘 계산\n",
    "total_force = forces.dot(directions)\n",
    "\n",
    "print(\"🛠 구조물에 작용하는 총 힘:\")\n",
    "print(total_force)"
   ]
  },
  {
   "cell_type": "code",
   "execution_count": 10,
   "id": "3623a61c-3fda-422c-902b-e5ed50af584c",
   "metadata": {},
   "outputs": [
    {
     "name": "stdout",
     "output_type": "stream",
     "text": [
      "📊 상품의 총 가치:\n",
      "595.0\n"
     ]
    }
   ],
   "source": [
    "# 코드 예제 2: 📊 로마 경제에서의 상품 가치 계산 📊\n",
    "# 로마 시대의 상인들은 무역에서 다양한 상품의 총 가치를 계산해야 했습니다. \n",
    "# 이 코드 예제에서는 상품의 수량과 단위당 가격을 나타내는 데이터를 사용하여, 상품의 총 가치를 계산합니다.\n",
    "\n",
    "import pandas as pd\n",
    "\n",
    "# 상품의 수량\n",
    "quantities = pd.Series([30, 20, 50], index=[\"밀\", \"올리브 오일\", \"와인\"], name=\"Quantities\")\n",
    "\n",
    "# 상품의 단위당 가격\n",
    "unit_prices = pd.Series([1.5, 10, 7], index=[\"밀\", \"올리브 오일\", \"와인\"], name=\"Unit Prices\")\n",
    "\n",
    "# 상품의 총 가치 계산\n",
    "total_value = quantities.dot(unit_prices)\n",
    "\n",
    "print(\"📊 상품의 총 가치:\")\n",
    "print(total_value)"
   ]
  },
  {
   "cell_type": "markdown",
   "id": "de340b5b-91d0-491e-a24f-06746c0dc26b",
   "metadata": {},
   "source": [
    "## pandas.Series.apply 메서드\n",
    "- Series 객체의 각 요소에 함수를 적용하고 결과를 Series로 반환합니다. 이 메서드는 데이터 변환, 조건부 로직 실행, 복잡한 계산 수행 등 다양한 상황에서 유용하게 사용될 수 있습니다."
   ]
  },
  {
   "cell_type": "code",
   "execution_count": 11,
   "id": "a148b389-8752-4a5d-90af-ed2e18a794a6",
   "metadata": {},
   "outputs": [
    {
     "name": "stdout",
     "output_type": "stream",
     "text": [
      "📏 이집트 측량법에서 미터법으로 변환된 측량 값:\n",
      "필드 길이     45.0\n",
      "건물 높이     90.0\n",
      "도로 길이    135.0\n",
      "Name: Egyptian Measurements, dtype: float64\n"
     ]
    }
   ],
   "source": [
    "# 코드 예제 1: 📏 이집트의 측량법 변환 📏\n",
    "# 아테네 시대의 이집트에서는 고유의 측량법을 사용했습니다. \n",
    "# 이 코드 예제에서는 이집트의 측량 단위를 현대의 미터법으로 변환하는 함수를 적용하여, 변환된 측량 값을 계산합니다.\n",
    "\n",
    "import pandas as pd\n",
    "\n",
    "# 이집트의 측량 단위 (큐빗)\n",
    "egyptian_measurements = pd.Series([100, 200, 300], index=[\"필드 길이\", \"건물 높이\", \"도로 길이\"], name=\"Egyptian Measurements\")\n",
    "\n",
    "# 이집트 측량법을 미터법으로 변환하는 함수 (1 큐빗 = 0.45 미터로 가정)\n",
    "def convert_to_meters(cubits):\n",
    "    return cubits * 0.45\n",
    "\n",
    "# 변환된 측량 값 계산\n",
    "converted_measurements = egyptian_measurements.apply(convert_to_meters)\n",
    "\n",
    "print(\"📏 이집트 측량법에서 미터법으로 변환된 측량 값:\")\n",
    "print(converted_measurements)"
   ]
  },
  {
   "cell_type": "code",
   "execution_count": 12,
   "id": "23384056-06b8-45f4-8d94-a8587534f442",
   "metadata": {},
   "outputs": [
    {
     "name": "stdout",
     "output_type": "stream",
     "text": [
      "📚 로그 변환을 적용한 이집트 수학의 수치 값:\n",
      "수치1    2.302585\n",
      "수치2    4.605170\n",
      "수치3    6.907755\n",
      "Name: Egyptian Numbers, dtype: float64\n"
     ]
    }
   ],
   "source": [
    "# 코드 예제 2: 📚 이집트 수학에서의 수치 변환 📚\n",
    "# 이집트 수학자들은 복잡한 계산을 위해 다양한 수학적 변환을 사용했습니다. \n",
    "# 이 코드 예제에서는 주어진 수치에 로그 변환을 적용하는 함수를 사용하여, 변환된 수치 값을 계산합니다.\n",
    "\n",
    "import pandas as pd\n",
    "import numpy as np\n",
    "\n",
    "# 이집트 수학에서 사용된 수치\n",
    "egyptian_numbers = pd.Series([10, 100, 1000], index=[\"수치1\", \"수치2\", \"수치3\"], name=\"Egyptian Numbers\")\n",
    "\n",
    "# 로그 변환 함수\n",
    "def log_transform(number):\n",
    "    return np.log(number)\n",
    "\n",
    "# 변환된 수치 값 계산\n",
    "transformed_numbers = egyptian_numbers.apply(log_transform)\n",
    "\n",
    "print(\"📚 로그 변환을 적용한 이집트 수학의 수치 값:\")\n",
    "print(transformed_numbers)"
   ]
  },
  {
   "cell_type": "markdown",
   "id": "74149733-e37b-4098-b665-8af094017a40",
   "metadata": {},
   "source": [
    "## pandas.Series.agg 메서드\n",
    "- 하나 이상의 연산을 Series 객체의 요소에 적용하고, 결과를 반환합니다. 이 메서드는 \"aggregate\"의 약자로, 집계 함수나 여러 다른 함수를 Series 데이터에 적용할 때 유용합니다. - 사용자는 하나의 함수, 함수 리스트 또는 함수의 딕셔너리를 전달할 수 있으며, 그에 따라 결과가 달라집니다."
   ]
  },
  {
   "cell_type": "code",
   "execution_count": 13,
   "id": "46468897-22ad-4312-869b-111c5378fd6b",
   "metadata": {},
   "outputs": [
    {
     "name": "stdout",
     "output_type": "stream",
     "text": [
      "🏛 아테네 시대 이집트 건축 측량 데이터 분석:\n",
      "max     50.0\n",
      "min     10.0\n",
      "mean    30.0\n",
      "Name: Measurement Data, dtype: float64\n"
     ]
    }
   ],
   "source": [
    "# 코드 예제 1: 🏛 아테네 시대 이집트 건축 측량 데이터 분석 🏛\n",
    "# 아테네 시대의 이집트 건축가들은 건축 프로젝트에서 다양한 측량 데이터를 사용했습니다. \n",
    "# 이 코드 예제에서는 건축 측량 데이터의 최대값, 최소값, 평균값을 계산합니다.\n",
    "\n",
    "import pandas as pd\n",
    "\n",
    "# 건축 측량 데이터\n",
    "measurement_data = pd.Series([10, 20, 30, 40, 50], name=\"Measurement Data\")\n",
    "\n",
    "# 최대값, 최소값, 평균값 계산\n",
    "aggregated_data = measurement_data.agg(['max', 'min', 'mean'])\n",
    "\n",
    "print(\"🏛 아테네 시대 이집트 건축 측량 데이터 분석:\")\n",
    "print(aggregated_data)"
   ]
  },
  {
   "cell_type": "code",
   "execution_count": 14,
   "id": "7e841337-5a15-443c-8a8b-d290c78d224e",
   "metadata": {},
   "outputs": [
    {
     "name": "stdout",
     "output_type": "stream",
     "text": [
      "📐 아테네 시대 이집트의 수학적 계산 분석:\n",
      "sum       125.000000\n",
      "std        15.811388\n",
      "median     25.000000\n",
      "Name: Mathematical Data, dtype: float64\n"
     ]
    }
   ],
   "source": [
    "# 코드 예제 2: 📐 아테네 시대 이집트의 수학적 계산 분석 📐\n",
    "# 아테네 시대의 이집트 수학자들은 다양한 수학적 계산을 수행했습니다. \n",
    "# 이 코드 예제에서는 수학적 계산 데이터의 합계, 표준편차, 중앙값을 계산합니다.\n",
    "\n",
    "import pandas as pd\n",
    "\n",
    "# 수학적 계산 데이터\n",
    "mathematical_data = pd.Series([5, 15, 25, 35, 45], name=\"Mathematical Data\")\n",
    "\n",
    "# 합계, 표준편차, 중앙값 계산\n",
    "aggregated_math_data = mathematical_data.agg(['sum', 'std', 'median'])\n",
    "\n",
    "print(\"📐 아테네 시대 이집트의 수학적 계산 분석:\")\n",
    "print(aggregated_math_data)"
   ]
  },
  {
   "cell_type": "markdown",
   "id": "d614ab8e-d987-4bbb-8cc0-e60c3a7e31e2",
   "metadata": {},
   "source": [
    "## pandas.Series.transform 메서드\n",
    "- Series 객체의 각 요소에 함수를 적용하고, 입력과 동일한 길이의 Series 객체를 반환합니다. 이 메서드는 데이터의 변형이나 특정 연산의 적용에 유용하며, 입력 데이터의 구조를 유지하면서 각 요소에 대한 변환 결과를 얻고자 할 때 사용됩니다."
   ]
  },
  {
   "cell_type": "code",
   "execution_count": 15,
   "id": "0e2786ee-b8e6-4dab-80f8-14c40bb664a1",
   "metadata": {},
   "outputs": [
    {
     "name": "stdout",
     "output_type": "stream",
     "text": [
      "🏛 돌의 무게 변환 (단위: 킬로그램):\n",
      "0    132.3\n",
      "1    264.6\n",
      "2    396.9\n",
      "3    529.2\n",
      "Name: Stone Weights in Talent, dtype: float64\n"
     ]
    }
   ],
   "source": [
    "# 코드 예제 1: 🏛 이집트 건축에서 사용된 돌의 무게 변환 🏛\n",
    "# 아테네 시대 이집트에서 건축에 사용된 돌의 무게는 특정 단위로 측정되었습니다. \n",
    "# 이 코드 예제에서는 돌의 무게를 현대의 킬로그램 단위로 변환하는 변환을 적용합니다.\n",
    "\n",
    "import pandas as pd\n",
    "\n",
    "# 건축에 사용된 돌의 무게 (단위: 탈란트)\n",
    "stone_weights = pd.Series([5, 10, 15, 20], name=\"Stone Weights in Talent\")\n",
    "\n",
    "# 탈란트를 킬로그램으로 변환하는 함수 (1 탈란트 = 26.46 킬로그램으로 가정)\n",
    "def talent_to_kilograms(talent):\n",
    "    return talent * 26.46\n",
    "\n",
    "# 무게 변환 적용\n",
    "converted_weights = stone_weights.transform(talent_to_kilograms)\n",
    "\n",
    "print(\"🏛 돌의 무게 변환 (단위: 킬로그램):\")\n",
    "print(converted_weights)"
   ]
  },
  {
   "cell_type": "code",
   "execution_count": 17,
   "id": "03264c73-5b86-4f47-8d32-fe4ed363ef0e",
   "metadata": {},
   "outputs": [
    {
     "name": "stdout",
     "output_type": "stream",
     "text": [
      "📏 숫자에 제곱근 변환 적용:\n",
      "0    2.0\n",
      "1    3.0\n",
      "2    4.0\n",
      "3    5.0\n",
      "Name: Egyptian Numbers, dtype: float64\n"
     ]
    }
   ],
   "source": [
    "# 코드 예제 2: 📏 이집트 수학에서의 숫자 변환 📏\n",
    "# 아테네 시대 이집트 수학에서는 숫자를 다양한 방식으로 변환하여 사용했습니다. \n",
    "# 이 코드 예제에서는 주어진 숫자에 제곱근 변환을 적용합니다.\n",
    "\n",
    "import pandas as pd\n",
    "import numpy as np\n",
    "\n",
    "# 이집트 수학에서 사용된 숫자\n",
    "egyptian_numbers = pd.Series([4, 9, 16, 25], name=\"Egyptian Numbers\")\n",
    "\n",
    "# 숫자에 제곱근 변환 적용\n",
    "sqrt_transformed = egyptian_numbers.transform(np.sqrt)\n",
    "\n",
    "print(\"📏 숫자에 제곱근 변환 적용:\")\n",
    "print(sqrt_transformed)"
   ]
  },
  {
   "cell_type": "markdown",
   "id": "1091718a-8fae-4302-88b0-e2f41fb8ceaf",
   "metadata": {},
   "source": [
    "## pandas.Series.map 메서드\n",
    "- Series의 각 요소에 대해 주어진 매핑 함수를 적용하여 새로운 값을 반환합니다. 이 메서드는 요소별 변환 작업을 수행할 때 유용하게 사용됩니다."
   ]
  },
  {
   "cell_type": "code",
   "execution_count": 18,
   "id": "a3151147-caa7-4b7a-ad27-21134019ab2e",
   "metadata": {},
   "outputs": [
    {
     "name": "stdout",
     "output_type": "stream",
     "text": [
      "🏛 이집트 숫자를 아라비아 숫자로 변환:\n",
      "0      1.0\n",
      "1     10.0\n",
      "2      NaN\n",
      "3    100.0\n",
      "Name: Egyptian Numbers, dtype: float64\n"
     ]
    }
   ],
   "source": [
    "# 코드 예제 1: 🏛 이집트 숫자 변환 🏛\n",
    "# 아테네 시대 이집트에서 사용된 숫자는 고유한 기호로 표현되었습니다. \n",
    "# 이 코드 예제에서는 이집트 숫자를 해당하는 아라비아 숫자로 매핑합니다.\n",
    "\n",
    "import pandas as pd\n",
    "\n",
    "# 아테네 시대 이집트 수학에서 사용된 숫자\n",
    "egyptian_numbers = pd.Series([\"ꌉ\", \"ꊏ\", \"ꊏꊏ\", \"ꉆ\"], name=\"Egyptian Numbers\")\n",
    "\n",
    "# 이집트 숫자를 아라비아 숫자로 매핑하는 딕셔너리\n",
    "egyptian_to_arabic = {\"ꌉ\": 1, \"ꊏ\": 10, \"ꉆ\": 100}\n",
    "\n",
    "# 매핑 적용\n",
    "arabic_numbers = egyptian_numbers.map(egyptian_to_arabic)\n",
    "\n",
    "print(\"🏛 이집트 숫자를 아라비아 숫자로 변환:\")\n",
    "print(arabic_numbers)"
   ]
  },
  {
   "cell_type": "code",
   "execution_count": 19,
   "id": "238e8fe2-c40f-423e-b708-a7c9362fe622",
   "metadata": {},
   "outputs": [
    {
     "name": "stdout",
     "output_type": "stream",
     "text": [
      "📏 이집트 수학 연산 결과:\n",
      "0     5\n",
      "1     9\n",
      "2    13\n",
      "3    17\n",
      "Name: Egyptian Numbers, dtype: int64\n"
     ]
    }
   ],
   "source": [
    "# 코드 예제 2: 📏 이집트 수학 연산 📏\n",
    "# 아테네 시대 이집트 수학에서는 곱셈과 나눗셈을 특별한 방식으로 수행했습니다. \n",
    "# 이 코드 예제에서는 이집트 수학에서 사용된 특수한 곱셈과 나눗셈 연산을 적용합니다.\n",
    "\n",
    "import pandas as pd\n",
    "\n",
    "# 아테네 시대 이집트 수학에서 사용된 숫자\n",
    "egyptian_numbers = pd.Series([3, 5, 7, 9], name=\"Egyptian Numbers\")\n",
    "\n",
    "# 특별한 곱셈과 나눗셈 연산을 수행하는 함수\n",
    "def egyptian_math_operation(number):\n",
    "    return (number * 2) - 1  # 곱셈과 나눗셈 연산을 특별한 방식으로 수행\n",
    "\n",
    "# 연산 적용\n",
    "result = egyptian_numbers.map(egyptian_math_operation)\n",
    "\n",
    "print(\"📏 이집트 수학 연산 결과:\")\n",
    "print(result)"
   ]
  },
  {
   "cell_type": "markdown",
   "id": "924c7526-7f33-42f8-9c18-97e9c39c5dd6",
   "metadata": {},
   "source": [
    "##pandas.Series.groupby 메서드는\n",
    "- 지정된 조건에 따라 Series를 그룹화하고, 그룹별로 연산을 수행할 수 있도록 하는 기능을 제공합니다. 이 메서드는 데이터를 그룹별로 분할(split), 적용(apply), 결합(combine)하는 과정을 수행합니다."
   ]
  },
  {
   "cell_type": "code",
   "execution_count": 21,
   "id": "ca1cab3d-c117-404a-bd07-b45cf1d5ea5f",
   "metadata": {},
   "outputs": [
    {
     "name": "stdout",
     "output_type": "stream",
     "text": [
      "🏛 소크라테스의 저서:\n",
      "['소크라테스: 대화', '소크라테스: 다이알로고이']\n",
      "\n",
      "🏛 아리스토텔레스의 저서:\n",
      "['아리스토텔레스: 니코마코스 윤리학', '아리스토텔레스: 동물학']\n",
      "\n",
      "🏛 프로타고라스의 저서:\n",
      "['프로타고라스: 정수론']\n",
      "\n",
      "🏛 플라톤의 저서:\n",
      "['플라톤: 이상국가', '플라톤: 국가법']\n",
      "\n"
     ]
    }
   ],
   "source": [
    "# 코드 예제 1: 🏛 철학자별 서적 분류 📚\n",
    "# 아테네 시대의 철학자들이 저술한 서적들을 분류하는 예제입니다.\n",
    "\n",
    "import pandas as pd\n",
    "\n",
    "# 철학자별로 작성된 서적 목록\n",
    "books = pd.Series([\n",
    "    \"프로타고라스: 정수론\",\n",
    "    \"소크라테스: 대화\",\n",
    "    \"플라톤: 이상국가\",\n",
    "    \"아리스토텔레스: 니코마코스 윤리학\",\n",
    "    \"소크라테스: 다이알로고이\",\n",
    "    \"플라톤: 국가법\",\n",
    "    \"아리스토텔레스: 동물학\"\n",
    "])\n",
    "\n",
    "# 철학자 이름을 기준으로 서적을 그룹화\n",
    "groups = books.groupby(books.str.split(\":\").str[0])\n",
    "\n",
    "# 그룹별로 서적 목록 출력\n",
    "for name, group in groups:\n",
    "    print(f\"🏛 {name}의 저서:\")\n",
    "    print(group.to_list())\n",
    "    print()"
   ]
  },
  {
   "cell_type": "code",
   "execution_count": 22,
   "id": "4465f63e-30cb-4c1b-883d-c40716d6bea2",
   "metadata": {},
   "outputs": [
    {
     "name": "stdout",
     "output_type": "stream",
     "text": [
      "🧠 철학자별 명언 수:\n",
      "소크라테스      2\n",
      "아리스토텔레스    1\n",
      "플라톤        2\n",
      "dtype: int64\n"
     ]
    }
   ],
   "source": [
    "# 코드 예제 2: 🧠 철학자별 명언 수 세기 📜\n",
    "# 아테네 시대의 철학자들이 남긴 명언의 수를 세는 예제입니다.\n",
    "\n",
    "import pandas as pd\n",
    "\n",
    "# 철학자별로 남긴 명언 목록\n",
    "quotes = pd.Series([\n",
    "    \"소크라테스: 자신을 알라\",\n",
    "    \"플라톤: 지식은 힘\",\n",
    "    \"아리스토텔레스: 우리는 우리의 행동에 의해 정의된다\",\n",
    "    \"소크라테스: 몸은 소유물이 아니다\",\n",
    "    \"플라톤: 가장 공평한 사람은 제일 고상한 생각을 한다\"\n",
    "])\n",
    "\n",
    "# 철학자 이름을 기준으로 명언 수 세기\n",
    "quote_counts = quotes.groupby(quotes.str.split(\":\").str[0]).count()\n",
    "\n",
    "print(\"🧠 철학자별 명언 수:\")\n",
    "print(quote_counts)"
   ]
  },
  {
   "cell_type": "markdown",
   "id": "f2e76883-fa86-4efa-821f-abfec30371e8",
   "metadata": {},
   "source": [
    "## pandas.Series.rolling 메서드는\n",
    "- 시계열 데이터에 대해 이동 평균, 이동 합 등의 이동 통계량을 계산하는 데 사용됩니다. 이 메서드는 지정된 윈도우 크기만큼의 데이터를 사용하여 계산을 수행합니다."
   ]
  },
  {
   "cell_type": "code",
   "execution_count": 23,
   "id": "041adb98-54b9-4d1a-a797-c9cadd63c76d",
   "metadata": {},
   "outputs": [
    {
     "name": "stdout",
     "output_type": "stream",
     "text": [
      "🔄 플라톤의 통찰력 변화:\n",
      "0           NaN\n",
      "1           NaN\n",
      "2    196.666667\n",
      "3    193.333333\n",
      "4    206.666667\n",
      "5    213.333333\n",
      "6    230.000000\n",
      "7    226.666667\n",
      "8    216.666667\n",
      "9    200.000000\n",
      "dtype: float64\n"
     ]
    }
   ],
   "source": [
    "# 코드 예제 1: 🔄 플라톤의 통찰력 변화 📜\n",
    "# 플라톤이 쓴 서적에서 각 페이지의 단어 수를 기록한 데이터를 가지고, 플라톤의 통찰력 변화를 추적하는 예제입니다.\n",
    "\n",
    "import pandas as pd\n",
    "\n",
    "# 플라톤의 서적에서 페이지 별 단어 수 데이터\n",
    "plato_pages = pd.Series([200, 180, 210, 190, 220, 230, 240, 210, 200, 190])\n",
    "\n",
    "# 윈도우 크기가 3인 이동 평균 계산\n",
    "rolling_mean = plato_pages.rolling(window=3).mean()\n",
    "\n",
    "print(\"🔄 플라톤의 통찰력 변화:\")\n",
    "print(rolling_mean)"
   ]
  },
  {
   "cell_type": "code",
   "execution_count": 24,
   "id": "3e22378b-0131-4e2d-9249-4a98e3943080",
   "metadata": {},
   "outputs": [
    {
     "name": "stdout",
     "output_type": "stream",
     "text": [
      "🌀 아리스토텔레스의 사고 과정:\n",
      "0      NaN\n",
      "1    310.0\n",
      "2    300.0\n",
      "3    295.0\n",
      "4    320.0\n",
      "5    310.0\n",
      "6    305.0\n",
      "7    315.0\n",
      "8    325.0\n",
      "9    335.0\n",
      "dtype: float64\n"
     ]
    }
   ],
   "source": [
    "# 코드 예제 2: 🌀 아리스토텔레스의 사고 과정 📚\n",
    "# 아리스토텔레스의 저술에서 각 장의 단어 수를 기록한 데이터를 가지고, 아리스토텔레스의 사고 과정을 추적하는 예제입니다.\n",
    "\n",
    "import pandas as pd\n",
    "\n",
    "# 아리스토텔레스의 저술에서 장 별 단어 수 데이터\n",
    "aristotle_chapters = pd.Series([300, 320, 280, 310, 330, 290, 320, 310, 340, 330])\n",
    "\n",
    "# 윈도우 크기가 2인 이동 평균 계산\n",
    "rolling_mean = aristotle_chapters.rolling(window=2).mean()\n",
    "\n",
    "print(\"🌀 아리스토텔레스의 사고 과정:\")\n",
    "print(rolling_mean)"
   ]
  },
  {
   "cell_type": "markdown",
   "id": "1256a45f-e641-475d-bae2-2733ff820069",
   "metadata": {},
   "source": [
    "## pandas.Series.expanding 메서드는\n",
    "- 시계열 데이터의 누적된 통계량을 계산하는 데 사용됩니다. 이 메서드는 데이터의 처음부터 현재까지의 누적된 값을 계산합니다."
   ]
  },
  {
   "cell_type": "code",
   "execution_count": 25,
   "id": "5ad1d7a6-2d29-4a94-946c-2e4a46be823c",
   "metadata": {},
   "outputs": [
    {
     "name": "stdout",
     "output_type": "stream",
     "text": [
      "📈 소크라테스의 지혜 누적:\n",
      "0    10.000000\n",
      "1    12.500000\n",
      "2    12.333333\n",
      "3    13.750000\n",
      "4    15.000000\n",
      "5    16.166667\n",
      "6    17.428571\n",
      "7    18.750000\n",
      "8    20.000000\n",
      "9    21.500000\n",
      "dtype: float64\n"
     ]
    }
   ],
   "source": [
    "# 코드 예제 1: 📈 소크라테스의 지혜 누적 🧠\n",
    "# 소크라테스의 대화록에서 각 대화의 길이를 기록한 데이터를 가지고, 소크라테스의 지혜가 시간이 흐를수록 어떻게 누적되는지 살펴보는 예제입니다.\n",
    "\n",
    "import pandas as pd\n",
    "\n",
    "# 소크라테스의 대화록에서 대화 별 길이 데이터\n",
    "socrates_dialogues = pd.Series([10, 15, 12, 18, 20, 22, 25, 28, 30, 35])\n",
    "\n",
    "# 누적 평균 계산\n",
    "expanding_mean = socrates_dialogues.expanding().mean()\n",
    "\n",
    "print(\"📈 소크라테스의 지혜 누적:\")\n",
    "print(expanding_mean)"
   ]
  },
  {
   "cell_type": "code",
   "execution_count": 26,
   "id": "ab4e45f4-f751-4b05-b190-09be72390238",
   "metadata": {},
   "outputs": [
    {
     "name": "stdout",
     "output_type": "stream",
     "text": [
      "🧮 플라톤의 아이디어 누적:\n",
      "0    5.0\n",
      "1    5.5\n",
      "2    6.0\n",
      "3    6.5\n",
      "4    7.0\n",
      "5    7.5\n",
      "6    8.0\n",
      "7    8.5\n",
      "8    9.0\n",
      "9    9.5\n",
      "dtype: float64\n"
     ]
    }
   ],
   "source": [
    "# 코드 예제 2: 🧮 플라톤의 아이디어 누적 📜\n",
    "# 플라톤의 저술에서 각 장의 아이디어 수를 기록한 데이터를 가지고, 플라톤의 아이디어가 시간이 흐를수록 어떻게 누적되는지 살펴보는 예제입니다.\n",
    "\n",
    "import pandas as pd\n",
    "\n",
    "# 플라톤의 저술에서 장 별 아이디어 수 데이터\n",
    "plato_ideas = pd.Series([5, 6, 7, 8, 9, 10, 11, 12, 13, 14])\n",
    "\n",
    "# 누적 평균 계산\n",
    "expanding_mean = plato_ideas.expanding().mean()\n",
    "\n",
    "print(\"🧮 플라톤의 아이디어 누적:\")\n",
    "print(expanding_mean)"
   ]
  },
  {
   "cell_type": "markdown",
   "id": "be2c2c4e-e18b-4006-815d-59e2a6b6e136",
   "metadata": {},
   "source": [
    "## pandas.Series.ewm 메서드는\n",
    "    시계열 데이터에 대한 지수 가중 이동 평균(Exponential Weighted Moving Average)을 계산하는 데 사용됩니다. 이 메서드는 시계열 데이터의 가중치를 지수적으로 조정하여 최근 데이터에 더 많은 가중치를 부여하고 오래된 데이터에는 더 적은 가중치를 부여합니다."
   ]
  },
  {
   "cell_type": "code",
   "execution_count": 27,
   "id": "9e6896e0-c4fc-44c8-8ae1-7930817f9393",
   "metadata": {},
   "outputs": [
    {
     "name": "stdout",
     "output_type": "stream",
     "text": [
      "📈 소크라테스의 지혜 가중 평균:\n",
      "0    10.000000\n",
      "1    13.333333\n",
      "2    12.571429\n",
      "3    15.466667\n",
      "4    17.806452\n",
      "5    19.936508\n",
      "6    22.488189\n",
      "7    25.254902\n",
      "8    27.632094\n",
      "9    31.319648\n",
      "dtype: float64\n"
     ]
    }
   ],
   "source": [
    "# 코드 예제 1: 📈 소크라테스의 지혜 가중 평균 🧠\n",
    "# 소크라테스의 대화록에서 각 대화의 길이를 기록한 데이터를 가지고, 소크라테스의 지혜가 시간이 흐를수록 어떻게 변화하는지 살펴보는 예제입니다.\n",
    "\n",
    "import pandas as pd\n",
    "\n",
    "# 소크라테스의 대화록에서 대화 별 길이 데이터\n",
    "socrates_dialogues = pd.Series([10, 15, 12, 18, 20, 22, 25, 28, 30, 35])\n",
    "\n",
    "# 지수 가중 이동 평균 계산\n",
    "ewm_mean = socrates_dialogues.ewm(span=3).mean()\n",
    "\n",
    "print(\"📈 소크라테스의 지혜 가중 평균:\")\n",
    "print(ewm_mean)"
   ]
  },
  {
   "cell_type": "code",
   "execution_count": 28,
   "id": "9f41ec68-a0b2-4d89-affe-99666dc6a670",
   "metadata": {},
   "outputs": [
    {
     "name": "stdout",
     "output_type": "stream",
     "text": [
      "📜 플라톤의 아이디어 가중 평균:\n",
      "0     5.000000\n",
      "1     5.666667\n",
      "2     6.428571\n",
      "3     7.266667\n",
      "4     8.161290\n",
      "5     9.095238\n",
      "6    10.055118\n",
      "7    11.031373\n",
      "8    12.017613\n",
      "9    13.009775\n",
      "dtype: float64\n"
     ]
    }
   ],
   "source": [
    "# 코드 예제 2: 📜 플라톤의 아이디어 가중 평균 🧮\n",
    "# 플라톤의 저술에서 각 장의 아이디어 수를 기록한 데이터를 가지고, 플라톤의 아이디어가 시간이 흐를수록 어떻게 변화하는지 살펴보는 예제입니다.\n",
    "\n",
    "import pandas as pd\n",
    "\n",
    "# 플라톤의 저술에서 장 별 아이디어 수 데이터\n",
    "plato_ideas = pd.Series([5, 6, 7, 8, 9, 10, 11, 12, 13, 14])\n",
    "\n",
    "# 지수 가중 이동 평균 계산\n",
    "ewm_mean = plato_ideas.ewm(alpha=0.5).mean()\n",
    "\n",
    "print(\"📜 플라톤의 아이디어 가중 평균:\")\n",
    "print(ewm_mean)"
   ]
  },
  {
   "cell_type": "markdown",
   "id": "72768900-6fb8-48e8-8741-6e2d55d49fb1",
   "metadata": {},
   "source": [
    "## pandas.Series.pipe 메서드\n",
    "---\n",
    "함수를 적용하는데 사용되며, 메서드 체인을 통해 사용자 정의 함수를 쉽게 적용할 수 있습니다.   \n",
    "이를 통해 데이터 변환 및 처리를 효율적으로 수행할 수 있습니다."
   ]
  },
  {
   "cell_type": "code",
   "execution_count": 32,
   "id": "23e16407-1457-43c8-a661-b1e34fead752",
   "metadata": {},
   "outputs": [
    {
     "name": "stdout",
     "output_type": "stream",
     "text": [
      "🌌 천문학적 계산 결과:\n",
      "0    1000\n",
      "1    2000\n",
      "2    3000\n",
      "3    4000\n",
      "4    5000\n",
      "dtype: int64\n"
     ]
    }
   ],
   "source": [
    "'''\n",
    "코드 예제 1: 🌌 천문학적 계산\n",
    "페르시아 시대의 천문학적 연구 결과를 바탕으로, \n",
    "시리즈의 각 값에 대해 천문학적 계산을 수행하는 예제입니다.\n",
    "'''\n",
    "\n",
    "import pandas as pd\n",
    "\n",
    "# 페르시아 시대의 천문학적 연구 결과를 바탕으로한 계산 함수\n",
    "def astronomical_calculation(data):\n",
    "    # 여기에 천문학적 계산을 수행하는 로직을 작성합니다.\n",
    "    return data * 100  # 예시로 각 값에 100을 곱하는 계산을 수행합니다.\n",
    "\n",
    "# 시리즈 데이터 생성\n",
    "persian_astronomy = pd.Series([10, 20, 30, 40, 50])\n",
    "\n",
    "# pipe 메서드를 사용하여 천문학적 계산 적용\n",
    "result = persian_astronomy.pipe(astronomical_calculation)\n",
    "\n",
    "print(\"🌌 천문학적 계산 결과:\")\n",
    "print(result)"
   ]
  },
  {
   "cell_type": "code",
   "execution_count": 33,
   "id": "2f154c0c-aca9-434a-b2f0-c3c2fba10d36",
   "metadata": {},
   "outputs": [
    {
     "name": "stdout",
     "output_type": "stream",
     "text": [
      "📊 통계적 분석 결과:\n",
      "35.0\n"
     ]
    }
   ],
   "source": [
    "'''\n",
    "코드 예제 2: 📊 통계적 분석\n",
    "페르시아 시대의 통계적 연구 결과를 바탕으로, \n",
    "시리즈의 각 값에 대해 통계적 분석을 수행하는 예제입니다.\n",
    "'''\n",
    "\n",
    "import pandas as pd\n",
    "\n",
    "# 페르시아 시대의 통계적 연구 결과를 바탕으로한 분석 함수\n",
    "def statistical_analysis(data):\n",
    "    # 여기에 통계적 분석을 수행하는 로직을 작성합니다.\n",
    "    return data.mean()  # 예시로 각 값의 평균을 계산하는 분석을 수행합니다.\n",
    "\n",
    "# 시리즈 데이터 생성\n",
    "persian_statistics = pd.Series([15, 25, 35, 45, 55])\n",
    "\n",
    "# pipe 메서드를 사용하여 통계적 분석 적용\n",
    "result = persian_statistics.pipe(statistical_analysis)\n",
    "\n",
    "print(\"📊 통계적 분석 결과:\")\n",
    "print(result)"
   ]
  },
  {
   "cell_type": "markdown",
   "id": "0bbb7422-cff5-4b05-b35c-5e3c73a5c8db",
   "metadata": {},
   "source": [
    "## pandas.Series.abs 메서드\n",
    "시리즈의 절대값을 계산하는 데 사용됩니다.   "
   ]
  },
  {
   "cell_type": "code",
   "execution_count": 34,
   "id": "cf98f028-4dfe-4f68-8b3f-cc9f3e1c8778",
   "metadata": {},
   "outputs": [
    {
     "name": "stdout",
     "output_type": "stream",
     "text": [
      "🧮 절대값 계산 결과:\n",
      "0    1\n",
      "1    2\n",
      "2    3\n",
      "3    4\n",
      "4    5\n",
      "dtype: int64\n"
     ]
    }
   ],
   "source": [
    "'''\n",
    "코드 예제 1: 🧮 수학적 연구\n",
    "페르시아 시대의 수학적 연구 결과를 바탕으로, \n",
    "시리즈의 각 값에 대한 절대값을 계산하는 예제입니다.\n",
    "'''\n",
    "\n",
    "import pandas as pd\n",
    "\n",
    "# 시리즈 데이터 생성\n",
    "persian_mathematics = pd.Series([-1, 2, -3, 4, -5])\n",
    "\n",
    "# abs 메서드를 사용하여 절대값 계산\n",
    "result = persian_mathematics.abs()\n",
    "\n",
    "print(\"🧮 절대값 계산 결과:\")\n",
    "print(result)"
   ]
  },
  {
   "cell_type": "code",
   "execution_count": 35,
   "id": "8f4894cd-7712-4e78-ae58-348201218640",
   "metadata": {},
   "outputs": [
    {
     "name": "stdout",
     "output_type": "stream",
     "text": [
      "🔍 데이터 분석 결과:\n",
      "0    10\n",
      "1    20\n",
      "2    30\n",
      "3    40\n",
      "4    50\n",
      "dtype: int64\n"
     ]
    }
   ],
   "source": [
    "'''\n",
    "코드 예제 2: 🔍 데이터 분석\n",
    "페르시아 시대의 데이터 분석 결과를 바탕으로, \n",
    "시리즈의 각 값에 대한 절대값을 계산하여 분석하는 예제입니다.\n",
    "'''\n",
    "\n",
    "import pandas as pd\n",
    "\n",
    "# 시리즈 데이터 생성\n",
    "persian_data_analysis = pd.Series([-10, 20, -30, 40, -50])\n",
    "\n",
    "# abs 메서드를 사용하여 절대값 계산\n",
    "result = persian_data_analysis.abs()\n",
    "\n",
    "print(\"🔍 데이터 분석 결과:\")\n",
    "print(result)"
   ]
  },
  {
   "cell_type": "markdown",
   "id": "c95501cc-666a-4894-9082-254c36887711",
   "metadata": {},
   "source": [
    "## pandas.Series.abs 메서드\n",
    "시리즈의 절대값을 계산하는 데 사용됩니다."
   ]
  },
  {
   "cell_type": "code",
   "execution_count": null,
   "id": "ff31deaf-65f2-4e76-975d-6f48d814a7d5",
   "metadata": {},
   "outputs": [],
   "source": [
    "'''\n",
    "코드 예제 1: 🧮 수학적 연구\n",
    "페르시아 시대의 수학적 연구 결과를 바탕으로, \n",
    "시리즈의 각 값에 대한 절대값을 계산하는 예제입니다.\n",
    "'''\n",
    "\n",
    "import pandas as pd\n",
    "\n",
    "# 시리즈 데이터 생성\n",
    "persian_mathematics = pd.Series([-1, 2, -3, 4, -5])\n",
    "\n",
    "# abs 메서드를 사용하여 절대값 계산\n",
    "result = persian_mathematics.abs()\n",
    "\n",
    "print(\"🧮 절대값 계산 결과:\")\n",
    "print(result)"
   ]
  },
  {
   "cell_type": "code",
   "execution_count": null,
   "id": "58913c7f-b97e-4a93-baa0-da62886a994a",
   "metadata": {},
   "outputs": [],
   "source": [
    "'''\n",
    "코드 예제 2: 🔍 데이터 분석\n",
    "페르시아 시대의 데이터 분석 결과를 바탕으로, \n",
    "시리즈의 각 값에 대한 절대값을 계산하여 분석하는 예제입니다.\n",
    "'''\n",
    "\n",
    "import pandas as pd\n",
    "\n",
    "# 시리즈 데이터 생성\n",
    "persian_data_analysis = pd.Series([-10, 20, -30, 40, -50])\n",
    "\n",
    "# abs 메서드를 사용하여 절대값 계산\n",
    "result = persian_data_analysis.abs()\n",
    "\n",
    "print(\"🔍 데이터 분석 결과:\")\n",
    "print(result)"
   ]
  }
 ],
 "metadata": {
  "kernelspec": {
   "display_name": "Python 3 (ipykernel)",
   "language": "python",
   "name": "python3"
  },
  "language_info": {
   "codemirror_mode": {
    "name": "ipython",
    "version": 3
   },
   "file_extension": ".py",
   "mimetype": "text/x-python",
   "name": "python",
   "nbconvert_exporter": "python",
   "pygments_lexer": "ipython3",
   "version": "3.10.9"
  }
 },
 "nbformat": 4,
 "nbformat_minor": 5
}
