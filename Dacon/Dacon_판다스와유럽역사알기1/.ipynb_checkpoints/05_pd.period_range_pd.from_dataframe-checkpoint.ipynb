{
 "cells": [
  {
   "cell_type": "markdown",
   "id": "e01a7b9d-fa45-4024-b7b0-b5224843759a",
   "metadata": {},
   "source": [
    "# 판다스와 유럽 역사 알기1-5\n",
    "\n",
    "- 05_\n",
    "- https://www.dacon.io/edu/131"
   ]
  },
  {
   "cell_type": "markdown",
   "id": "f6d79d5c-ccc4-4e43-a036-e7566b650a8f",
   "metadata": {},
   "source": [
    "## pandas.period_range\n",
    "- 일정한 주기를 가진 기간 범위를 생성하는 데 사용됩니다. \n",
    "- 이 함수는 금융, 경제학, 역사학 등 다양한 분야에서 시계열 데이터를 다룰 때 유용하게 사용됩니다."
   ]
  },
  {
   "cell_type": "code",
   "execution_count": 1,
   "id": "c3218f53-98ca-40a1-8678-8ad5ade0a9a8",
   "metadata": {},
   "outputs": [
    {
     "name": "stdout",
     "output_type": "stream",
     "text": [
      "몽골 제국 확장 기간: PeriodIndex(['1206', '1207', '1208', '1209', '1210', '1211', '1212', '1213',\n",
      "             '1214', '1215', '1216', '1217', '1218', '1219', '1220', '1221',\n",
      "             '1222', '1223', '1224', '1225', '1226', '1227'],\n",
      "            dtype='period[A-DEC]')\n"
     ]
    }
   ],
   "source": [
    "import pandas as pd\n",
    "\n",
    "mongol_empire_expansion = pd.period_range(start='1206', end='1227', freq='A')\n",
    "print(f\"몽골 제국 확장 기간: {mongol_empire_expansion}\")"
   ]
  },
  {
   "cell_type": "code",
   "execution_count": 2,
   "id": "a43c0585-5301-453d-9b80-6cc293587740",
   "metadata": {},
   "outputs": [
    {
     "name": "stdout",
     "output_type": "stream",
     "text": [
      "🏰 Early Medieval Periods: PeriodIndex(['1100-01', '1100-06', '1100-11'], dtype='period[5M]')\n",
      "⚔️ Crusades Periods: PeriodIndex(['1096', '1097', '1098', '1099'], dtype='period[A-DEC]')\n",
      "📜 Renaissance Eve Periods: PeriodIndex(['1400Q1', '1400Q2', '1400Q3', '1400Q4'], dtype='period[Q-DEC]')\n",
      "🌍 Age of Exploration Periods: PeriodIndex(['1492', '1493', '1494', '1495', '1496', '1497', '1498'], dtype='period[A-DEC]')\n"
     ]
    }
   ],
   "source": [
    "import pandas as pd\n",
    "\n",
    "# 1. 중세 초기의 5개월 간격으로 3개의 기간 생성\n",
    "early_medieval = pd.period_range(start='1100', periods=3, freq='5M')\n",
    "print(f\"🏰 Early Medieval Periods: {early_medieval}\")\n",
    "\n",
    "# 2. 십자군 전쟁 기간의 연간 기간 생성\n",
    "crusades = pd.period_range(start='1096', end='1099', freq='Y')\n",
    "print(f\"⚔️ Crusades Periods: {crusades}\")\n",
    "\n",
    "# 3. 르네상스 전야의 매 분기 기간 4개 생성\n",
    "renaissance_eve = pd.period_range(start='1400', periods=4, freq='Q')\n",
    "print(f\"📜 Renaissance Eve Periods: {renaissance_eve}\")\n",
    "\n",
    "# 4. 대항해 시대의 시작부터 1498년까지의 연간 기간 생성\n",
    "age_of_exploration = pd.period_range(start='1492', end='1498', freq='Y')\n",
    "print(f\"🌍 Age of Exploration Periods: {age_of_exploration}\")"
   ]
  },
  {
   "cell_type": "markdown",
   "id": "eb5c7e26-2cb2-4c51-8d04-928c2cedef4d",
   "metadata": {},
   "source": [
    "## pandas.timedelta_range 함수는\n",
    "- 일정한 간격의 시간 차이를 나타내는 TimedeltaIndex 객체를 생성합니다. \n",
    "- 이 함수는 시간 기반의 데이터를 처리할 때 유용하며, 특히 시간 간격이 규칙적인 데이터 시퀀스를 생성할 때 사용됩니다."
   ]
  },
  {
   "cell_type": "code",
   "execution_count": 3,
   "id": "118199d6-361f-40f8-adae-d23539c6d942",
   "metadata": {},
   "outputs": [
    {
     "name": "stdout",
     "output_type": "stream",
     "text": [
      "TimedeltaIndex([   '0 days 00:00:00',  '912 days 12:00:00',\n",
      "                '1825 days 00:00:00', '2737 days 12:00:00',\n",
      "                '3650 days 00:00:00'],\n",
      "               dtype='timedelta64[ns]', freq=None)\n"
     ]
    }
   ],
   "source": [
    "# 1. 성 건축 기간: 100년 전쟁 중 성의 건축 기간을 timedelta로 표현하기\n",
    "\n",
    "import pandas as pd\n",
    "\n",
    "# 100년 전쟁 기간 중 성 건축 시작\n",
    "start = pd.Timedelta(days=0)\n",
    "\n",
    "# 성 건축에 걸린 시간: 약 10년\n",
    "end = pd.Timedelta(days=3650)\n",
    "\n",
    "# 건축 기간 동안의 주요 시점 표시\n",
    "castle_construction = pd.timedelta_range(start=start, end=end, periods=5)\n",
    "print(castle_construction)"
   ]
  },
  {
   "cell_type": "code",
   "execution_count": 4,
   "id": "07c9cb78-d0ba-4550-acf4-e34c9a295268",
   "metadata": {},
   "outputs": [
    {
     "name": "stdout",
     "output_type": "stream",
     "text": [
      "TimedeltaIndex(['0 days 00:00:00', '182 days 12:00:00', '365 days 00:00:00'], dtype='timedelta64[ns]', freq=None)\n"
     ]
    }
   ],
   "source": [
    "# 2. 중세 문서 작성: 중세 시대 문서 작성에 걸린 시간 표현하기\n",
    "\n",
    "import pandas as pd\n",
    "\n",
    "# 문서 작성 시작\n",
    "start = pd.Timedelta(days=0)\n",
    "\n",
    "# 문서 작성에 걸린 시간: 약 1년\n",
    "end = pd.Timedelta(days=365)\n",
    "\n",
    "# 문서 작성 기간 동안의 주요 시점\n",
    "document_creation = pd.timedelta_range(start=start, end=end, periods=3)\n",
    "print(document_creation)"
   ]
  },
  {
   "cell_type": "code",
   "execution_count": 6,
   "id": "0dcecf5b-e3f5-40a3-b550-564e6e3377e8",
   "metadata": {},
   "outputs": [
    {
     "name": "stdout",
     "output_type": "stream",
     "text": [
      "TimedeltaIndex(['0 days 00:00:00', '0 days 01:00:00', '0 days 02:00:00',\n",
      "                '0 days 03:00:00', '0 days 04:00:00', '0 days 05:00:00',\n",
      "                '0 days 06:00:00', '0 days 07:00:00', '0 days 08:00:00',\n",
      "                '0 days 09:00:00', '0 days 10:00:00', '0 days 11:00:00',\n",
      "                '0 days 12:00:00', '0 days 13:00:00', '0 days 14:00:00',\n",
      "                '0 days 15:00:00', '0 days 16:00:00', '0 days 17:00:00',\n",
      "                '0 days 18:00:00', '0 days 19:00:00', '0 days 20:00:00',\n",
      "                '0 days 21:00:00', '0 days 22:00:00', '0 days 23:00:00',\n",
      "                '1 days 00:00:00'],\n",
      "               dtype='timedelta64[ns]', freq='H')\n"
     ]
    }
   ],
   "source": [
    "# 3. 전투 기간: 중세 시대의 한 전투 기간을 timedelta로 표현하기\n",
    "import pandas as pd\n",
    "\n",
    "# 전투 시작\n",
    "start = pd.Timedelta(hours=0)\n",
    "\n",
    "# 전투 지속 시간: 24시간\n",
    "end = pd.Timedelta(hours=24)\n",
    "\n",
    "# 전투 기간 동안의 주요 시점\n",
    "battle_duration = pd.timedelta_range(start=start, end=end, freq='H')\n",
    "print(battle_duration)"
   ]
  },
  {
   "cell_type": "code",
   "execution_count": 8,
   "id": "cc6ae19a-52c4-419d-a699-2579d95ea4ef",
   "metadata": {},
   "outputs": [
    {
     "name": "stdout",
     "output_type": "stream",
     "text": [
      "TimedeltaIndex([  '0 days',   '7 days',  '14 days',  '21 days',  '28 days',\n",
      "                 '35 days',  '42 days',  '49 days',  '56 days',  '63 days',\n",
      "                 '70 days',  '77 days',  '84 days',  '91 days',  '98 days',\n",
      "                '105 days', '112 days', '119 days', '126 days', '133 days',\n",
      "                '140 days', '147 days', '154 days', '161 days', '168 days',\n",
      "                '175 days', '182 days'],\n",
      "               dtype='timedelta64[ns]', freq='7D')\n"
     ]
    }
   ],
   "source": [
    "# 4. 군사 훈련: 중세 기사의 군사 훈련 기간 표현하기\n",
    "\n",
    "'''\n",
    "import pandas as pd\n",
    "\n",
    "# 군사 훈련 시작\n",
    "start = pd.Timedelta(weeks=0)\n",
    "\n",
    "# 훈련 기간: 약 6개월\n",
    "end = pd.Timedelta(weeks=26)\n",
    "\n",
    "# 훈련 기간 동안의 주요 시점\n",
    "military_training = pd.timedelta_range(start=start, end=end, freq='W')\n",
    "print(military_training)\n",
    "'''\n",
    "\n",
    "import pandas as pd\n",
    "\n",
    "# 군사 훈련 시작\n",
    "start = pd.Timedelta(weeks=0)\n",
    "\n",
    "# 훈련 기간: 약 6개월\n",
    "end = pd.Timedelta(weeks=26)\n",
    "\n",
    "# 훈련 기간 동안의 주요 시점\n",
    "# 'W' 대신 '7D'를 사용하여 주간 간격 설정\n",
    "military_training = pd.timedelta_range(start=start, end=end, freq='7D')\n",
    "print(military_training)"
   ]
  },
  {
   "cell_type": "code",
   "execution_count": 12,
   "id": "0e252920-daa4-442c-aa0c-643d9521f038",
   "metadata": {},
   "outputs": [
    {
     "name": "stdout",
     "output_type": "stream",
     "text": [
      "추론된 빈도: 2Q-OCT\n"
     ]
    }
   ],
   "source": [
    "# 1. 성 건축 날짜: 중세 시대 성 건축에 소요된 시간의 빈도 추론하기\n",
    "\n",
    "import pandas as pd\n",
    "\n",
    "# 성 건축 날짜\n",
    "castle_dates = pd.date_range(start='1900-01-01', end='1902-12-31', freq='6M')\n",
    "\n",
    "#start='1300-01-01', end='1302-12-31'\n",
    "\n",
    "# 빈도 추론\n",
    "freq = pd.infer_freq(castle_dates)\n",
    "print(f\"추론된 빈도: {freq}\")"
   ]
  },
  {
   "cell_type": "code",
   "execution_count": 13,
   "id": "3d7f36ba-2cb0-4827-8c01-7f4ff872d579",
   "metadata": {},
   "outputs": [
    {
     "name": "stdout",
     "output_type": "stream",
     "text": [
      "추론된 빈도: 3A-DEC\n"
     ]
    }
   ],
   "source": [
    "# 2. 중세 문서 기록: 중세 문서가 기록된 날짜의 빈도 추론하기\n",
    "\n",
    "import pandas as pd\n",
    "\n",
    "# 문서 기록 날짜\n",
    "document_dates = pd.date_range(start='1900-03-01', periods=4, freq='3Y')\n",
    "\n",
    "#start='1200-03-01'\n",
    "\n",
    "# 빈도 추론\n",
    "freq = pd.infer_freq(document_dates)\n",
    "print(f\"추론된 빈도: {freq}\")"
   ]
  },
  {
   "cell_type": "code",
   "execution_count": 14,
   "id": "af5ba935-537c-4a85-a15f-3d6700e4369f",
   "metadata": {},
   "outputs": [
    {
     "name": "stdout",
     "output_type": "stream",
     "text": [
      "추론된 빈도: D\n"
     ]
    }
   ],
   "source": [
    "# 3. 전투 날짜: 중세 시대 전투가 일어난 날짜의 빈도 추론하기\n",
    "\n",
    "import pandas as pd\n",
    "\n",
    "# 전투 날짜\n",
    "battle_dates = pd.date_range(start='1950-07-01', end='1950-07-14', freq='D')\n",
    "#start='1450-07-01', end='1450-07-14'\n",
    "# 빈도 추론\n",
    "freq = pd.infer_freq(battle_dates)\n",
    "print(f\"추론된 빈도: {freq}\")"
   ]
  },
  {
   "cell_type": "code",
   "execution_count": 15,
   "id": "67355ff3-91bc-47a6-855f-919ffdda1093",
   "metadata": {},
   "outputs": [
    {
     "name": "stdout",
     "output_type": "stream",
     "text": [
      "추론된 빈도: W-SUN\n"
     ]
    }
   ],
   "source": [
    "# 4. 기사단 훈련 날짜: 중세 기사단의 훈련 날짜의 빈도 추론하기\n",
    "\n",
    "import pandas as pd\n",
    "\n",
    "# 기사단 훈련 날짜\n",
    "knight_training_dates = pd.date_range(start='1950-01-01', end='1950-04-01', freq='W')\n",
    "#start='1350-01-01', end='1350-04-01'\n",
    "\n",
    "# 빈도 추론\n",
    "freq = pd.infer_freq(knight_training_dates)\n",
    "print(f\"추론된 빈도: {freq}\")"
   ]
  },
  {
   "cell_type": "markdown",
   "id": "5ae981ab-305d-4513-8486-e253502c5bc4",
   "metadata": {},
   "source": [
    "## pandas.Timestamp\n",
    "- 날짜와 시간을 나타내는 객체입니다.\n",
    "- Python의 datetime.datetime과 유사하며, 시계열 데이터를 다룰 때 효과적입니다."
   ]
  },
  {
   "cell_type": "code",
   "execution_count": 16,
   "id": "bf8eebff-7602-4fe7-8136-0a852290cf71",
   "metadata": {},
   "outputs": [
    {
     "name": "stdout",
     "output_type": "stream",
     "text": [
      "IntervalIndex([], dtype='interval[datetime64[ns], right]')\n"
     ]
    }
   ],
   "source": [
    "# 1. 건축 기간: 중세 시대에 건축된 성의 건축 기간을 구간으로 표현하기\n",
    "\n",
    "import pandas as pd\n",
    "\n",
    "# 성 건축 기간을 연 단위로 표현하기 위해 Timestamp 객체 사용\n",
    "start = pd.Timestamp('1900-01-01')\n",
    "end = pd.Timestamp('1900-01-01')\n",
    "\n",
    "#start = pd.Timestamp('1200-01-01')\n",
    "#end = pd.Timestamp('1300-01-01')\n",
    "\n",
    "# 50년 간격의 IntervalRange 생성\n",
    "castle_construction_periods = pd.interval_range(start=start, end=end, freq='50Y')\n",
    "\n",
    "print(castle_construction_periods)"
   ]
  },
  {
   "cell_type": "code",
   "execution_count": 17,
   "id": "9ffd2721-8021-48a4-969e-b4262a34769f",
   "metadata": {},
   "outputs": [
    {
     "name": "stdout",
     "output_type": "stream",
     "text": [
      "IntervalIndex([(1800-12-31, 1810-12-31], (1810-12-31, 1820-12-31], (1820-12-31, 1830-12-31], (1830-12-31, 1840-12-31], (1840-12-31, 1850-12-31], (1850-12-31, 1860-12-31], (1860-12-31, 1870-12-31], (1870-12-31, 1880-12-31], (1880-12-31, 1890-12-31]], dtype='interval[datetime64[ns], right]')\n"
     ]
    }
   ],
   "source": [
    "# 1. 중세 문서 기록 기간: 다양한 중세 문서들이 기록된 시기를 구간으로 표현하기\n",
    "\n",
    "'''\n",
    "import pandas as pd\n",
    "​\n",
    "# 중세 문서 기록 기간을 10년 단위로 표현\n",
    "document_recording_periods = pd.interval_range(start=1100, end=1200, freq='10Y')\n",
    "​\n",
    "print(document_recording_periods)\n",
    "'''\n",
    "\n",
    "import pandas as pd\n",
    "\n",
    "# 중세 문서 기록 기간을 10년 단위로 표현하기 위해 Timestamp 객체 사용\n",
    "start = pd.Timestamp('1800-01-01')\n",
    "end = pd.Timestamp('1900-01-01')\n",
    "\n",
    "#start = pd.Timestamp('1200-01-01')\n",
    "#end = pd.Timestamp('1300-01-01')\n",
    "\n",
    "# 10년 간격의 IntervalRange 생성\n",
    "document_recording_periods = pd.interval_range(start=start, end=end, freq='10Y')\n",
    "\n",
    "print(document_recording_periods)"
   ]
  },
  {
   "cell_type": "code",
   "execution_count": 18,
   "id": "11fe8121-659b-4df5-bde9-e07f3fa1c1cb",
   "metadata": {},
   "outputs": [
    {
     "name": "stdout",
     "output_type": "stream",
     "text": [
      "탐험대 총 비용: 0    3000\n",
      "1    7500\n",
      "2    2400\n",
      "dtype: int64\n"
     ]
    }
   ],
   "source": [
    "# 1. 탐험대 비용 계산: 탐험대의 여정 비용 계산하기\n",
    "\n",
    "import pandas as pd\n",
    "\n",
    "# 탐험대 비용 데이터\n",
    "df = pd.DataFrame({'ships': [3, 5, 2], 'cost_per_ship': [1000, 1500, 1200]})\n",
    "total_cost = \"df.ships * df.cost_per_ship\"\n",
    "\n",
    "# 총 비용 계산\n",
    "result = pd.eval(total_cost)\n",
    "print(f\"탐험대 총 비용: {result}\")"
   ]
  },
  {
   "cell_type": "code",
   "execution_count": 19,
   "id": "e80c9572-ccdb-4969-832a-0fcfa428690a",
   "metadata": {},
   "outputs": [
    {
     "name": "stdout",
     "output_type": "stream",
     "text": [
      "금 가치 변화: 0   -20\n",
      "1   -20\n",
      "2   -20\n",
      "dtype: int64\n"
     ]
    }
   ],
   "source": [
    "# 2. 신대륙 발견으로 인한 금의 가치 변화: 신대륙 발견 후 금의 가치 변화 계산하기\n",
    "\n",
    "# write python code here import pandas as pd\n",
    "\n",
    "# 금의 가치 데이터\n",
    "gold_data = pd.DataFrame({'gold_before': [100, 200, 150], 'gold_after': [80, 180, 130]})\n",
    "value_change = \"gold_data.gold_after - gold_data.gold_before\"\n",
    "\n",
    "# 금 가치 변화 계산\n",
    "result = pd.eval(value_change)\n",
    "print(f\"금 가치 변화: {result}\")"
   ]
  },
  {
   "cell_type": "code",
   "execution_count": 20,
   "id": "158bdf36-0a58-4d22-9abd-9d3242a37f3b",
   "metadata": {},
   "outputs": [
    {
     "name": "stdout",
     "output_type": "stream",
     "text": [
      "교역품 가치 총합: 0    500\n",
      "1    750\n",
      "2    750\n",
      "dtype: int64\n"
     ]
    }
   ],
   "source": [
    "# 3. 교역품의 가치 총합: 대항해 시대 교역품의 가치 총합 계산하기\n",
    "\n",
    "import pandas as pd\n",
    "\n",
    "# 교역품 데이터\n",
    "trade_goods = pd.DataFrame({'spices': [300, 450, 500], 'silk': [200, 300, 250]})\n",
    "total_value = \"trade_goods.spices + trade_goods.silk\"\n",
    "\n",
    "# 교역품 가치 총합 계산\n",
    "result = pd.eval(total_value)\n",
    "print(f\"교역품 가치 총합: {result}\")"
   ]
  },
  {
   "cell_type": "code",
   "execution_count": 21,
   "id": "b5c60cf9-0180-4fcf-a04e-91fafcf027ba",
   "metadata": {},
   "outputs": [
    {
     "name": "stdout",
     "output_type": "stream",
     "text": [
      "전투 손실: 0    2\n",
      "1    3\n",
      "2    5\n",
      "dtype: int64\n"
     ]
    }
   ],
   "source": [
    "# 3. 전투에서의 손실: 대항해 시대 전투에서의 손실 계산하기\n",
    "\n",
    "import pandas as pd\n",
    "\n",
    "# 전투 손실 데이터\n",
    "battle_data = pd.DataFrame({'ships_start': [10, 15, 20], 'ships_end': [8, 12, 15]})\n",
    "losses = \"battle_data.ships_start - battle_data.ships_end\"\n",
    "\n",
    "# 전투 손실 계산\n",
    "result = pd.eval(losses)\n",
    "print(f\"전투 손실: {result}\")"
   ]
  },
  {
   "cell_type": "markdown",
   "id": "4d09f42f-9b8b-4378-bf69-cac9021350fa",
   "metadata": {},
   "source": [
    "## pandas.tseries.api.guess_datetime_format\n",
    "- 주어진 날짜와 시간 문자열에서 가능한 datetime 포맷을 추론합니다.\n",
    "- 이 함수는 일관되지 않거나 알려지지 않은 날짜 형식의 문자열을 처리할 때 유용하게 사용될 수 있습니다."
   ]
  },
  {
   "cell_type": "code",
   "execution_count": 22,
   "id": "f03e681b-6a18-4bb0-add9-53682a758c20",
   "metadata": {},
   "outputs": [
    {
     "data": {
      "text/plain": [
       "'\\n\\u200b\\nimport pandas as pd\\n\\u200b\\n# 콜럼버스의 신대륙 발견 날짜\\ncolumbus_discovery_date = \"12/10/1492\"\\n\\u200b\\n# datetime 포맷 추론\\ndate_format = pd.tseries.api.guess_datetime_format(columbus_discovery_date)\\nprint(f\"추론된 datetime 포맷: {date_format}\")\\n'"
      ]
     },
     "execution_count": 22,
     "metadata": {},
     "output_type": "execute_result"
    }
   ],
   "source": [
    "# 콜럼버스의 신대륙 발견: 콜럼버스가 신대륙을 발견한 날짜의 datetime 포맷 추론하기\n",
    "# 현재 버전 파이썬 버전 3.11.3\n",
    "\n",
    "'''\n",
    "import pandas as pd\n",
    "\n",
    "# 콜럼버스의 신대륙 발견 날짜\n",
    "columbus_discovery_date = \"12/10/1492\"\n",
    "\n",
    "# datetime 포맷 추론\n",
    "date_format = pd.tseries.api.guess_datetime_format(columbus_discovery_date)\n",
    "print(f\"추론된 datetime 포맷: {date_format}\")\n",
    "'''"
   ]
  },
  {
   "cell_type": "markdown",
   "id": "0fe1ba9b-29ae-477e-81da-1905c078dfcd",
   "metadata": {},
   "source": [
    "## pandas.util.hash_array\n",
    "- 배열의 값에 대한 해시 값을 계산합니다. \n",
    "- 이 함수는 데이터의 유일성 검사나 빠른 비교를 위해 유용하게 사용될 수 있습니다."
   ]
  },
  {
   "cell_type": "code",
   "execution_count": 23,
   "id": "aa3680eb-3190-4f57-97fb-ab892c56e146",
   "metadata": {},
   "outputs": [
    {
     "name": "stdout",
     "output_type": "stream",
     "text": [
      "항로 이름 해시 값: [ 9620757622534365278 12269458150978267685 13341645385739181903\n",
      " 16990423141895310416]\n"
     ]
    }
   ],
   "source": [
    "# 1. 주요 항로의 해시 값 계산: 대항해 시대 주요 항로 이름의 해시 값을 계산하기\n",
    "\n",
    "import pandas as pd\n",
    "import numpy as np\n",
    "\n",
    "# 주요 항로 이름\n",
    "routes = np.array(['Atlantic Route', 'Cape Route', 'Silk Road', 'Spice Route'])\n",
    "\n",
    "# 해시 값 계산\n",
    "hash_values = pd.util.hash_array(routes)\n",
    "print(f\"항로 이름 해시 값: {hash_values}\")"
   ]
  },
  {
   "cell_type": "code",
   "execution_count": 24,
   "id": "045b69d9-1d8b-41f9-96da-9d6d39b5282f",
   "metadata": {},
   "outputs": [
    {
     "name": "stdout",
     "output_type": "stream",
     "text": [
      "탐험가 이름 해시 값: [ 6776023315326279901  1193597354698626800 12761465110707033658\n",
      " 13711978492471422366]\n"
     ]
    }
   ],
   "source": [
    "# 2. 탐험가 이름의 해시 값 계산: 대항해 시대 탐험가 이름의 해시 값을 계산하기\n",
    "import pandas as pd\n",
    "import numpy as np\n",
    "\n",
    "# 탐험가 이름\n",
    "explorers = np.array(['Vasco da Gama', 'Christopher Columbus', 'Marco Polo', 'Ferdinand Magellan'])\n",
    "\n",
    "# 해시 값 계산\n",
    "hash_values = pd.util.hash_array(explorers)\n",
    "print(f\"탐험가 이름 해시 값: {hash_values}\")"
   ]
  },
  {
   "cell_type": "code",
   "execution_count": 25,
   "id": "9c909c22-cb66-4624-9cee-df2a5ece579c",
   "metadata": {},
   "outputs": [
    {
     "name": "stdout",
     "output_type": "stream",
     "text": [
      "교역품 목록 해시 값: [11058918359816411079 16575584968463966011 15240394364393670202\n",
      " 14049370182206277919]\n"
     ]
    }
   ],
   "source": [
    "# 3. 교역품 목록의 해시 값 계산: 대항해 시대 교역품 목록의 해시 값을 계산하기\n",
    "import pandas as pd\n",
    "import numpy as np\n",
    "\n",
    "# 교역품 목록\n",
    "goods = np.array(['Spices', 'Silk', 'Gold', 'Porcelain'])\n",
    "\n",
    "# 해시 값 계산\n",
    "hash_values = pd.util.hash_array(goods)\n",
    "print(f\"교역품 목록 해시 값: {hash_values}\")"
   ]
  },
  {
   "cell_type": "code",
   "execution_count": 26,
   "id": "88ae8733-5039-41bb-be8c-6d0eb717cf7e",
   "metadata": {},
   "outputs": [
    {
     "name": "stdout",
     "output_type": "stream",
     "text": [
      "전투 이름 해시 값: [13354558233855539999  7689292640034937058  5699336577240804952\n",
      "  5373417335233728262]\n"
     ]
    }
   ],
   "source": [
    "# 4. 전투 이름의 해시 값 계산: 대항해 시대 전투 이름의 해시 값을 계산하기\n",
    "import pandas as pd\n",
    "import numpy as np\n",
    "\n",
    "# 전투 이름\n",
    "battles = np.array(['Battle of Diu', 'Battle of Preveza', 'Battle of Lepanto', 'Siege of Malta'])\n",
    "\n",
    "# 해시 값 계산\n",
    "hash_values = pd.util.hash_array(battles)\n",
    "print(f\"전투 이름 해시 값: {hash_values}\")"
   ]
  },
  {
   "cell_type": "markdown",
   "id": "fe345d43-6df2-4c72-9c77-a4bd845c9258",
   "metadata": {},
   "source": [
    "## pandas.util.hash_pandas_object\n",
    "- pandas 객체(예: Series, DataFrame의 열)의 값에 대한 해시 값을 계산합니다.\n",
    "- 함수는 데이터의 유일성 검사나 빠른 비교를 위해 사용될 수 있습니다."
   ]
  },
  {
   "cell_type": "code",
   "execution_count": 31,
   "id": "7562b3b8-c207-450d-b2ca-fcb85c730497",
   "metadata": {},
   "outputs": [
    {
     "name": "stdout",
     "output_type": "stream",
     "text": [
      "교역품 목록 해시 값:\n",
      "0    13108899374202969118\n",
      "1     4249112924938115343\n",
      "2    17250903437627488943\n",
      "3    15731078277626775318\n",
      "dtype: uint64\n"
     ]
    }
   ],
   "source": [
    "# 1. 교역품의 해시 값 계산: 대항해 시대 교역품 목록의 해시 값을 계산하기\n",
    "\n",
    "import pandas as pd\n",
    "\n",
    "# 교역품 목록\n",
    "goods = pd.Series(['Spices', 'Silk', 'Gold', 'Porcelain'])\n",
    "\n",
    "# 해시 값 계산\n",
    "hash_values = pd.util.hash_pandas_object(goods)\n",
    "print(f\"교역품 목록 해시 값:\\n{hash_values}\")"
   ]
  },
  {
   "cell_type": "code",
   "execution_count": 30,
   "id": "04c3d1af-6b4b-46cb-a722-318e5d443ef4",
   "metadata": {},
   "outputs": [
    {
     "name": "stdout",
     "output_type": "stream",
     "text": [
      "탐험가 목록 해시 값:\n",
      "0     3661179251452485420\n",
      "1     5145764961580468382\n",
      "2    13545779338714630831\n",
      "3    15298719028237241465\n",
      "dtype: uint64\n"
     ]
    }
   ],
   "source": [
    "# 2. 탐험가의 해시 값 계산: 대항해 시대 탐험가 목록의 해시 값을 계산하기\n",
    "\n",
    "import pandas as pd\n",
    "\n",
    "# 탐험가 목록\n",
    "explorers = pd.Series(['Vasco da Gama', 'Christopher Columbus', 'Marco Polo', 'Ferdinand Magellan'])\n",
    "\n",
    "# 해시 값 계산\n",
    "hash_values = pd.util.hash_pandas_object(explorers)\n",
    "print(f\"탐험가 목록 해시 값:\\n{hash_values}\")"
   ]
  },
  {
   "cell_type": "code",
   "execution_count": 32,
   "id": "c5998b92-ed9c-44c5-b710-aa6c17b53fdf",
   "metadata": {},
   "outputs": [
    {
     "name": "stdout",
     "output_type": "stream",
     "text": [
      "항로 이름 해시 값:\n",
      "0    12887631511205692489\n",
      "1    12655522289825976457\n",
      "2    13132171028282894956\n",
      "3    16981856326720500083\n",
      "dtype: uint64\n"
     ]
    }
   ],
   "source": [
    "# 3. 항로의 해시 값 계산: 대항해 시대 주요 항로 이름의 해시 값을 계산하기\n",
    "\n",
    "import pandas as pd\n",
    "\n",
    "# 항로 이름\n",
    "routes = pd.Series(['Atlantic Route', 'Cape Route', 'Silk Road', 'Spice Route'])\n",
    "\n",
    "# 해시 값 계산\n",
    "hash_values = pd.util.hash_pandas_object(routes)\n",
    "print(f\"항로 이름 해시 값:\\n{hash_values}\")"
   ]
  },
  {
   "cell_type": "code",
   "execution_count": 33,
   "id": "a00153f9-19e8-4b2f-9fc5-e2a2a4921685",
   "metadata": {},
   "outputs": [
    {
     "name": "stdout",
     "output_type": "stream",
     "text": [
      "전투 명칭 해시 값:\n",
      "0    15400158274269846054\n",
      "1     5918872047286612016\n",
      "2    10397730306157482577\n",
      "3     5965988932843797553\n",
      "dtype: uint64\n"
     ]
    }
   ],
   "source": [
    "# 4. 전투의 해시 값 계산: 대항해 시대 주요 전투 명칭의 해시 값을 계산하기\n",
    "\n",
    "import pandas as pd\n",
    "\n",
    "# 전투 명칭\n",
    "battles = pd.Series(['Battle of Diu', 'Battle of Preveza', 'Battle of Lepanto', 'Siege of Malta'])\n",
    "\n",
    "# 해시 값 계산\n",
    "hash_values = pd.util.hash_pandas_object(battles)\n",
    "print(f\"전투 명칭 해시 값:\\n{hash_values}\")\n"
   ]
  },
  {
   "cell_type": "markdown",
   "id": "ba214810-0334-4675-99a3-b2371d3c062d",
   "metadata": {},
   "source": [
    "## pandas.api.interchange.from_dataframe\n",
    "- pandas DataFrame을 다른 라이브러리에서 사용할 수 있는 interchange 포맷으로 변환합니다. \n",
    "- 이를 통해 pandas 데이터 구조를 다른 데이터 분석 툴과 호환되는 형태로 쉽게 변환할 수 있습니다."
   ]
  },
  {
   "cell_type": "code",
   "execution_count": 38,
   "id": "b3121ee9-9a09-41a3-858e-3c9f995dfb90",
   "metadata": {},
   "outputs": [
    {
     "name": "stdout",
     "output_type": "stream",
     "text": [
      "       Goods  Price\n",
      "0     Spices    100\n",
      "1       Silk    200\n",
      "2       Gold    300\n",
      "3  Porcelain    400\n"
     ]
    }
   ],
   "source": [
    "# 1. 교역품 데이터 변환: 대항해 시대의 교역품 목록과 가격을 DataFrame에서 interchange 포맷으로 변환하기\n",
    "import pandas as pd\n",
    "from pandas.api.interchange import from_dataframe\n",
    "\n",
    "# 교역품 데이터 생성\n",
    "trade_goods_df = pd.DataFrame({\n",
    "    'Goods': ['Spices', 'Silk', 'Gold', 'Porcelain'],\n",
    "    'Price': [100, 200, 300, 400]\n",
    "})\n",
    "\n",
    "# interchange 포맷으로 변환\n",
    "trade_goods_interchange = from_dataframe(trade_goods_df)\n",
    "\n",
    "print(trade_goods_interchange)"
   ]
  },
  {
   "cell_type": "code",
   "execution_count": 37,
   "id": "61db07ef-38a1-4855-ab30-2cf99b53e20e",
   "metadata": {},
   "outputs": [
    {
     "name": "stdout",
     "output_type": "stream",
     "text": [
      "               Explorer                        Discovery\n",
      "0         Vasco da Gama               Sea route to India\n",
      "1  Christopher Columbus                         Americas\n",
      "2    Ferdinand Magellan  First circumnavigation of Earth\n"
     ]
    }
   ],
   "source": [
    "# 2. 탐험가 데이터 변환: 대항해 시대 탐험가들과 그들의 주요 발견을 DataFrame에서 interchange 포맷으로 변환하기\n",
    "import pandas as pd\n",
    "from pandas.api.interchange import from_dataframe\n",
    "\n",
    "# 탐험가 데이터 생성\n",
    "explorers_df = pd.DataFrame({\n",
    "    'Explorer': ['Vasco da Gama', 'Christopher Columbus', 'Ferdinand Magellan'],\n",
    "    'Discovery': ['Sea route to India', 'Americas', 'First circumnavigation of Earth']\n",
    "})\n",
    "\n",
    "# interchange 포맷으로 변환\n",
    "explorers_interchange = from_dataframe(explorers_df)\n",
    "\n",
    "print(explorers_interchange)"
   ]
  },
  {
   "cell_type": "code",
   "execution_count": 36,
   "id": "01eb13ac-154d-430f-9a9b-f0fc666089ba",
   "metadata": {},
   "outputs": [
    {
     "name": "stdout",
     "output_type": "stream",
     "text": [
      "              Battle               Result\n",
      "0      Battle of Diu   Portuguese victory\n",
      "1  Battle of Preveza      Ottoman victory\n",
      "2  Battle of Lepanto  Holy League victory\n"
     ]
    }
   ],
   "source": [
    "# 3. 전투 데이터 변환: 대항해 시대 주요 전투와 그 결과를 DataFrame에서 interchange 포맷으로 변환하기\n",
    "import pandas as pd\n",
    "from pandas.api.interchange import from_dataframe\n",
    "\n",
    "# 전투 데이터 생성\n",
    "battles_df = pd.DataFrame({\n",
    "    'Battle': ['Battle of Diu', 'Battle of Preveza', 'Battle of Lepanto'],\n",
    "    'Result': ['Portuguese victory', 'Ottoman victory', 'Holy League victory']\n",
    "})\n",
    "\n",
    "# interchange 포맷으로 변환\n",
    "battles_interchange = from_dataframe(battles_df)\n",
    "\n",
    "print(battles_interchange)"
   ]
  },
  {
   "cell_type": "code",
   "execution_count": null,
   "id": "87979c06-08b6-4bbc-bcab-33bfadc5f549",
   "metadata": {},
   "outputs": [],
   "source": []
  }
 ],
 "metadata": {
  "kernelspec": {
   "display_name": "Python 3 (ipykernel)",
   "language": "python",
   "name": "python3"
  },
  "language_info": {
   "codemirror_mode": {
    "name": "ipython",
    "version": 3
   },
   "file_extension": ".py",
   "mimetype": "text/x-python",
   "name": "python",
   "nbconvert_exporter": "python",
   "pygments_lexer": "ipython3",
   "version": "3.10.9"
  }
 },
 "nbformat": 4,
 "nbformat_minor": 5
}
