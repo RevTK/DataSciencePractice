{
 "cells": [
  {
   "cell_type": "markdown",
   "id": "9b93115c-86dd-40e1-8f17-d5f5c3bbecf1",
   "metadata": {},
   "source": [
    "# 판다스와 유럽 역사 알기1-12\n",
    "\n",
    "- 12_\n",
    "- https://www.dacon.io/edu/131"
   ]
  },
  {
   "cell_type": "markdown",
   "id": "b1c9a12a-6401-406d-a5dd-10e23674c218",
   "metadata": {},
   "source": [
    "## Series.all 메서드\n",
    "```Series의 모든 요소가 True인지(또는 필요한 경우 비어 있는지)를 평가합니다. 이는 특정 조건이 전체 Series에 대해 만족하는지 여부를 확인할 때 유용합니다.```"
   ]
  },
  {
   "cell_type": "code",
   "execution_count": 2,
   "id": "cd655fa3-b566-46aa-af0c-600db61c4e9a",
   "metadata": {},
   "outputs": [
    {
     "name": "stdout",
     "output_type": "stream",
     "text": [
      "로마가 모든 포에니 전쟁에서 승리했는가? 🏛️: True\n"
     ]
    }
   ],
   "source": [
    "# 예제 1: 포에니 전쟁 중 로마의 승리 여부 확인하기\n",
    "import pandas as pd\n",
    "\n",
    "# 포에니 전쟁에서 로마의 승리 여부\n",
    "punic_wars_victories = pd.Series([True, True, True], \n",
    "                                  index=['제1차 포에니 전쟁', '제2차 포에니 전쟁', '제3차 포에니 전쟁'])\n",
    "\n",
    "# 로마가 모든 포에니 전쟁에서 승리했는지 확인\n",
    "all_victories = punic_wars_victories.all()\n",
    "print(f\"로마가 모든 포에니 전쟁에서 승리했는가? 🏛️: {all_victories}\")"
   ]
  },
  {
   "cell_type": "code",
   "execution_count": 3,
   "id": "665b8eb5-5e4e-4942-b52e-29f1e21626e4",
   "metadata": {},
   "outputs": [
    {
     "name": "stdout",
     "output_type": "stream",
     "text": [
      "불리언 값만 고려할 때, 로마가 갈리아 전투에서 승리했는가? ⚔️: True\n"
     ]
    }
   ],
   "source": [
    "# 예제 2: 갈리아 전쟁 중 일부 전투의 승리 여부 (불리언 이외 값 포함)\n",
    "\n",
    "import pandas as pd\n",
    "\n",
    "# 갈리아 전쟁 중 일부 전투에서 로마의 승리 여부 (불리언 이외의 값 포함)\n",
    "gallic_wars_victories = pd.Series([True, '미정', True, False, '미정'], \n",
    "                                  index=['아레시아 전투', '게르고비아 전투', '사비스 강 전투', '루투니아 전투', '알레시아 포위전'])\n",
    "\n",
    "# 불리언 값만 고려하여 로마가 전투에서 승리했는지 확인\n",
    "bool_only_victories = gallic_wars_victories[gallic_wars_victories == True].all()\n",
    "print(f\"불리언 값만 고려할 때, 로마가 갈리아 전투에서 승리했는가? ⚔️: {bool_only_victories}\")"
   ]
  },
  {
   "cell_type": "markdown",
   "id": "90f1294e-a9ad-4d7f-b37b-ff4a19ed2115",
   "metadata": {},
   "source": [
    "### Series.any 메서드는\n",
    "---\n",
    "Series의 어떤 요소라도 True인지를 평가합니다. 이는 특정 조건이 전체 Series 중 하나라도 만족하는지 여부를 확인할 때 유용합니다."
   ]
  },
  {
   "cell_type": "code",
   "execution_count": 4,
   "id": "8277a218-4f14-4e08-9e1b-119881b96ba1",
   "metadata": {},
   "outputs": [
    {
     "name": "stdout",
     "output_type": "stream",
     "text": [
      "로마가 포에니 전쟁 중 어떤 전쟁에서라도 승리했는가? 🏛️: True\n"
     ]
    }
   ],
   "source": [
    "# 예제 1: 포에니 전쟁 중 로마의 어떤 승리 확인하기\n",
    "\n",
    "import pandas as pd\n",
    "\n",
    "# 포에니 전쟁에서 로마의 승리 여부\n",
    "punic_wars_victories = pd.Series([False, True, False], \n",
    "                                  index=['제1차 포에니 전쟁', '제2차 포에니 전쟁', '제3차 포에니 전쟁'])\n",
    "\n",
    "# 로마가 포에니 전쟁 중 어떤 전쟁에서라도 승리했는지 확인\n",
    "any_victory = punic_wars_victories.any()\n",
    "print(f\"로마가 포에니 전쟁 중 어떤 전쟁에서라도 승리했는가? 🏛️: {any_victory}\")"
   ]
  },
  {
   "cell_type": "code",
   "execution_count": 5,
   "id": "3cd904b0-123f-4161-acae-ea27cb34b78a",
   "metadata": {},
   "outputs": [
    {
     "name": "stdout",
     "output_type": "stream",
     "text": [
      "불리언 값만 고려할 때, 로마가 갈리아 전투 중 하나에서라도 승리했는가? ⚔️: True\n"
     ]
    }
   ],
   "source": [
    "# 예제 2: 갈리아 전쟁 중 일부 전투의 승리 여부 (불리언 이외 값 포함)\n",
    "\n",
    "import pandas as pd\n",
    "\n",
    "# 갈리아 전쟁 중 일부 전투에서 로마의 승리 여부 (불리언 이외의 값 포함)\n",
    "gallic_wars_victories = pd.Series([False, '미정', False, True, '미정'], \n",
    "                                  index=['아레시아 전투', '게르고비아 전투', '사비스 강 전투', '루투니아 전투', '알레시아 포위전'])\n",
    "\n",
    "# 불리언 값만 고려하여 로마가 전투 중 하나에서라도 승리했는지 확인\n",
    "bool_only_any_victory = any(gallic_wars_victories == True)\n",
    "print(f\"불리언 값만 고려할 때, 로마가 갈리아 전투 중 하나에서라도 승리했는가? ⚔️: {bool_only_any_victory}\")"
   ]
  },
  {
   "cell_type": "code",
   "execution_count": null,
   "id": "15c69daa-2e40-49fc-ad43-aa8ac71563bd",
   "metadata": {},
   "outputs": [],
   "source": [
    "Series.autocorr(lag=1) 메서드는\n",
    "시계열 데이터 내에서 지정된 지연(lag)에 대한 자기상관(autocorrelation) 값을 계산합니다."
   ]
  },
  {
   "cell_type": "code",
   "execution_count": 6,
   "id": "de192f0b-aa24-4bc9-a82a-9e4560e99cc3",
   "metadata": {},
   "outputs": [
    {
     "name": "stdout",
     "output_type": "stream",
     "text": [
      "기하학적 수열의 첫 번째 지연에서의 자기상관: 1.00\n"
     ]
    }
   ],
   "source": [
    "'''\n",
    "예제 1: 기하학적 수열의 자기상관 📐\n",
    "기하학적 수열을 생성하고 첫 번째 지연(lag=1)에서의 자기상관을 계산합니다.\n",
    "'''\n",
    "\n",
    "import pandas as pd\n",
    "import numpy as np\n",
    "\n",
    "# 기하학적 수열 생성\n",
    "geometric_sequence = np.array([0.5**x for x in range(10)])\n",
    "series = pd.Series(geometric_sequence)\n",
    "\n",
    "# 자기상관 계산\n",
    "autocorr_lag1 = series.autocorr(lag=1)\n",
    "\n",
    "print(f\"기하학적 수열의 첫 번째 지연에서의 자기상관: {autocorr_lag1:.2f}\")"
   ]
  },
  {
   "cell_type": "code",
   "execution_count": 7,
   "id": "7057b999-0428-44aa-92b2-86a1cf2a0a94",
   "metadata": {},
   "outputs": [
    {
     "name": "stdout",
     "output_type": "stream",
     "text": [
      "지연 1에서의 자기상관: 0.54\n",
      "지연 2에서의 자기상관: -0.33\n",
      "지연 3에서의 자기상관: -0.99\n"
     ]
    }
   ],
   "source": [
    "'''\n",
    "예제 2: 철학적 사유와 숫자의 관계를 탐색하는 자기상관 🤔\n",
    "스토아 철학에서 중요시하는 균형과 조화를 숫자로 표현한 후, 그 자기상관을 분석합니다\n",
    "'''\n",
    "\n",
    "import pandas as pd\n",
    "import numpy as np\n",
    "\n",
    "# 조화로운 숫자 시퀀스 생성\n",
    "harmonious_sequence = np.array([np.sin(x) for x in range(10)])\n",
    "series = pd.Series(harmonious_sequence)\n",
    "\n",
    "# 다양한 지연에서의 자기상관 계산\n",
    "for lag in range(1, 4):\n",
    "    autocorr = series.autocorr(lag=lag)\n",
    "    print(f\"지연 {lag}에서의 자기상관: {autocorr:.2f}\")"
   ]
  },
  {
   "cell_type": "markdown",
   "id": "7336ba6b-184b-4f2d-9fdf-fa9fb540607a",
   "metadata": {
    "tags": []
   },
   "source": [
    "### ```pandas.Series.between``` 메서드\n",
    "---\n",
    "시리즈의 각 요소가 두 값 사이에 있는지 여부를 나타내는 부울 시리즈를 반환합니다. 이 메서드는 주어진 두 경계값 사이에 있는 데이터를 필터링할 때 유용합니다."
   ]
  },
  {
   "cell_type": "code",
   "execution_count": 10,
   "id": "c2e7a761-55f5-402d-b7a0-4441fe8cf34f",
   "metadata": {},
   "outputs": [
    {
     "name": "stdout",
     "output_type": "stream",
     "text": [
      "3과 21 사이의 숫자: \n",
      "2     3\n",
      "3     5\n",
      "4     8\n",
      "5    13\n",
      "6    21\n",
      "dtype: int64\n"
     ]
    }
   ],
   "source": [
    "'''\n",
    "예제 1: 수학적 조화를 찾는 시리즈 📏\n",
    "로마 시대의 비율과 균형의 개념을 반영하여, 특정 범위 내에 있는 숫자들을 필터링합니다.\n",
    "'''\n",
    "\n",
    "import pandas as pd\n",
    "\n",
    "# 수학적 조화를 나타내는 시리즈 생성\n",
    "harmonious_numbers = pd.Series([1, 2, 3, 5, 8, 13, 21, 34, 55])\n",
    "\n",
    "# 3과 21 사이의 숫자 필터링\n",
    "filtered_series = harmonious_numbers.between(3, 21)\n",
    "\n",
    "print(f\"3과 21 사이의 숫자: \\n{harmonious_numbers[filtered_series]}\")"
   ]
  },
  {
   "cell_type": "code",
   "execution_count": 9,
   "id": "4f0402bb-d7e8-450e-8481-f68ebd43a17a",
   "metadata": {},
   "outputs": [
    {
     "name": "stdout",
     "output_type": "stream",
     "text": [
      "조화로운 시간대(오전 6시부터 오후 6시까지): \n",
      "7      7\n",
      "8      8\n",
      "9      9\n",
      "10    10\n",
      "11    11\n",
      "12    12\n",
      "13    13\n",
      "14    14\n",
      "15    15\n",
      "16    16\n",
      "17    17\n",
      "dtype: int64\n"
     ]
    },
    {
     "name": "stderr",
     "output_type": "stream",
     "text": [
      "C:\\Users\\kamir\\AppData\\Local\\Temp\\ipykernel_23096\\401632680.py:12: FutureWarning: Boolean inputs to the `inclusive` argument are deprecated in favour of `both` or `neither`.\n",
      "  harmonious_hours = day_hours.between(6, 18, inclusive=False)\n"
     ]
    }
   ],
   "source": [
    "'''\n",
    "예제 2: 철학적 사유를 통한 시간의 조화 🕰️\n",
    "스토아 철학에서 중요시하는 자연과의 조화를 반영하여, 시간(시간대를 나타내는 숫자)에 따른 특정 시간대를 필터링합니다.\n",
    "'''\n",
    "\n",
    "import pandas as pd\n",
    "\n",
    "# 하루의 시간을 나타내는 시리즈 생성\n",
    "day_hours = pd.Series(range(24))\n",
    "\n",
    "# 철학적 사유에 따라 조화로운 시간대(오전 6시부터 오후 6시까지) 필터링\n",
    "harmonious_hours = day_hours.between(6, 18, inclusive=False)\n",
    "\n",
    "print(f\"조화로운 시간대(오전 6시부터 오후 6시까지): \\n{day_hours[harmonious_hours]}\")"
   ]
  },
  {
   "cell_type": "markdown",
   "id": "a1c92866-44af-413d-b04c-74816c1f4b18",
   "metadata": {},
   "source": [
    "## pandas.Series.clip 메서드는\n",
    "시리즈의 값을 지정된 최소값과 최대값 사이로 제한(clip)합니다. 이 메서드는 이상치를 처리하거나 데이터의 범위를 특정 값으로 제한할 때 유용합니다."
   ]
  },
  {
   "cell_type": "code",
   "execution_count": 18,
   "id": "027e2e53-5622-4d26-b8bc-8cb4fc9d70fe",
   "metadata": {},
   "outputs": [
    {
     "name": "stdout",
     "output_type": "stream",
     "text": [
      "조화롭게 제한된 데이터: \n",
      "0     0\n",
      "1     2\n",
      "2     3\n",
      "3    18\n",
      "4    20\n",
      "5    20\n",
      "dtype: int64\n"
     ]
    }
   ],
   "source": [
    "'''\n",
    "예제 1: 조화롭게 제한된 데이터 시리즈 🌿\n",
    "로마 시대의 조화와 균형의 개념을 반영하여, 시리즈의 값들을 특정한 범위 내로 제한합니다.\n",
    "'''\n",
    "\n",
    "import pandas as pd\n",
    "\n",
    "# 조화롭게 분포된 데이터 시리즈 생성\n",
    "data_series = pd.Series([-5, 2, 3, 18, 25, 32])\n",
    "\n",
    "# 값들을 0과 20 사이로 제한\n",
    "clipped_series = data_series.clip(lower=0, upper=20)\n",
    "\n",
    "print(f\"조화롭게 제한된 데이터: \\n{clipped_series}\")"
   ]
  },
  {
   "cell_type": "code",
   "execution_count": 17,
   "id": "0ee9a047-57e2-4bfd-86b4-5d6576884c4f",
   "metadata": {},
   "outputs": [
    {
     "name": "stdout",
     "output_type": "stream",
     "text": [
      "규율을 적용한 데이터: \n",
      "0    25\n",
      "1    25\n",
      "2    30\n",
      "3    40\n",
      "4    75\n",
      "5    75\n",
      "dtype: int64\n"
     ]
    }
   ],
   "source": [
    "'''\n",
    "예제 2: 규율을 적용한 데이터 시리즈 📏\n",
    "로마의 규율과 질서의 개념을 적용하여, 데이터의 최소값을 상향 조정하고 최대값을 하향 조정합니다.\n",
    "'''\n",
    "\n",
    "import pandas as pd\n",
    "\n",
    "# 다양한 범위의 데이터를 가진 시리즈 생성\n",
    "diverse_series = pd.Series([10, 20, 30, 40, 100, 200])\n",
    "\n",
    "# 데이터를 25와 75 사이로 제한\n",
    "regulated_series = diverse_series.clip(lower=25, upper=75)\n",
    "\n",
    "print(f\"규율을 적용한 데이터: \\n{regulated_series}\")\n"
   ]
  },
  {
   "cell_type": "markdown",
   "id": "73e9e14e-cee7-4ba7-82f8-624dbfd21c29",
   "metadata": {},
   "source": [
    "## pandas.Series.corr 메서드\n",
    "두 시리즈 간의 상관계수를 계산합니다. 상관계수는 두 변수 간의 선형 관계의 강도와 방향을 나타내며, 이 값은 -1과 1 사이에 있습니다."
   ]
  },
  {
   "cell_type": "code",
   "execution_count": 16,
   "id": "4d962179-19ea-49ff-aba3-eee58fc6daee",
   "metadata": {},
   "outputs": [
    {
     "name": "stdout",
     "output_type": "stream",
     "text": [
      "일조량과 식물의 성장 속도 사이의 상관관계: 1.00\n"
     ]
    }
   ],
   "source": [
    "'''\n",
    "예제 1: 자연의 조화를 탐구하는 상관관계 분석 🌿\n",
    "자연에서 관찰할 수 있는 두 가지 현상 간의 상관관계를 탐구합니다.\n",
    "'''\n",
    "\n",
    "import pandas as pd\n",
    "import numpy as np\n",
    "\n",
    "# 일조량과 식물의 성장 속도를 나타내는 시리즈 생성\n",
    "sunlight = pd.Series([5, 6, 7, 8, 9, 10])\n",
    "growth_rate = pd.Series([3, 4, 5, 6, 7, 8])\n",
    "\n",
    "# 피어슨 상관계수를 사용하여 상관관계 분석\n",
    "correlation = sunlight.corr(growth_rate)\n",
    "\n",
    "print(f\"일조량과 식물의 성장 속도 사이의 상관관계: {correlation:.2f}\")"
   ]
  },
  {
   "cell_type": "code",
   "execution_count": 15,
   "id": "f7bb3602-5afe-4916-9cc2-ad9f0a69d27f",
   "metadata": {},
   "outputs": [
    {
     "name": "stdout",
     "output_type": "stream",
     "text": [
      "자기 통제와 긍정적인 결과 사이의 상관관계: 0.97\n"
     ]
    }
   ],
   "source": [
    "'''\n",
    "예제 2: 철학적 사유와 행동의 상관관계 분석 🤔\n",
    "스토아 철학에서 중요시하는 자기 통제와 긍정적인 결과 간의 관계를 분석합니다.\n",
    "'''\n",
    "\n",
    "import pandas as pd\n",
    "import numpy as np\n",
    "\n",
    "# 자기 통제 점수와 긍정적인 결과의 발생 빈도를 나타내는 시리즈 생성\n",
    "self_control = pd.Series([1, 2, 3, 4, 5, 6])\n",
    "positive_outcomes = pd.Series([2, 2, 3, 4, 5, 5])\n",
    "\n",
    "# 스피어만 상관계수를 사용하여 상관관계 분석\n",
    "correlation = self_control.corr(positive_outcomes, method='spearman')\n",
    "\n",
    "print(f\"자기 통제와 긍정적인 결과 사이의 상관관계: {correlation:.2f}\")"
   ]
  },
  {
   "cell_type": "markdown",
   "id": "4fa48a9d-daea-4ed9-aa5a-eccd18ee4284",
   "metadata": {},
   "source": [
    "## pandas.Series.count 메서드\n",
    "시리즈에서 NA/null이 아닌 값의 수를 반환합니다. 이 메서드는 데이터 내의 유효한 값의 개수를 알고 싶을 때 유용합니다."
   ]
  },
  {
   "cell_type": "code",
   "execution_count": 14,
   "id": "550ff5a3-3b55-4f37-9f40-32523e978dc9",
   "metadata": {},
   "outputs": [
    {
     "name": "stdout",
     "output_type": "stream",
     "text": [
      "고대 로마 건축에서 사용된 유효한 재료의 수: 5\n"
     ]
    }
   ],
   "source": [
    "'''\n",
    "예제 1: 고대 건축에서의 구조적 완전성 탐구 🏛️\n",
    "고대 로마 건축에서 사용된 다양한 재료의 수를 계산하여 구조적 완전성을 탐구합니다.\n",
    "'''\n",
    "\n",
    "import pandas as pd\n",
    "\n",
    "# 고대 로마 건축 재료 목록 (일부 재료는 누락될 수 있음)\n",
    "materials = pd.Series(['Marble', 'Concrete', 'Brick', None, 'Wood', None, 'Stucco'])\n",
    "\n",
    "# NA/null이 아닌 재료의 수 계산\n",
    "valid_materials_count = materials.count()\n",
    "\n",
    "print(f\"고대 로마 건축에서 사용된 유효한 재료의 수: {valid_materials_count}\")"
   ]
  },
  {
   "cell_type": "code",
   "execution_count": 13,
   "id": "ebc26bbc-4ab4-4ed8-8d0b-47faf82a0ec8",
   "metadata": {},
   "outputs": [
    {
     "name": "stdout",
     "output_type": "stream",
     "text": [
      "스토아 철학에 따른 일상 행동 중 유효한 행동의 수: 4\n"
     ]
    }
   ],
   "source": [
    "'''\n",
    "예제 2: 스토아 철학과 일상 행동의 조화 📚\n",
    "스토아 철학에서 중요시하는 일상 행동들의 조화를 이해하기 위해 다양한 행동들의 목록에서 유효한 행동의 수를 계산합니다.\n",
    "'''\n",
    "\n",
    "import pandas as pd\n",
    "\n",
    "# 일상 행동 목록 (일부 행동은 기록되지 않았을 수 있음)\n",
    "daily_actions = pd.Series(['Meditation', None, 'Reading', 'Exercise', None, 'Journaling'])\n",
    "\n",
    "# NA/null이 아닌 행동의 수 계산\n",
    "valid_actions_count = daily_actions.count()\n",
    "\n",
    "print(f\"스토아 철학에 따른 일상 행동 중 유효한 행동의 수: {valid_actions_count}\")"
   ]
  },
  {
   "cell_type": "markdown",
   "id": "e380e289-11dc-426b-a694-f5b73f8a029e",
   "metadata": {},
   "source": [
    "## pandas.Series.cov 메서드\n",
    "두 시리즈 간의 공분산을 계산합니다. 공분산은 두 변수 간의 상호 변동성을 측정하는 값으로, 변수들이 함께 변하는 경향을 나타냅니다."
   ]
  },
  {
   "cell_type": "code",
   "execution_count": 12,
   "id": "570481ae-7658-4441-831b-98e46cbd1999",
   "metadata": {},
   "outputs": [
    {
     "name": "stdout",
     "output_type": "stream",
     "text": [
      "경제 지표와 농업 생산성 지표 간의 공분산: 58.00\n"
     ]
    }
   ],
   "source": [
    "'''\n",
    "예제 1: 경제와 농업 생산성의 상호 연관성 분석 🌾💰\n",
    "로마 시대의 경제와 농업 생산성 간의 상호 연관성을 분석합니다.\n",
    "'''\n",
    "\n",
    "import pandas as pd\n",
    "\n",
    "# 경제 지표와 농업 생산성 지표를 나타내는 시리즈 생성\n",
    "economic_index = pd.Series([100, 102, 105, 108, 110, 113])\n",
    "agricultural_production = pd.Series([200, 205, 210, 220, 225, 230])\n",
    "\n",
    "# 경제 지표와 농업 생산성 지표 간의 공분산 계산\n",
    "covariance = economic_index.cov(agricultural_production)\n",
    "\n",
    "print(f\"경제 지표와 농업 생산성 지표 간의 공분산: {covariance:.2f}\")"
   ]
  },
  {
   "cell_type": "code",
   "execution_count": null,
   "id": "f940a3c6-5134-473d-96fd-7dcc1af8d9c8",
   "metadata": {},
   "outputs": [],
   "source": [
    "'''\n",
    "예제 2: 군사 활동과 인구 변동의 상호 연관성 분석 ⚔️👥\n",
    "로마 시대의 군사 활동과 인구 변동 간의 상호 연관성을 분석합니다.\n",
    "'''\n",
    "\n",
    "import pandas as pd\n",
    "\n",
    "# 군사 활동의 강도와 인구 변동을 나타내는 시리즈 생성\n",
    "military_activity = pd.Series([50, 55, 60, 65, 70, 75])\n",
    "population_change = pd.Series([-200, -180, -160, -150, -140, -130])\n",
    "\n",
    "# 군사 활동의 강도와 인구 변동 간의 공분산 계산\n",
    "covariance = military_activity.cov(population_change)\n",
    "\n",
    "print(f\"군사 활동의 강도와 인구 변동 간의 공분산: {covariance:.2f}\")"
   ]
  },
  {
   "cell_type": "markdown",
   "id": "e44f8792-5fd9-4520-9918-fa5664f99cb4",
   "metadata": {},
   "source": [
    "## pandas.Series.cummax 메서드\n",
    "시리즈 내에서 각 점까지의 누적 최대값을 계산합니다. 이 메서드는 시리즈의 시작부터 현재 포인트까지의 최대값을 나타내는 새로운 시리즈를 반환합니다."
   ]
  },
  {
   "cell_type": "code",
   "execution_count": null,
   "id": "ff18bdd5-bbcf-49bf-ad48-c8a2c1286fb5",
   "metadata": {},
   "outputs": [],
   "source": [
    "'''\n",
    "예제 1: 아테네의 지식 발전 추적 📚\n",
    "아테네에서의 지식 발전의 역사를 시간에 따른 학문적 업적의 중요도로 표현하고, 그 누적 최대값을 추적합니다.\n",
    "'''\n",
    "\n",
    "import pandas as pd\n",
    "\n",
    "# 시간에 따른 학문적 업적의 중요도를 나타내는 시리즈 생성\n",
    "academic_achievements = pd.Series([1, 3, 2, 5, 4, 6, 7, 6])\n",
    "\n",
    "# 누적 최대 학문적 업적 추적\n",
    "cumulative_max_achievements = academic_achievements.cummax()\n",
    "\n",
    "print(f\"시간에 따른 누적 최대 학문적 업적: \\n{cumulative_max_achievements}\")"
   ]
  },
  {
   "cell_type": "code",
   "execution_count": 11,
   "id": "ab2e3bf5-076a-4bae-8a6a-da9093077787",
   "metadata": {},
   "outputs": [
    {
     "name": "stdout",
     "output_type": "stream",
     "text": [
      "시간에 따른 예술 작품의 누적 최대 가치: \n",
      "0    100\n",
      "1    200\n",
      "2    200\n",
      "3    300\n",
      "4    300\n",
      "5    350\n",
      "6    350\n",
      "7    400\n",
      "dtype: int64\n"
     ]
    }
   ],
   "source": [
    "'''\n",
    "예제 2: 아테네 문명의 예술적 발전 🎨\n",
    "아테네 문명에서 예술 작품의 가치가 시간에 따라 어떻게 변화했는지 추적하고, 그 누적 최대값을 계산합니다.\n",
    "'''\n",
    "\n",
    "import pandas as pd\n",
    "\n",
    "# 시간에 따른 예술 작품의 가치를 나타내는 시리즈 생성\n",
    "artistic_values = pd.Series([100, 200, 150, 300, 250, 350, 300, 400])\n",
    "\n",
    "# 예술 작품의 가치에 대한 누적 최대값 추적\n",
    "cumulative_max_values = artistic_values.cummax()\n",
    "\n",
    "print(f\"시간에 따른 예술 작품의 누적 최대 가치: \\n{cumulative_max_values}\")"
   ]
  },
  {
   "cell_type": "markdown",
   "id": "2c75ee19-6758-4486-810a-a84567f3be6f",
   "metadata": {},
   "source": [
    "## pandas.Series.cummin 메서드\n",
    "시리즈 내에서 각 점까지의 누적 최소값을 계산합니다. 이 메서드는 시리즈의 시작부터 현재 포인트까지의 최소값을 나타내는 새로운 시리즈를 반환합니다."
   ]
  },
  {
   "cell_type": "code",
   "execution_count": 37,
   "id": "3755fe41-8ba2-4f4b-bd75-d849a85bcef9",
   "metadata": {},
   "outputs": [
    {
     "name": "stdout",
     "output_type": "stream",
     "text": [
      "시간에 따른 누적 최소 학문적 난관: \n",
      "0    5\n",
      "1    3\n",
      "2    3\n",
      "3    2\n",
      "4    2\n",
      "5    1\n",
      "6    1\n",
      "7    1\n",
      "dtype: int64\n"
     ]
    }
   ],
   "source": [
    "'''\n",
    "예제 1: 아테네 학문의 난관 추적 📉\n",
    "아테네에서의 학문적 연구에서 직면했던 난관의 정도를 시간에 따라 추적하고, 그 누적 최소값을 계산합니다.\n",
    "'''\n",
    "\n",
    "import pandas as pd\n",
    "\n",
    "# 시간에 따른 학문적 난관의 정도를 나타내는 시리즈 생성\n",
    "academic_challenges = pd.Series([5, 3, 6, 2, 4, 1, 3, 2])\n",
    "\n",
    "# 누적 최소 학문적 난관 추적\n",
    "cumulative_min_challenges = academic_challenges.cummin()\n",
    "\n",
    "print(f\"시간에 따른 누적 최소 학문적 난관: \\n{cumulative_min_challenges}\")"
   ]
  },
  {
   "cell_type": "code",
   "execution_count": 36,
   "id": "808827a5-e945-40f8-9a55-1095ae2ed9b1",
   "metadata": {},
   "outputs": [
    {
     "name": "stdout",
     "output_type": "stream",
     "text": [
      "시간에 따른 경제 발전 수준의 누적 최소값: \n",
      "0    80\n",
      "1    70\n",
      "2    70\n",
      "3    65\n",
      "4    65\n",
      "5    65\n",
      "6    65\n",
      "7    60\n",
      "dtype: int64\n"
     ]
    }
   ],
   "source": [
    "'''\n",
    "예제 2: 아테네 경제의 최소 발전 수준 📊\n",
    "아테네 경제의 발전 수준이 시간에 따라 어떻게 변화했는지 추적하고, 그 누적 최소값을 계산합니다.\n",
    "'''\n",
    "\n",
    "import pandas as pd\n",
    "\n",
    "# 시간에 따른 경제 발전 수준을 나타내는 시리즈 생성\n",
    "economic_development = pd.Series([80, 70, 90, 65, 85, 75, 80, 60])\n",
    "\n",
    "# 경제 발전 수준의 누적 최소값 추적\n",
    "cumulative_min_development = economic_development.cummin()\n",
    "\n",
    "print(f\"시간에 따른 경제 발전 수준의 누적 최소값: \\n{cumulative_min_development}\")"
   ]
  },
  {
   "cell_type": "markdown",
   "id": "1baf72a6-b3c0-4ae4-97c0-23f95ebab0e2",
   "metadata": {},
   "source": [
    "## pandas.Series.cumprod 메서드\n",
    "시리즈 내에서 각 점까지의 누적 곱셈 결과를 계산합니다.  \n",
    "이 메서드는 시리즈의 시작부터 현재 포인트까지 각 요소의 누적 곱을 나타내는 새로운 시리즈를 반환합니다."
   ]
  },
  {
   "cell_type": "code",
   "execution_count": 35,
   "id": "b996388e-2a12-4e6c-95e0-018e97e4b93c",
   "metadata": {},
   "outputs": [
    {
     "name": "stdout",
     "output_type": "stream",
     "text": [
      "시간에 따른 지식 전파 속도의 누적 곱: \n",
      "0      1.0\n",
      "1      2.0\n",
      "2      3.0\n",
      "3      7.5\n",
      "4     15.0\n",
      "5     45.0\n",
      "6    112.5\n",
      "7    337.5\n",
      "dtype: float64\n"
     ]
    }
   ],
   "source": [
    "'''\n",
    "예제 1: 아테네의 지식 전파 속도 📚\n",
    "아테네에서 지식이 전파되는 속도를 시간에 따른 지식 전파 계수로 나타내고, 그 누적 곱을 계산합니다.\n",
    "'''\n",
    "\n",
    "import pandas as pd\n",
    "\n",
    "# 시간에 따른 지식 전파 계수를 나타내는 시리즈 생성\n",
    "knowledge_spread_rate = pd.Series([1, 2, 1.5, 2.5, 2, 3, 2.5, 3])\n",
    "\n",
    "# 지식 전파 속도의 누적 곱 계산\n",
    "cumulative_knowledge_spread = knowledge_spread_rate.cumprod()\n",
    "\n",
    "print(f\"시간에 따른 지식 전파 속도의 누적 곱: \\n{cumulative_knowledge_spread}\")"
   ]
  },
  {
   "cell_type": "code",
   "execution_count": 34,
   "id": "066782a5-6e8d-4763-bf53-1de2b289c531",
   "metadata": {},
   "outputs": [
    {
     "name": "stdout",
     "output_type": "stream",
     "text": [
      "시간에 따른 경제 성장의 복리 효과: \n",
      "0    1.020000\n",
      "1    1.050600\n",
      "2    1.092624\n",
      "3    1.147255\n",
      "4    1.181673\n",
      "5    1.228940\n",
      "6    1.290387\n",
      "7    1.367810\n",
      "dtype: float64\n"
     ]
    }
   ],
   "source": [
    "'''\n",
    "예제 2: 아테네 경제 성장의 복리 효과 💹\n",
    "아테네 경제의 성장률을 시간에 따라 나타내고, 그 누적 곱을 통해 경제 성장의 복리 효과를 계산합니다.\n",
    "'''\n",
    "\n",
    "import pandas as pd\n",
    "\n",
    "# 시간에 따른 경제 성장률을 나타내는 시리즈 생성\n",
    "economic_growth_rate = pd.Series([1.02, 1.03, 1.04, 1.05, 1.03, 1.04, 1.05, 1.06])\n",
    "\n",
    "# 경제 성장의 복리 효과 계산을 위한 누적 곱 계산\n",
    "cumulative_economic_growth = economic_growth_rate.cumprod()\n",
    "\n",
    "print(f\"시간에 따른 경제 성장의 복리 효과: \\n{cumulative_economic_growth}\")"
   ]
  },
  {
   "cell_type": "markdown",
   "id": "aa24b4a9-3ce0-4def-9186-9a208a57ec38",
   "metadata": {},
   "source": [
    "## pandas.Series.cumsum 메서드\n",
    "시리즈 내에서 각 점까지의 누적 합계를 계산합니다. 누적 곱셈 결과를 계산하지 않습니다.   \n",
    "시리즈의 시작부터 현재 포인트까지 각 요소의 누적 합을 나타내는 새로운 시리즈를 반환합니다."
   ]
  },
  {
   "cell_type": "code",
   "execution_count": 33,
   "id": "bee1e382-5cc2-48c6-9a42-d6e64603fd06",
   "metadata": {},
   "outputs": [
    {
     "name": "stdout",
     "output_type": "stream",
     "text": [
      "일정 기간 동안의 총 방문자 수 누적 합계: \n",
      "0     120\n",
      "1     270\n",
      "2     450\n",
      "3     650\n",
      "4     870\n",
      "5    1120\n",
      "6    1350\n",
      "dtype: int64\n"
     ]
    }
   ],
   "source": [
    "'''\n",
    "예제 1: 일일 방문자 수의 누적 합계 📈\n",
    "웹사이트의 일일 방문자 수를 나타내는 시리즈가 있고, 일정 기간 동안의 총 방문자 수를 누적 합계로 계산합니다.\n",
    "'''\n",
    "\n",
    "import pandas as pd\n",
    "\n",
    "# 일일 방문자 수를 나타내는 시리즈 생성\n",
    "daily_visitors = pd.Series([120, 150, 180, 200, 220, 250, 230])\n",
    "\n",
    "# 일일 방문자 수의 누적 합계 계산\n",
    "cumulative_visitors = daily_visitors.cumsum()\n",
    "\n",
    "print(f\"일정 기간 동안의 총 방문자 수 누적 합계: \\n{cumulative_visitors}\")\n"
   ]
  },
  {
   "cell_type": "code",
   "execution_count": 32,
   "id": "65169fdf-d107-4a3a-a85c-4a1277a462c6",
   "metadata": {},
   "outputs": [
    {
     "name": "stdout",
     "output_type": "stream",
     "text": [
      "일정 기간 동안의 총 판매량 누적 합계: \n",
      "0     10\n",
      "1     25\n",
      "2     45\n",
      "3     70\n",
      "4    100\n",
      "5    135\n",
      "6    175\n",
      "dtype: int64\n"
     ]
    }
   ],
   "source": [
    "'''\n",
    "예제 2: 일일 판매량의 누적 합계 🛒\n",
    "매장의 일일 판매량을 나타내는 시리즈가 있고, 일정 기간 동안의 총 판매량을 누적 합계로 계산합니다.\n",
    "'''\n",
    "\n",
    "import pandas as pd\n",
    "\n",
    "# 일일 판매량을 나타내는 시리즈 생성\n",
    "daily_sales = pd.Series([10, 15, 20, 25, 30, 35, 40])\n",
    "\n",
    "# 일일 판매량의 누적 합계 계산\n",
    "cumulative_sales = daily_sales.cumsum()\n",
    "\n",
    "print(f\"일정 기간 동안의 총 판매량 누적 합계: \\n{cumulative_sales}\")"
   ]
  },
  {
   "cell_type": "markdown",
   "id": "c5073bd2-5a49-41d2-a46c-ed4b4a88849f",
   "metadata": {},
   "source": [
    "## pandas.Series.describe 메서드\n",
    "시리즈의 요약 통계를 제공합니다.   \n",
    "이 메서드는 데이터의 중심 경향, 분산 및 모양을 요약하는 통계를 계산하여 반환합니다."
   ]
  },
  {
   "cell_type": "code",
   "execution_count": 30,
   "id": "6d994ac4-606d-495f-a778-a3f415d562ed",
   "metadata": {},
   "outputs": [
    {
     "name": "stdout",
     "output_type": "stream",
     "text": [
      "아테네 학자들의 저작물 페이지 요약 통계: \n",
      "count     10.000000\n",
      "mean     294.000000\n",
      "std      120.480519\n",
      "min      120.000000\n",
      "25%      222.500000\n",
      "50%      285.000000\n",
      "75%      375.000000\n",
      "max      480.000000\n",
      "dtype: float64\n"
     ]
    }
   ],
   "source": [
    "'''\n",
    "예제 1: 아테네 학자들의 저작물 분석 📚\n",
    "아테네 학자들이 남긴 저작물의 페이지 수를 분석하여 요약 통계를 제공합니다.\n",
    "'''\n",
    "\n",
    "import pandas as pd\n",
    "\n",
    "# 아테네 학자들의 저작물 페이지 수\n",
    "works_pages = pd.Series([230, 120, 330, 450, 150, 220, 390, 480, 270, 300])\n",
    "\n",
    "# 요약 통계 계산\n",
    "description = works_pages.describe()\n",
    "\n",
    "print(f\"아테네 학자들의 저작물 페이지 요약 통계: \\n{description}\")"
   ]
  },
  {
   "cell_type": "code",
   "execution_count": 29,
   "id": "5e184fde-7857-4ce9-b022-ca95250c0f79",
   "metadata": {},
   "outputs": [
    {
     "name": "stdout",
     "output_type": "stream",
     "text": [
      "고대 아테네 극장의 관객 수 요약 통계: \n",
      "count      10.00000\n",
      "mean     1235.00000\n",
      "std       481.92323\n",
      "min       500.00000\n",
      "25%       962.50000\n",
      "50%      1150.00000\n",
      "75%      1575.00000\n",
      "max      2000.00000\n",
      "dtype: float64\n"
     ]
    }
   ],
   "source": [
    "'''\n",
    "예제 2: 고대 아테네 극장의 관객 수 분석 🎭\n",
    "고대 아테네의 극장에서 상연된 연극의 관객 수를 분석하여 요약 통계를 제공합니다.\n",
    "'''\n",
    "\n",
    "import pandas as pd\n",
    "\n",
    "# 고대 아테네 극장의 연극별 관객 수\n",
    "audience_numbers = pd.Series([500, 700, 1500, 1200, 1000, 950, 1100, 1600, 2000, 1800])\n",
    "\n",
    "# 요약 통계 계산\n",
    "description = audience_numbers.describe()\n",
    "\n",
    "print(f\"고대 아테네 극장의 관객 수 요약 통계: \\n{description}\")"
   ]
  },
  {
   "cell_type": "markdown",
   "id": "e2c9d2af-1cdd-4ee4-a23a-37f2eb81e313",
   "metadata": {},
   "source": [
    "## pandas.Series.diff 메서드\n",
    "시리즈의 요소 간 차분을 계산합니다.   \n",
    "이 메서드는 주로 시계열 데이터에서 시간에 따른 변화량을 분석할 때 사용됩니다.\n"
   ]
  },
  {
   "cell_type": "code",
   "execution_count": 28,
   "id": "45c7dd7a-6aa2-406e-9e54-d638c6ffae5e",
   "metadata": {},
   "outputs": [
    {
     "name": "stdout",
     "output_type": "stream",
     "text": [
      "아테네 학교의 연간 등록 학생 수 변화: \n",
      "0     NaN\n",
      "1    50.0\n",
      "2    50.0\n",
      "3    50.0\n",
      "4    50.0\n",
      "5   -30.0\n",
      "6   -10.0\n",
      "dtype: float64\n"
     ]
    }
   ],
   "source": [
    "'''\n",
    "예제 1: 아테네 학교의 연간 등록 학생 수 변화 📉📚\n",
    "아테네의 주요 학교에서 연간 등록 학생 수의 변화를 분석하여 교육의 인기도 변화를 살펴봅니다.\n",
    "'''\n",
    "\n",
    "import pandas as pd\n",
    "\n",
    "# 연도별 등록 학생 수를 나타내는 시리즈 생성\n",
    "annual_enrollment = pd.Series([150, 200, 250, 300, 350, 320, 310])\n",
    "\n",
    "# 연간 학생 수 변화 계산\n",
    "enrollment_change = annual_enrollment.diff()\n",
    "\n",
    "print(f\"아테네 학교의 연간 등록 학생 수 변화: \\n{enrollment_change}\")"
   ]
  },
  {
   "cell_type": "code",
   "execution_count": 27,
   "id": "790329e3-fec4-4458-b87f-4febde4dfac5",
   "metadata": {},
   "outputs": [
    {
     "name": "stdout",
     "output_type": "stream",
     "text": [
      "고대 아테네 경제의 연간 성장률 변화: \n",
      "0    NaN\n",
      "1    0.5\n",
      "2    0.5\n",
      "3   -0.5\n",
      "4    1.0\n",
      "5    0.5\n",
      "6    0.5\n",
      "dtype: float64\n"
     ]
    }
   ],
   "source": [
    "'''\n",
    "예제 2: 고대 아테네 경제의 연간 성장률 변화 📈💹\n",
    "고대 아테네의 연간 경제 성장률을 분석하여 경제 변동성을 살펴봅니다.\n",
    "'''\n",
    "\n",
    "import pandas as pd\n",
    "\n",
    "# 연도별 경제 성장률을 나타내는 시리즈 생성\n",
    "annual_growth_rate = pd.Series([2.5, 3.0, 3.5, 3.0, 4.0, 4.5, 5.0])\n",
    "\n",
    "# 연간 성장률 변화 계산\n",
    "growth_rate_change = annual_growth_rate.diff(periods=1)\n",
    "\n",
    "print(f\"고대 아테네 경제의 연간 성장률 변화: \\n{growth_rate_change}\")"
   ]
  },
  {
   "cell_type": "markdown",
   "id": "0d9f720a-4f73-4a77-ba25-264eb76fc33b",
   "metadata": {},
   "source": [
    "## pandas.Series.factorize 메서\n",
    "시리즈 내의 고유값을 식별하고, 각 고유값에 대해 정수 인덱스를 할당합니다.  \n",
    "이 메서드는 범주형 데이터를 숫자로 변환할 때 유용하게 사용됩니다."
   ]
  },
  {
   "cell_type": "code",
   "execution_count": 26,
   "id": "c9e7fc98-e394-4602-b468-32aba0b1257b",
   "metadata": {},
   "outputs": [
    {
     "name": "stdout",
     "output_type": "stream",
     "text": [
      "학파별 라벨: \n",
      "[0 1 2 3 0 1]\n",
      "고유 학파 목록: \n",
      "Index(['Plato', 'Aristotle', 'Socrates', 'Democritus'], dtype='object')\n"
     ]
    }
   ],
   "source": [
    "'''\n",
    "예제 1: 아테네 철학자들의 학파 분류 📚🤔\n",
    "아테네의 주요 철학자들이 속한 학파를 분류하여 각 철학자의 학파를 숫자로 변환합니다.\n",
    "'''\n",
    "\n",
    "import pandas as pd\n",
    "\n",
    "# 아테네 철학자들과 그들의 학파\n",
    "philosophers = pd.Series(['Plato', 'Aristotle', 'Socrates', 'Democritus', 'Plato', 'Aristotle'])\n",
    "\n",
    "# 학파를 숫자로 변환\n",
    "labels, uniques = philosophers.factorize()\n",
    "\n",
    "print(f\"학파별 라벨: \\n{labels}\")\n",
    "print(f\"고유 학파 목록: \\n{uniques}\")"
   ]
  },
  {
   "cell_type": "code",
   "execution_count": 25,
   "id": "d862c9c3-efbe-44ab-9e95-5f04a4abeca3",
   "metadata": {},
   "outputs": [
    {
     "name": "stdout",
     "output_type": "stream",
     "text": [
      "장르별 라벨: \n",
      "[2 0 2 1 0 2]\n",
      "고유 장르 목록: \n",
      "Index(['Comedy', 'Satire', 'Tragedy'], dtype='object')\n"
     ]
    }
   ],
   "source": [
    "'''\n",
    "예제 2: 고대 아테네 연극 장르의 인코딩 🎭\n",
    "고대 아테네에서 인기 있었던 연극 장르를 식별하고, 각 장르를 숫자로 변환합니다.\n",
    "'''\n",
    "\n",
    "import pandas as pd\n",
    "\n",
    "# 고대 아테네 연극의 장르\n",
    "theater_genres = pd.Series(['Tragedy', 'Comedy', 'Tragedy', 'Satire', 'Comedy', 'Tragedy'])\n",
    "\n",
    "# 장르를 숫자로 변환\n",
    "labels, uniques = theater_genres.factorize(sort=True)\n",
    "\n",
    "print(f\"장르별 라벨: \\n{labels}\")\n",
    "print(f\"고유 장르 목록: \\n{uniques}\")"
   ]
  },
  {
   "cell_type": "markdown",
   "id": "0feedcc9-1edc-401f-82f0-5b8460e3b61a",
   "metadata": {},
   "source": [
    "## pandas.Series.kurt 메서드\n",
    "시리즈의 첨도(kurtosis)를 계산합니다.   \n",
    "첨도는 확률 분포의 꼬리 부분의 두께와 뾰족함을 나타내는 척도로, 분포의 정상성을 평가하는 데 사용됩니다. 첨도가 높을수록 꼬리 부분이 두껍고 분포가 뾰족합니다."
   ]
  },
  {
   "cell_type": "code",
   "execution_count": 24,
   "id": "ef73dcb7-5209-43f4-bf29-9ab81ef89ae2",
   "metadata": {},
   "outputs": [
    {
     "name": "stdout",
     "output_type": "stream",
     "text": [
      "고대 아테네 시장 상품 가격 변동성의 첨도: -1.07\n"
     ]
    }
   ],
   "source": [
    "'''\n",
    "예제 1: 아테네 시장의 상품 가격 변동성 분석 🏺💰\n",
    "고대 아테네 시장에서 판매된 상품의 가격 변동성을 분석하여 첨도를 계산합니다.\n",
    "'''\n",
    "\n",
    "import pandas as pd\n",
    "\n",
    "# 고대 아테네 시장의 상품 가격\n",
    "market_prices = pd.Series([100, 150, 150, 200, 250, 300, 325, 300, 250, 200, 150, 100, 150, 200, 250])\n",
    "\n",
    "# 상품 가격 변동성의 첨도 계산\n",
    "price_kurtosis = market_prices.kurt()\n",
    "\n",
    "print(f\"고대 아테네 시장 상품 가격 변동성의 첨도: {price_kurtosis:.2f}\")"
   ]
  },
  {
   "cell_type": "code",
   "execution_count": 22,
   "id": "19b25bf7-0750-4513-b7c5-b680424041b3",
   "metadata": {},
   "outputs": [
    {
     "name": "stdout",
     "output_type": "stream",
     "text": [
      "고대 아테네 대학 학생 성적 분포의 첨도: -0.12\n"
     ]
    }
   ],
   "source": [
    "'''\n",
    "예제 2: 아테네 대학의 학생 성적 분포 분석 📚🎓\n",
    "고대 아테네 대학에서의 학생 성적 분포를 분석하여 첨도를 계산합니다.\n",
    "'''\n",
    "\n",
    "import pandas as pd\n",
    "\n",
    "# 고대 아테네 대학의 학생 성적\n",
    "student_grades = pd.Series([85, 90, 92, 88, 95, 100, 100, 98, 95, 90, 85, 80, 75, 70, 80, 85, 90, 95])\n",
    "\n",
    "# 학생 성적 분포의 첨도 계산\n",
    "grades_kurtosis = student_grades.kurt()\n",
    "\n",
    "print(f\"고대 아테네 대학 학생 성적 분포의 첨도: {grades_kurtosis:.2f}\")"
   ]
  },
  {
   "cell_type": "markdown",
   "id": "c88ddb7e-735f-45a3-b283-272f303b5e65",
   "metadata": {},
   "source": [
    "## pandas.Series.max 메서드\n",
    "시리즈 내의 최대값을 찾습니다. 이 메서드는 시리즈의 수치형 데이터나 날짜/시간 데이터에서 가장 큰 값을 식별할 때 유용합니다."
   ]
  },
  {
   "cell_type": "code",
   "execution_count": 23,
   "id": "44931137-cfd1-49c7-b13f-06adeb2ac2f0",
   "metadata": {},
   "outputs": [
    {
     "name": "stdout",
     "output_type": "stream",
     "text": [
      "아테네 도서관에서 가장 두꺼운 책의 페이지 수: 600\n"
     ]
    }
   ],
   "source": [
    "'''\n",
    "예제 1: 아테네 도서관의 가장 두꺼운 책 찾기 📚\n",
    "아테네의 대표적인 도서관에 소장된 책들의 페이지 수를 분석하여 가장 두꺼운 책의 페이지 수를 찾습니다.\n",
    "'''\n",
    "\n",
    "import pandas as pd\n",
    "\n",
    "# 아테네 도서관의 책들 페이지 수\n",
    "book_pages = pd.Series([300, 150, 400, 600, 250, 100, 450, 500])\n",
    "\n",
    "# 가장 두꺼운 책의 페이지 수 찾기\n",
    "thickest_book = book_pages.max()\n",
    "\n",
    "print(f\"아테네 도서관에서 가장 두꺼운 책의 페이지 수: {thickest_book}\")"
   ]
  },
  {
   "cell_type": "code",
   "execution_count": 21,
   "id": "5ed3652a-d521-409d-9b4b-25937dd69795",
   "metadata": {},
   "outputs": [
    {
     "name": "stdout",
     "output_type": "stream",
     "text": [
      "저작물이 가장 많은 아테네 철학자의 저작물 수: 25\n"
     ]
    }
   ],
   "source": [
    "# 예제 2: 아테네 철학자들의 최대 저작물 수 📖\n",
    "# 아테네의 주요 철학자들이 남긴 저작물의 수를 분석하여, 저작물이 가장 많은 철학자의 저작물 수를 찾습니다.\n",
    "\n",
    "import pandas as pd\n",
    "\n",
    "# 아테네 철학자들의 저작물 수\n",
    "philosopher_works = pd.Series([10, 5, 15, 20, 12, 8, 25, 18])\n",
    "\n",
    "# 저작물이 가장 많은 철학자의 저작물 수 찾기\n",
    "most_productive = philosopher_works.max()\n",
    "\n",
    "print(f\"저작물이 가장 많은 아테네 철학자의 저작물 수: {most_productive}\")"
   ]
  },
  {
   "cell_type": "markdown",
   "id": "021aff40-93fc-499c-b96a-5ef84bebed96",
   "metadata": {},
   "source": [
    "## pandas.Series.mean 메서드\n",
    "시리즈 내의 평균값을 계산합니다. 이 메서드는 수치 데이터에 대한 중심 경향을 측정할 때 사용됩니다."
   ]
  },
  {
   "cell_type": "code",
   "execution_count": 20,
   "id": "96e28c9f-6cad-45fb-9649-8c2bdb0a5315",
   "metadata": {},
   "outputs": [
    {
     "name": "stdout",
     "output_type": "stream",
     "text": [
      "피타고라스 학파 학생들의 수학 점수 평균: 87.50\n"
     ]
    }
   ],
   "source": [
    "'''\n",
    "예제 1: 피타고라스 학파의 수학 점수 평균 📐\n",
    "피타고라스 학파의 학생들의 수학 점수 평균을 계산합니다. 누락된 점수는 계산에서 제외합니다.\n",
    "'''\n",
    "\n",
    "import pandas as pd\n",
    "\n",
    "# 피타고라스 학파 학생들의 수학 점수\n",
    "pythagorean_scores = pd.Series([85, 90, 95, None, 100, 80, 75])\n",
    "\n",
    "# 수학 점수의 평균 계산\n",
    "average_score = pythagorean_scores.mean(skipna=True)\n",
    "\n",
    "print(f\"피타고라스 학파 학생들의 수학 점수 평균: {average_score:.2f}\")"
   ]
  },
  {
   "cell_type": "code",
   "execution_count": 19,
   "id": "3bdafff8-10bb-4dd9-8dd1-fcdfbae6748a",
   "metadata": {},
   "outputs": [
    {
     "name": "stdout",
     "output_type": "stream",
     "text": [
      "아리스토텔레스 학생들의 일주일 평균 연구 시간: 21.33시간\n"
     ]
    }
   ],
   "source": [
    "'''\n",
    "예제 2: 아리스토텔레스의 학생들 연구 시간 평균 ⏳\n",
    "아리스토텔레스의 학생들이 일주일에 연구에 할애하는 시간의 평균을 계산합니다. 누락된 데이터는 계산에서 제외합니다.\n",
    "'''\n",
    "\n",
    "import pandas as pd\n",
    "\n",
    "# 아리스토텔레스 학생들의 일주일 연구 시간\n",
    "aristotelian_study_hours = pd.Series([15, 20, None, 25, 30, 20, 18])\n",
    "\n",
    "# 연구 시간의 평균 계산\n",
    "average_study_hours = aristotelian_study_hours.mean(skipna=True)\n",
    "\n",
    "print(f\"아리스토텔레스 학생들의 일주일 평균 연구 시간: {average_study_hours:.2f}시간\")"
   ]
  },
  {
   "cell_type": "code",
   "execution_count": null,
   "id": "dbcc8a00-d07d-4e9d-9d34-0ac6f4401f3a",
   "metadata": {},
   "outputs": [],
   "source": []
  }
 ],
 "metadata": {
  "kernelspec": {
   "display_name": "Python 3 (ipykernel)",
   "language": "python",
   "name": "python3"
  },
  "language_info": {
   "codemirror_mode": {
    "name": "ipython",
    "version": 3
   },
   "file_extension": ".py",
   "mimetype": "text/x-python",
   "name": "python",
   "nbconvert_exporter": "python",
   "pygments_lexer": "ipython3",
   "version": "3.10.9"
  }
 },
 "nbformat": 4,
 "nbformat_minor": 5
}
