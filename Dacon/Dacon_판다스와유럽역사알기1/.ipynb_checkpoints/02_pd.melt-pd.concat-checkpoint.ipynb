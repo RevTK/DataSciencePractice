{
 "cells": [
  {
   "cell_type": "markdown",
   "id": "dc8b91b5-ff2b-4a2a-9c8d-10baec52301b",
   "metadata": {},
   "source": [
    "# 판다스와 유럽 역사 알기1-2\n",
    "- 02_df_표_자르고_합치고_나누고\n",
    "- https://www.dacon.io/edu/131"
   ]
  },
  {
   "cell_type": "markdown",
   "id": "c9898869-a3d8-478c-b92f-a6b736069679",
   "metadata": {},
   "source": [
    "## pd.melt"
   ]
  },
  {
   "cell_type": "code",
   "execution_count": 20,
   "id": "20aca237-6b47-47dd-b52d-15ec99ecfb72",
   "metadata": {},
   "outputs": [
    {
     "name": "stdout",
     "output_type": "stream",
     "text": [
      "             City   100 AD   200 AD  300 AD\n",
      "0            Rome  1000000  1200000  800000\n",
      "1  Constantinople   300000   400000  500000\n",
      "2      Alexandria   500000   600000  750000\n",
      "3         Antioch   150000   200000  250000\n",
      "<class 'pandas.core.frame.DataFrame'>\n",
      "RangeIndex: 4 entries, 0 to 3\n",
      "Data columns (total 4 columns):\n",
      " #   Column  Non-Null Count  Dtype \n",
      "---  ------  --------------  ----- \n",
      " 0   City    4 non-null      object\n",
      " 1   100 AD  4 non-null      int64 \n",
      " 2   200 AD  4 non-null      int64 \n",
      " 3   300 AD  4 non-null      int64 \n",
      "dtypes: int64(3), object(1)\n",
      "memory usage: 256.0+ bytes\n",
      "None\n",
      "-----------------------------------------------\n",
      "             City    Year  Population\n",
      "0            Rome  100 AD     1000000\n",
      "1  Constantinople  100 AD      300000\n",
      "2      Alexandria  100 AD      500000\n",
      "3         Antioch  100 AD      150000\n",
      "4            Rome  200 AD     1200000\n",
      "<class 'pandas.core.frame.DataFrame'>\n",
      "RangeIndex: 12 entries, 0 to 11\n",
      "Data columns (total 3 columns):\n",
      " #   Column      Non-Null Count  Dtype \n",
      "---  ------      --------------  ----- \n",
      " 0   City        12 non-null     object\n",
      " 1   Year        12 non-null     object\n",
      " 2   Population  12 non-null     int64 \n",
      "dtypes: int64(1), object(2)\n",
      "memory usage: 416.0+ bytes\n",
      "None\n"
     ]
    }
   ],
   "source": [
    "import pandas as pd\n",
    "\n",
    "# 로마 제국의 주요 도시별 인구 데이터\n",
    "data = {\n",
    "    'City': ['Rome', 'Constantinople', 'Alexandria', 'Antioch'],\n",
    "    '100 AD': [1000000, 300000, 500000, 150000],\n",
    "    '200 AD': [1200000, 400000, 600000, 200000],\n",
    "    '300 AD': [800000, 500000, 750000, 250000]\n",
    "}\n",
    "df = pd.DataFrame(data)\n",
    "print(df)\n",
    "print(df.info())\n",
    "print('-----------------------------------------------')\n",
    "\n",
    "# melt를 사용하여 데이터를 길게 변환(기존 4줄 -> 12줄)\n",
    "melted_df = pd.melt(df, id_vars=['City'], var_name='Year', value_name='Population')\n",
    "print(melted_df.head())\n",
    "print(melted_df.info())"
   ]
  },
  {
   "cell_type": "markdown",
   "id": "9ce1364c-51ef-4f02-bebd-f00d3c08da9d",
   "metadata": {},
   "source": [
    "## 2. pivot_table"
   ]
  },
  {
   "cell_type": "code",
   "execution_count": 9,
   "id": "45bdc5b6-a981-42a3-80e6-9aa113d87379",
   "metadata": {},
   "outputs": [
    {
     "name": "stdout",
     "output_type": "stream",
     "text": [
      "             Battle  Year   Result  Legions Involved\n",
      "0  Battle of Actium   -31  Victory                60\n",
      "1  Battle of Actium   -31   Defeat                30\n",
      "2  Teutoburg Forest     9  Victory                 3\n",
      "3  Teutoburg Forest     9   Defeat                 8\n",
      "-----------------------------------------------\n",
      "Result            Defeat  Victory\n",
      "Battle                           \n",
      "Battle of Actium      30       60\n",
      "Teutoburg Forest       8        3\n"
     ]
    }
   ],
   "source": [
    "# 로마 제국의 전투 데이터\n",
    "battles = {\n",
    "    'Battle': ['Battle of Actium', 'Battle of Actium', 'Teutoburg Forest', 'Teutoburg Forest'],\n",
    "    'Year': [-31, -31, 9, 9],\n",
    "    'Result': ['Victory', 'Defeat', 'Victory', 'Defeat'],\n",
    "    'Legions Involved': [60, 30, 3, 8]\n",
    "}\n",
    "df_battles = pd.DataFrame(battles)\n",
    "print(df_battles)\n",
    "print('-----------------------------------------------')\n",
    "\n",
    "# pivot_table을 사용하여 데이터 집계\n",
    "pivot_battles = df_battles.pivot_table(values='Legions Involved', index='Battle', columns='Result', aggfunc='sum')\n",
    "print(pivot_battles)\n"
   ]
  },
  {
   "cell_type": "code",
   "execution_count": 10,
   "id": "29ad7c9f-ebfd-4051-b58a-3ad4c75cd6f9",
   "metadata": {},
   "outputs": [
    {
     "name": "stdout",
     "output_type": "stream",
     "text": [
      "       Indicator    Year  Value\n",
      "0            GDP  100 AD     50\n",
      "1            GDP  200 AD     70\n",
      "2  Trade Balance  100 AD     10\n",
      "3  Trade Balance  200 AD     15\n",
      "-----------------------------------------------\n",
      "Year           100 AD  200 AD\n",
      "Indicator                    \n",
      "GDP                50      70\n",
      "Trade Balance      10      15\n"
     ]
    }
   ],
   "source": [
    "# 로마 제국의 경제 지표별 연도 데이터\n",
    "economy = {\n",
    "    'Indicator': ['GDP', 'GDP', 'Trade Balance', 'Trade Balance'],\n",
    "    'Year': ['100 AD', '200 AD', '100 AD', '200 AD'],\n",
    "    'Value': [50, 70, 10, 15]\n",
    "}\n",
    "df_economy = pd.DataFrame(economy)\n",
    "print(df_economy)\n",
    "print('-----------------------------------------------')\n",
    "\n",
    "# pivot_table을 사용하여 데이터 집계\n",
    "pivot_economy = df_economy.pivot_table(values='Value', index='Indicator', columns='Year', aggfunc='sum')\n",
    "print(pivot_economy)\n"
   ]
  },
  {
   "cell_type": "markdown",
   "id": "3fe43ae3-bbb8-450e-ad0c-f64c185abdcf",
   "metadata": {},
   "source": [
    "## 3. Crosstab 사용\n",
    "- crosstab 함수는 두 개 이상의 열을 기준으로 교차 테이블(빈도 테이블)을 생성합니다. \n",
    "- 로마 제국의 다양한 지역에서의 군대 규모와 지역별 충성도를 가상의 데이터로 사용해 보겠습니다."
   ]
  },
  {
   "cell_type": "code",
   "execution_count": 11,
   "id": "72f015f5-c464-4757-913c-fc347bcc3724",
   "metadata": {},
   "outputs": [
    {
     "name": "stdout",
     "output_type": "stream",
     "text": [
      "전투 결과    승리  패배\n",
      "황제             \n",
      "네로        1   0\n",
      "아우구스투스    0   1\n",
      "율리우스 시저   1   0\n",
      "클라우디우스    0   1\n",
      "호라티우스     1   0\n"
     ]
    }
   ],
   "source": [
    "import pandas as pd\n",
    "\n",
    "# 샘플 데이터 생성\n",
    "data = {\n",
    "    '황제': ['율리우스 시저', '아우구스투스', '네로', '호라티우스', '클라우디우스'],\n",
    "    '군대': ['제1군단', '제2군단', '제3군단', '제4군단', '제5군단'],\n",
    "    '전투 결과': ['승리', '패배', '승리', '승리', '패배']\n",
    "}\n",
    "\n",
    "df = pd.DataFrame(data)\n",
    "\n",
    "# crosstab 생성\n",
    "cross_tab = pd.crosstab(df['황제'], df['전투 결과'])\n",
    "\n",
    "print(cross_tab)"
   ]
  },
  {
   "cell_type": "code",
   "execution_count": 12,
   "id": "c6f8a375-2fa3-4d3c-9f94-f74a67de3a38",
   "metadata": {},
   "outputs": [
    {
     "name": "stdout",
     "output_type": "stream",
     "text": [
      "종교적 활동  비참여  참여\n",
      "신              \n",
      "마르스       0   1\n",
      "베누스       1   0\n",
      "유피테르      0   2\n",
      "제노비아      1   0\n"
     ]
    }
   ],
   "source": [
    "import pandas as pd\n",
    "\n",
    "# 샘플 데이터 생성\n",
    "data = {\n",
    "    '신': ['유피테르', '제노비아', '마르스', '베누스', '유피테르'],\n",
    "    '종교적 활동': ['참여', '비참여', '참여', '비참여', '참여']\n",
    "}\n",
    "\n",
    "df = pd.DataFrame(data)\n",
    "\n",
    "# crosstab 생성\n",
    "cross_tab = pd.crosstab(df['신'], df['종교적 활동'])\n",
    "\n",
    "print(cross_tab)\n"
   ]
  },
  {
   "cell_type": "code",
   "execution_count": 13,
   "id": "ab363276-709d-4c77-b122-5e0382f7986d",
   "metadata": {},
   "outputs": [
    {
     "name": "stdout",
     "output_type": "stream",
     "text": [
      "계급      귀족  노예  자유인\n",
      "시민권                \n",
      "로마 시민권   3   0    0\n",
      "비시민권     0   1    1\n"
     ]
    }
   ],
   "source": [
    "import pandas as pd\n",
    "\n",
    "# 샘플 데이터 생성\n",
    "data = {\n",
    "    '시민권': ['로마 시민권', '비시민권', '로마 시민권', '로마 시민권', '비시민권'],\n",
    "    '계급': ['귀족', '노예', '귀족', '귀족', '자유인']\n",
    "}\n",
    "\n",
    "df = pd.DataFrame(data)\n",
    "\n",
    "# crosstab 생성\n",
    "cross_tab = pd.crosstab(df['시민권'], df['계급'])\n",
    "\n",
    "print(cross_tab)"
   ]
  },
  {
   "cell_type": "code",
   "execution_count": 14,
   "id": "8d4a24a9-0a79-4928-a76f-d14edfcd3ee6",
   "metadata": {},
   "outputs": [
    {
     "name": "stdout",
     "output_type": "stream",
     "text": [
      "도시           로마  에스퀴일리노  카피톨리노  팔라티노\n",
      "건축가                                 \n",
      "마르쿠스 비트루비우스   1       0      0     0\n",
      "세르비우스 툴리우스    0       1      0     1\n",
      "윌리우스 노마니우스    0       1      0     0\n",
      "퀸투스 마르투스      0       0      1     0\n"
     ]
    }
   ],
   "source": [
    "import pandas as pd\n",
    "\n",
    "# 샘플 데이터 생성\n",
    "data = {\n",
    "    '건축가': ['마르쿠스 비트루비우스', '세르비우스 툴리우스', '윌리우스 노마니우스', '퀸투스 마르투스', '세르비우스 툴리우스'],\n",
    "    '도시': ['로마', '팔라티노', '에스퀴일리노', '카피톨리노', '에스퀴일리노']\n",
    "}\n",
    "\n",
    "df = pd.DataFrame(data)\n",
    "\n",
    "# crosstab 생성\n",
    "cross_tab = pd.crosstab(df['건축가'], df['도시'])\n",
    "\n",
    "print(cross_tab)\n"
   ]
  },
  {
   "cell_type": "markdown",
   "id": "2b3778fe-e48e-46f2-97d2-984b9d35b6a3",
   "metadata": {},
   "source": [
    "## 4. cut 함수\n",
    "- 판다스의 cut 함수는 연속형 데이터를 구간별로 나누는 데 사용됩니다. \n",
    "- 이 함수를 사용하면 데이터를 원하는 구간으로 나누어 범주형 데이터로 변환할 수 있습니다. \n",
    "- 이를 통해 데이터를 더 쉽게 이해하고 분석할 수 있습니다."
   ]
  },
  {
   "cell_type": "code",
   "execution_count": 15,
   "id": "bdc47f97-9d4d-4e9b-b8d9-7671f2df225a",
   "metadata": {},
   "outputs": [
    {
     "name": "stdout",
     "output_type": "stream",
     "text": [
      "        황제  통치 기간(년) 통치 기간 구간\n",
      "0  율리우스 시저         4    0-10년\n",
      "1   아우구스투스        45   30-50년\n",
      "2       네로        13   10-20년\n",
      "3    호라티우스         9    0-10년\n",
      "4   클라우디우스        14   10-20년\n"
     ]
    }
   ],
   "source": [
    "import pandas as pd\n",
    "\n",
    "# 샘플 데이터 생성\n",
    "data = {\n",
    "    '황제': ['율리우스 시저', '아우구스투스', '네로', '호라티우스', '클라우디우스'],\n",
    "    '통치 기간(년)': [4, 45, 13, 9, 14]\n",
    "}\n",
    "\n",
    "df = pd.DataFrame(data)\n",
    "\n",
    "# 통치 기간을 구간별로 나누기\n",
    "bins = [0, 10, 20, 30, 50]\n",
    "labels = ['0-10년', '10-20년', '20-30년', '30-50년']\n",
    "df['통치 기간 구간'] = pd.cut(df['통치 기간(년)'], bins=bins, labels=labels)\n",
    "\n",
    "print(df)"
   ]
  },
  {
   "cell_type": "code",
   "execution_count": 16,
   "id": "ecd62268-3491-44e6-aae7-050646b4085b",
   "metadata": {},
   "outputs": [
    {
     "name": "stdout",
     "output_type": "stream",
     "text": [
      "      신  숭배 강도 숭배 강도 구간\n",
      "0  유피테르      7       보통\n",
      "1  제노비아      2       약함\n",
      "2   마르스      9       강함\n",
      "3   베누스      5       약함\n",
      "4  유피테르      8       강함\n"
     ]
    }
   ],
   "source": [
    "import pandas as pd\n",
    "\n",
    "# 샘플 데이터 생성\n",
    "data = {\n",
    "    '신': ['유피테르', '제노비아', '마르스', '베누스', '유피테르'],\n",
    "    '숭배 강도': [7, 2, 9, 5, 8]\n",
    "}\n",
    "\n",
    "df = pd.DataFrame(data)\n",
    "\n",
    "# 숭배 강도를 구간별로 나누기\n",
    "bins = [0, 5, 7, 10]\n",
    "labels = ['약함', '보통', '강함']\n",
    "df['숭배 강도 구간'] = pd.cut(df['숭배 강도'], bins=bins, labels=labels)\n",
    "\n",
    "print(df)\n",
    "# write python code here"
   ]
  },
  {
   "cell_type": "code",
   "execution_count": 17,
   "id": "6803f400-b6cc-489e-85ff-c805e6eee15d",
   "metadata": {},
   "outputs": [
    {
     "name": "stdout",
     "output_type": "stream",
     "text": [
      "    계급  부를 정도 부를 정도 구간\n",
      "0   귀족   1000       높음\n",
      "1   노예     10       낮음\n",
      "2   귀족    500       보통\n",
      "3   귀족    800       높음\n",
      "4  자유인    300       보통\n"
     ]
    }
   ],
   "source": [
    "import pandas as pd\n",
    "\n",
    "# 샘플 데이터 생성\n",
    "data = {\n",
    "    '계급': ['귀족', '노예', '귀족', '귀족', '자유인'],\n",
    "    '부를 정도': [1000, 10, 500, 800, 300]\n",
    "}\n",
    "\n",
    "df = pd.DataFrame(data)\n",
    "\n",
    "# 부를 정도를 구간별로 나누기\n",
    "bins = [0, 100, 500, 1000]\n",
    "labels = ['낮음', '보통', '높음']\n",
    "df['부를 정도 구간'] = pd.cut(df['부를 정도'], bins=bins, labels=labels)\n",
    "\n",
    "print(df)\n"
   ]
  },
  {
   "cell_type": "markdown",
   "id": "a0ac3f84-7685-47cf-a073-869da7e2590f",
   "metadata": {},
   "source": [
    "## 5. qcut 함수\n",
    "- 판다스의 qcut 함수는 연속형 데이터를 분위수를 기준으로 구간별로 나누는 데 사용됩니다. \n",
    "- 이 함수를 사용하면 데이터를 동일한 크기의 구간으로 나눌 수 있으며, 각 구간에 포함되는 데이터의 개수가 비슷하게 됩니다. \n",
    "- 이를 통해 데이터를 더 공정하게 분석할 수 있습니다."
   ]
  },
  {
   "cell_type": "code",
   "execution_count": 21,
   "id": "9c0d4829-3113-49d4-bf61-2772304e023b",
   "metadata": {},
   "outputs": [
    {
     "name": "stdout",
     "output_type": "stream",
     "text": [
      "       신  강력함 점수 강력함 분위수 구간\n",
      "0    제우스      98          상\n",
      "1     헤라      75          하\n",
      "2   포세이돈      89         중상\n",
      "3    아테나      90         중상\n",
      "4    아폴로      85          하\n",
      "5    아레스      92          상\n",
      "6   헤르메스      87         중하\n",
      "7  아르테미스      88         중하\n"
     ]
    }
   ],
   "source": [
    "import pandas as pd\n",
    "\n",
    "# 샘플 데이터 생성\n",
    "data = {\n",
    "    '신': ['제우스', '헤라', '포세이돈', '아테나', '아폴로', '아레스', '헤르메스', '아르테미스'],\n",
    "    '강력함 점수': [98, 75, 89, 90, 85, 92, 87, 88]\n",
    "}\n",
    "\n",
    "df = pd.DataFrame(data)\n",
    "\n",
    "# 강력함 점수를 분위수를 기준으로 구간별로 나누기\n",
    "df['강력함 분위수 구간'] = pd.qcut(df['강력함 점수'], q=4, labels=['하', '중하', '중상', '상'])\n",
    "\n",
    "print(df)"
   ]
  },
  {
   "cell_type": "code",
   "execution_count": 22,
   "id": "0785f42f-38ce-414e-9572-1536a08e0fce",
   "metadata": {},
   "outputs": [
    {
     "name": "stdout",
     "output_type": "stream",
     "text": [
      "   도시국가  군사력 지수 군사력 분위수 구간\n",
      "0   아테네      95         중상\n",
      "1  스파르타      98          상\n",
      "2  코란토스      80          하\n",
      "3    테베      87         중하\n",
      "4  코란토스      82          하\n"
     ]
    }
   ],
   "source": [
    "import pandas as pd\n",
    "\n",
    "# 샘플 데이터 생성\n",
    "data = {\n",
    "    '도시국가': ['아테네', '스파르타', '코란토스', '테베', '코란토스'],\n",
    "    '군사력 지수': [95, 98, 80, 87, 82]\n",
    "}\n",
    "\n",
    "df = pd.DataFrame(data)\n",
    "\n",
    "# 군사력 지수를 분위수를 기준으로 구간별로 나누기\n",
    "df['군사력 분위수 구간'] = pd.qcut(df['군사력 지수'], q=4, labels=['하', '중하', '중상', '상'])\n",
    "\n",
    "print(df)"
   ]
  },
  {
   "cell_type": "code",
   "execution_count": 23,
   "id": "7ac43529-d575-4f6e-a402-4774113ddd7e",
   "metadata": {},
   "outputs": [
    {
     "name": "stdout",
     "output_type": "stream",
     "text": [
      "       철학자  영향력 지수 영향력 분위수 구간\n",
      "0    소크라테스      90         중하\n",
      "1      플라톤      95         중상\n",
      "2  아리스토텔레스      98          상\n",
      "3  헤라클레이토스      85          하\n",
      "4    에픽테토스      88          하\n"
     ]
    }
   ],
   "source": [
    "import pandas as pd\n",
    "\n",
    "# 샘플 데이터 생성\n",
    "data = {\n",
    "    '철학자': ['소크라테스', '플라톤', '아리스토텔레스', '헤라클레이토스', '에픽테토스'],\n",
    "    '영향력 지수': [90, 95, 98, 85, 88]\n",
    "}\n",
    "\n",
    "df = pd.DataFrame(data)\n",
    "\n",
    "# 영향력 지수를 분위수를 기준으로 구간별로 나누기\n",
    "df['영향력 분위수 구간'] = pd.qcut(df['영향력 지수'], q=4, labels=['하', '중하', '중상', '상'])\n",
    "\n",
    "print(df)\n"
   ]
  },
  {
   "cell_type": "code",
   "execution_count": 24,
   "id": "ab79eaae-a365-4c0f-8758-5335a4d7b05e",
   "metadata": {},
   "outputs": [
    {
     "name": "stdout",
     "output_type": "stream",
     "text": [
      "        인물  지위 점수 지위 분위수 구간\n",
      "0    페르세우스     85         하\n",
      "1    헤라클레스     98         상\n",
      "2       헤라     75         하\n",
      "3      플라톤     90        중하\n",
      "4  아리스토텔레스     95        중상\n"
     ]
    }
   ],
   "source": [
    "import pandas as pd\n",
    "\n",
    "# 샘플 데이터 생성\n",
    "data = {\n",
    "    '인물': ['페르세우스', '헤라클레스', '헤라', '플라톤', '아리스토텔레스'],\n",
    "    '지위 점수': [85, 98, 75, 90, 95]\n",
    "}\n",
    "\n",
    "df = pd.DataFrame(data)\n",
    "\n",
    "# 지위 점수를 분위수를 기준으로 구간별로 나누기\n",
    "df['지위 분위수 구간'] = pd.qcut(df['지위 점수'], q=4, labels=['하', '중하', '중상', '상'])\n",
    "\n",
    "print(df)\n"
   ]
  },
  {
   "cell_type": "markdown",
   "id": "eb3a91dc-d088-4d58-a35b-70e2f3106949",
   "metadata": {},
   "source": [
    "## 6. merge\n",
    "- merge 함수는 두 개의 데이터프레임을 특정 열을 기준으로 합치는 데 사용됩니다. \n",
    "- 이 함수를 사용하면 데이터프레임 간에 공통된 열을 기준으로 병합하여 하나의 데이터프레임으로 합칠 수 있습니다. \n",
    "- 이때, 기준 열의 값이 일치하는 행들이 합쳐집니다."
   ]
  },
  {
   "cell_type": "code",
   "execution_count": 25,
   "id": "f07a30f5-e00d-4cd5-b182-125864b53e8b",
   "metadata": {},
   "outputs": [
    {
     "name": "stdout",
     "output_type": "stream",
     "text": [
      "     신  속성    소유물\n",
      "0  제우스  천둥     번개\n",
      "1   헤라  결혼     왕관\n",
      "2  아폴로  음악  활과 화살\n"
     ]
    }
   ],
   "source": [
    "import pandas as pd\n",
    "\n",
    "# 샘플 데이터 생성\n",
    "data1 = {\n",
    "    '신': ['제우스', '헤라', '포세이돈', '아테나', '아폴로'],\n",
    "    '속성': ['천둥', '결혼', '해양', '지혜', '음악']\n",
    "}\n",
    "data2 = {\n",
    "    '신': ['제우스', '헤라', '아폴로', '아레스', '헤르메스'],\n",
    "    '소유물': ['번개', '왕관', '활과 화살', '창', '길잡이의 지팡이']\n",
    "}\n",
    "\n",
    "df1 = pd.DataFrame(data1)\n",
    "df2 = pd.DataFrame(data2)\n",
    "\n",
    "# '신' 열을 기준으로 두 데이터프레임 병합\n",
    "merged_df = pd.merge(df1, df2, on='신', how='inner')\n",
    "\n",
    "print(merged_df)\n"
   ]
  },
  {
   "cell_type": "code",
   "execution_count": 26,
   "id": "53094d90-00d5-4f22-a942-b745e4ee5c33",
   "metadata": {},
   "outputs": [
    {
     "name": "stdout",
     "output_type": "stream",
     "text": [
      "   도시국가     역사적 사건 정치 체제\n",
      "0   아테네    페르시아 전쟁  민주주의\n",
      "1  스파르타  펠로포네소스 전투   군주제\n",
      "2  코란토스      테베 전쟁  민주주의\n",
      "3  코란토스      테베 전쟁  민주주의\n",
      "4  코란토스    살라미스 전투  민주주의\n",
      "5  코란토스    살라미스 전투  민주주의\n",
      "6    테베   플라타이아 전투   군주제\n"
     ]
    }
   ],
   "source": [
    "import pandas as pd\n",
    "\n",
    "# 샘플 데이터 생성\n",
    "data1 = {\n",
    "    '도시국가': ['아테네', '스파르타', '코란토스', '테베', '코란토스'],\n",
    "    '역사적 사건': ['페르시아 전쟁', '펠로포네소스 전투', '테베 전쟁', '플라타이아 전투', '살라미스 전투']\n",
    "}\n",
    "data2 = {\n",
    "    '도시국가': ['아테네', '스파르타', '코란토스', '테베', '코란토스'],\n",
    "    '정치 체제': ['민주주의', '군주제', '민주주의', '군주제', '민주주의']\n",
    "}\n",
    "\n",
    "df1 = pd.DataFrame(data1)\n",
    "df2 = pd.DataFrame(data2)\n",
    "\n",
    "# '도시국가' 열을 기준으로 두 데이터프레임 병합\n",
    "merged_df = pd.merge(df1, df2, on='도시국가', how='inner')\n",
    "\n",
    "print(merged_df)"
   ]
  },
  {
   "cell_type": "code",
   "execution_count": 27,
   "id": "b34e3d93-3432-4cc1-b019-c43fcf791ce6",
   "metadata": {},
   "outputs": [
    {
     "name": "stdout",
     "output_type": "stream",
     "text": [
      "       철학자        주요 작품       주요 개념\n",
      "0    소크라테스          이데아          무지\n",
      "1      플라톤           국가         이데아\n",
      "2  아리스토텔레스    니코마코스 윤리학        형이상학\n",
      "3  헤라클레이토스  헤라클레이토스의 고전  헤라클레이토스 주의\n",
      "4    에픽테토스       선덕과 친절          우정\n"
     ]
    }
   ],
   "source": [
    "import pandas as pd\n",
    "\n",
    "# 샘플 데이터 생성\n",
    "data1 = {\n",
    "    '철학자': ['소크라테스', '플라톤', '아리스토텔레스', '헤라클레이토스', '에픽테토스'],\n",
    "    '주요 작품': ['이데아', '국가', '니코마코스 윤리학', '헤라클레이토스의 고전', '선덕과 친절']\n",
    "}\n",
    "data2 = {\n",
    "    '철학자': ['소크라테스', '플라톤', '아리스토텔레스', '헤라클레이토스', '에픽테토스'],\n",
    "    '주요 개념': ['무지', '이데아', '형이상학', '헤라클레이토스 주의', '우정']\n",
    "}\n",
    "\n",
    "df1 = pd.DataFrame(data1)\n",
    "df2 = pd.DataFrame(data2)\n",
    "\n",
    "# '철학자' 열을 기준으로 두 데이터프레임 병합\n",
    "merged_df = pd.merge(df1, df2, on='철학자', how='inner')\n",
    "\n",
    "print(merged_df)\n"
   ]
  },
  {
   "cell_type": "code",
   "execution_count": 28,
   "id": "150dcf60-a557-4997-8855-057474b40231",
   "metadata": {},
   "outputs": [
    {
     "name": "stdout",
     "output_type": "stream",
     "text": [
      "        인물                        업적                                     영향력\n",
      "0    페르세우스  메드로사 전투에서 고고학을 위한 조약을 체결  페르세우스의 수행한 여러 위업으로 고대 그리스의 히어로로 인식되었다.\n",
      "1    헤라클레스          12가지의 역사적 노동을 완수           그의 역사적 노동으로 많은 사람들에게 영감을 주었다.\n",
      "2       헤라                     천계 여신                   그리스 신화에서 중요한 역할을 하였다.\n",
      "3      플라톤               이상국의 청사진 제시                       유럽 철학의 기초를 제공하였다.\n",
      "4  아리스토텔레스               논리학과 철학의 성립                       서양 철학의 기초를 제공하였다.\n"
     ]
    }
   ],
   "source": [
    "import pandas as pd\n",
    "\n",
    "# 샘플 데이터 생성\n",
    "data1 = {\n",
    "    '인물': ['페르세우스', '헤라클레스', '헤라', '플라톤', '아리스토텔레스'],\n",
    "    '업적': ['메드로사 전투에서 고고학을 위한 조약을 체결', '12가지의 역사적 노동을 완수', '천계 여신', '이상국의 청사진 제시', '논리학과 철학의 성립']\n",
    "}\n",
    "data2 = {\n",
    "    '인물': ['페르세우스', '헤라클레스', '헤라', '플라톤', '아리스토텔레스'],\n",
    "    '영향력': ['페르세우스의 수행한 여러 위업으로 고대 그리스의 히어로로 인식되었다.', '그의 역사적 노동으로 많은 사람들에게 영감을 주었다.', '그리스 신화에서 중요한 역할을 하였다.', '유럽 철학의 기초를 제공하였다.', '서양 철학의 기초를 제공하였다.']\n",
    "}\n",
    "\n",
    "df1 = pd.DataFrame(data1)\n",
    "df2 = pd.DataFrame(data2)\n",
    "\n",
    "# '인물' 열을 기준으로 두 데이터프레임 병합\n",
    "merged_df = pd.merge(df1, df2, on='인물', how='inner')\n",
    "\n",
    "print(merged_df)"
   ]
  },
  {
   "cell_type": "markdown",
   "id": "36b393aa-e4ac-4678-9bde-ba15d164ed28",
   "metadata": {},
   "source": [
    "## pandas.merge_ordered \n",
    "- 두 개의 데이터프레임을 병합하는데 사용됩니다. \n",
    "- 이 함수는 주어진 열을 기준으로 두 데이터프레임을 합치는데, 각 데이터프레임은 정렬되어 있어야 합니다. \n",
    "- 이 함수는 두 데이터프레임의 열을 일정한 순서로 합치고, 동일한 값을 갖는 행들을 병합합니다."
   ]
  },
  {
   "cell_type": "code",
   "execution_count": 29,
   "id": "bf8777ff-46af-40fb-a450-c25da9f0a1c6",
   "metadata": {},
   "outputs": [
    {
     "name": "stdout",
     "output_type": "stream",
     "text": [
      "          사건  발생 년도        결과\n",
      "0    살라미스 전투    480    그리스 승리\n",
      "1      테베 전쟁    371     테베 승리\n",
      "2    페르시아 전쟁    490  페르시아의 패배\n",
      "3  펠로포네소스 전투    480    그리스 승리\n",
      "4   플라타이아 전투    479    그리스 승리\n"
     ]
    }
   ],
   "source": [
    "import pandas as pd\n",
    "\n",
    "# 샘플 데이터 생성\n",
    "data1 = {\n",
    "    '사건': ['페르시아 전쟁', '펠로포네소스 전투', '테베 전쟁', '플라타이아 전투', '살라미스 전투'],\n",
    "    '발생 년도': [490, 480, 371, 479, 480]\n",
    "}\n",
    "data2 = {\n",
    "    '사건': ['살라미스 전투', '페르시아 전쟁', '플라타이아 전투', '펠로포네소스 전투', '테베 전쟁'],\n",
    "    '결과': ['그리스 승리', '페르시아의 패배', '그리스 승리', '그리스 승리', '테베 승리']\n",
    "}\n",
    "\n",
    "df1 = pd.DataFrame(data1)\n",
    "df2 = pd.DataFrame(data2)\n",
    "\n",
    "# '사건' 열을 기준으로 두 데이터프레임 병합\n",
    "merged_df = pd.merge_ordered(df1, df2, on='사건', how='inner')\n",
    "\n",
    "print(merged_df)"
   ]
  },
  {
   "cell_type": "code",
   "execution_count": 30,
   "id": "475bc0f5-9f7c-473a-9b73-d18d6f58e19a",
   "metadata": {},
   "outputs": [
    {
     "name": "stdout",
     "output_type": "stream",
     "text": [
      "     지명        위치 정치 체제\n",
      "0  스파르타     라콘 시티   군주제\n",
      "1   아테네    아테네 지역  민주주의\n",
      "2  코란토스    피로스 지역  민주주의\n",
      "3  코란토스    피로스 지역  민주주의\n",
      "4  코란토스    피로스 지역  민주주의\n",
      "5  코란토스    피로스 지역  민주주의\n",
      "6    테베  보이오티아 지역   군주제\n"
     ]
    }
   ],
   "source": [
    "import pandas as pd\n",
    "\n",
    "# 샘플 데이터 생성\n",
    "data1 = {\n",
    "    '지명': ['아테네', '스파르타', '코란토스', '테베', '코란토스'],\n",
    "    '위치': ['아테네 지역', '라콘 시티', '피로스 지역', '보이오티아 지역', '피로스 지역']\n",
    "}\n",
    "data2 = {\n",
    "    '지명': ['아테네', '스파르타', '코란토스', '테베', '코란토스'],\n",
    "    '정치 체제': ['민주주의', '군주제', '민주주의', '군주제', '민주주의']\n",
    "}\n",
    "\n",
    "df1 = pd.DataFrame(data1)\n",
    "df2 = pd.DataFrame(data2)\n",
    "\n",
    "# '지명' 열을 기준으로 두 데이터프레임 병합\n",
    "merged_df = pd.merge_ordered(df1, df2, on='지명', how='inner')\n",
    "\n",
    "print(merged_df)\n"
   ]
  },
  {
   "cell_type": "code",
   "execution_count": 31,
   "id": "d1b5c7c4-27d9-489e-b385-abac9769fb18",
   "metadata": {},
   "outputs": [
    {
     "name": "stdout",
     "output_type": "stream",
     "text": [
      "        인물                        업적                                     영향력\n",
      "0  아리스토텔레스               논리학과 철학의 성립                       서양 철학의 기초를 제공하였다.\n",
      "1    페르세우스  메드로사 전투에서 고고학을 위한 조약을 체결  페르세우스의 수행한 여러 위업으로 고대 그리스의 히어로로 인식되었다.\n",
      "2      플라톤               이상국의 청사진 제시                       유럽 철학의 기초를 제공하였다.\n",
      "3       헤라                     천계 여신                   그리스 신화에서 중요한 역할을 하였다.\n",
      "4    헤라클레스          12가지의 역사적 노동을 완수           그의 역사적 노동으로 많은 사람들에게 영감을 주었다.\n"
     ]
    }
   ],
   "source": [
    "import pandas as pd\n",
    "\n",
    "# 샘플 데이터 생성\n",
    "data1 = {\n",
    "    '인물': ['페르세우스', '헤라클레스', '헤라', '플라톤', '아리스토텔레스'],\n",
    "    '업적': ['메드로사 전투에서 고고학을 위한 조약을 체결', '12가지의 역사적 노동을 완수', '천계 여신', '이상국의 청사진 제시', '논리학과 철학의 성립']\n",
    "}\n",
    "data2 = {\n",
    "    '인물': ['페르세우스', '헤라클레스', '헤라', '플라톤', '아리스토텔레스'],\n",
    "    '영향력': ['페르세우스의 수행한 여러 위업으로 고대 그리스의 히어로로 인식되었다.', '그의 역사적 노동으로 많은 사람들에게 영감을 주었다.', '그리스 신화에서 중요한 역할을 하였다.', '유럽 철학의 기초를 제공하였다.', '서양 철학의 기초를 제공하였다.']\n",
    "}\n",
    "\n",
    "df1 = pd.DataFrame(data1)\n",
    "df2 = pd.DataFrame(data2)\n",
    "\n",
    "# '인물' 열을 기준으로 두 데이터프레임 병합\n",
    "merged_df = pd.merge_ordered(df1, df2, on='인물', how='inner')\n",
    "\n",
    "print(merged_df)"
   ]
  },
  {
   "cell_type": "markdown",
   "id": "b7721be1-48aa-452d-8fda-f1759c6fbeb9",
   "metadata": {},
   "source": [
    "## 7. pd.merge_asof() 함수\n",
    "- 주로 시계열 데이터에서 사용되며, 특정 '키' 열에서 정렬된 두 데이터프레임을 병합할 때,\n",
    "  한 데이터프레임의 키 값과 다른 데이터프레임의 키 값 중 가장 가까운 이전 값을 기준으로 병합하는 방식입니다. \n",
    "- 이 함수는 특히 금융 데이터에서 시장 이벤트와 거래를 매칭시킬 때 유용하게 사용됩니다."
   ]
  },
  {
   "cell_type": "code",
   "execution_count": 33,
   "id": "3c5d8f37-3eb7-474f-9142-9e3c17cdd1f8",
   "metadata": {},
   "outputs": [
    {
     "name": "stdout",
     "output_type": "stream",
     "text": [
      "                 time  value1  value2\n",
      "0 2024-01-01 10:00:00      10     NaN\n",
      "1 2024-01-01 11:00:00      20   100.0\n",
      "2 2024-01-01 12:00:00      30   200.0\n"
     ]
    }
   ],
   "source": [
    "'''\n",
    "import pandas as pd\n",
    "\n",
    "# 그리스 역사의 중요 사건들과 그 발생 시기 데이터\n",
    "events = pd.DataFrame({\n",
    "    'event_number': [1, 2, 3, 4],\n",
    "    'event_name': ['페르시아 전쟁 시작 🏹', '마라톤 전투 💥', '테르모필레 전투 ⚔️', '살라미스 해전 ⛵'],\n",
    "    'event_year': [-490, -490, -480, -480]\n",
    "})\n",
    "\n",
    "# 사건 번호에 따른 그리스 도시 상태\n",
    "city_states = pd.DataFrame({\n",
    "    'event_number': [1, 1.5, 2, 3, 4],\n",
    "    'city_state': ['아테네 🏛️', '스파르타 🛡️', '아테네 🏛️', '스파르타 🛡️', '아테네 🏛️']\n",
    "})\n",
    "\n",
    "# 사건 번호를 기준으로 가장 가까운 이전 값으로 병합\n",
    "merged_history = pd.merge_asof(events.sort_values('event_number'), city_states.sort_values('event_number'), on='event_number')\n",
    "\n",
    "print(merged_history)\n",
    "'''\n",
    "import pandas as pd\n",
    "import numpy as np\n",
    "\n",
    "# 샘플 시계열 데이터 생성\n",
    "dates1 = pd.to_datetime(['2024-01-01 10:00', '2024-01-01 11:00', '2024-01-01 12:00'])\n",
    "data1 = {'time': dates1, 'value1': [10, 20, 30]}\n",
    "df1 = pd.DataFrame(data1)\n",
    "\n",
    "dates2 = pd.to_datetime(['2024-01-01 10:45', '2024-01-01 11:30', '2024-01-01 12:15'])\n",
    "data2 = {'time': dates2, 'value2': [100, 200, 300]}\n",
    "df2 = pd.DataFrame(data2)\n",
    "\n",
    "# df1의 'time' 열을 기준으로 df2와 병합. 가장 가까운 과거의 타임스탬프를 매칭\n",
    "merged_df = pd.merge_asof(df1, df2, on='time')\n",
    "\n",
    "print(merged_df)"
   ]
  },
  {
   "cell_type": "markdown",
   "id": "a1d03443-842b-4fc4-b3a2-f1ddee75c541",
   "metadata": {},
   "source": [
    "## pandas.concat\n",
    "- 하나 이상의 데이터프레임을 연결(concatenate)하는 데 사용됩니다. \n",
    "- 이 함수를 사용하면 행 또는 열을 기준으로 데이터프레임을 연결할 수 있습니다. \n",
    "- 또한, 연결할 때 데이터프레임의 인덱스와 열 이름을 유지하거나 다시 지정할 수 있습니다."
   ]
  },
  {
   "cell_type": "code",
   "execution_count": 34,
   "id": "b6d9f3b8-87c9-4902-b8ce-ebafb1c4fe5d",
   "metadata": {},
   "outputs": [
    {
     "name": "stdout",
     "output_type": "stream",
     "text": [
      "          사건      결과\n",
      "0    페르시아 전쟁  그리스 승리\n",
      "1  펠로포네소스 전투  그리스 승리\n",
      "2      테베 전쟁   테베 승리\n",
      "3   플라타이아 전투  그리스 승리\n",
      "4    살라미스 전투  그리스 승리\n"
     ]
    }
   ],
   "source": [
    "import pandas as pd\n",
    "\n",
    "# 샘플 데이터 생성\n",
    "data1 = {\n",
    "    '사건': ['페르시아 전쟁', '펠로포네소스 전투', '테베 전쟁'],\n",
    "    '결과': ['그리스 승리', '그리스 승리', '테베 승리']\n",
    "}\n",
    "data2 = {\n",
    "    '사건': ['플라타이아 전투', '살라미스 전투'],\n",
    "    '결과': ['그리스 승리', '그리스 승리']\n",
    "}\n",
    "\n",
    "df1 = pd.DataFrame(data1)\n",
    "df2 = pd.DataFrame(data2)\n",
    "\n",
    "# 데이터프레임 연결\n",
    "concatenated_df = pd.concat([df1, df2], ignore_index=True)\n",
    "\n",
    "print(concatenated_df)\n"
   ]
  },
  {
   "cell_type": "code",
   "execution_count": 35,
   "id": "9a6def7f-fa73-45be-98a8-816820f42d63",
   "metadata": {},
   "outputs": [
    {
     "name": "stdout",
     "output_type": "stream",
     "text": [
      "        인물          사상\n",
      "0    소크라테스          무지\n",
      "1      플라톤         이데아\n",
      "2  아리스토텔레스        형이상학\n",
      "3  헤라클레이토스  헤라클레이토스 주의\n"
     ]
    }
   ],
   "source": [
    "import pandas as pd\n",
    "\n",
    "# 샘플 데이터 생성\n",
    "data1 = {\n",
    "    '인물': ['소크라테스', '플라톤'],\n",
    "    '사상': ['무지', '이데아']\n",
    "}\n",
    "data2 = {\n",
    "    '인물': ['아리스토텔레스', '헤라클레이토스'],\n",
    "    '사상': ['형이상학', '헤라클레이토스 주의']\n",
    "}\n",
    "\n",
    "df1 = pd.DataFrame(data1)\n",
    "df2 = pd.DataFrame(data2)\n",
    "\n",
    "# 데이터프레임 연결\n",
    "concatenated_df = pd.concat([df1, df2], ignore_index=True)\n",
    "\n",
    "print(concatenated_df)\n"
   ]
  },
  {
   "cell_type": "code",
   "execution_count": 36,
   "id": "c570f760-3e1d-4333-b31e-af176e24d80f",
   "metadata": {},
   "outputs": [
    {
     "name": "stdout",
     "output_type": "stream",
     "text": [
      "     지명 정치 체제\n",
      "0   아테네  민주주의\n",
      "1  스파르타   군주제\n",
      "2  코란토스  민주주의\n",
      "3    테베   군주제\n"
     ]
    }
   ],
   "source": [
    "import pandas as pd\n",
    "\n",
    "# 샘플 데이터 생성\n",
    "data1 = {\n",
    "    '지명': ['아테네', '스파르타'],\n",
    "    '정치 체제': ['민주주의', '군주제']\n",
    "}\n",
    "data2 = {\n",
    "    '지명': ['코란토스', '테베'],\n",
    "    '정치 체제': ['민주주의', '군주제']\n",
    "}\n",
    "\n",
    "df1 = pd.DataFrame(data1)\n",
    "df2 = pd.DataFrame(data2)\n",
    "\n",
    "# 데이터프레임 연결\n",
    "concatenated_df = pd.concat([df1, df2], ignore_index=True)\n",
    "\n",
    "print(concatenated_df)\n"
   ]
  },
  {
   "cell_type": "code",
   "execution_count": 37,
   "id": "2a5bb90a-d092-4259-be90-b9c65fa1bad0",
   "metadata": {},
   "outputs": [
    {
     "name": "stdout",
     "output_type": "stream",
     "text": [
      "                  이야기                        설명\n",
      "0       페르세우스의 위대한 모험  메드로사 전투에서 고고학을 위한 조약을 체결\n",
      "1            플라톤의 이상국               이상국의 청사진 제시\n",
      "2  헤라클레스의 열두가지 역사적 노동          12가지의 역사적 노동을 완수\n",
      "3     아리스토텔레스의 철학의 성립               논리학과 철학의 성립\n"
     ]
    }
   ],
   "source": [
    "import pandas as pd\n",
    "\n",
    "# 샘플 데이터 생성\n",
    "data1 = {\n",
    "    '이야기': ['페르세우스의 위대한 모험', '플라톤의 이상국'],\n",
    "    '설명': ['메드로사 전투에서 고고학을 위한 조약을 체결', '이상국의 청사진 제시']\n",
    "}\n",
    "data2 = {\n",
    "    '이야기': ['헤라클레스의 열두가지 역사적 노동', '아리스토텔레스의 철학의 성립'],\n",
    "    '설명': ['12가지의 역사적 노동을 완수', '논리학과 철학의 성립']\n",
    "}\n",
    "\n",
    "df1 = pd.DataFrame(data1)\n",
    "df2 = pd.DataFrame(data2)\n",
    "\n",
    "# 데이터프레임 연결\n",
    "concatenated_df = pd.concat([df1, df2], ignore_index=True)\n",
    "\n",
    "print(concatenated_df)\n"
   ]
  },
  {
   "cell_type": "code",
   "execution_count": null,
   "id": "b3b0dd49-b9ec-4a42-b993-183f2493ae9f",
   "metadata": {},
   "outputs": [],
   "source": []
  }
 ],
 "metadata": {
  "kernelspec": {
   "display_name": "Python 3 (ipykernel)",
   "language": "python",
   "name": "python3"
  },
  "language_info": {
   "codemirror_mode": {
    "name": "ipython",
    "version": 3
   },
   "file_extension": ".py",
   "mimetype": "text/x-python",
   "name": "python",
   "nbconvert_exporter": "python",
   "pygments_lexer": "ipython3",
   "version": "3.10.9"
  }
 },
 "nbformat": 4,
 "nbformat_minor": 5
}
