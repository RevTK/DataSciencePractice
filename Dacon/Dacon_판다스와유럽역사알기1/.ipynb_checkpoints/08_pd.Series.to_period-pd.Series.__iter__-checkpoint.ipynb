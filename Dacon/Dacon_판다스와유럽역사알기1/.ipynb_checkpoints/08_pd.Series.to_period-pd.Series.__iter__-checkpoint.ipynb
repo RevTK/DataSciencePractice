{
 "cells": [
  {
   "cell_type": "markdown",
   "id": "61718ad5-aa08-42a1-bbd5-6522d1350b96",
   "metadata": {},
   "source": [
    "# 판다스와 유럽 역사 알기1-8\n",
    "\n",
    "- 08_\n",
    "- https://www.dacon.io/edu/131"
   ]
  },
  {
   "cell_type": "markdown",
   "id": "467e2ea4-c5b6-43ca-8d10-fb3a75987bbf",
   "metadata": {},
   "source": [
    "## pandas.Series.to_period 메서드\n",
    "- 시계열 데이터를 특정 기간을 나타내는 데이터로 변환합니다. \n",
    "- 이는 날짜/시간 인덱스를 갖는 Series에 유용하게 사용될 수 있으며, 'Y' (연), 'M' (월), 'D' (일) 등과 같이 시간 단위를 지정하여 변환할 수 있습니다."
   ]
  },
  {
   "cell_type": "code",
   "execution_count": 1,
   "id": "ccca9157-9bab-4cb2-b2ec-2d4d41f41e99",
   "metadata": {},
   "outputs": [
    {
     "name": "stdout",
     "output_type": "stream",
     "text": [
      "🏛️ 아테네 민주주의의 주요 사건 기간: 1908    Reforms of Cleisthenes\n",
      "1890              Persian Wars\n",
      "1931         Peloponnesian War\n",
      "Freq: A-DEC, dtype: object\n"
     ]
    }
   ],
   "source": [
    "# 코드 예제 1: 🏛️ 아테네 민주주의의 시작 🏛️\n",
    "# 아테네는 고대 세계에서 민주주의를 처음 실현한 도시국가입니다. \n",
    "# 이 코드 예제에서는 아테네 민주주의의 주요 사건들과 해당 사건들의 연도를 나타내는 데이터를 생성하고, \n",
    "# to_period 메서드를 사용하여 연간 기간으로 변환합니다.\n",
    "\n",
    "import pandas as pd\n",
    "\n",
    "# 아테네 민주주의의 주요 사건들과 연도\n",
    "democracy_events = pd.Series([\"Reforms of Cleisthenes\", \"Persian Wars\", \"Peloponnesian War\"],\n",
    "                             index=pd.to_datetime([\"1908-01-01\", \"1890-01-01\", \"1931-01-01\"]))\n",
    "#to_datetime([\"508-01-01\", \"490-01-01\", \"431-01-01\"]))\n",
    "\n",
    "# 연간 기간으로 변환\n",
    "events_period = democracy_events.to_period(\"Y\")\n",
    "\n",
    "print(\"🏛️ 아테네 민주주의의 주요 사건 기간:\", events_period)"
   ]
  },
  {
   "cell_type": "code",
   "execution_count": 2,
   "id": "009c8b68-497d-463a-92f1-68f34525773b",
   "metadata": {},
   "outputs": [
    {
     "name": "stdout",
     "output_type": "stream",
     "text": [
      "🎭 아테네 고전기의 주요 극작품 기간: 1858       Oresteia\n",
      "1829    Oedipus Rex\n",
      "1831          Medea\n",
      "Freq: A-DEC, dtype: object\n"
     ]
    }
   ],
   "source": [
    "# 코드 예제 2: 🎭 아테네의 고전기 🎭\n",
    "# 아테네의 고전기는 문화와 예술이 꽃피운 시기로, 많은 고전 문학과 극작품이 탄생했습니다.\n",
    "# 이 코드 예제에서는 고전기 주요 극작품들과 그 작품들의 초연 연도를 나타내는 데이터를 생성하고, \n",
    "# to_period 메서드를 사용하여 연간 기간으로 변환합니다.\n",
    "\n",
    "import pandas as pd\n",
    "\n",
    "# 고전기 주요 극작품들과 초연 연도\n",
    "classic_plays = pd.Series([\"Oresteia\", \"Oedipus Rex\", \"Medea\"],\n",
    "                          index=pd.to_datetime([\"1858-01-01\", \"1829-01-01\", \"1831-01-01\"]))\n",
    "\n",
    "#\"458-01-01\", \"429-01-01\", \"431-01-01\"\n",
    "\n",
    "# 연간 기간으로 변환\n",
    "plays_period = classic_plays.to_period(\"Y\")\n",
    "\n",
    "print(\"🎭 아테네 고전기의 주요 극작품 기간:\", plays_period)"
   ]
  },
  {
   "cell_type": "code",
   "execution_count": 3,
   "id": "622c3981-63f1-49be-952f-2aafdc01d833",
   "metadata": {},
   "outputs": [
    {
     "name": "stdout",
     "output_type": "stream",
     "text": [
      "⚔️ 아테네의 주요 전쟁 기간: 1899    Greco-Persian Wars\n",
      "1831     Peloponnesian War\n",
      "1795        Corinthian War\n",
      "Freq: A-DEC, dtype: object\n"
     ]
    }
   ],
   "source": [
    "# 코드 예제 3: ⚔️ 아테네의 전쟁들 ⚔️\n",
    "# 아테네는 여러 중요한 전쟁에 참여했습니다. \n",
    "# 이 코드 예제에서는 아테네가 참여한 주요 전쟁들과 그 전쟁들의 발발 연도를 나타내는 데이터를 생성하고, \n",
    "# to_period 메서드를 사용하여 연간 기간으로 변환합니다.\n",
    "\n",
    "import pandas as pd\n",
    "\n",
    "# 아테네가 참여한 주요 전쟁들과 발발 연도\n",
    "wars = pd.Series([\"Greco-Persian Wars\", \"Peloponnesian War\", \"Corinthian War\"],\n",
    "                 index=pd.to_datetime([\"1899-01-01\", \"1831-01-01\", \"1795-01-01\"]))\n",
    "\n",
    "\n",
    "#\"499-01-01\", \"431-01-01\", \"395-01-01\"\n",
    "# 연간 기간으로 변환\n",
    "wars_period = wars.to_period(\"Y\")\n",
    "\n",
    "print(\"⚔️ 아테네의 주요 전쟁 기간:\", wars_period)"
   ]
  },
  {
   "cell_type": "markdown",
   "id": "30b5847f-51e9-4cfc-8710-a74b49640d02",
   "metadata": {},
   "source": [
    "## pandas.Series.to_timestamp 메서드\n",
    "- 기간을 나타내는 Series 객체를 타임스탬프(datetime)으로 변환합니다.\n",
    "- 이 메서드는 주로 시계열 데이터를 다룰 때 유용하며, 기간 인덱스를 가진 Series를 날짜/시간 인덱스로 변환할 수 있습니다."
   ]
  },
  {
   "cell_type": "code",
   "execution_count": 4,
   "id": "ad7d75aa-5e4f-48e0-a2dc-855b27872857",
   "metadata": {},
   "outputs": [
    {
     "name": "stdout",
     "output_type": "stream",
     "text": [
      "🏺 아테네의 고대 올림픽 참가 시작 타임스탬프: DatetimeIndex(['2076-01-01', '1772-01-01', '1744-01-01'], dtype='datetime64[ns]', name='Athenian Olympics Participation', freq='WOM-1WED')\n"
     ]
    }
   ],
   "source": [
    "# 코드 예제 1: 🏺 아테네의 고대 올림픽 🏺\n",
    "# 아테네는 고대 올림픽에 적극적으로 참여했습니다. \n",
    "# 이 코드 예제에서는 아테네 선수들이 참가한 고대 올림픽의 기간을 나타내는 데이터를 생성하고, \n",
    "# to_timestamp 메서드를 사용하여 시작 타임스탬프로 변환합니다.\n",
    "\n",
    "import pandas as pd\n",
    "\n",
    "# 아테네 선수들이 참가한 고대 올림픽 기간\n",
    "olympics = pd.Series([\"2076\", \"1772\", \"1744\"], name=\"Athenian Olympics Participation\")\n",
    "#\"776 BC\", \"472 BC\", \"444 BC\"\n",
    "olympics_period = pd.PeriodIndex(olympics, freq=\"Y\")\n",
    "\n",
    "# 시작 타임스탬프로 변환\n",
    "olympics_timestamp = olympics_period.to_timestamp()\n",
    "\n",
    "print(\"🏺 아테네의 고대 올림픽 참가 시작 타임스탬프:\", olympics_timestamp)"
   ]
  },
  {
   "cell_type": "code",
   "execution_count": 5,
   "id": "b67ba9bb-e50d-4280-a80e-5a8dbab747a4",
   "metadata": {},
   "outputs": [
    {
     "name": "stdout",
     "output_type": "stream",
     "text": [
      "📜 아테네의 주요 법령 시행 시작 타임스탬프: DatetimeIndex(['2076-01-01', '1772-01-01', '1744-01-01'], dtype='datetime64[ns]', freq='WOM-1WED')\n"
     ]
    }
   ],
   "source": [
    "# 코드 예제 2: 📜 아테네의 법령 📜\n",
    "# 아테네는 다양한 중요한 법령을 제정했습니다. \n",
    "# 이 코드 예제에서는 몇몇 주요 아테네 법령의 시행 기간을 나타내는 데이터를 생성하고, \n",
    "# to_timestamp 메서드를 사용하여 그 기간의 시작 타임스탬프로 변환합니다.\n",
    "\n",
    "import pandas as pd\n",
    "\n",
    "# 주요 아테네 법령의 시행 기간\n",
    "laws = pd.Series([\"Solon's Reforms\", \"Cleisthenes' Reforms\", \"Pericles' Citizenship Law\"],\n",
    "                 index=pd.PeriodIndex([\"2076\", \"1772\", \"1744\"], freq=\"Y\")) \n",
    "#[\"594 BC\", \"508 BC\", \"451 BC\"]\n",
    "\n",
    "# 시작 타임스탬프로 변환\n",
    "laws_timestamp = laws.index.to_timestamp()\n",
    "\n",
    "print(\"📜 아테네의 주요 법령 시행 시작 타임스탬프:\", laws_timestamp)"
   ]
  },
  {
   "cell_type": "code",
   "execution_count": null,
   "id": "adc2e196-505d-4c89-93ba-e60c5007215e",
   "metadata": {},
   "outputs": [],
   "source": [
    "코드 예제 3: ⚔️ 아테네 전쟁 기간 ⚔️\n",
    "아테네는 여러 전쟁에 참여했습니다.\n",
    "이 코드 예제에서는 아테네가 참여한 주요 전쟁의 기간을 나타내는 데이터를 생성하고,\n",
    "to_timestamp 메서드를 사용하여 각 전쟁의 시작 타임스탬프로 변환합니다.\n",
    "\n",
    "import pandas as pd\n",
    "\n",
    "# 아테네가 참여한 주요 전쟁의 기간\n",
    "wars = pd.Series([\"Persian Wars\", \"Peloponnesian War\", \"Corinthian War\"],\n",
    "                 index=pd.PeriodIndex([\"2076\", \"1772\", \"1744\"], freq=\"Y\"))\n",
    "#[\"499 BC-449 BC\", \"431 BC-404 BC\", \"395 BC-387 BC\"]\n",
    "# 시작 타임스탬프로 변환\n",
    "wars_timestamp = wars.index.to_timestamp(how=\"start\")\n",
    "\n",
    "print(\"⚔️ 아테네 전쟁 기간의 시작 타임스탬프:\", wars_timestamp)"
   ]
  },
  {
   "cell_type": "code",
   "execution_count": 6,
   "id": "9e4b8d54-ffa9-4b14-b917-2908b834771e",
   "metadata": {},
   "outputs": [
    {
     "name": "stdout",
     "output_type": "stream",
     "text": [
      "🏰 크레타의 미노아 궁전: ['Knossos', 'Phaistos', 'Malia', 'Zakros']\n"
     ]
    }
   ],
   "source": [
    "# 코드 예제 1: 🏰 크레타의 미노아 궁전 🏰\n",
    "# 크레타 섬은 미노아 문명으로 유명하며, 여러 궁전이 발굴되었습니다. \n",
    "# 이 코드 예제에서는 크레타 섬의 주요 미노아 궁전 이름을 나타내는 데이터를 생성하고, \n",
    "# to_list 메서드를 사용하여 파이썬 리스트로 변환합니다.\n",
    "\n",
    "import pandas as pd\n",
    "\n",
    "# 크레타의 주요 미노아 궁전 이름\n",
    "minoan_palaces = pd.Series([\"Knossos\", \"Phaistos\", \"Malia\", \"Zakros\"], name=\"Minoan Palaces in Crete\")\n",
    "\n",
    "# 파이썬 리스트로 변환\n",
    "palaces_list = minoan_palaces.to_list()\n",
    "\n",
    "print(\"🏰 크레타의 미노아 궁전:\", palaces_list)"
   ]
  },
  {
   "cell_type": "code",
   "execution_count": 7,
   "id": "81b52b68-b9ce-4632-8755-1a1585face41",
   "metadata": {},
   "outputs": [
    {
     "name": "stdout",
     "output_type": "stream",
     "text": [
      "🏺 크레타의 미술 작품: ['Bull Leaping Fresco', 'Snake Goddess Figurines', 'Palace of Knossos Frescoes']\n"
     ]
    }
   ],
   "source": [
    "# 코드 예제 2: 🏺 크레타의 미술품 🏺\n",
    "# 크레타 섬의 미노아 문명은 독특한 미술 작품으로도 잘 알려져 있습니다.\n",
    "# 이 코드 예제에서는 크레타에서 발견된 주요 미술 작품들을 나타내는 데이터를 생성하고,\n",
    "# to_list 메서드를 사용하여 파이썬 리스트로 변환합니다.\n",
    "\n",
    "import pandas as pd\n",
    "\n",
    "# 크레타의 주요 미술 작품\n",
    "cretan_artworks = pd.Series([\"Bull Leaping Fresco\", \"Snake Goddess Figurines\", \"Palace of Knossos Frescoes\"], name=\"Cretan Artworks\")\n",
    "\n",
    "# 파이썬 리스트로 변환\n",
    "artworks_list = cretan_artworks.to_list()\n",
    "\n",
    "print(\"🏺 크레타의 미술 작품:\", artworks_list)"
   ]
  },
  {
   "cell_type": "code",
   "execution_count": 8,
   "id": "47b77b58-eb28-4b23-8c28-d478963260bc",
   "metadata": {},
   "outputs": [
    {
     "name": "stdout",
     "output_type": "stream",
     "text": [
      "📜 크레타의 문자 체계: ['Linear A', 'Linear B', 'Phaistos Disc']\n"
     ]
    }
   ],
   "source": [
    "# 코드 예제 3: 📜 크레타의 문자 체계 📜\n",
    "# 미노아 문명은 그들만의 독특한 문자 체계를 가지고 있었습니다.\n",
    "# 이 코드 예제에서는 크레타에서 사용된 주요 문자 체계들을 나타내는 데이터를 생성하고, \n",
    "# to_list 메서드를 사용하여 파이썬 리스트로 변환합니다.\n",
    "\n",
    "import pandas as pd\n",
    "\n",
    "# 크레타의 주요 문자 체계\n",
    "cretan_scripts = pd.Series([\"Linear A\", \"Linear B\", \"Phaistos Disc\"], name=\"Cretan Scripts\")\n",
    "\n",
    "# 파이썬 리스트로 변환\n",
    "scripts_list = cretan_scripts.to_list()\n",
    "\n",
    "print(\"📜 크레타의 문자 체계:\", scripts_list)"
   ]
  },
  {
   "cell_type": "markdown",
   "id": "d525b190-4d04-4e6e-ac46-826ba24feb7e",
   "metadata": {},
   "source": [
    "## pandas.Series.__array__\n",
    "- Series 객체의 데이터를 NumPy 배열로 변환하며, 일반적으로 사용자가 직접 호출하지 않고, NumPy 연산이나 다른 라이브러리에 Series 객체를 전달할 때 내부적으로 사용됩니다."
   ]
  },
  {
   "cell_type": "code",
   "execution_count": 29,
   "id": "e83bcf3b-e0e3-4b52-b92c-f44b4b3dc503",
   "metadata": {},
   "outputs": [
    {
     "name": "stdout",
     "output_type": "stream",
     "text": [
      "🏺 크레타 미술품 컬렉션 배열: ['Faience Snake Goddess' 'Bull Leaping Fresco' 'Phaistos Disc']\n"
     ]
    }
   ],
   "source": [
    "# 코드 예제 1: 🏺 크레타 미술품 컬렉션 🏺\n",
    "# 크레타 섬은 고대 미노아 문명의 미술품으로 유명합니다.\n",
    "# 이 코드 예제에서는 크레타의 미술품 컬렉션을 나타내는 데이터를 생성하고, \n",
    "# array 메서드를 사용하여 NumPy 배열로 변환합니다.\n",
    "\n",
    "import pandas as pd\n",
    "import numpy as np\n",
    "\n",
    "# 크레타 미술품 컬렉션\n",
    "cretan_artifacts = pd.Series([\"Faience Snake Goddess\", \"Bull Leaping Fresco\", \"Phaistos Disc\"], name=\"Cretan Artifacts\")\n",
    "\n",
    "# NumPy 배열로 변환\n",
    "artifacts_array = cretan_artifacts.__array__()\n",
    "\n",
    "print(\"🏺 크레타 미술품 컬렉션 배열:\", artifacts_array)"
   ]
  },
  {
   "cell_type": "code",
   "execution_count": 28,
   "id": "8356e061-9c9a-49fe-8d07-a5072eb8ad6d",
   "metadata": {},
   "outputs": [
    {
     "name": "stdout",
     "output_type": "stream",
     "text": [
      "🏰 크레타의 고대 궁전 배열: ['Palace of Knossos' 'Palace of Phaistos' 'Palace of Malia']\n"
     ]
    }
   ],
   "source": [
    "# 코드 예제 2: 🏰 크레타의 고대 궁전 🏰\n",
    "# 크레타 섬에는 다양한 고대 궁전이 있으며, 이들은 미노아 문명의 중심지였습니다.\n",
    "# 이 코드 예제에서는 크레타의 주요 궁전을 나타내는 데이터를 생성하고, \n",
    "# array 메서드를 사용하여 NumPy 배열로 변환합니다\n",
    "\n",
    "import pandas as pd\n",
    "import numpy as np\n",
    "\n",
    "# 크레타의 고대 궁전\n",
    "cretan_palaces = pd.Series([\"Palace of Knossos\", \"Palace of Phaistos\", \"Palace of Malia\"], name=\"Cretan Palaces\")\n",
    "\n",
    "# NumPy 배열로 변환\n",
    "palaces_array = cretan_palaces.__array__()\n",
    "\n",
    "print(\"🏰 크레타의 고대 궁전 배열:\", palaces_array)"
   ]
  },
  {
   "cell_type": "code",
   "execution_count": 27,
   "id": "d3a9f27b-7a68-4edf-9c4b-2fb48ca609ab",
   "metadata": {},
   "outputs": [
    {
     "name": "stdout",
     "output_type": "stream",
     "text": [
      "📚 크레타 문자 체계 배열: ['Linear A' 'Linear B' 'Cretan Hieroglyphs']\n"
     ]
    }
   ],
   "source": [
    "# 코드 예제 3: 📚 크레타 문자 체계 📚\n",
    "# 크레타 섬의 고대 문명은 독특한 문자 체계를 사용했습니다.\n",
    "# 이 코드 예제에서는 크레타에서 사용된 문자 체계를 나타내는 데이터를 생성하고, \n",
    "# array 메서드를 사용하여 NumPy 배열로 변환합니다.\n",
    "\n",
    "import pandas as pd\n",
    "import numpy as np\n",
    "\n",
    "# 크레타 문자 체계\n",
    "cretan_scripts = pd.Series([\"Linear A\", \"Linear B\", \"Cretan Hieroglyphs\"], name=\"Cretan Scripts\")\n",
    "\n",
    "# NumPy 배열로 변환\n",
    "scripts_array = cretan_scripts.__array__()\n",
    "\n",
    "print(\"📚 크레타 문자 체계 배열:\", scripts_array)"
   ]
  },
  {
   "cell_type": "markdown",
   "id": "e7d696bb-724c-48fe-b96b-00e0305f2b50",
   "metadata": {},
   "source": [
    "## pandas.Series.get 메서드\n",
    "- Series에서 특정 인덱스 레이블에 해당하는 값을 검색합니다. \n",
    "- 만약 레이블이 존재하지 않을 경우, 선택적으로 지정한 기본값을 반환할 수 있습니다. 이 메서드는 딕셔너리의 get 메서드와 유사한 방식으로 작동합니다."
   ]
  },
  {
   "cell_type": "code",
   "execution_count": 26,
   "id": "3f769660-50bc-4018-a459-ea162bbf3893",
   "metadata": {},
   "outputs": [
    {
     "name": "stdout",
     "output_type": "stream",
     "text": [
      "🏺 'Phaistos Disc' 작품 설명: A mysterious clay disc inscribed with a unique script, found in the Minoan palace of Phaistos.\n"
     ]
    }
   ],
   "source": [
    "# 코드 예제 1: 🏺 크레타의 미술 작품 🏺\n",
    "# 크레타는 고대 미노아 문명의 미술 작품으로 유명합니다. \n",
    "# 이 코드 예제에서는 크레타의 대표적인 미술 작품들과 그 설명을 나타내는 데이터를 생성하고,\n",
    "# 특정 작품의 설명을 get 메서드로 검색합니다.\n",
    "\n",
    "import pandas as pd\n",
    "\n",
    "# 크레타의 미술 작품과 설명\n",
    "artworks = pd.Series({\n",
    "    \"Faience Snake Goddess\": \"A figurine of a woman holding a snake in each hand, from the palace of Knossos.\",\n",
    "    \"Bull Leaping Fresco\": \"A fresco depicting a bull-leaping scene, also from Knossos.\",\n",
    "    \"Phaistos Disc\": \"A mysterious clay disc inscribed with a unique script, found in the Minoan palace of Phaistos.\"\n",
    "})\n",
    "\n",
    "# 'Phaistos Disc' 작품의 설명 검색\n",
    "description = artworks.get(\"Phaistos Disc\", \"Description not found.\")\n",
    "\n",
    "print(\"🏺 'Phaistos Disc' 작품 설명:\", description)"
   ]
  },
  {
   "cell_type": "code",
   "execution_count": 25,
   "id": "5ea06eab-6a5e-43f7-a154-4847fc97b111",
   "metadata": {},
   "outputs": [
    {
     "name": "stdout",
     "output_type": "stream",
     "text": [
      "🏰 'Malia' 궁전 특징: Famous for the Malia altar stone and gold bee pendant, showcasing intricate craftsmanship.\n"
     ]
    }
   ],
   "source": [
    "# 코드 예제 2: 🏰 크레타의 고대 궁전 🏰\n",
    "# 크레타에는 여러 고대 궁전이 있으며, 각각 독특한 역사와 이야기를 가지고 있습니다. \n",
    "# 이 코드 예제에서는 주요 궁전들과 그 특징을 나타내는 데이터를 생성하고, 특정 궁전의 특징을 get 메서드로 검색합니다.\n",
    "\n",
    "import pandas as pd\n",
    "\n",
    "# 크레타의 고대 궁전과 특징\n",
    "palaces = pd.Series({\n",
    "    \"Knossos\": \"The largest Bronze Age archaeological site on Crete, considered Europe's oldest city.\",\n",
    "    \"Phaistos\": \"Known for the Phaistos Disc, a significant archaeological find with undeciphered script.\",\n",
    "    \"Malia\": \"Famous for the Malia altar stone and gold bee pendant, showcasing intricate craftsmanship.\"\n",
    "})\n",
    "\n",
    "# 'Malia' 궁전의 특징 검색\n",
    "feature = palaces.get(\"Malia\", \"Feature not found.\")\n",
    "\n",
    "print(\"🏰 'Malia' 궁전 특징:\", feature)"
   ]
  },
  {
   "cell_type": "code",
   "execution_count": 24,
   "id": "b808153b-0af0-4fe3-81fc-a85d0bada974",
   "metadata": {},
   "outputs": [
    {
     "name": "stdout",
     "output_type": "stream",
     "text": [
      "📚 'Linear A' 문자 체계 설명: An undeciphered script used by the Minoans for religious and administrative purposes.\n"
     ]
    }
   ],
   "source": [
    "# 코드 예제 3: 📚 크레타의 문자 체계 📚\n",
    "# 크레타 문명은 여러 가지 독특한 문자 체계를 사용했습니다. \n",
    "# 이 코드 예제에서는 크레타의 문자 체계와 각각에 대한 간단한 설명을 나타내는 데이터를 생성하고, \n",
    "# 특정 문자 체계의 설명을 get 메서드로 검색합니다.\n",
    "\n",
    "import pandas as pd\n",
    "\n",
    "# 크레타의 문자 체계와 설명\n",
    "scripts = pd.Series({\n",
    "    \"Linear A\": \"An undeciphered script used by the Minoans for religious and administrative purposes.\",\n",
    "    \"Linear B\": \"Deciphered script used for Mycenaean Greek, an early form of Greek language.\",\n",
    "    \"Cretan Hieroglyphs\": \"An earlier script of Crete, possibly used for official and religious texts.\"\n",
    "})\n",
    "\n",
    "# 'Linear A' 문자 체계의 설명 검색\n",
    "script_description = scripts.get(\"Linear A\", \"Script description not found.\")\n",
    "\n",
    "print(\"📚 'Linear A' 문자 체계 설명:\", script_description)"
   ]
  },
  {
   "cell_type": "markdown",
   "id": "9820a471-5b7f-4703-b661-7e7a87584f6c",
   "metadata": {},
   "source": [
    "## pandas.Series.at 속성은\n",
    "- Series에서 특정 레이블의 값을 빠르게 접근하고 수정할 수 있도록 합니다. \n",
    "- 이는 loc 속성과 유사하게 작동하지만, 단일 요소에 대한 접근에 최적화되어 있어 더 빠릅니다."
   ]
  },
  {
   "cell_type": "code",
   "execution_count": 23,
   "id": "c918089e-9c5e-4d93-adfe-7879d0c6080c",
   "metadata": {},
   "outputs": [
    {
     "name": "stdout",
     "output_type": "stream",
     "text": [
      "🏺 'Phaistos Disc' 미술품의 가치: 1000000 USD\n"
     ]
    }
   ],
   "source": [
    "# 코드 예제 1: 🏺 크레타 미술품의 가치 🏺\n",
    "# 크레타 섬은 고대 미노아 문명의 미술품으로 유명합니다. \n",
    "# 이 코드 예제에서는 크레타의 대표적인 미술품들과 그 가치를 나타내는 데이터를 생성하고, \n",
    "# at 속성을 사용하여 특정 미술품의 가치를 확인합니다.\n",
    "\n",
    "import pandas as pd\n",
    "\n",
    "# 크레타 미술품과 그 가치\n",
    "artwork_values = pd.Series({\n",
    "    \"Faience Snake Goddess\": 500000,\n",
    "    \"Bull Leaping Fresco\": 750000,\n",
    "    \"Phaistos Disc\": 1000000\n",
    "}, name=\"Value of Cretan Artifacts\")\n",
    "\n",
    "# 'Phaistos Disc' 미술품의 가치 확인\n",
    "phaistos_value = artwork_values.at[\"Phaistos Disc\"]\n",
    "\n",
    "print(\"🏺 'Phaistos Disc' 미술품의 가치:\", phaistos_value, \"USD\")"
   ]
  },
  {
   "cell_type": "code",
   "execution_count": 22,
   "id": "a5f23f9b-ce3d-471e-ae96-d456b02b7116",
   "metadata": {},
   "outputs": [
    {
     "name": "stdout",
     "output_type": "stream",
     "text": [
      "🏰 'Knossos' 궁전의 연간 방문객 수: 1200000 명\n"
     ]
    }
   ],
   "source": [
    "# 코드 예제 2: 🏰 크레타 궁전의 방문객 수 🏰\n",
    "# 크레타에는 많은 고대 궁전이 있으며, 매년 수많은 관광객이 방문합니다.\n",
    "# 이 코드 예제에서는 크레타의 주요 궁전과 해당 궁전의 연간 방문객 수를 나타내는 데이터를 생성하고, \n",
    "# at 속성을 사용하여 특정 궁전의 방문객 수를 확인합니다.\n",
    "\n",
    "import pandas as pd\n",
    "\n",
    "# 크레타 궁전과 연간 방문객 수\n",
    "palace_visitors = pd.Series({\n",
    "    \"Knossos\": 1200000,\n",
    "    \"Phaistos\": 300000,\n",
    "    \"Malia\": 150000\n",
    "}, name=\"Annual Visitors to Cretan Palaces\")\n",
    "\n",
    "# 'Knossos' 궁전의 연간 방문객 수 확인\n",
    "knossos_visitors = palace_visitors.at[\"Knossos\"]\n",
    "\n",
    "print(\"🏰 'Knossos' 궁전의 연간 방문객 수:\", knossos_visitors, \"명\")"
   ]
  },
  {
   "cell_type": "code",
   "execution_count": 21,
   "id": "ea9253c5-9394-4926-a195-0113b6991824",
   "metadata": {},
   "outputs": [
    {
     "name": "stdout",
     "output_type": "stream",
     "text": [
      "📜 'Linear B Tablets' 문서의 중요성: Very High\n"
     ]
    }
   ],
   "source": [
    "# 코드 예제 3: 📜 크레타의 고대 문서 📜\n",
    "# 크레타는 고대 문자와 문서가 발견된 곳으로도 유명합니다. \n",
    "# 이 코드 예제에서는 크레타의 주요 고대 문서와 그 중요성을 나타내는 데이터를 생성하고,\n",
    "# at 속성을 사용하여 특정 문서의 중요성을 확인합니다.\n",
    "\n",
    "import pandas as pd\n",
    "\n",
    "# 크레타의 고대 문서와 그 중요성\n",
    "document_importance = pd.Series({\n",
    "    \"Linear A Tablets\": \"High\",\n",
    "    \"Linear B Tablets\": \"Very High\",\n",
    "    \"Phaistos Disc\": \"Extremely High\"\n",
    "}, name=\"Importance of Cretan Documents\")\n",
    "\n",
    "# 'Linear B Tablets' 문서의 중요성 확인\n",
    "linear_b_importance = document_importance.at[\"Linear B Tablets\"]\n",
    "\n",
    "print(\"📜 'Linear B Tablets' 문서의 중요성:\", linear_b_importance)"
   ]
  },
  {
   "cell_type": "markdown",
   "id": "980c2c1a-998a-4c96-8b44-849a3378a392",
   "metadata": {},
   "source": [
    "## pandas.Series.iat 속성\n",
    "- 정수 위치를 통해 Series 내의 특정 값에 빠르게 접근할 수 있도록 합니다. \n",
    "- 이 속성은 특히 위치 기반의 인덱싱이 필요할 때 유용하며, iloc 속성과 유사하게 작동하지만 단일 요소 접근에 최적화되어 있어 더 빠른 성능을 제공합니다."
   ]
  },
  {
   "cell_type": "code",
   "execution_count": 20,
   "id": "923cc543-aa67-4ac8-9bd8-441fc7f6ea2d",
   "metadata": {},
   "outputs": [
    {
     "name": "stdout",
     "output_type": "stream",
     "text": [
      "🏺 미노스 문명의 세 번째 유물: Phaistos Disc\n"
     ]
    }
   ],
   "source": [
    "# 코드 예제 1: 🏺 미노스 문명의 유물 🏺\n",
    "# 미노스 문명은 크레타 섬에서 번성했으며, 다양한 유물이 발굴되었습니다. \n",
    "# 이 코드 예제에서는 미노스 문명의 대표적인 유물들을 나타내는 데이터를 생성하고, \n",
    "# iat 속성을 사용하여 특정 위치의 유물을 확인합니다.\n",
    "\n",
    "import pandas as pd\n",
    "\n",
    "# 미노스 문명의 유물\n",
    "minoan_artifacts = pd.Series([\"Snake Goddess Figurine\", \"Palace of Knossos Frescoes\", \"Phaistos Disc\", \"Bull Leaping Fresco\"], name=\"Minoan Artifacts\")\n",
    "\n",
    "# 세 번째 유물 확인 (0부터 인덱싱)\n",
    "third_artifact = minoan_artifacts.iat[2]\n",
    "\n",
    "print(\"🏺 미노스 문명의 세 번째 유물:\", third_artifact)"
   ]
  },
  {
   "cell_type": "code",
   "execution_count": 19,
   "id": "6573e629-fa8e-494e-90bb-6cf82f7305ae",
   "metadata": {},
   "outputs": [
    {
     "name": "stdout",
     "output_type": "stream",
     "text": [
      "🏰 미노스 궁전의 첫 번째 방: Throne Room\n"
     ]
    }
   ],
   "source": [
    "# 코드 예제 2: 🏰 미노스 궁전의 방 🏰\n",
    "# 미노스 문명의 궁전은 복잡한 구조와 아름다운 장식으로 유명합니다.\n",
    "# 이 코드 예제에서는 미노스 궁전의 주요 방들을 나타내는 데이터를 생성하고,\n",
    "# iat 속성을 사용하여 특정 위치의 방을 확인합니다.\n",
    "\n",
    "import pandas as pd\n",
    "\n",
    "# 미노스 궁전의 방\n",
    "minoan_palace_rooms = pd.Series([\"Throne Room\", \"Central Courtyard\", \"Royal Chambers\", \"Storage Rooms\"], name=\"Rooms in Minoan Palaces\")\n",
    "\n",
    "# 첫 번째 방 확인\n",
    "first_room = minoan_palace_rooms.iat[0]\n",
    "\n",
    "print(\"🏰 미노스 궁전의 첫 번째 방:\", first_room)"
   ]
  },
  {
   "cell_type": "code",
   "execution_count": 18,
   "id": "9c6eb7c3-2351-4d80-a42e-981e00b58066",
   "metadata": {},
   "outputs": [
    {
     "name": "stdout",
     "output_type": "stream",
     "text": [
      "📜 미노스 문명의 두 번째 문자 체계: Linear B\n"
     ]
    }
   ],
   "source": [
    "# 코드 예제 3: 📜 미노스 문명의 문자 체계 📜\n",
    "# 미노스 문명은 독특한 문자 체계를 사용했습니다. \n",
    "# 이 코드 예제에서는 미노스 문명의 문자 체계를 나타내는 데이터를 생성하고, \n",
    "# iat 속성을 사용하여 특정 위치의 문자 체계를 확인합니다.\n",
    "\n",
    "import pandas as pd\n",
    "\n",
    "# 미노스 문명의 문자 체계\n",
    "minoan_scripts = pd.Series([\"Linear A\", \"Linear B\", \"Cretan Hieroglyphs\"], name=\"Minoan Scripts\")\n",
    "\n",
    "# 두 번째 문자 체계 확인\n",
    "second_script = minoan_scripts.iat[1]\n",
    "\n",
    "print(\"📜 미노스 문명의 두 번째 문자 체계:\", second_script)"
   ]
  },
  {
   "cell_type": "markdown",
   "id": "053d40a1-b9ab-42c4-9baf-9bfe45a0dc20",
   "metadata": {},
   "source": [
    "## pandas.Series.loc 속성\n",
    "- 레이블을 기반으로 Series 데이터에 접근합니다. \n",
    "- 이를 통해 레이블의 값이나 레이블 범위에 해당하는 데이터를 선택할 수 있습니다."
   ]
  },
  {
   "cell_type": "code",
   "execution_count": 17,
   "id": "a7cca83f-785d-4f5f-9379-75e7c8139e1a",
   "metadata": {},
   "outputs": [
    {
     "name": "stdout",
     "output_type": "stream",
     "text": [
      "🏺 'Bull Leaping Fresco' 유물 정보: A fresco depicting an acrobatic leap over a bull, symbolizing a religious ritual.\n"
     ]
    }
   ],
   "source": [
    "# 코드 예제 1: 🏺 미노스 문명의 유물 🏺\n",
    "# 미노스 문명은 다양한 유물로 유명합니다.\n",
    "# 이 코드 예제에서는 미노스 문명의 유물들을 나타내는 데이터를 생성하고,\n",
    "# loc 속성을 사용하여 특정 유물에 대한 정보를 검색합니다.\n",
    "\n",
    "import pandas as pd\n",
    "\n",
    "# 미노스 문명의 유물\n",
    "minoan_artifacts = pd.Series({\n",
    "    \"Snake Goddess Figurine\": \"A figurine representing a deity or priestess holding snakes.\",\n",
    "    \"Bull Leaping Fresco\": \"A fresco depicting an acrobatic leap over a bull, symbolizing a religious ritual.\",\n",
    "    \"Phaistos Disc\": \"A disc with mysterious symbols that remain undeciphered.\"\n",
    "}, name=\"Minoan Artifacts\")\n",
    "\n",
    "# 'Bull Leaping Fresco' 유물에 대한 정보 검색\n",
    "fresco_info = minoan_artifacts.loc[\"Bull Leaping Fresco\"]\n",
    "\n",
    "print(\"🏺 'Bull Leaping Fresco' 유물 정보:\", fresco_info)"
   ]
  },
  {
   "cell_type": "code",
   "execution_count": 16,
   "id": "9bcca7f7-3c6f-4d8d-909f-493c10a93208",
   "metadata": {},
   "outputs": [
    {
     "name": "stdout",
     "output_type": "stream",
     "text": [
      "🏰 'Central Courtyard' 구조 요소 정보: An open area used for gatherings and possibly athletic activities.\n"
     ]
    }
   ],
   "source": [
    "# 코드 예제 2: 🏰 미노스 궁전의 구조 🏰\n",
    "# 미노스 궁전은 복잡한 구조와 아름다운 장식으로 유명합니다. \n",
    "# 이 코드 예제에서는 미노스 궁전의 주요 구조 요소들을 나타내는 데이터를 생성하고,\n",
    "# loc 속성을 사용하여 특정 구조 요소에 대한 설명을 검색합니다.\n",
    "\n",
    "import pandas as pd\n",
    "\n",
    "# 미노스 궁전의 구조 요소\n",
    "minoan_palace_structure = pd.Series({\n",
    "    \"Throne Room\": \"The central ceremonial area of the palace, possibly for religious rituals.\",\n",
    "    \"Central Courtyard\": \"An open area used for gatherings and possibly athletic activities.\",\n",
    "    \"Storage Rooms\": \"Areas used for storing goods, indicating a complex economic system.\"\n",
    "}, name=\"Minoan Palace Structure\")\n",
    "\n",
    "# 'Central Courtyard' 구조 요소에 대한 설명 검색\n",
    "courtyard_info = minoan_palace_structure.loc[\"Central Courtyard\"]\n",
    "\n",
    "print(\"🏰 'Central Courtyard' 구조 요소 정보:\", courtyard_info)"
   ]
  },
  {
   "cell_type": "code",
   "execution_count": 15,
   "id": "09feddc9-6dc9-4827-85ad-ff39d9a72f16",
   "metadata": {},
   "outputs": [
    {
     "name": "stdout",
     "output_type": "stream",
     "text": [
      "📚 'Linear A' 문자 체계 정보: An undeciphered script used in the palace administrations and religious contexts.\n"
     ]
    }
   ],
   "source": [
    "# 코드 예제 3: 📚 미노스 문명의 문자 체계 📚\n",
    "# 미노스 문명은 여러 가지 문자 체계를 사용했습니다. \n",
    "# 이 코드 예제에서는 미노스 문명의 문자 체계들을 나타내는 데이터를 생성하고,\n",
    "# loc 속성을 사용하여 특정 문자 체계에 대한 정보를 검색합니다.\n",
    "\n",
    "import pandas as pd\n",
    "\n",
    "# 미노스 문명의 문자 체계\n",
    "minoan_scripts = pd.Series({\n",
    "    \"Linear A\": \"An undeciphered script used in the palace administrations and religious contexts.\",\n",
    "    \"Linear B\": \"A deciphered script used for Mycenaean Greek, showing administrative and economic records.\"\n",
    "}, name=\"Minoan Scripts\")\n",
    "\n",
    "# 'Linear A' 문자 체계에 대한 정보 검색\n",
    "linear_a_info = minoan_scripts.loc[\"Linear A\"]\n",
    "\n",
    "print(\"📚 'Linear A' 문자 체계 정보:\", linear_a_info)"
   ]
  },
  {
   "cell_type": "markdown",
   "id": "faa01b73-085e-4d1d-b236-243a01bee2d6",
   "metadata": {},
   "source": [
    "## pandas.Series.iloc 속성\n",
    "- 정수 기반의 위치를 통해 Series 내의 데이터에 접근합니다. \n",
    "- 이 속성은 위치 기반 인덱싱을 사용하여 Series 내의 데이터를 선택할 때 사용됩니다."
   ]
  },
  {
   "cell_type": "code",
   "execution_count": 14,
   "id": "cfede491-ee2f-4a9e-a5fb-d028349f0931",
   "metadata": {},
   "outputs": [
    {
     "name": "stdout",
     "output_type": "stream",
     "text": [
      "⚔️ 미케네 문명의 첫 번째 전쟁: Trojan War\n"
     ]
    }
   ],
   "source": [
    "# 코드 예제 1: ⚔️ 미케네 문명의 전쟁 ⚔️\n",
    "# 미케네 문명은 여러 전쟁에 참여했습니다. \n",
    "# 이 코드 예제에서는 미케네 문명이 참여한 주요 전쟁들을 나타내는 데이터를 생성하고, \n",
    "# iloc 속성을 사용하여 특정 전쟁에 대한 정보를 검색합니다.\n",
    "\n",
    "import pandas as pd\n",
    "\n",
    "# 미케네 문명의 주요 전쟁\n",
    "mycenaean_wars = pd.Series([\"Trojan War\", \"Invasion of Crete\", \"Greek Dark Ages\"], name=\"Mycenaean Wars\")\n",
    "\n",
    "# 첫 번째 전쟁 정보 검색\n",
    "first_war = mycenaean_wars.iloc[0]\n",
    "\n",
    "print(\"⚔️ 미케네 문명의 첫 번째 전쟁:\", first_war)"
   ]
  },
  {
   "cell_type": "code",
   "execution_count": 13,
   "id": "7bff6aa2-1603-43f4-98c9-32fb4ca0eab4",
   "metadata": {},
   "outputs": [
    {
     "name": "stdout",
     "output_type": "stream",
     "text": [
      "🏺 미케네 문명의 두 번째 유물: Lion Gate\n"
     ]
    }
   ],
   "source": [
    "# 코드 예제 2: 🏺 미케네 문명의 유물 🏺\n",
    "# 미케네 문명은 고대 그리스에서 중요한 유물을 남겼습니다. \n",
    "# 이 코드 예제에서는 미케네 문명의 유물들을 나타내는 데이터를 생성하고, \n",
    "# iloc 속성을 사용하여 특정 유물에 대한 정보를 검색합니다.\n",
    "\n",
    "import pandas as pd\n",
    "\n",
    "# 미케네 문명의 유물\n",
    "mycenaean_artifacts = pd.Series([\"Mask of Agamemnon\", \"Lion Gate\", \"Treasury of Atreus\"], name=\"Mycenaean Artifacts\")\n",
    "\n",
    "# 두 번째 유물 정보 검색\n",
    "second_artifact = mycenaean_artifacts.iloc[1]\n",
    "\n",
    "print(\"🏺 미케네 문명의 두 번째 유물:\", second_artifact)"
   ]
  },
  {
   "cell_type": "code",
   "execution_count": 12,
   "id": "e38c5ca8-52e3-444b-96c3-35767bf66915",
   "metadata": {},
   "outputs": [
    {
     "name": "stdout",
     "output_type": "stream",
     "text": [
      "🏰 미케네 문명의 세 번째 궁전: Palace of Tiryns\n"
     ]
    }
   ],
   "source": [
    "# 코드 예제 3: 🏰 미케네 문명의 궁전 🏰\n",
    "# 미케네 문명은 그들의 궁전으로 유명합니다. \n",
    "# 이 코드 예제에서는 미케네 문명의 주요 궁전들을 나타내는 데이터를 생성하고,\n",
    "# iloc 속성을 사용하여 특정 궁전에 대한 정보를 검색합니다.\n",
    "\n",
    "import pandas as pd\n",
    "\n",
    "# 미케네 문명의 궁전\n",
    "mycenaean_palaces = pd.Series([\"Palace of Mycenae\", \"Palace of Pylos\", \"Palace of Tiryns\"], name=\"Mycenaean Palaces\")\n",
    "\n",
    "# 세 번째 궁전 정보 검색\n",
    "third_palace = mycenaean_palaces.iloc[2]\n",
    "\n",
    "print(\"🏰 미케네 문명의 세 번째 궁전:\", third_palace)"
   ]
  },
  {
   "cell_type": "markdown",
   "id": "d7127c79-02f2-43f9-9b28-3f9a55e3d97f",
   "metadata": {},
   "source": [
    "## pandas.Series.__iter__\n",
    "- Series 객체를 반복(iterate)할 수 있게 해주는 매직 메서드입니다. \n",
    "- 이 메서드를 사용하면 Series 내의 각 요소를 순차적으로 접근할 수 있습니다. 일반적으로 이 메서드는 직접 호출되지 않고, for 루프 내에서 Series 객체를 사용할 때 자동으로 호출됩니다."
   ]
  },
  {
   "cell_type": "code",
   "execution_count": 11,
   "id": "922da185-d73d-405f-9e15-6e9343143252",
   "metadata": {},
   "outputs": [
    {
     "name": "stdout",
     "output_type": "stream",
     "text": [
      "⚔️ 메세네의 주요 전투:\n",
      "- Battle of the Fetters\n",
      "- Second Messenian War\n",
      "- Battle of Leuctra\n"
     ]
    }
   ],
   "source": [
    "# 코드 예제 1: ⚔️ 메세네의 전투 ⚔️\n",
    "# 메세네 지역은 고대 그리스 시대에 여러 중요한 전투가 있었던 곳입니다. \n",
    "# 이 코드 예제에서는 메세네의 주요 전투들을 나타내는 데이터를 생성하고, \n",
    "# __iter__를 사용하여 각 전투에 대해 순차적으로 접근합니다\n",
    "\n",
    "import pandas as pd\n",
    "\n",
    "# 메세네의 주요 전투\n",
    "messenian_battles = pd.Series([\"Battle of the Fetters\", \"Second Messenian War\", \"Battle of Leuctra\"], name=\"Messenian Battles\")\n",
    "\n",
    "# 전투 목록 출력\n",
    "print(\"⚔️ 메세네의 주요 전투:\")\n",
    "for battle in messenian_battles:\n",
    "    print(\"-\", battle)"
   ]
  },
  {
   "cell_type": "code",
   "execution_count": 10,
   "id": "6a1c8f4c-ce31-4c5a-ab1e-900c05bc23f5",
   "metadata": {},
   "outputs": [
    {
     "name": "stdout",
     "output_type": "stream",
     "text": [
      "🛡 메세네 문명의 전투:\n",
      "- Battle of Thermopylae\n",
      "- Battle of Plataea\n",
      "- Battle of Leuctra\n"
     ]
    }
   ],
   "source": [
    "# 코드 예제 2: 🛡 메세네 문명의 전투 🛡\n",
    "# 메세네 문명은 여러 전투와 전쟁에 참여했습니다.\n",
    "# 이 코드 예제에서는 메세네 문명이 관련된 주요 전투들을 나타내는 데이터를 생성하고,\n",
    "# for 루프를 사용하여 각 전투에 대한 정보를 출력합니다.\n",
    "\n",
    "import pandas as pd\n",
    "\n",
    "# 메세네 문명의 주요 전투\n",
    "messene_battles = pd.Series([\"Battle of Thermopylae\", \"Battle of Plataea\", \"Battle of Leuctra\"], name=\"Messene Battles\")\n",
    "\n",
    "# 각 전투 정보 출력\n",
    "print(\"🛡 메세네 문명의 전투:\")\n",
    "for battle in messene_battles:\n",
    "    print(\"-\", battle)"
   ]
  },
  {
   "cell_type": "code",
   "execution_count": 9,
   "id": "7f946140-be4e-49fa-8a5c-9e2148dff8a9",
   "metadata": {},
   "outputs": [
    {
     "name": "stdout",
     "output_type": "stream",
     "text": [
      "📜 메세네 문명의 텍스트:\n",
      "- Messene Law Code\n",
      "- Dedications to Zeus\n",
      "- Treaties with Sparta\n"
     ]
    }
   ],
   "source": [
    "# 코드 예제 3: 📜 메세네 문명의 텍스트 📜\n",
    "# 메세네 문명은 다양한 문서와 텍스트를 남겼습니다. \n",
    "# 이 코드 예제에서는 메세네 문명의 중요한 문서나 텍스트를 나타내는 데이터를 생성하고,\n",
    "# for 루프를 사용하여 각 텍스트에 대한 정보를 출력합니다.\n",
    "\n",
    "import pandas as pd\n",
    "\n",
    "# 메세네 문명의 중요한 텍스트\n",
    "messene_texts = pd.Series([\"Messene Law Code\", \"Dedications to Zeus\", \"Treaties with Sparta\"], name=\"Messene Texts\")\n",
    "\n",
    "# 각 텍스트 정보 출력\n",
    "print(\"📜 메세네 문명의 텍스트:\")\n",
    "for text in messene_texts:\n",
    "    print(\"-\", text)"
   ]
  },
  {
   "cell_type": "code",
   "execution_count": null,
   "id": "940b16c0-74f8-434d-87dc-b78033147f80",
   "metadata": {},
   "outputs": [],
   "source": []
  }
 ],
 "metadata": {
  "kernelspec": {
   "display_name": "Python 3 (ipykernel)",
   "language": "python",
   "name": "python3"
  },
  "language_info": {
   "codemirror_mode": {
    "name": "ipython",
    "version": 3
   },
   "file_extension": ".py",
   "mimetype": "text/x-python",
   "name": "python",
   "nbconvert_exporter": "python",
   "pygments_lexer": "ipython3",
   "version": "3.10.9"
  }
 },
 "nbformat": 4,
 "nbformat_minor": 5
}
