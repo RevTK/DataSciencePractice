{
 "cells": [
  {
   "cell_type": "markdown",
   "id": "25e90d2c-a11f-447b-926d-089cb3bd929e",
   "metadata": {},
   "source": [
    "# 판다스와 유럽 역사 알기1-9\n",
    "\n",
    "- 09_\n",
    "- https://www.dacon.io/edu/131"
   ]
  },
  {
   "cell_type": "markdown",
   "id": "bc745ce5-b3a4-477a-9ba7-a1ffaaa0ec33",
   "metadata": {},
   "source": [
    "## pandas.Series.item 메서드\n",
    "- Series에서 단일 요소의 값을 추출합니다. \n",
    "- 이 메서드는 Series 객체가 단 하나의 요소만을 포함할 때 사용됩니다. 만약 Series가 둘 이상의 요소를 포함하고 있으면, 이 메서드는 오류를 발생시킵니다."
   ]
  },
  {
   "cell_type": "code",
   "execution_count": 1,
   "id": "503d2c13-e2e2-4b7e-a35f-ae7a139574c5",
   "metadata": {},
   "outputs": [
    {
     "name": "stdout",
     "output_type": "stream",
     "text": [
      "🏛 메세네에서의 중요한 발견: Messene Law Code\n"
     ]
    }
   ],
   "source": [
    "# 코드 예제 1: 🏛 메세네의 중요한 발견 🏛\n",
    "# 메세네 문명에서 중요한 발견이 있었습니다. \n",
    "# 이 코드 예제에서는 그 발견을 나타내는 단일 데이터를 생성하고,\n",
    "# item 메서드를 사용하여 그 값을 추출합니다.\n",
    "\n",
    "import pandas as pd\n",
    "\n",
    "# 메세네의 중요한 발견\n",
    "important_discovery = pd.Series([\"Messene Law Code\"], name=\"Important Discovery in Messene\")\n",
    "\n",
    "# 발견의 값 추출\n",
    "discovery_item = important_discovery.item()\n",
    "\n",
    "print(\"🏛 메세네에서의 중요한 발견:\", discovery_item)"
   ]
  },
  {
   "cell_type": "code",
   "execution_count": 2,
   "id": "6df197d5-8f2d-4bee-b93c-93abe9f3935d",
   "metadata": {},
   "outputs": [
    {
     "name": "stdout",
     "output_type": "stream",
     "text": [
      "🗺 메세네의 지리적 위치: Peloponnese\n"
     ]
    }
   ],
   "source": [
    "# 코드 예제 2: 🗺 메세네의 지리적 위치 🗺\n",
    "# 메세네의 지리적 위치는 그 문명에 큰 영향을 미쳤습니다. \n",
    "# 이 코드 예제에서는 메세네의 위치를 나타내는 단일 데이터를 생성하고, \n",
    "# item 메서드를 사용하여 그 값을 추출합니다.\n",
    "\n",
    "import pandas as pd\n",
    "\n",
    "# 메세네의 지리적 위치\n",
    "messene_location = pd.Series([\"Peloponnese\"], name=\"Location of Messene\")\n",
    "\n",
    "# 위치의 값 추출\n",
    "location_item = messene_location.item()\n",
    "\n",
    "print(\"🗺 메세네의 지리적 위치:\", location_item)"
   ]
  },
  {
   "cell_type": "code",
   "execution_count": 3,
   "id": "d322d748-8250-4638-8b1a-075c6b264f63",
   "metadata": {},
   "outputs": [
    {
     "name": "stdout",
     "output_type": "stream",
     "text": [
      "⌛ 메세네의 창립 연도: 369 BC\n"
     ]
    }
   ],
   "source": [
    "# 코드 예제 3: ⌛ 메세네의 창립 연도 ⌛\n",
    "# 메세네 문명의 창립 연도는 역사적으로 중요합니다. \n",
    "# 이 코드 예제에서는 메세네의 창립 연도를 나타내는 단일 데이터를 생성하고, \n",
    "# item 메서드를 사용하여 그 값을 추출합니다.\n",
    "\n",
    "import pandas as pd\n",
    "\n",
    "# 메세네의 창립 연도\n",
    "founding_year = pd.Series([369], name=\"Founding Year of Messene\")\n",
    "\n",
    "# 창립 연도의 값 추출\n",
    "year_item = founding_year.item()\n",
    "\n",
    "print(\"⌛ 메세네의 창립 연도:\", year_item, \"BC\")"
   ]
  },
  {
   "cell_type": "markdown",
   "id": "c019877c-19c3-4419-8db5-4b9f899d02c6",
   "metadata": {},
   "source": [
    "## pandas.Series.item 메서드는\n",
    "- Series 객체에서 단일 값을 추출합니다. 이 메서드는 Series가 단 하나의 요소만 포함하고 있을 때 사용되며, Series에 여러 요소가 있거나 비어 있는 경우 에러를 발생시킵니다."
   ]
  },
  {
   "cell_type": "code",
   "execution_count": 4,
   "id": "58798535-6d5a-4229-9635-29a35444866b",
   "metadata": {},
   "outputs": [
    {
     "name": "stdout",
     "output_type": "stream",
     "text": [
      "🛡️ 펠레폰네스 동맹의 리더: Sparta\n"
     ]
    }
   ],
   "source": [
    "# 코드 예제 1: 🛡️ 펠레폰네스 동맹의 리더 🛡️\n",
    "# 펠레폰네스 동맹은 고대 그리스의 군사 동맹이며, 스파르타가 주도했습니다. \n",
    "# 이 코드 예제에서는 펠레폰네스 동맹의 리더를 나타내는 단일 데이터를 생성하고, \n",
    "# item 메서드를 사용하여 그 값을 추출합니다.\n",
    "\n",
    "import pandas as pd\n",
    "\n",
    "# 펠레폰네스 동맹의 리더\n",
    "peloponnesian_league_leader = pd.Series([\"Sparta\"], name=\"Leader of the Peloponnesian League\")\n",
    "\n",
    "# 리더 값 추출\n",
    "leader_item = peloponnesian_league_leader.item()\n",
    "\n",
    "print(\"🛡️ 펠레폰네스 동맹의 리더:\", leader_item)"
   ]
  },
  {
   "cell_type": "code",
   "execution_count": 5,
   "id": "b64d21fe-97fc-4eca-bff5-83604b37fb8d",
   "metadata": {},
   "outputs": [
    {
     "name": "stdout",
     "output_type": "stream",
     "text": [
      "⚔️ 펠레폰네스 전쟁의 시작 연도: 431 BC\n"
     ]
    }
   ],
   "source": [
    "# 코드 예제 2: ⚔️ 펠레폰네스 전쟁의 시작 연도 ⚔️\n",
    "# 펠레폰네스 전쟁은 펠레폰네스 동맹과 아테네 동맹 사이의 갈등에서 비롯되었습니다. \n",
    "# 이 코드 예제에서는 펠레폰네스 전쟁의 시작 연도를 나타내는 단일 데이터를 생성하고, \n",
    "# item 메서드를 사용하여 그 값을 추출합니다.\n",
    "\n",
    "import pandas as pd\n",
    "\n",
    "# 펠레폰네스 전쟁의 시작 연도\n",
    "peloponnesian_war_start = pd.Series([431], name=\"Start of the Peloponnesian War\")\n",
    "\n",
    "# 시작 연도 값 추출\n",
    "start_year_item = peloponnesian_war_start.item()\n",
    "\n",
    "print(\"⚔️ 펠레폰네스 전쟁의 시작 연도:\", start_year_item, \"BC\")"
   ]
  },
  {
   "cell_type": "code",
   "execution_count": 6,
   "id": "d91423c4-2b27-4c91-8613-047ad304e392",
   "metadata": {},
   "outputs": [
    {
     "name": "stdout",
     "output_type": "stream",
     "text": [
      "🏛️ 펠레폰네스 동맹의 주요 도시 국가: Sparta\n"
     ]
    }
   ],
   "source": [
    "# 코드 예제 3: 🏛️ 펠레폰네스 동맹의 주요 도시 국가 🏛️\n",
    "# 펠레폰네스 동맹에는 스파르타를 포함한 여러 도시 국가가 참여했습니다. \n",
    "# 이 코드 예제에서는 동맹에 참여한 주요 도시 국가를 나타내는 단일 데이터를 생성하고, \n",
    "# item 메서드를 사용하여 그 값을 추출하는 예제입니다. 하지만, item 메서드는 단일 요소를 추출하기 위한 메서드이므로, 여러 요소가 포함된 경우에는 사용할 수 없습니다. 대신, iloc 또는 loc 속성을 사용하여 특정 요소를 선택하는 방법을 고려해야 합니다. 여기서는 예시를 단순화하기 위해 동맹의 주도 도시 국가인 '스파르타'만을 포함하는 Series를 생성하겠습니다.\n",
    "\n",
    "import pandas as pd\n",
    "\n",
    "# 펠레폰네스 동맹의 주요 도시 국가\n",
    "peloponnesian_league_cities = pd.Series([\"Sparta\"], name=\"Major City-States of the Peloponnesian League\")\n",
    "\n",
    "# 주요 도시 국가 값 추출\n",
    "major_city_item = peloponnesian_league_cities.item()\n",
    "\n",
    "print(\"🏛️ 펠레폰네스 동맹의 주요 도시 국가:\", major_city_item)"
   ]
  },
  {
   "cell_type": "markdown",
   "id": "d31281ef-9dc3-418e-a3dc-651bb9968f57",
   "metadata": {},
   "source": [
    "## pandas.Series.keys 메서드\n",
    "- Series의 인덱스를 반환합니다. \n",
    "- 이 메서드는 Series 객체의 모든 인덱스 레이블을 확인할 때 유용합니다. \n",
    "- keys는 사실 Series.index 속성과 동일한 정보를 제공합니다."
   ]
  },
  {
   "cell_type": "code",
   "execution_count": 7,
   "id": "03ff6344-9bce-4f45-a98f-100f8e18a9f0",
   "metadata": {},
   "outputs": [
    {
     "name": "stdout",
     "output_type": "stream",
     "text": [
      "🛡️ 펠레폰네스 동맹의 참여 도시 국가들:\n",
      "- Sparta\n",
      "- Corinth\n",
      "- Megara\n",
      "- Tegea\n"
     ]
    }
   ],
   "source": [
    "# 코드 예제 1: 🛡️ 펠레폰네스 동맹의 참여 도시 국가들 🛡️\n",
    "# 펠레폰네스 동맹은 여러 그리스 도시 국가들로 구성된 군사 동맹이었습니다. \n",
    "# 이 코드 예제에서는 동맹에 참여한 주요 도시 국가들을 나타내는 데이터를 생성하고,\n",
    "# keys 메서드를 사용하여 인덱스(도시 국가 이름)를 출력합니다.\n",
    "\n",
    "import pandas as pd\n",
    "\n",
    "# 펠레폰네스 동맹의 참여 도시 국가들\n",
    "peloponnesian_league_members = pd.Series([\"스파르타\", \"코린토스\", \"메기도니아\", \"테게아\"], \n",
    "                                         index=[\"Sparta\", \"Corinth\", \"Megara\", \"Tegea\"])\n",
    "\n",
    "# 도시 국가들의 인덱스 출력\n",
    "print(\"🛡️ 펠레폰네스 동맹의 참여 도시 국가들:\")\n",
    "for city in peloponnesian_league_members.keys():\n",
    "    print(\"-\", city)"
   ]
  },
  {
   "cell_type": "code",
   "execution_count": 8,
   "id": "43676314-9325-426b-81ca-70886931c76d",
   "metadata": {},
   "outputs": [
    {
     "name": "stdout",
     "output_type": "stream",
     "text": [
      "⚔️ 펠레폰네스 전쟁의 주요 전투:\n",
      "- 포티다이아 전투\n",
      "- 실피움 전투\n",
      "- 시칠리아 원정\n",
      "- 시라쿠사 전투\n"
     ]
    }
   ],
   "source": [
    "# 코드 예제 2: ⚔️ 펠레폰네스 전쟁의 주요 전투 ⚔️\n",
    "# 펠레폰네스 전쟁은 많은 전투를 포함하고 있습니다. \n",
    "# 이 코드 예제에서는 전쟁의 주요 전투들과 그 발생 연도를 나타내는 데이터를 생성하고, \n",
    "# keys 메서드를 사용하여 전투의 이름(인덱스)을 출력합니다.\n",
    "\n",
    "import pandas as pd\n",
    "\n",
    "# 펠레폰네스 전쟁의 주요 전투\n",
    "peloponnesian_war_battles = pd.Series([431, 422, 415, 413], \n",
    "                                      index=[\"포티다이아 전투\", \"실피움 전투\", \"시칠리아 원정\", \"시라쿠사 전투\"])\n",
    "\n",
    "# 주요 전투의 이름 출력\n",
    "print(\"⚔️ 펠레폰네스 전쟁의 주요 전투:\")\n",
    "for battle in peloponnesian_war_battles.keys():\n",
    "    print(\"-\", battle)"
   ]
  },
  {
   "cell_type": "code",
   "execution_count": 9,
   "id": "6e27a66c-5116-4ce3-a2e0-b7c07f96c0df",
   "metadata": {},
   "outputs": [
    {
     "name": "stdout",
     "output_type": "stream",
     "text": [
      "🏛️ 펠레폰네스 동맹의 정치적 결정:\n",
      "- 코린토스와의 동맹 강화\n",
      "- 아테네에 대한 전쟁 선포\n",
      "- 니키아스 평화\n"
     ]
    }
   ],
   "source": [
    "# 코드 예제 3: 🏛️ 펠레폰네스 동맹의 정치적 결정 🏛️\n",
    "# 펠레폰네스 동맹은 여러 정치적 결정을 내렸습니다.\n",
    "# 이 코드 예제에서는 동맹의 중요한 결정들과 그 결정이 내려진 연도를 나타내는 데이터를 생성하고, \n",
    "# keys 메서드를 사용하여 각 결정의 내용(인덱스)을 출력합니다.\n",
    "\n",
    "import pandas as pd\n",
    "\n",
    "# 펠레폰네스 동맹의 정치적 결정\n",
    "peloponnesian_league_decisions = pd.Series([432, 431, 421], \n",
    "                                           index=[\"코린토스와의 동맹 강화\", \"아테네에 대한 전쟁 선포\", \"니키아스 평화\"])\n",
    "\n",
    "# 정치적 결정의 내용 출력\n",
    "print(\"🏛️ 펠레폰네스 동맹의 정치적 결정:\")\n",
    "for decision in peloponnesian_league_decisions.keys():\n",
    "    print(\"-\", decision)"
   ]
  },
  {
   "cell_type": "markdown",
   "id": "ffe6ac88-c605-4436-ab57-affbb0e650d4",
   "metadata": {},
   "source": [
    "## pandas.Series.pop 메서드\n",
    "- Series에서 지정된 레이블을 가진 요소를 제거하고 그 값을 반환합니다. \n",
    "- 이 메서드는 Series에서 특정 데이터를 제거하면서 동시에 그 값을 사용할 필요가 있을 때 유용합니다."
   ]
  },
  {
   "cell_type": "code",
   "execution_count": 10,
   "id": "59300780-e022-45fc-9932-4e7b64dc7e67",
   "metadata": {},
   "outputs": [
    {
     "name": "stdout",
     "output_type": "stream",
     "text": [
      "🏛️ 동맹에서 제거된 도시 국가: 레스보스\n"
     ]
    }
   ],
   "source": [
    "# 코드 예제 1: 🏛️ 델로스 동맹의 참여 도시 국가들 🏛️\n",
    "# 델로스 동맹은 아테네와 여러 도시 국가들의 해상 동맹이었습니다. \n",
    "# 이 코드 예제에서는 동맹에 참여한 몇몇 도시 국가들을 나타내는 데이터를 생성하고, \n",
    "# pop 메서드를 사용하여 특정 도시 국가를 동맹 목록에서 제거하며 그 이름을 출력합니다.\n",
    "\n",
    "import pandas as pd\n",
    "\n",
    "# 델로스 동맹의 참여 도시 국가들\n",
    "delian_league_members = pd.Series([\"아테네\", \"레스보스\", \"키오스\", \"사모스\"], \n",
    "                                  index=[\"Athens\", \"Lesbos\", \"Chios\", \"Samos\"])\n",
    "\n",
    "# '레스보스' 도시 국가 제거 및 출력\n",
    "removed_city = delian_league_members.pop(\"Lesbos\")\n",
    "print(\"🏛️ 동맹에서 제거된 도시 국가:\", removed_city)"
   ]
  },
  {
   "cell_type": "code",
   "execution_count": 11,
   "id": "e87d010e-b14e-48e2-9bea-e4eb6d602f1f",
   "metadata": {},
   "outputs": [
    {
     "name": "stdout",
     "output_type": "stream",
     "text": [
      "⚖️ '키오스'의 기여금: 750 탈란트\n"
     ]
    }
   ],
   "source": [
    "# 코드 예제 2: ⚖️ 델로스 동맹의 기여금 ⚖️\n",
    "# 델로스 동맹에 참여한 도시 국가들은 기여금을 납부했습니다. \n",
    "# 이 코드 예제에서는 몇몇 도시 국가들의 기여금을 나타내는 데이터를 생성하고, \n",
    "# pop 메서드를 사용하여 특정 도시의 기여금을 확인하고 목록에서 제거합니다.\n",
    "\n",
    "import pandas as pd\n",
    "\n",
    "# 델로스 동맹의 도시 국가별 기여금\n",
    "delian_league_contributions = pd.Series([1000, 500, 750, 600], \n",
    "                                        index=[\"아테네\", \"레스보스\", \"키오스\", \"사모스\"])\n",
    "\n",
    "# '키오스' 도시의 기여금 확인 및 제거\n",
    "chios_contribution = delian_league_contributions.pop(\"키오스\")\n",
    "\n",
    "print(\"⚖️ '키오스'의 기여금:\", chios_contribution, \"탈란트\")"
   ]
  },
  {
   "cell_type": "code",
   "execution_count": 12,
   "id": "8d9ebaee-0e3c-432f-bce9-31ed04a9b703",
   "metadata": {},
   "outputs": [
    {
     "name": "stdout",
     "output_type": "stream",
     "text": [
      "🛡️ 동맹에서 제거된 해군 기지: 사모스\n"
     ]
    }
   ],
   "source": [
    "# 코드 예제 3: 🛡️ 델로스 동맹의 군사력 🛡️\n",
    "# 델로스 동맹은 공동의 군사력을 보유하고 있었습니다. \n",
    "# 이 코드 예제에서는 동맹의 몇몇 주요 해군 기지를 나타내는 데이터를 생성하고, \n",
    "# pop 메서드를 사용하여 특정 해군 기지를 목록에서 제거하며 그 정보를 출력합니다.\n",
    "\n",
    "import pandas as pd\n",
    "\n",
    "# 델로스 동맹의 주요 해군 기지\n",
    "delian_league_naval_bases = pd.Series([\"피레우스\", \"사모스\", \"키오스\"], \n",
    "                                      index=[\"Piraeus\", \"Samos\", \"Chios\"])\n",
    "\n",
    "# '사모스' 해군 기지 제거 및 출력\n",
    "removed_base = delian_league_naval_bases.pop(\"Samos\")\n",
    "\n",
    "print(\"🛡️ 동맹에서 제거된 해군 기지:\", removed_base)"
   ]
  },
  {
   "cell_type": "markdown",
   "id": "19780a01-0f3a-4a3c-95a4-6f8f4ff33690",
   "metadata": {},
   "source": [
    "## pandas.Series.xs 메서드\n",
    "- Series에서 특정 값을 선택하는 데 사용됩니다. \n",
    "- 이 메서드는 주로 MultiIndex를 가진 DataFrame에서 사용되며, 특정 레벨의 키에 대한 데이터를 선택할 때 유용합니다. \n",
    "- Series 객체에서는 인덱스 레이블에 대한 단일 값을 선택하는 데 사용할 수 있습니다."
   ]
  },
  {
   "cell_type": "code",
   "execution_count": 14,
   "id": "f0e1f7df-f48d-4080-8745-8311aaec6a97",
   "metadata": {},
   "outputs": [
    {
     "name": "stdout",
     "output_type": "stream",
     "text": [
      "🏺 '테베' 도시의 설명: 신과 파라오의 도시, 아문 신의 중심지.\n"
     ]
    }
   ],
   "source": [
    "#  코드 예제 1: 🏺 이집트의 고대 도시 🏺\n",
    "# 이집트는 고대부터 많은 중요한 도시를 가지고 있었습니다. \n",
    "# 이 코드 예제에서는 이집트의 주요 고대 도시들과 그 설명을 나타내는 데이터를 생성하고, \n",
    "# xs 메서드를 사용하여 특정 도시에 대한 설명을 선택합니다.\n",
    "\n",
    "import pandas as pd\n",
    "\n",
    "# 이집트의 고대 도시와 그 설명\n",
    "egyptian_cities = pd.Series({\n",
    "    \"테베\": \"신과 파라오의 도시, 아문 신의 중심지.\",\n",
    "    \"멤피스\": \"고대 이집트의 초기 수도, 프타 신의 숭배지.\",\n",
    "    \"카르나크\": \"아문-라 신전이 위치한 거대한 신전 단지.\"\n",
    "})\n",
    "\n",
    "# '테베' 도시의 설명 선택\n",
    "thebes_description = egyptian_cities.xs(\"테베\")\n",
    "\n",
    "print(\"🏺 '테베' 도시의 설명:\", thebes_description)"
   ]
  },
  {
   "cell_type": "code",
   "execution_count": 15,
   "id": "81894fbe-1725-491f-aafa-cc4c9cdd28fc",
   "metadata": {},
   "outputs": [
    {
     "name": "stdout",
     "output_type": "stream",
     "text": [
      "🗿 '라메세스 2세'의 묘 위치: 왕가의 계곡, KV7번 무덤.\n"
     ]
    }
   ],
   "source": [
    "# 코드 예제 2: 🗿 이집트 파라오의 묘 🗿\n",
    "# 이집트 파라오들은 대규모의 묘지와 함께 묻혔습니다. \n",
    "# 이 코드 예제에서는 몇몇 유명한 파라오의 묘와 그 위치를 나타내는 데이터를 생성하고,\n",
    "# xs 메서드를 사용하여 특정 파라오의 묘 위치를 선택합니다.\n",
    "\n",
    "import pandas as pd\n",
    "\n",
    "# 이집트 파라오의 묘와 그 위치\n",
    "pharaoh_tombs = pd.Series({\n",
    "    \"투탄카멘\": \"왕가의 계곡, KV62번 무덤.\",\n",
    "    \"라메세스 2세\": \"왕가의 계곡, KV7번 무덤.\",\n",
    "    \"클레오파트라 7세\": \"알렉산드리아, 아직 발견되지 않음.\"\n",
    "})\n",
    "\n",
    "# '라메세스 2세'의 묘 위치 선택\n",
    "ramses_tomb = pharaoh_tombs.xs(\"라메세스 2세\")\n",
    "\n",
    "print(\"🗿 '라메세스 2세'의 묘 위치:\", ramses_tomb)"
   ]
  },
  {
   "cell_type": "markdown",
   "id": "72213068-27cf-4496-be8e-50d22ed3d75f",
   "metadata": {},
   "source": [
    "## pandas.Series.add 메서드는\n",
    "- 두 Series 객체의 값을 더하는 데 사용됩니다. \n",
    "- 이 메서드를 통해 동일한 인덱스를 가진 두 Series의 각 요소를 더할 수 있으며, \n",
    "- 인덱스가 일치하지 않는 경우 NaN 값이 생성됩니다."
   ]
  },
  {
   "cell_type": "code",
   "execution_count": 16,
   "id": "c7c1dff4-5cd1-4d5f-b181-bd746ae8ba89",
   "metadata": {},
   "outputs": [
    {
     "name": "stdout",
     "output_type": "stream",
     "text": [
      "🌾 고대 이집트의 총 곡물 생산량 (단위: 천 톤):\n",
      "밀     350\n",
      "보리    230\n",
      "조     120\n",
      "dtype: int64\n"
     ]
    }
   ],
   "source": [
    "# 코드 예제 1: 🌾 고대 이집트의 농업 생산량 🌾\n",
    "# 고대 이집트는 농업이 발달한 문명이었습니다. \n",
    "# 이 코드 예제에서는 한 해 동안의 곡물 생산량을 나타내는 데이터와 \n",
    "# 그 다음 해의 추가 생산량을 나타내는 데이터를 생성하고, \n",
    "# add 메서드를 사용하여 총 생산량을 계산합니다.\n",
    "\n",
    "import pandas as pd\n",
    "\n",
    "# 한 해 동안의 곡물 생산량 (단위: 천 톤)\n",
    "grain_production = pd.Series({\"밀\": 300, \"보리\": 200, \"조\": 100}, name=\"Grain Production\")\n",
    "\n",
    "# 다음 해의 추가 생산량 (단위: 천 톤)\n",
    "additional_production = pd.Series({\"밀\": 50, \"보리\": 30, \"조\": 20}, name=\"Additional Production\")\n",
    "\n",
    "# 총 생산량 계산\n",
    "total_production = grain_production.add(additional_production)\n",
    "\n",
    "print(\"🌾 고대 이집트의 총 곡물 생산량 (단위: 천 톤):\")\n",
    "print(total_production)"
   ]
  },
  {
   "cell_type": "code",
   "execution_count": 17,
   "id": "61478512-3381-4854-b703-b94821bf3f0f",
   "metadata": {},
   "outputs": [
    {
     "name": "stdout",
     "output_type": "stream",
     "text": [
      "💰 고대 이집트의 총 재무 상태 (단위: 백만 금):\n",
      "금     120\n",
      "은      95\n",
      "구리     60\n",
      "dtype: int64\n"
     ]
    }
   ],
   "source": [
    "# 코드 예제 2: 💰 고대 이집트의 재무 상태 💰\n",
    "# 고대 이집트는 다양한 경제 활동을 통해 부를 축적했습니다. \n",
    "# 이 코드 예제에서는 한 해의 재무 상태를 나타내는 데이터와 \n",
    "# 그 다음 해의 추가 수익을 나타내는 데이터를 생성하고, \n",
    "# add 메서드를 사용하여 총 재무 상태를 계산합니다.\n",
    "\n",
    "import pandas as pd\n",
    "\n",
    "# 한 해의 재무 상태 (단위: 백만 금)\n",
    "financial_status = pd.Series({\"금\": 100, \"은\": 80, \"구리\": 50}, name=\"Financial Status\")\n",
    "\n",
    "# 다음 해의 추가 수익 (단위: 백만 금)\n",
    "additional_revenue = pd.Series({\"금\": 20, \"은\": 15, \"구리\": 10}, name=\"Additional Revenue\")\n",
    "\n",
    "# 총 재무 상태 계산\n",
    "total_financial_status = financial_status.add(additional_revenue)\n",
    "\n",
    "print(\"💰 고대 이집트의 총 재무 상태 (단위: 백만 금):\")\n",
    "print(total_financial_status)"
   ]
  },
  {
   "cell_type": "markdown",
   "id": "1f6516e3-4af6-4fa0-a274-8b6ee53b6812",
   "metadata": {},
   "source": [
    "## pandas.Series.sub 메서드\n",
    "- 한 Series 객체에서 다른 Series 객체나 스칼라 값을 빼는 연산을 수행합니다. \n",
    "- 이 메서드는 데이터 분석에서 값 간의 차이를 계산할 때 유용합니다."
   ]
  },
  {
   "cell_type": "code",
   "execution_count": 18,
   "id": "2dce7384-8b45-42ed-b5ee-1aa4b263482a",
   "metadata": {},
   "outputs": [
    {
     "name": "stdout",
     "output_type": "stream",
     "text": [
      "🏺 히타이트 제국의 영토 변화 (단위: 만 km²):\n",
      "동부 지중해     -10.0\n",
      "북부 시리아       5.0\n",
      "중앙 아나톨리아     5.0\n",
      "dtype: float64\n"
     ]
    }
   ],
   "source": [
    "# 코드 예제 1: 🏺 히타이트 제국의 영토 변화 🏺\n",
    "# 히타이트 제국의 영토는 역사적으로 여러 번의 변화를 겪었습니다. \n",
    "# 이 코드 예제에서는 특정 시기의 영토 면적과 그 다음 시기의 영토 면적을 나타내는 데이터를 생성하고, \n",
    "# sub 메서드를 사용하여 영토 면적의 변화를 계산합니다.\n",
    "\n",
    "import pandas as pd\n",
    "\n",
    "# 특정 시기의 히타이트 제국 영토 면적 (단위: 만 km²)\n",
    "territory_initial = pd.Series({\"중앙 아나톨리아\": 30, \"북부 시리아\": 20}, name=\"Initial Territory\")\n",
    "\n",
    "# 그 다음 시기의 영토 면적 (단위: 만 km²)\n",
    "territory_later = pd.Series({\"중앙 아나톨리아\": 25, \"북부 시리아\": 15, \"동부 지중해\": 10}, name=\"Later Territory\")\n",
    "\n",
    "# 영토 면적의 변화 계산\n",
    "territory_change = territory_initial.sub(territory_later, fill_value=0)\n",
    "\n",
    "print(\"🏺 히타이트 제국의 영토 변화 (단위: 만 km²):\")\n",
    "print(territory_change)"
   ]
  },
  {
   "cell_type": "markdown",
   "id": "e3bccfb5-9014-4e8a-8bfc-98368c1979d1",
   "metadata": {},
   "source": [
    "## pandas.Series.mul 메서드\n",
    "- Series 객체의 각 요소에 대해 곱셈 연산을 수행합니다. 다른 Series 객체나 스칼라 값과의 곱셈을 통해 값을 계산할 수 있습니다. \n",
    "- 이 메서드는 데이터 분석에서 비율이나 증가율을 적용할 때 유용합니다."
   ]
  },
  {
   "cell_type": "code",
   "execution_count": 19,
   "id": "ce99fefb-d841-49db-9ba7-750d9b573a2b",
   "metadata": {},
   "outputs": [
    {
     "name": "stdout",
     "output_type": "stream",
     "text": [
      "💰 히타이트 제국의 재산 변동 (단위: 천 금):\n",
      "금      50.0\n",
      "은     -50.0\n",
      "청동   -300.0\n",
      "dtype: float64\n"
     ]
    }
   ],
   "source": [
    "# 코드 예제 1: 🌾 아시리아 제국의 농업 생산 증가 🌾\n",
    "# 아시리아 제국은 강력한 농업 기반을 가지고 있었으며, 특정 시기에 생산량이 증가했습니다. \n",
    "# 이 코드 예제에서는 초기 농업 생산량과 증가율을 나타내는 데이터를 생성하고, \n",
    "# mul 메서드를 사용하여 증가 후의 생산량을 계산합니다.\n",
    "\n",
    "import pandas as pd\n",
    "\n",
    "# 한 시기의 히타이트 제국 재산 총액 (단위: 천 금)\n",
    "wealth_initial = pd.Series({\"금\": 500, \"은\": 800}, name=\"Initial Wealth\")\n",
    "\n",
    "# 그 다음 시기의 재산 총액 (단위: 천 금)\n",
    "wealth_later = pd.Series({\"금\": 450, \"은\": 850, \"청동\": 300}, name=\"Later Wealth\")\n",
    "\n",
    "# 재산 변동 계산\n",
    "wealth_change = wealth_initial.sub(wealth_later, fill_value=0)\n",
    "\n",
    "print(\"💰 히타이트 제국의 재산 변동 (단위: 천 금):\")\n",
    "print(wealth_change)"
   ]
  },
  {
   "cell_type": "markdown",
   "id": "d2a0182d-480d-4720-9f74-b2721e320c83",
   "metadata": {},
   "source": [
    "## pandas.Series.sub\n",
    "- 한 Series 객체에서 다른 Series 객체나 단일 값을 뺄셈하는 데 사용됩니다. \n",
    "- 이 연산을 통해 동일한 인덱스를 가진 두 Series 간의 차이를 계산할 수 있으며, 인덱스가 일치하지 않는 경우에는 fill_value 파라미터를 사용하여 빈 값(NaN)을 특정 값으로 대체할 수 있습니다."
   ]
  },
  {
   "cell_type": "code",
   "execution_count": 20,
   "id": "06994109-c323-47bf-b760-29d7120b67be",
   "metadata": {},
   "outputs": [
    {
     "name": "stdout",
     "output_type": "stream",
     "text": [
      "🏰 아시리아 제국의 영토 확장 결과 (단위: 만 km²):\n",
      "남부 메소포타미아    10.0\n",
      "북부 메소포타미아     5.0\n",
      "중앙 아시리아       5.0\n",
      "dtype: float64\n"
     ]
    }
   ],
   "source": [
    "# 코드 예제 1: 🏰 아시리아 제국의 영토 확장 🏰\n",
    "# 아시리아 제국은 강력한 군사력으로 여러 지역을 정복하여 영토를 확장했습니다.\n",
    "# 이 코드 예제에서는 아시리아 제국의 영토가 확장되기 전후의 면적을 나타내는 데이터를 생성하고, \n",
    "# sub 메서드를 사용하여 영토 확장 전후의 면적 차이를 계산합니다. \n",
    "# 이때, fill_value 파라미터를 사용하여 확장되기 전에는 존재하지 않았던 영토의 면적을 0으로 간주합니다.\n",
    "\n",
    "import pandas as pd\n",
    "\n",
    "# 아시리아 제국의 영토 확장 전 면적 (단위: 만 km²)\n",
    "territory_before = pd.Series({\"중앙 아시리아\": 15, \"북부 메소포타미아\": 10}, name=\"Territory Before Expansion\")\n",
    "\n",
    "# 영토 확장 후 면적 (단위: 만 km²)\n",
    "territory_after = pd.Series({\"중앙 아시리아\": 20, \"북부 메소포타미아\": 15, \"남부 메소포타미아\": 10}, name=\"Territory After Expansion\")\n",
    "\n",
    "# 영토 확장에 따른 면적 차이 계산\n",
    "territory_expansion = territory_after.sub(territory_before, fill_value=0)\n",
    "\n",
    "print(\"🏰 아시리아 제국의 영토 확장 결과 (단위: 만 km²):\")\n",
    "print(territory_expansion)"
   ]
  },
  {
   "cell_type": "code",
   "execution_count": 21,
   "id": "dd42bcee-1399-491c-826a-c4375806236c",
   "metadata": {},
   "outputs": [
    {
     "name": "stdout",
     "output_type": "stream",
     "text": [
      "🌾 아시리아 제국의 증가 후 농업 생산량 (단위: 톤):\n",
      "밀     1200.0\n",
      "보리    1650.0\n",
      "dtype: float64\n"
     ]
    }
   ],
   "source": [
    "# 코드 예제 2-1: 🌾 아시리아 제국의 농업 생산 증가 🌾\n",
    "# 아시리아 제국은 강력한 농업 기반을 가지고 있었으며, 특정 시기에 생산량이 증가했습니다. \n",
    "# 이 코드 예제에서는 초기 농업 생산량과 증가율을 나타내는 데이터를 생성하고, \n",
    "# mul 메서드를 사용하여 증가 후의 생산량을 계산합니다.\n",
    "\n",
    "import pandas as pd\n",
    "\n",
    "# 아시리아 제국의 초기 농업 생산량 (단위: 톤)\n",
    "initial_production = pd.Series({\"밀\": 1000, \"보리\": 1500}, name=\"Initial Production\")\n",
    "\n",
    "# 생산 증가율\n",
    "increase_rate = pd.Series({\"밀\": 1.2, \"보리\": 1.1}, name=\"Increase Rate\")\n",
    "\n",
    "# 증가 후의 생산량 계산\n",
    "increased_production = initial_production.mul(increase_rate)\n",
    "\n",
    "print(\"🌾 아시리아 제국의 증가 후 농업 생산량 (단위: 톤):\")\n",
    "print(increased_production)"
   ]
  },
  {
   "cell_type": "code",
   "execution_count": 22,
   "id": "d8ea7825-39a8-4a7b-b3a9-58c40b46326f",
   "metadata": {},
   "outputs": [
    {
     "name": "stdout",
     "output_type": "stream",
     "text": [
      "💰 아시리아 제국의 확대 후 교역 규모 (단위: 천 금):\n",
      "금    650.0\n",
      "은    960.0\n",
      "dtype: float64\n"
     ]
    }
   ],
   "source": [
    "# 코드 예제 2-2: 💰 아시리아 제국의 교역 규모 확대 💰\n",
    "# 아시리아 제국은 광범위한 교역 네트워크를 통해 부를 축적했습니다. \n",
    "# 이 코드 예제에서는 초기 교역 규모와 교역 확대율을 나타내는 데이터를 생성하고,\n",
    "# mul 메서드를 사용하여 확대 후의 교역 규모를 계산합니다.\n",
    "\n",
    "import pandas as pd\n",
    "\n",
    "# 아시리아 제국의 초기 교역 규모 (단위: 천 금)\n",
    "initial_trade = pd.Series({\"금\": 500, \"은\": 800}, name=\"Initial Trade\")\n",
    "\n",
    "# 교역 확대율\n",
    "trade_expansion = pd.Series({\"금\": 1.3, \"은\": 1.2}, name=\"Trade Expansion\")\n",
    "\n",
    "# 확대 후의 교역 규모 계산\n",
    "expanded_trade = initial_trade.mul(trade_expansion, fill_value=1)\n",
    "\n",
    "print(\"💰 아시리아 제국의 확대 후 교역 규모 (단위: 천 금):\")\n",
    "print(expanded_trade)"
   ]
  },
  {
   "cell_type": "markdown",
   "id": "49961d39-4904-4ded-b07e-3028aebc3bb4",
   "metadata": {},
   "source": [
    "## pandas.Series.div 메서드는\n",
    "- 한 Series 객체의 요소를 다른 Series 객체나 스칼라 값으로 나누는 연산을 수행합니다. \n",
    "- 이 메서드는 분석 작업에서 비율이나 평균을 계산할 때 특히 유용합니다."
   ]
  },
  {
   "cell_type": "code",
   "execution_count": 23,
   "id": "bbf3be5e-67c1-40fb-8cf5-def40cd2ba70",
   "metadata": {},
   "outputs": [
    {
     "name": "stdout",
     "output_type": "stream",
     "text": [
      "🏛 아시리아 제국의 인구 밀도 (단위: 명/km²):\n",
      "니네베    2.400000\n",
      "아슈르    2.666667\n",
      "칼후     3.000000\n",
      "dtype: float64\n"
     ]
    }
   ],
   "source": [
    "# 코드 예제 1: 🏛 아시리아 제국의 인구 밀도 🏛\n",
    "# 아시리아 제국은 광대한 영토를 지배했으며, 이 코드 예제에서는 아시리아 제국의 특정 지역 인구와 \n",
    "# 해당 지역 면적을 나타내는 데이터를 생성하고, \n",
    "# div 메서드를 사용하여 인구 밀도를 계산합니다.\n",
    "\n",
    "import pandas as pd\n",
    "\n",
    "# 아시리아 제국의 특정 지역 인구 (단위: 만 명)\n",
    "population = pd.Series({\"니네베\": 120, \"아슈르\": 80, \"칼후\": 60}, name=\"Population\")\n",
    "\n",
    "# 해당 지역의 면적 (단위: km²)\n",
    "area = pd.Series({\"니네베\": 50, \"아슈르\": 30, \"칼후\": 20}, name=\"Area\")\n",
    "\n",
    "# 인구 밀도 계산 (단위: 명/km²)\n",
    "population_density = population.div(area)\n",
    "\n",
    "print(\"🏛 아시리아 제국의 인구 밀도 (단위: 명/km²):\")\n",
    "print(population_density)"
   ]
  },
  {
   "cell_type": "code",
   "execution_count": 24,
   "id": "eec8a895-28a7-44cc-9d71-495d9302e0cb",
   "metadata": {},
   "outputs": [
    {
     "name": "stdout",
     "output_type": "stream",
     "text": [
      "💰 아시리아 제국의 각 단위에 분배될 전리품의 양 (단위: 천 금):\n",
      "금    25.0\n",
      "은    40.0\n",
      "동    50.0\n",
      "dtype: float64\n"
     ]
    }
   ],
   "source": [
    "# 코드 예제 2: 💰 아시리아 제국의 재화 분배 💰\n",
    "# 아시리아 제국은 전리품과 자원을 분배하는 복잡한 시스템을 가지고 있었습니다. \n",
    "# 이 코드 예제에서는 전리품의 총량과 분배해야 할 단위의 수를 나타내는 데이터를 생성하고, \n",
    "# div 메서드를 사용하여 각 단위에 분배될 전리품의 양을 계산합니다.\n",
    "\n",
    "import pandas as pd\n",
    "\n",
    "# 전리품의 총량 (단위: 천 금)\n",
    "spoils = pd.Series({\"금\": 100, \"은\": 200, \"동\": 300}, name=\"Spoils\")\n",
    "\n",
    "# 분배해야 할 단위의 수\n",
    "units = pd.Series({\"금\": 4, \"은\": 5, \"동\": 6}, name=\"Units\")\n",
    "\n",
    "# 각 단위에 분배될 전리품의 양 계산 (단위: 천 금)\n",
    "spoils_per_unit = spoils.div(units, fill_value=1)\n",
    "\n",
    "print(\"💰 아시리아 제국의 각 단위에 분배될 전리품의 양 (단위: 천 금):\")\n",
    "print(spoils_per_unit)"
   ]
  },
  {
   "cell_type": "markdown",
   "id": "d5209c7d-d05f-40da-a346-0052e857b1d4",
   "metadata": {},
   "source": [
    "## pandas.Series.truediv 메서드\n",
    "- Series 객체의 각 요소를 다른 Series 객체나 스칼라 값으로 나누는 연산을 수행하며,항상 부동 소수점 결과를 반환합니다. 이 메서드는 Python 3의 특성인 진정한 나눗셈(/)과 동일하게 작동합니다."
   ]
  },
  {
   "cell_type": "code",
   "execution_count": 25,
   "id": "eb9b7c2a-58f9-47f1-9d48-d9af1327ab0e",
   "metadata": {},
   "outputs": [
    {
     "name": "stdout",
     "output_type": "stream",
     "text": [
      "🌾 군대 당 배분되는 식량의 양 (단위: 톤):\n",
      "곡물    100.0\n",
      "야채    100.0\n",
      "dtype: float64\n"
     ]
    }
   ],
   "source": [
    "# 코드 예제 1: 🌾 아시리아 제국의 식량 배분 🌾\n",
    "# 아시리아 제국은 중앙 집중식 식량 저장 및 배분 시스템을 가지고 있었습니다. \n",
    "# 이 코드 예제에서는 저장된 식량의 양과 배분해야 할 군대의 수를 나타내는 데이터를 생성하고, \n",
    "# truediv 메서드를 사용하여 군대 당 배분되는 식량의 양을 계산합니다.\n",
    "\n",
    "import pandas as pd\n",
    "\n",
    "\n",
    "# 저장된 식량의 양 (단위: 톤)\n",
    "stored_food = pd.Series({\"곡물\": 1000, \"야채\": 500}, name=\"Stored Food\")\n",
    "\n",
    "# 배분해야 할 군대의 수\n",
    "army_units = pd.Series({\"곡물\": 10, \"야채\": 5}, name=\"Army Units\")\n",
    "\n",
    "# 군대 당 배분되는 식량의 양 계산 (단위: 톤)\n",
    "food_per_unit = stored_food.truediv(army_units)\n",
    "\n",
    "print(\"🌾 군대 당 배분되는 식량의 양 (단위: 톤):\")\n",
    "print(food_per_unit)"
   ]
  },
  {
   "cell_type": "code",
   "execution_count": 26,
   "id": "d26f84b4-21ff-4c19-98e5-8f23f5fc1e01",
   "metadata": {},
   "outputs": [
    {
     "name": "stdout",
     "output_type": "stream",
     "text": [
      "💧 도시별 물 공급 비율:\n",
      "니네베    1.111111\n",
      "아슈르    1.200000\n",
      "dtype: float64\n"
     ]
    }
   ],
   "source": [
    "# 코드 예제 2: 💧 아시리아의 물 자원 분배 💧\n",
    "# 아시리아 제국은 물 자원 관리에 있어서도 효율적인 시스템을 구축했습니다. \n",
    "# 이 코드 예제에서는 수도 근처의 물 공급량과 각 도시의 수요를 나타내는 데이터를 생성하고, \n",
    "# truediv 메서드를 사용하여 도시별 물 공급 비율을 계산합니다.\n",
    "\n",
    "import pandas as pd\n",
    "\n",
    "# 물 공급량 (단위: 만 갤런)\n",
    "water_supply = pd.Series({\"니네베\": 500, \"아슈르\": 300}, name=\"Water Supply\")\n",
    "\n",
    "# 각 도시의 수요 (단위: 만 갤런)\n",
    "city_demand = pd.Series({\"니네베\": 450, \"아슈르\": 250}, name=\"City Demand\")\n",
    "\n",
    "# 도시별 물 공급 비율 계산\n",
    "supply_ratio = water_supply.truediv(city_demand, fill_value=1)\n",
    "\n",
    "print(\"💧 도시별 물 공급 비율:\")\n",
    "print(supply_ratio)"
   ]
  },
  {
   "cell_type": "markdown",
   "id": "22760973-f8d2-43d1-81f0-bdc0666d8443",
   "metadata": {},
   "source": [
    "## pandas.Series.floordiv 메서드\n",
    "- 한 Series 객체의 각 요소를 다른 Series 객체나 스칼라 값으로 나누고, 나눗셈 결과의 바닥값(가장 가까운 작은 정수)을 계산하는 연산을 수행합니다. 이 메서드는 특히 나눗셈 결과를 정수로 처리해야 할 때 유용합니다."
   ]
  },
  {
   "cell_type": "code",
   "execution_count": 27,
   "id": "0b92462a-954f-450e-99f2-3cc7e179e7cf",
   "metadata": {},
   "outputs": [
    {
     "name": "stdout",
     "output_type": "stream",
     "text": [
      "🛡 각 부대에 배치될 수 있는 군대의 수:\n",
      "보병    40\n",
      "기병    20\n",
      "dtype: int64\n"
     ]
    }
   ],
   "source": [
    "# 코드 예제 1: 🛡 아시리아 군대의 부대 배치 🛡\n",
    "# 아시리아 제국은 광범위한 영토를 통제하기 위해 여러 군대 부대를 배치했습니다. \n",
    "# 이 코드 예제에서는 아시리아 제국의 전체 군대 수와 각 부대에 할당할 병사 수를 나타내는 데이터를 생성하고, \n",
    "# floordiv 메서드를 사용하여 각 부대에 배치될 수 있는 군대의 수를 계산합니다.\n",
    "\n",
    "import pandas as pd\n",
    "\n",
    "# 아시리아 제국의 전체 군대 수\n",
    "total_soldiers = pd.Series({\"보병\": 12000, \"기병\": 4000}, name=\"Total Soldiers\")\n",
    "\n",
    "# 각 부대에 할당할 병사 수\n",
    "soldiers_per_unit = pd.Series({\"보병\": 300, \"기병\": 200}, name=\"Soldiers per Unit\")\n",
    "\n",
    "# 각 부대에 배치될 수 있는 군대의 수 계산\n",
    "units_assigned = total_soldiers.floordiv(soldiers_per_unit)\n",
    "\n",
    "print(\"🛡 각 부대에 배치될 수 있는 군대의 수:\")\n",
    "print(units_assigned)"
   ]
  },
  {
   "cell_type": "code",
   "execution_count": 28,
   "id": "0a8586f8-c05b-4599-9de9-5340bb51ed2d",
   "metadata": {},
   "outputs": [
    {
     "name": "stdout",
     "output_type": "stream",
     "text": [
      "🏹 전체 전투에서 궁수 부대가 사용할 수 있는 화살의 수:\n",
      "화살    5000\n",
      "dtype: int64\n"
     ]
    }
   ],
   "source": [
    "# 코드 예제 2: 🏹 아시리아 궁수 부대의 화살 소모량 🏹\n",
    "# 아시리아 군대는 전투에서 궁수 부대를 효과적으로 활용했습니다. \n",
    "# 이 코드 예제에서는 전투 중 궁수 부대가 사용할 수 있는 총 화살의 수와 \n",
    "# 각 궁수가 전투에서 평균적으로 사용하는 화살의 수를 나타내는 데이터를 생성하고, \n",
    "# floordiv 메서드를 사용하여 전체 전투에서 궁수 부대가 사용할 수 있는 화살의 수를 계산합니다.\n",
    "\n",
    "import pandas as pd\n",
    "\n",
    "# 전투 중 궁수 부대가 사용할 수 있는 총 화살의 수\n",
    "total_arrows = pd.Series({\"화살\": 100000}, name=\"Total Arrows\")\n",
    "\n",
    "# 각 궁수가 전투에서 평균적으로 사용하는 화살의 수\n",
    "arrows_per_archer = pd.Series({\"화살\": 20}, name=\"Arrows per Archer\")\n",
    "\n",
    "# 전체 전투에서 궁수 부대가 사용할 수 있는 화살의 수 계산\n",
    "total_battles_supported = total_arrows.floordiv(arrows_per_archer, fill_value=50)\n",
    "\n",
    "print(\"🏹 전체 전투에서 궁수 부대가 사용할 수 있는 화살의 수:\")\n",
    "print(total_battles_supported)"
   ]
  },
  {
   "cell_type": "markdown",
   "id": "202def35-811c-477a-a918-3c826e754b26",
   "metadata": {},
   "source": [
    "## pandas.Series.mod 메서드\n",
    "- 한 Series 객체의 각 요소를 다른 Series 객체나 스칼라 값으로 나눈 후의 나머지를 계산합니다. 이 연산은 종종 모듈로 연산이라고도 불리며, 수학에서 % 연산자에 해당합니다."
   ]
  },
  {
   "cell_type": "code",
   "execution_count": 29,
   "id": "c4ee899b-2474-4cca-bfa5-4a8372d6d4b2",
   "metadata": {},
   "outputs": [
    {
     "name": "stdout",
     "output_type": "stream",
     "text": [
      "🛡️ 순환 근무에 따른 병사 배치:\n",
      "1군단    6\n",
      "2군단    3\n",
      "3군단    2\n",
      "Name: Legion Soldiers, dtype: int64\n"
     ]
    }
   ],
   "source": [
    "# 코드 예제 1: 🛡️ 이집트 군단의 순환 근무 🛡️\n",
    "# 이집트 군대는 전쟁과 방어를 위해 여러 군단을 운영했습니다.\n",
    "# 이 코드 예제에서는 군단별 병사 수와 순환 근무 일정을 나타내는 데이터를 생성하고, \n",
    "# mod 메서드를 사용하여 순환 근무에 따른 병사들의 배치를 계산합니다.\n",
    "\n",
    "import pandas as pd\n",
    "\n",
    "# 군단별 병사 수\n",
    "legion_soldiers = pd.Series({\"1군단\": 1000, \"2군단\": 1200, \"3군단\": 1500}, name=\"Legion Soldiers\")\n",
    "\n",
    "# 순환 근무 일정 (일 수)\n",
    "rotation_schedule = 7  # 한 주에 한 번씩 순환\n",
    "\n",
    "# 순환 근무에 따른 병사 배치 계산\n",
    "rotation_result = legion_soldiers.mod(rotation_schedule)\n",
    "\n",
    "print(\"🛡️ 순환 근무에 따른 병사 배치:\")\n",
    "print(rotation_result)"
   ]
  },
  {
   "cell_type": "code",
   "execution_count": 30,
   "id": "3b3ed45c-7a40-43b2-bca5-2fab97bfaa12",
   "metadata": {},
   "outputs": [
    {
     "name": "stdout",
     "output_type": "stream",
     "text": [
      "🗡️ 전리품 분배 후 남는 양:\n",
      "금    700\n",
      "은    800\n",
      "dtype: int64\n"
     ]
    }
   ],
   "source": [
    "# 코드 예제 2: 🗡️ 전리품의 군단별 분배 🗡️\n",
    "# 이집트 군대가 전투에서 승리한 후, 전리품을 군단별로 분배했습니다. \n",
    "# 이 코드 예제에서는 전리품의 총량과 군단별 병사 수를 나타내는 데이터를 생성하고, \n",
    "# mod 메서드를 사용하여 전리품 분배 후 남는 전리품의 양을 계산합니다.\n",
    "\n",
    "import pandas as pd\n",
    "\n",
    "# 전리품의 총량\n",
    "total_spoils = pd.Series({\"금\": 700, \"은\": 800}, name=\"Total Spoils\")\n",
    "\n",
    "# 군단별 병사 수\n",
    "legion_soldiers = pd.Series({\"금\": 1000, \"은\": 1200}, name=\"Legion Soldiers\")\n",
    "\n",
    "# 전리품 분배 후 남는 양 계산\n",
    "remaining_spoils = total_spoils.mod(legion_soldiers, fill_value=1)\n",
    "\n",
    "print(\"🗡️ 전리품 분배 후 남는 양:\")\n",
    "print(remaining_spoils)"
   ]
  },
  {
   "cell_type": "markdown",
   "id": "b273cdf8-33a2-4d74-9ac3-c1319a72bbd9",
   "metadata": {},
   "source": [
    "## pandas.Series.pow 메서드\n",
    "- Series 객체의 각 요소를 지정된 값으로 거듭제곱하는 연산을 수행합니다. 이 메서드는 수학적 연산이나 금융 계산에서 복리 이자율 계산과 같이 거듭제곱이 필요할 때 유용하게 사용될 수 있습니다."
   ]
  },
  {
   "cell_type": "code",
   "execution_count": 31,
   "id": "d30f92ea-7814-4f95-b727-5d18a208a9f6",
   "metadata": {},
   "outputs": [
    {
     "name": "stdout",
     "output_type": "stream",
     "text": [
      "🏺 이집트 도자기의 향상된 내구성 값:\n",
      "병       4\n",
      "접시      9\n",
      "항아리    25\n",
      "Name: Pottery Durability, dtype: int64\n"
     ]
    }
   ],
   "source": [
    "# 코드 예제 1: 🏺 이집트 도자기의 내구성 향상 🏺\n",
    "# 고대 이집트에서 도자기는 일상 생활과 의례에서 중요한 역할을 했습니다. \n",
    "# 이 코드 예제에서는 도자기의 초기 내구성 값을 나타내는 데이터와\n",
    " #기술 발전을 통한 내구성 향상 계수를 나타내는 데이터를 생성하고, \n",
    " #pow 메서드를 사용하여 향상된 내구성 값을 계산합니다.\n",
    "\n",
    "import pandas as pd\n",
    "\n",
    "# 도자기의 초기 내구성 값\n",
    "pottery_durability = pd.Series({\"병\": 2, \"접시\": 3, \"항아리\": 5}, name=\"Pottery Durability\")\n",
    "\n",
    "# 기술 발전에 따른 내구성 향상 계수\n",
    "improvement_factor = 2  # 내구성이 2배로 향상되었다고 가정\n",
    "\n",
    "# 향상된 내구성 값 계산\n",
    "improved_durability = pottery_durability.pow(improvement_factor)\n",
    "\n",
    "print(\"🏺 이집트 도자기의 향상된 내구성 값:\")\n",
    "print(improved_durability)"
   ]
  },
  {
   "cell_type": "code",
   "execution_count": 32,
   "id": "2f063976-017f-4b27-9d35-2f4f399dbb6c",
   "metadata": {},
   "outputs": [
    {
     "name": "stdout",
     "output_type": "stream",
     "text": [
      "🗿 이집트 조각상의 확대된 비율 값:\n",
      "인물상    1.000\n",
      "동물상    0.125\n",
      "dtype: float64\n"
     ]
    }
   ],
   "source": [
    "# 코드 예제 2: 🗿 이집트 조각상의 비율 확대 🗿\n",
    "# 고대 이집트에서 조각상은 종교적, 문화적 중요성을 지녔습니다. \n",
    "# 이 코드 예제에서는 조각상의 원래 크기 비율과 복제 과정에서 적용된 확대 비율을 나타내는 데이터를 생성하고, \n",
    "# pow 메서드를 사용하여 확대된 비율 값을 계산합니다.\n",
    "\n",
    "import pandas as pd\n",
    "\n",
    "# 조각상의 원래 크기 비율\n",
    "statue_scale = pd.Series({\"인물상\": 1, \"동물상\": 0.5}, name=\"Statue Scale\")\n",
    "\n",
    "# 복제 과정에서 적용된 확대 비율\n",
    "enlargement_factor = pd.Series({\"인물상\": 2, \"동물상\": 3}, name=\"Enlargement Factor\")\n",
    "\n",
    "# 확대된 비율 값 계산\n",
    "enlarged_scale = statue_scale.pow(enlargement_factor)\n",
    "\n",
    "print(\"🗿 이집트 조각상의 확대된 비율 값:\")\n",
    "print(enlarged_scale)"
   ]
  },
  {
   "cell_type": "code",
   "execution_count": null,
   "id": "78521fda-a7e6-498e-a19d-6fe703cb54ca",
   "metadata": {},
   "outputs": [],
   "source": []
  }
 ],
 "metadata": {
  "kernelspec": {
   "display_name": "Python 3 (ipykernel)",
   "language": "python",
   "name": "python3"
  },
  "language_info": {
   "codemirror_mode": {
    "name": "ipython",
    "version": 3
   },
   "file_extension": ".py",
   "mimetype": "text/x-python",
   "name": "python",
   "nbconvert_exporter": "python",
   "pygments_lexer": "ipython3",
   "version": "3.10.9"
  }
 },
 "nbformat": 4,
 "nbformat_minor": 5
}
