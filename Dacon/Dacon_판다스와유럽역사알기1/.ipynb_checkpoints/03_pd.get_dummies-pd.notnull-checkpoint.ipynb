{
 "cells": [
  {
   "cell_type": "markdown",
   "id": "deb5c353-6c89-4d49-90cd-b27e2ef24aaf",
   "metadata": {},
   "source": [
    "# 판다스와 유럽 역사 알기1-2\n",
    "\n",
    "- 03_더미변수 변환부터 notnull 확인 등\n",
    "- https://www.dacon.io/edu/131"
   ]
  },
  {
   "cell_type": "markdown",
   "id": "1037d8ad-1c8d-4d29-b26d-9bac510a770d",
   "metadata": {},
   "source": [
    "## pandas.get_dummies\n",
    "- 함수는 범주형 변수를 더미(dummy) 또는 인코딩된 변수로 변환해주는 함수입니다. \n",
    "- 이 함수를 사용하면 범주형 변수를 숫자형 변수로 변환하여 데이터프레임의 분석에 활용할 수 있습니다. \n",
    "- 주어진 열의 고유한 값들을 새로운 이진 더미 변수로 변환하여 새로운 데이터프레임을 반환합니다.¶"
   ]
  },
  {
   "cell_type": "code",
   "execution_count": 9,
   "id": "08b0a522-4923-4328-84db-8cab8a59e8af",
   "metadata": {},
   "outputs": [
    {
     "name": "stdout",
     "output_type": "stream",
     "text": [
      "        인물  철학자\n",
      "0    소크라테스    1\n",
      "1      플라톤    1\n",
      "2  아리스토텔레스    1\n",
      "3  헤라클레이토스    1\n"
     ]
    }
   ],
   "source": [
    "# 예제1 그리스 역사적 인물들의 소속을 더미 변수로 변환¶\n",
    "# 역사적 배경: 그리스의 역사적 인물들은 다양한 소속에 속할 수 있습니다. \n",
    "# 샘플 데이터: 그리스 역사적 인물들의 소속을 표현하는 데이터프레임을 생성합니다.\n",
    "\n",
    "import pandas as pd\n",
    "\n",
    "# 샘플 데이터 생성\n",
    "data = {\n",
    "    '인물': ['소크라테스', '플라톤', '아리스토텔레스', '헤라클레이토스'],\n",
    "    '소속': ['철학자', '철학자', '철학자', '철학자']\n",
    "}\n",
    "\n",
    "df = pd.DataFrame(data)\n",
    "\n",
    "# get_dummies 함수를 사용하여 더미 변수 생성\n",
    "dummy_df = pd.get_dummies(df['소속'])\n",
    "\n",
    "# 인물과 더미 변수를 병합하여 새로운 데이터프레임 생성\n",
    "merged_df = pd.concat([df['인물'], dummy_df], axis=1)\n",
    "\n",
    "print(merged_df)"
   ]
  },
  {
   "cell_type": "code",
   "execution_count": 3,
   "id": "2a0c9840-32bd-4000-ade9-78eb416c96b8",
   "metadata": {},
   "outputs": [
    {
     "name": "stdout",
     "output_type": "stream",
     "text": [
      "         이벤트  전쟁  전투\n",
      "0    페르시아 전쟁   1   0\n",
      "1  펠로포네소스 전투   0   1\n",
      "2      테베 전쟁   1   0\n",
      "3   플라타이아 전투   0   1\n",
      "4    살라미스 전투   0   1\n"
     ]
    }
   ],
   "source": [
    "# 예제2 그리스 역사적 이벤트의 유형을 더미 변수로 변환\n",
    "# 역사적 배경: 그리스의 역사적 이벤트는 다양한 유형으로 구성됩니다.\n",
    "# 샘플 데이터: 그리스 역사적 이벤트의 유형을 표현하는 데이터프레임을 생성합니다.\n",
    "\n",
    "import pandas as pd\n",
    "\n",
    "# 샘플 데이터 생성\n",
    "data = {\n",
    "    '이벤트': ['페르시아 전쟁', '펠로포네소스 전투', '테베 전쟁', '플라타이아 전투', '살라미스 전투'],\n",
    "    '유형': ['전쟁', '전투', '전쟁', '전투', '전투']\n",
    "}\n",
    "\n",
    "df = pd.DataFrame(data)\n",
    "\n",
    "# get_dummies 함수를 사용하여 더미 변수 생성\n",
    "dummy_df = pd.get_dummies(df['유형'])\n",
    "\n",
    "# 이벤트와 더미 변수를 병합하여 새로운 데이터프레임 생성\n",
    "merged_df = pd.concat([df['이벤트'], dummy_df], axis=1)\n",
    "\n",
    "print(merged_df)"
   ]
  },
  {
   "cell_type": "code",
   "execution_count": 4,
   "id": "23bdb741-f880-4d74-be36-86f517984f4d",
   "metadata": {},
   "outputs": [
    {
     "name": "stdout",
     "output_type": "stream",
     "text": [
      "           특징  고대  고전  로마  헬레니스틱\n",
      "0  다양한 신화와 전설   1   0   0      0\n",
      "1    민주주의의 시작   0   1   0      0\n",
      "2      왕국의 출현   0   0   0      1\n",
      "3   로마 제국의 성립   0   0   1      0\n"
     ]
    }
   ],
   "source": [
    "# 예제3 그리스의 역사적 시대를 더미 변수로 변환\n",
    "# 역사적 배경: 그리스의 역사적 시대는 다양한 기간으로 나뉘어집니다.\n",
    "# 샘플 데이터: 그리스 역사적 시대를 표현하는 데이터프레임을 생성합니다.\n",
    "\n",
    "import pandas as pd\n",
    "\n",
    "# 샘플 데이터 생성\n",
    "data = {\n",
    "    '시대': ['고대', '고전', '헬레니스틱', '로마'],\n",
    "    '특징': ['다양한 신화와 전설', '민주주의의 시작', '왕국의 출현', '로마 제국의 성립']\n",
    "}\n",
    "\n",
    "df = pd.DataFrame(data)\n",
    "\n",
    "# get_dummies 함수를 사용하여 더미 변수 생성\n",
    "dummy_df = pd.get_dummies(df['시대'])\n",
    "\n",
    "# 시대와 더미 변수를 병합하여 새로운 데이터프레임 생성\n",
    "merged_df = pd.concat([df['특징'], dummy_df], axis=1)\n",
    "\n",
    "print(merged_df)"
   ]
  },
  {
   "cell_type": "code",
   "execution_count": 5,
   "id": "544069f9-01f4-4a2f-9ba0-1773bcce02cc",
   "metadata": {},
   "outputs": [
    {
     "name": "stdout",
     "output_type": "stream",
     "text": [
      "     지명  도시\n",
      "0   아테네   1\n",
      "1  스파르타   1\n",
      "2  코란토스   1\n",
      "3    테베   1\n"
     ]
    }
   ],
   "source": [
    "# 예제4 그리스 역사적 지명의 종류를 더미 변수로 변환\n",
    "# 역사적 배경: 그리스는 다양한 역사적인 지명들로 이루어져 있습니다.\n",
    "# 샘플 데이터: 그리스 역사적인 지명의 종류를 표현하는 데이터프레임을 생성합니다.\n",
    "\n",
    "import pandas as pd\n",
    "\n",
    "# 샘플 데이터 생성\n",
    "data = {\n",
    "    '지명': ['아테네', '스파르타', '코란토스', '테베'],\n",
    "    '유형': ['도시', '도시', '도시', '도시']\n",
    "}\n",
    "\n",
    "df = pd.DataFrame(data)\n",
    "\n",
    "# get_dummies 함수를 사용하여 더미 변수 생성\n",
    "dummy_df = pd.get_dummies(df['유형'])\n",
    "\n",
    "# 지명과 더미 변수를 병합하여 새로운 데이터프레임 생성\n",
    "merged_df = pd.concat([df['지명'], dummy_df], axis=1)\n",
    "\n",
    "print(merged_df)"
   ]
  },
  {
   "cell_type": "markdown",
   "id": "67e666f3-be0a-410c-8c91-65799d59bedf",
   "metadata": {},
   "source": [
    " ## pandas.factorize\n",
    " \n",
    " - 함수는 범주형 변수를 정수형으로 변환하는 함수입니다.\n",
    " - 이 함수는 주어진 범주형 변수의 고유한 값들을 찾아내고, \n",
    " - 각 값에 대해 정수를 할당하여 새로운 정수형 범주형 변수를 생성합니다."
   ]
  },
  {
   "cell_type": "code",
   "execution_count": 10,
   "id": "0f45e732-11f8-43e0-84bd-0ee5cbe0f849",
   "metadata": {},
   "outputs": [
    {
     "name": "stdout",
     "output_type": "stream",
     "text": [
      "        인물   소속  소속_정수\n",
      "0    소크라테스  철학자      0\n",
      "1      플라톤  철학자      0\n",
      "2  아리스토텔레스  철학자      0\n",
      "3  헤라클레이토스  철학자      0\n",
      "4    소크라테스  철학자      0\n"
     ]
    }
   ],
   "source": [
    "# 그리스 역사적 인물들의 소속을 정수형으로 변환\n",
    "# 역사적 배경: 그리스의 역사적 인물들은 다양한 소속에 속할 수 있습니다. \n",
    "# 샘플 데이터: 그리스 역사적 인물들의 소속을 표현하는 데이터프레임을 생성합니다.\n",
    "\n",
    "import pandas as pd\n",
    "\n",
    "# 샘플 데이터 생성\n",
    "data = {\n",
    "    '인물': ['소크라테스', '플라톤', '아리스토텔레스', '헤라클레이토스', '소크라테스'],\n",
    "    '소속': ['철학자', '철학자', '철학자', '철학자', '철학자']\n",
    "}\n",
    "\n",
    "df = pd.DataFrame(data)\n",
    "\n",
    "# '소속' 열을 정수형으로 변환\n",
    "df['소속_정수'] = pd.factorize(df['소속'])[0]\n",
    "\n",
    "print(df)"
   ]
  },
  {
   "cell_type": "code",
   "execution_count": 12,
   "id": "7ef1f330-e105-4621-bdb8-0d530a837be7",
   "metadata": {},
   "outputs": [
    {
     "name": "stdout",
     "output_type": "stream",
     "text": [
      "         이벤트  유형  유형_정수\n",
      "0    페르시아 전쟁  전쟁      0\n",
      "1  펠로포네소스 전투  전투      1\n",
      "2      테베 전쟁  전쟁      0\n",
      "3   플라타이아 전투  전투      1\n",
      "4    살라미스 전투  전투      1\n"
     ]
    }
   ],
   "source": [
    "# 예제2 그리스 역사적 이벤트의 유형을 정수형으로 변환\n",
    "# 역사적 배경: 그리스의 역사적 이벤트는 다양한 유형으로 구성됩니다. \n",
    "# 샘플 데이터: 그리스 역사적 이벤트의 유형을 표현하는 데이터프레임을 생성합니다.\n",
    "\n",
    "import pandas as pd\n",
    "\n",
    "# 샘플 데이터 생성\n",
    "data = {\n",
    "    '이벤트': ['페르시아 전쟁', '펠로포네소스 전투', '테베 전쟁', '플라타이아 전투', '살라미스 전투'],\n",
    "    '유형': ['전쟁', '전투', '전쟁', '전투', '전투']\n",
    "}\n",
    "\n",
    "df = pd.DataFrame(data)\n",
    "\n",
    "# '유형' 열을 정수형으로 변환\n",
    "df['유형_정수'] = pd.factorize(df['유형'])[0]\n",
    "\n",
    "print(df)"
   ]
  },
  {
   "cell_type": "code",
   "execution_count": 13,
   "id": "5adadd03-d33d-4ee6-8601-1a151436c819",
   "metadata": {},
   "outputs": [
    {
     "name": "stdout",
     "output_type": "stream",
     "text": [
      "      시대          특징  시대_정수\n",
      "0     고대  다양한 신화와 전설      0\n",
      "1     고전    민주주의의 시작      1\n",
      "2  헬레니스틱      왕국의 출현      2\n",
      "3     로마   로마 제국의 성립      3\n"
     ]
    }
   ],
   "source": [
    "# 예제3 그리스의 역사적 시대를 정수형으로 변환\n",
    "# 역사적 배경: 그리스의 역사적 시대는 다양한 기간으로 나뉘어집니다.\n",
    "# 샘플 데이터: 그리스 역사적 시대를 표현하는 데이터프레임을 생성합니다.\n",
    "\n",
    "import pandas as pd\n",
    "\n",
    "# 샘플 데이터 생성\n",
    "data = {\n",
    "    '시대': ['고대', '고전', '헬레니스틱', '로마'],\n",
    "    '특징': ['다양한 신화와 전설', '민주주의의 시작', '왕국의 출현', '로마 제국의 성립']\n",
    "}\n",
    "\n",
    "df = pd.DataFrame(data)\n",
    "\n",
    "# '시대' 열을 정수형으로 변환\n",
    "df['시대_정수'] = pd.factorize(df['시대'])[0]\n",
    "\n",
    "print(df)"
   ]
  },
  {
   "cell_type": "code",
   "execution_count": 14,
   "id": "7fe8da39-ca92-4a6d-bf64-b0ae54a4b400",
   "metadata": {},
   "outputs": [
    {
     "name": "stdout",
     "output_type": "stream",
     "text": [
      "     지명  유형  유형_정수\n",
      "0   아테네  도시      0\n",
      "1  스파르타  도시      0\n",
      "2  코란토스  도시      0\n",
      "3    테베  도시      0\n"
     ]
    }
   ],
   "source": [
    "# 예제4 그리스 역사적 지명의 종류를 정수형으로 변환\n",
    "# 역사적 배경: 그리스는 다양한 역사적인 지명들로 이루어져 있습니다.\n",
    "# 샘플 데이터: 그리스 역사적인 지명의 종류를 표현하는 데이터프레임을 생성합니다.\n",
    "\n",
    "import pandas as pd\n",
    "\n",
    "# 샘플 데이터 생성\n",
    "data = {\n",
    "    '지명': ['아테네', '스파르타', '코란토스', '테베'],\n",
    "    '유형': ['도시', '도시', '도시', '도시']\n",
    "}\n",
    "\n",
    "df = pd.DataFrame(data)\n",
    "\n",
    "# '유형' 열을 정수형으로 변환\n",
    "df['유형_정수'] = pd.factorize(df['유형'])[0]\n",
    "\n",
    "print(df)\n"
   ]
  },
  {
   "cell_type": "markdown",
   "id": "64635a28-ae6f-4a3f-b7ba-50a5a1cb6e75",
   "metadata": {},
   "source": [
    "## pandas.unique\n",
    "- 함수는 Series나 DataFrame에서 고유한 값을 반환하는 함수입니다.\n",
    "- 이 함수를 사용하면 주어진 Series나 DataFrame 열에서 고유한 값들을 찾아내어 반환할 수 있습니다."
   ]
  },
  {
   "cell_type": "code",
   "execution_count": 20,
   "id": "34be5765-ef77-45db-9a8a-b4b34a6150d0",
   "metadata": {},
   "outputs": [
    {
     "name": "stdout",
     "output_type": "stream",
     "text": [
      "['페르시아 전쟁' '펠로포네소스 전투' '살라미스 전투']\n"
     ]
    }
   ],
   "source": [
    "# 예제1 그리스 역사적 이벤트에서 고유한 사건들을 찾아내기\n",
    "# 역사적 배경: 그리스의 역사는 다양한 사건들로 이루어져 있습니다.\n",
    "# 샘플 데이터: 그리스 역사적 이벤트에서 발생한 사건들을 표현하는 Series를 생성합니다.\n",
    "\n",
    "import pandas as pd\n",
    "\n",
    "# 샘플 데이터 생성\n",
    "events = pd.Series(['페르시아 전쟁', '펠로포네소스 전투', '페르시아 전쟁', '살라미스 전투', '페르시아 전쟁'])\n",
    "\n",
    "# 고유한 사건들을 찾아내기\n",
    "unique_events = pd.unique(events)\n",
    "\n",
    "print(unique_events)"
   ]
  },
  {
   "cell_type": "code",
   "execution_count": 19,
   "id": "690b1517-c052-4424-8101-58ad2d344625",
   "metadata": {},
   "outputs": [
    {
     "name": "stdout",
     "output_type": "stream",
     "text": [
      "['소크라테스' '플라톤' '아리스토텔레스' '헤라클레이토스']\n"
     ]
    }
   ],
   "source": [
    "# 예제2 그리스 역사적 인물에서 고유한 인물들을 찾아내기\n",
    "# 역사적 배경: 그리스의 역사적 인물들은 다양한 인물들로 이루어져 있습니다.\n",
    "# 샘플 데이터: 그리스 역사적 인물들을 표현하는 Series를 생성합니다.\n",
    "\n",
    "import pandas as pd\n",
    "\n",
    "# 샘플 데이터 생성\n",
    "figures = pd.Series(['소크라테스', '플라톤', '아리스토텔레스', '소크라테스', '헤라클레이토스'])\n",
    "\n",
    "# 고유한 인물들을 찾아내기\n",
    "unique_figures = pd.unique(figures)\n",
    "\n",
    "print(unique_figures)"
   ]
  },
  {
   "cell_type": "code",
   "execution_count": 21,
   "id": "2406fd40-bfd7-451a-88af-401d24cbeadf",
   "metadata": {},
   "outputs": [
    {
     "name": "stdout",
     "output_type": "stream",
     "text": [
      "['고대' '고전' '헬레니스틱']\n"
     ]
    }
   ],
   "source": [
    "# 예제3 그리스 역사적 시대에서 고유한 시대들을 찾아내기\n",
    "# 역사적 배경: 그리스의 역사적 시대는 다양한 기간으로 나뉘어집니다.\n",
    "# 샘플 데이터: 그리스 역사적 시대를 표현하는 Series를 생성합니다.\n",
    "\n",
    "import pandas as pd\n",
    "\n",
    "# 샘플 데이터 생성\n",
    "periods = pd.Series(['고대', '고전', '고대', '헬레니스틱', '고전'])\n",
    "\n",
    "# 고유한 시대들을 찾아내기\n",
    "unique_periods = pd.unique(periods)\n",
    "\n",
    "print(unique_periods)"
   ]
  },
  {
   "cell_type": "code",
   "execution_count": 22,
   "id": "97ac5d64-ba47-43a2-a3bb-8108e6bb9979",
   "metadata": {},
   "outputs": [
    {
     "name": "stdout",
     "output_type": "stream",
     "text": [
      "['아테네' '스파르타' '테베' '코란토스']\n"
     ]
    }
   ],
   "source": [
    "# 예제4 그리스 역사적 지명에서 고유한 지명들을 찾아내기\n",
    "# 역사적 배경: 그리스는 다양한 역사적인 지명들로 이루어져 있습니다.\n",
    "# 샘플 데이터: 그리스 역사적인 지명들을 표현하는 Series를 생성합니다. \n",
    "\n",
    "import pandas as pd\n",
    "\n",
    "# 샘플 데이터 생성\n",
    "locations = pd.Series(['아테네', '스파르타', '아테네', '테베', '코란토스'])\n",
    "\n",
    "# 고유한 지명들을 찾아내기\n",
    "unique_locations = pd.unique(locations)\n",
    "\n",
    "print(unique_locations)"
   ]
  },
  {
   "cell_type": "markdown",
   "id": "ae66a686-fdc6-4049-9fa4-620f6289a020",
   "metadata": {},
   "source": [
    "## pandas.lreshape 함수는\n",
    "- 넓은 형식(wide format)의 데이터프레임을 길게 형식(long format)으로 변환하는 함수입니다.\n",
    "- 이 함수를 사용하면 여러 개의 열을 하나의 열로 정리할 수 있습니다. 주로 데이터를 재구성하거나 분석하기 쉬운 형태로 변환할 때 사용됩니다."
   ]
  },
  {
   "cell_type": "code",
   "execution_count": 25,
   "id": "02f3b7d1-6051-469d-80b3-5d70be502fe0",
   "metadata": {},
   "outputs": [
    {
     "name": "stdout",
     "output_type": "stream",
     "text": [
      "        인물        이벤트\n",
      "0    소크라테스    페르시아 전쟁\n",
      "1      플라톤  펠로포네소스 전투\n",
      "2  아리스토텔레스      테베 전쟁\n",
      "3    소크라테스    살라미스 전투\n",
      "4      플라톤     나이아 전투\n",
      "5  아리스토텔레스   플라타이아 전투\n"
     ]
    }
   ],
   "source": [
    "# 예제1 그리스 역사적 인물과 그들이 참여한 이벤트들의 관계를 나타내는 데이터프레임을 길게 변환하기\n",
    "# 역사적 배경: 그리스의 역사적 인물들은 다양한 이벤트에 참여했습니다.\n",
    "# 샘플 데이터: 그리스 역사적 인물과 그들이 참여한 이벤트를 나타내는 넓은 형식의 데이터프레임을 생성합니다.\n",
    "\n",
    "import pandas as pd\n",
    "\n",
    "# 샘플 데이터 생성 (넓은 형식)\n",
    "data = {\n",
    "    '인물': ['소크라테스', '플라톤', '아리스토텔레스'],\n",
    "    '이벤트_1': ['페르시아 전쟁', '펠로포네소스 전투', '테베 전쟁'],\n",
    "    '이벤트_2': ['살라미스 전투', '나이아 전투', '플라타이아 전투']\n",
    "}\n",
    "\n",
    "df = pd.DataFrame(data)\n",
    "\n",
    "# pandas.lreshape 함수를 사용하여 데이터프레임을 길게 변환\n",
    "df_long = pd.lreshape(df, {'이벤트': ['이벤트_1', '이벤트_2']})\n",
    "\n",
    "print(df_long)"
   ]
  },
  {
   "cell_type": "code",
   "execution_count": 26,
   "id": "7974360b-48ff-465e-87e1-2cd1bb01bc6a",
   "metadata": {},
   "outputs": [
    {
     "name": "stdout",
     "output_type": "stream",
     "text": [
      "         이벤트       인물\n",
      "0    페르시아 전쟁    소크라테스\n",
      "1  펠로포네소스 전투    소크라테스\n",
      "2      테베 전쟁  아리스토텔레스\n",
      "3    살라미스 전투    소크라테스\n",
      "4    페르시아 전쟁      플라톤\n",
      "5  펠로포네소스 전투  아리스토텔레스\n",
      "6      테베 전쟁    소크라테스\n",
      "7    살라미스 전투      플라톤\n"
     ]
    }
   ],
   "source": [
    "# 예제2 그리스 역사적 이벤트와 해당 이벤트에 참여한 인물들의 관계를 나타내는 데이터프레임을 길게 변환하기\n",
    "# 역사적 배경: 그리스의 역사적 이벤트들에는 다양한 인물들이 참여했습니다.\n",
    "# 샘플 데이터: 그리스 역사적 이벤트와 해당 이벤트에 참여한 인물들을 나타내는 넓은 형식의 데이터프레임을 생성합니다.\n",
    "\n",
    "# 샘플 데이터 생성 (넓은 형식)\n",
    "data = {\n",
    "    '이벤트': ['페르시아 전쟁', '펠로포네소스 전투', '테베 전쟁', '살라미스 전투'],\n",
    "    '인물_1': ['소크라테스', '소크라테스', '아리스토텔레스', '소크라테스'],\n",
    "    '인물_2': ['플라톤', '아리스토텔레스', '소크라테스', '플라톤']\n",
    "}\n",
    "\n",
    "df = pd.DataFrame(data)\n",
    "\n",
    "# pandas.lreshape 함수를 사용하여 데이터프레임을 길게 변환\n",
    "df_long = pd.lreshape(df, {'인물': ['인물_1', '인물_2']})\n",
    "\n",
    "print(df_long)"
   ]
  },
  {
   "cell_type": "markdown",
   "id": "39a0ac0b-3aac-452e-9fb7-f4e982ebc70f",
   "metadata": {},
   "source": [
    "## pandas.wide_to_long function"
   ]
  },
  {
   "cell_type": "code",
   "execution_count": 27,
   "id": "123073a5-32e4-4707-885f-f36cc686c8a4",
   "metadata": {},
   "outputs": [
    {
     "name": "stdout",
     "output_type": "stream",
     "text": [
      "Empty DataFrame\n",
      "Columns: [id, 참여여부, 이벤트, 플라톤, 아리스토텔레스, 소크라테스, 인물]\n",
      "Index: []\n"
     ]
    }
   ],
   "source": [
    "# 예제1 그리스 역사 스토리텔링을 기반으로한 실행 가능한 샘플 예제\n",
    "# 그리스 역사적 이벤트에서 인물과 해당 인물의 참여 여부를 나타내는 데이터프레임을 넓게 변환하기\n",
    "\n",
    "import pandas as pd\n",
    "\n",
    "# 샘플 데이터 생성 (길게 형식)\n",
    "data = {\n",
    "    '이벤트_인물_소크라테스': [1, 0, 1, 1],\n",
    "    '이벤트_인물_플라톤': [0, 1, 1, 0],\n",
    "    '이벤트_인물_아리스토텔레스': [0, 1, 0, 1],\n",
    "    '이벤트': ['페르시아 전쟁', '펠로포네소스 전투', '테베 전쟁', '살라미스 전투']\n",
    "}\n",
    "\n",
    "df = pd.DataFrame(data)\n",
    "\n",
    "# pandas.wide_to_long 함수를 사용하여 데이터프레임을 넓게 변환\n",
    "df_wide = df.rename(columns=lambda x: x.split('_')[-1])\n",
    "df_wide['id'] = df_wide.index\n",
    "df_long = pd.wide_to_long(df_wide, stubnames=['인물'], i='id', j='참여여부', sep='_', suffix=r'\\w+')\n",
    "df_long.reset_index(inplace=True)\n",
    "\n",
    "print(df_long)"
   ]
  },
  {
   "cell_type": "code",
   "execution_count": 29,
   "id": "77ec462f-231e-43a8-94d6-58a7f17feed4",
   "metadata": {},
   "outputs": [
    {
     "name": "stdout",
     "output_type": "stream",
     "text": [
      "Empty DataFrame\n",
      "Columns: [id, 참여여부, , 이벤트_펠로포네소스 전투, 이벤트_페르시아 전쟁, 이벤트_테베 전쟁, 이벤트]\n",
      "Index: []\n"
     ]
    }
   ],
   "source": [
    "# 예제2 그리스 역사적 인물과 그들이 참여한 이벤트의 관계를 나타내는 데이터프레임을 넓게 변환하기\n",
    "\n",
    "import pandas as pd\n",
    "\n",
    "# 샘플 데이터 생성 (길게 형식)\n",
    "data = {\n",
    "    '인물_이벤트_페르시아 전쟁': [1, 0, 1, 1],\n",
    "    '인물_이벤트_펠로포네소스 전투': [0, 1, 1, 0],\n",
    "    '인물_이벤트_테베 전쟁': [0, 1, 0, 1],\n",
    "    '인물': ['소크라테스', '플라톤', '아리스토텔레스', '소크라테스']\n",
    "}\n",
    "\n",
    "df = pd.DataFrame(data)\n",
    "\n",
    "# pandas.wide_to_long 함수를 사용하여 데이터프레임을 넓게 변환\n",
    "df_wide = df.rename(columns=lambda x: '_'.join(x.split('_')[1:]))\n",
    "df_wide['id'] = df_wide.index\n",
    "df_long = pd.wide_to_long(df_wide, stubnames=['이벤트'], i='id', j='참여여부', sep='_', suffix=r'\\w+')\n",
    "df_long.reset_index(inplace=True)\n",
    "\n",
    "print(df_long)"
   ]
  },
  {
   "cell_type": "markdown",
   "id": "b006649c-10f8-4342-842f-d01bb685066e",
   "metadata": {},
   "source": [
    "## pandas.isna\n",
    "- 파라미터: \n",
    "    obj: DataFrame, Series, 배열 또는 스칼라 값 검사할 데이터 구조.\n",
    "\n",
    "- 리턴값:\n",
    "    DataFrame, Series, 배열 또는 스칼라 값과 같은 유형 입력된 데이터 구조와 같은 유형을 반환합니다. 데이터 구조에서 누락된 값(NaN, NaT)이 포함된 위치에 대해 True를, 그렇지 않은 경우 False를 반환합니다."
   ]
  },
  {
   "cell_type": "code",
   "execution_count": 30,
   "id": "0b580877-f974-4d8c-ba14-d3d68832c2dd",
   "metadata": {},
   "outputs": [
    {
     "name": "stdout",
     "output_type": "stream",
     "text": [
      "     이벤트     연도    참여자\n",
      "0  False  False  False\n",
      "1  False   True  False\n",
      "2   True  False  False\n",
      "3  False  False  False\n",
      "4  False  False  False\n"
     ]
    }
   ],
   "source": [
    "# 예제1 그리스 역사 스토리텔링을 기반으로한 실행 가능한 샘플 예제:\n",
    "# 그리스 역사적 이벤트에서 누락된 값 확인하기\n",
    "\n",
    "import pandas as pd\n",
    "\n",
    "# 샘플 데이터 생성\n",
    "data = {\n",
    "    '이벤트': ['페르시아 전쟁', '펠로포네소스 전투', None, '살라미스 전투', '테베 전쟁'],\n",
    "    '연도': [480, None, 371, 480, 368],\n",
    "    '참여자': ['소크라테스', '소크라테스', '아리스토텔레스', '소크라테스', '플라톤']\n",
    "}\n",
    "\n",
    "df = pd.DataFrame(data)\n",
    "\n",
    "# 누락된 값 확인\n",
    "is_missing = pd.isna(df)\n",
    "\n",
    "print(is_missing)"
   ]
  },
  {
   "cell_type": "code",
   "execution_count": 32,
   "id": "bf40b511-f2c7-4084-a1ec-d5d3ea148a1c",
   "metadata": {},
   "outputs": [
    {
     "name": "stdout",
     "output_type": "stream",
     "text": [
      "      인물   생년월일\n",
      "0  False  False\n",
      "1  False   True\n",
      "2  False  False\n"
     ]
    }
   ],
   "source": [
    "# 예제2 그리스 역사적 인물의 생년월일에서 누락된 값 확인하기\n",
    "\n",
    "import pandas as pd\n",
    "\n",
    "# 샘플 데이터 생성\n",
    "data = {\n",
    "    '인물': ['소크라테스', '아리스토텔레스', '플라톤'],\n",
    "    '생년월일': ['469 BC', None, '427 BC']\n",
    "}\n",
    "\n",
    "df = pd.DataFrame(data)\n",
    "\n",
    "# 누락된 값 확인\n",
    "is_missing = pd.isna(df)\n",
    "\n",
    "print(is_missing)"
   ]
  },
  {
   "cell_type": "code",
   "execution_count": 33,
   "id": "e37d9149-c519-4f06-8f94-8018e91f9107",
   "metadata": {},
   "outputs": [
    {
     "name": "stdout",
     "output_type": "stream",
     "text": [
      "     이벤트     장소\n",
      "0  False  False\n",
      "1  False   True\n",
      "2  False  False\n",
      "3  False  False\n"
     ]
    }
   ],
   "source": [
    "# 예제3 그리스 역사적 이벤트에서 장소 정보가 누락된 값 확인하기\n",
    "\n",
    "import pandas as pd\n",
    "\n",
    "# 샘플 데이터 생성\n",
    "data = {\n",
    "    '이벤트': ['페르시아 전쟁', '펠로포네소스 전투', '나이아 전투', '살라미스 전투'],\n",
    "    '장소': ['아테네', None, '나이아', '코란토스']\n",
    "}\n",
    "\n",
    "df = pd.DataFrame(data)\n",
    "\n",
    "# 누락된 값 확인\n",
    "is_missing = pd.isna(df)\n",
    "\n",
    "print(is_missing)"
   ]
  },
  {
   "cell_type": "code",
   "execution_count": 34,
   "id": "992858b0-3b91-4d8c-afa6-1e1252cf1b5f",
   "metadata": {},
   "outputs": [
    {
     "name": "stdout",
     "output_type": "stream",
     "text": [
      "     이벤트    참여자\n",
      "0  False  False\n",
      "1  False  False\n",
      "2  False   True\n",
      "3  False  False\n"
     ]
    }
   ],
   "source": [
    "# 예제4 그리스 역사적 이벤트에서 참여자 정보가 누락된 값 확인하기\n",
    "\n",
    "import pandas as pd\n",
    "\n",
    "# 샘플 데이터 생성\n",
    "data = {\n",
    "    '이벤트': ['페르시아 전쟁', '살라미스 전투', '펠로포네소스 전투', '테베 전쟁'],\n",
    "    '참여자': ['소크라테스', '플라톤', None, '아리스토텔레스']\n",
    "}\n",
    "\n",
    "df = pd.DataFrame(data)\n",
    "\n",
    "# 누락된 값 확인\n",
    "is_missing = pd.isna(df)\n",
    "\n",
    "print(is_missing)\n"
   ]
  },
  {
   "cell_type": "markdown",
   "id": "ed30a258-4e6a-4108-824b-ca9826728c57",
   "metadata": {},
   "source": [
    "## pandas.isnull"
   ]
  },
  {
   "cell_type": "code",
   "execution_count": 38,
   "id": "4492cfcb-97e2-48ee-846c-04cc3dde359c",
   "metadata": {},
   "outputs": [
    {
     "name": "stdout",
     "output_type": "stream",
     "text": [
      "     이벤트     연도    참여자\n",
      "0  False  False  False\n",
      "1  False   True  False\n",
      "2   True  False  False\n",
      "3  False  False  False\n",
      "4  False  False  False\n"
     ]
    }
   ],
   "source": [
    "# 예제1 그리스 역사 스토리텔링을 기반으로한 실행 가능한 샘플 예제\n",
    "\n",
    "import pandas as pd\n",
    "\n",
    "# 샘플 데이터 생성\n",
    "data = {\n",
    "    '이벤트': ['페르시아 전쟁', '펠로포네소스 전투', None, '살라미스 전투', '테베 전쟁'],\n",
    "    '연도': [480, None, 371, 480, 368],\n",
    "    '참여자': ['소크라테스', '소크라테스', '아리스토텔레스', '소크라테스', '플라톤']\n",
    "}\n",
    "\n",
    "df = pd.DataFrame(data)\n",
    "\n",
    "# 누락된 값 확인\n",
    "is_null = pd.isnull(df)\n",
    "\n",
    "print(is_null)"
   ]
  },
  {
   "cell_type": "code",
   "execution_count": 39,
   "id": "72d88168-dd1f-44b1-9553-5f404a90f61a",
   "metadata": {},
   "outputs": [
    {
     "name": "stdout",
     "output_type": "stream",
     "text": [
      "      인물   생년월일\n",
      "0  False  False\n",
      "1  False   True\n",
      "2  False  False\n"
     ]
    }
   ],
   "source": [
    "# 예제2 그리스 역사적 인물의 생년월일에서 누락된 값 확인하기\n",
    "\n",
    "import pandas as pd\n",
    "\n",
    "# 샘플 데이터 생성\n",
    "data = {\n",
    "    '인물': ['소크라테스', '아리스토텔레스', '플라톤'],\n",
    "    '생년월일': ['469 BC', None, '427 BC']\n",
    "}\n",
    "\n",
    "df = pd.DataFrame(data)\n",
    "\n",
    "# 누락된 값 확인\n",
    "is_null = pd.isnull(df)\n",
    "\n",
    "print(is_null)"
   ]
  },
  {
   "cell_type": "code",
   "execution_count": 40,
   "id": "cecef286-b745-4f53-ba5c-6b7d153bae31",
   "metadata": {},
   "outputs": [
    {
     "name": "stdout",
     "output_type": "stream",
     "text": [
      "     이벤트     장소\n",
      "0  False  False\n",
      "1  False   True\n",
      "2  False  False\n",
      "3  False  False\n"
     ]
    }
   ],
   "source": [
    "# 예제3 그리스 역사적 이벤트에서 장소 정보가 누락된 값 확인하기\n",
    "\n",
    "import pandas as pd\n",
    "\n",
    "# 샘플 데이터 생성\n",
    "data = {\n",
    "    '이벤트': ['페르시아 전쟁', '펠로포네소스 전투', '나이아 전투', '살라미스 전투'],\n",
    "    '장소': ['아테네', None, '나이아', '코란토스']\n",
    "}\n",
    "\n",
    "df = pd.DataFrame(data)\n",
    "\n",
    "# 누락된 값 확인\n",
    "is_null = pd.isnull(df)\n",
    "\n",
    "print(is_null)"
   ]
  },
  {
   "cell_type": "code",
   "execution_count": 41,
   "id": "dc8e1c5c-0b48-4bd6-9f76-860f0ff376ec",
   "metadata": {},
   "outputs": [
    {
     "name": "stdout",
     "output_type": "stream",
     "text": [
      "     이벤트    참여자\n",
      "0  False  False\n",
      "1  False  False\n",
      "2  False   True\n",
      "3  False  False\n"
     ]
    }
   ],
   "source": [
    "# 예제4 그리스 역사적 이벤트에서 참여자 정보가 누락된 값 확인하기\n",
    "\n",
    "import pandas as pd\n",
    "\n",
    "# 샘플 데이터 생성\n",
    "data = {\n",
    "    '이벤트': ['페르시아 전쟁', '살라미스 전투', '펠로포네소스 전투', '테베 전쟁'],\n",
    "    '참여자': ['소크라테스', '플라톤', None, '아리스토텔레스']\n",
    "}\n",
    "\n",
    "df = pd.DataFrame(data)\n",
    "\n",
    "# 누락된 값 확인\n",
    "is_null = pd.isnull(df)\n",
    "\n",
    "print(is_null)\n"
   ]
  },
  {
   "cell_type": "markdown",
   "id": "3d1a67d4-bd81-4c03-8de7-baad49141600",
   "metadata": {},
   "source": [
    "## pandas.notna"
   ]
  },
  {
   "cell_type": "code",
   "execution_count": 45,
   "id": "c8f51286-1c96-4b0b-ae8a-fef62d86a4bb",
   "metadata": {},
   "outputs": [
    {
     "name": "stdout",
     "output_type": "stream",
     "text": [
      "     이벤트     연도   참여자\n",
      "0   True   True  True\n",
      "1   True  False  True\n",
      "2  False   True  True\n",
      "3   True   True  True\n",
      "4   True   True  True\n"
     ]
    }
   ],
   "source": [
    "# 예제1 그리스 역사적 이벤트에서 누락되지 않은 값 확인하기\n",
    "\n",
    "import pandas as pd\n",
    "\n",
    "# 샘플 데이터 생성\n",
    "data = {\n",
    "    '이벤트': ['페르시아 전쟁', '펠로포네소스 전투', None, '살라미스 전투', '테베 전쟁'],\n",
    "    '연도': [480, None, 371, 480, 368],\n",
    "    '참여자': ['소크라테스', '소크라테스', '아리스토텔레스', '소크라테스', '플라톤']\n",
    "}\n",
    "\n",
    "df = pd.DataFrame(data)\n",
    "\n",
    "# 누락되지 않은 값 확인\n",
    "not_missing = pd.notna(df)\n",
    "\n",
    "print(not_missing)"
   ]
  },
  {
   "cell_type": "code",
   "execution_count": 46,
   "id": "1a82ad33-3ade-4309-bc85-05e7a1f41975",
   "metadata": {},
   "outputs": [
    {
     "name": "stdout",
     "output_type": "stream",
     "text": [
      "     인물   생년월일\n",
      "0  True   True\n",
      "1  True  False\n",
      "2  True   True\n"
     ]
    }
   ],
   "source": [
    "# 예제2 그리스 역사적 인물의 생년월일에서 누락되지 않은 값 확인하기\n",
    "\n",
    "import pandas as pd\n",
    "\n",
    "# 샘플 데이터 생성\n",
    "data = {\n",
    "    '인물': ['소크라테스', '아리스토텔레스', '플라톤'],\n",
    "    '생년월일': ['469 BC', None, '427 BC']\n",
    "}\n",
    "\n",
    "df = pd.DataFrame(data)\n",
    "\n",
    "# 누락되지 않은 값 확인\n",
    "not_missing = pd.notna(df)\n",
    "\n",
    "print(not_missing)"
   ]
  },
  {
   "cell_type": "code",
   "execution_count": 47,
   "id": "971a0d26-f1cd-4a55-af5c-8b420718a9a4",
   "metadata": {},
   "outputs": [
    {
     "name": "stdout",
     "output_type": "stream",
     "text": [
      "    이벤트     장소\n",
      "0  True   True\n",
      "1  True  False\n",
      "2  True   True\n",
      "3  True   True\n"
     ]
    }
   ],
   "source": [
    "# 예제3 그리스 역사적 이벤트에서 장소 정보가 누락되지 않은 값 확인하기\n",
    "\n",
    "import pandas as pd\n",
    "\n",
    "# 샘플 데이터 생성\n",
    "data = {\n",
    "    '이벤트': ['페르시아 전쟁', '펠로포네소스 전투', '나이아 전투', '살라미스 전투'],\n",
    "    '장소': ['아테네', None, '나이아', '코란토스']\n",
    "}\n",
    "\n",
    "df = pd.DataFrame(data)\n",
    "\n",
    "# 누락되지 않은 값 확인\n",
    "not_missing = pd.notna(df)\n",
    "\n",
    "print(not_missing)"
   ]
  },
  {
   "cell_type": "code",
   "execution_count": 48,
   "id": "2a06328c-1507-4992-beeb-14af772afb4a",
   "metadata": {},
   "outputs": [
    {
     "name": "stdout",
     "output_type": "stream",
     "text": [
      "    이벤트    참여자\n",
      "0  True   True\n",
      "1  True   True\n",
      "2  True  False\n",
      "3  True   True\n"
     ]
    }
   ],
   "source": [
    "# 예제4 그리스 역사적 이벤트에서 참여자 정보가 누락되지 않은 값 확인하기\n",
    "\n",
    "import pandas as pd\n",
    "\n",
    "# 샘플 데이터 생성\n",
    "data = {\n",
    "    '이벤트': ['페르시아 전쟁', '살라미스 전투', '펠로포네소스 전투', '테베 전쟁'],\n",
    "    '참여자': ['소크라테스', '플라톤', None, '아리스토텔레스']\n",
    "}\n",
    "\n",
    "df = pd.DataFrame(data)\n",
    "\n",
    "# 누락되지 않은 값 확인\n",
    "not_missing = pd.notna(df)\n",
    "\n",
    "print(not_missing)"
   ]
  },
  {
   "cell_type": "markdown",
   "id": "724a785d-3cf0-419b-b3d5-ca3ebcd97ca4",
   "metadata": {},
   "source": [
    "## pandas.notnull"
   ]
  },
  {
   "cell_type": "code",
   "execution_count": 54,
   "id": "01cc285f-edae-4305-aae0-5695bbedb437",
   "metadata": {},
   "outputs": [
    {
     "name": "stdout",
     "output_type": "stream",
     "text": [
      "     이벤트     연도   참여자\n",
      "0   True   True  True\n",
      "1   True  False  True\n",
      "2  False   True  True\n",
      "3   True   True  True\n",
      "4   True   True  True\n"
     ]
    }
   ],
   "source": [
    "# 예제1 그리스 역사적 이벤트에서 누락되지 않은 값 확인하기\n",
    "\n",
    "import pandas as pd\n",
    "\n",
    "# 샘플 데이터 생성\n",
    "data = {\n",
    "    '이벤트': ['페르시아 전쟁', '펠로포네소스 전투', None, '살라미스 전투', '테베 전쟁'],\n",
    "    '연도': [480, None, 371, 480, 368],\n",
    "    '참여자': ['소크라테스', '소크라테스', '아리스토텔레스', '소크라테스', '플라톤']\n",
    "}\n",
    "\n",
    "df = pd.DataFrame(data)\n",
    "\n",
    "# 누락되지 않은 값 확인\n",
    "not_missing = pd.notnull(df)\n",
    "\n",
    "print(not_missing)"
   ]
  },
  {
   "cell_type": "code",
   "execution_count": 55,
   "id": "8be4ce2a-d7cc-4bc7-9046-cf0ae6941e23",
   "metadata": {},
   "outputs": [
    {
     "name": "stdout",
     "output_type": "stream",
     "text": [
      "     인물   생년월일\n",
      "0  True   True\n",
      "1  True  False\n",
      "2  True   True\n"
     ]
    }
   ],
   "source": [
    "# 예제2 그리스 역사적 인물의 생년월일에서 누락되지 않은 값 확인하기\n",
    "\n",
    "import pandas as pd\n",
    "\n",
    "# 샘플 데이터 생성\n",
    "data = {\n",
    "    '인물': ['소크라테스', '아리스토텔레스', '플라톤'],\n",
    "    '생년월일': ['469 BC', None, '427 BC']\n",
    "}\n",
    "\n",
    "df = pd.DataFrame(data)\n",
    "\n",
    "# 누락되지 않은 값 확인\n",
    "not_missing = pd.notnull(df)\n",
    "\n",
    "print(not_missing)"
   ]
  },
  {
   "cell_type": "code",
   "execution_count": 56,
   "id": "6f0d69dc-b13f-423d-a9c8-089fc92e3bce",
   "metadata": {},
   "outputs": [
    {
     "name": "stdout",
     "output_type": "stream",
     "text": [
      "    이벤트     장소\n",
      "0  True   True\n",
      "1  True  False\n",
      "2  True   True\n",
      "3  True   True\n"
     ]
    }
   ],
   "source": [
    "# 예제3 그리스 역사적 이벤트에서 장소 정보가 누락되지 않은 값 확인하기\n",
    "\n",
    "import pandas as pd\n",
    "\n",
    "# 샘플 데이터 생성\n",
    "data = {\n",
    "    '이벤트': ['페르시아 전쟁', '펠로포네소스 전투', '나이아 전투', '살라미스 전투'],\n",
    "    '장소': ['아테네', None, '나이아', '코란토스']\n",
    "}\n",
    "\n",
    "df = pd.DataFrame(data)\n",
    "\n",
    "# 누락되지 않은 값 확인\n",
    "not_missing = pd.notnull(df)\n",
    "\n",
    "print(not_missing)"
   ]
  },
  {
   "cell_type": "code",
   "execution_count": 57,
   "id": "d10640f6-2e73-4ab6-aa66-d52f497f4d8f",
   "metadata": {},
   "outputs": [
    {
     "name": "stdout",
     "output_type": "stream",
     "text": [
      "    이벤트    참여자\n",
      "0  True   True\n",
      "1  True   True\n",
      "2  True  False\n",
      "3  True   True\n"
     ]
    }
   ],
   "source": [
    "# 예제4 그리스 역사적 이벤트에서 참여자 정보가 누락되지 않은 값 확인하기\n",
    "\n",
    "import pandas as pd\n",
    "\n",
    "# 샘플 데이터 생성\n",
    "data = {\n",
    "    '이벤트': ['페르시아 전쟁', '살라미스 전투', '펠로포네소스 전투', '테베 전쟁'],\n",
    "    '참여자': ['소크라테스', '플라톤', None, '아리스토텔레스']\n",
    "}\n",
    "\n",
    "df = pd.DataFrame(data)\n",
    "\n",
    "# 누락되지 않은 값 확인\n",
    "not_missing = pd.notnull(df)\n",
    "\n",
    "print(not_missing)"
   ]
  },
  {
   "cell_type": "markdown",
   "id": "9b887315-4190-40b8-9bcb-cc561547cb25",
   "metadata": {
    "tags": []
   },
   "source": [
    "## pandas.notna"
   ]
  },
  {
   "cell_type": "code",
   "execution_count": 3,
   "id": "6c00ea0a-2d69-4a60-800d-9a9238e1c40f",
   "metadata": {},
   "outputs": [
    {
     "name": "stdout",
     "output_type": "stream",
     "text": [
      "     이벤트     연도    장소\n",
      "0   True   True  True\n",
      "1   True  False  True\n",
      "2  False   True  True\n",
      "3   True   True  True\n"
     ]
    }
   ],
   "source": [
    "# 예제1 중세 역사적 이벤트에서 누락되지 않은 값 확인하기\n",
    "\n",
    "import pandas as pd\n",
    "\n",
    "# 샘플 데이터 생성\n",
    "data = {\n",
    "    '이벤트': ['십자군 전쟁', '백성의 군대', None, '노르만 정복'],\n",
    "    '연도': [1096, None, 1066, 1090],\n",
    "    '장소': ['중동', '유럽', '영국', '이탈리아']\n",
    "}\n",
    "\n",
    "df = pd.DataFrame(data)\n",
    "\n",
    "# 누락되지 않은 값 확인\n",
    "not_missing = pd.notna(df)\n",
    "\n",
    "print(not_missing)"
   ]
  },
  {
   "cell_type": "code",
   "execution_count": 4,
   "id": "9d090338-c72d-43ff-9f27-5065f5581600",
   "metadata": {},
   "outputs": [
    {
     "name": "stdout",
     "output_type": "stream",
     "text": [
      "     인물   생년월일\n",
      "0  True   True\n",
      "1  True  False\n",
      "2  True   True\n"
     ]
    }
   ],
   "source": [
    "# 예제2 중세 역사적 인물의 생년월일을 숫자로 변환하기\n",
    "\n",
    "import pandas as pd\n",
    "\n",
    "# 샘플 데이터 생성\n",
    "data = {\n",
    "    '인물': ['윌리엄 1세', '리처드 1세', '헨리 2세'],\n",
    "    '생년월일': ['1028', None, '1133']\n",
    "}\n",
    "\n",
    "df = pd.DataFrame(data)\n",
    "\n",
    "# 누락되지 않은 값 확인\n",
    "not_missing = pd.notna(df)\n",
    "\n",
    "print(not_missing)"
   ]
  },
  {
   "cell_type": "code",
   "execution_count": 5,
   "id": "af79ebb7-2344-4593-8e79-a0dc9293f7d6",
   "metadata": {},
   "outputs": [
    {
     "name": "stdout",
     "output_type": "stream",
     "text": [
      "    이벤트     장소\n",
      "0  True   True\n",
      "1  True   True\n",
      "2  True  False\n",
      "3  True   True\n"
     ]
    }
   ],
   "source": [
    "# 예제3 중세 역사적 이벤트의 장소 정보가 누락되지 않은 값 확인하기\n",
    "\n",
    "import pandas as pd\n",
    "\n",
    "# 샘플 데이터 생성\n",
    "data = {\n",
    "    '이벤트': ['마그나 카르타', '영겁의 전쟁', '첼시 대회', '카스틸라 수호전'],\n",
    "    '장소': ['영국', '미국', None, '스페인']\n",
    "}\n",
    "\n",
    "df = pd.DataFrame(data)\n",
    "\n",
    "# 누락되지 않은 값 확인\n",
    "not_missing = pd.notna(df)\n",
    "\n",
    "print(not_missing)"
   ]
  },
  {
   "cell_type": "code",
   "execution_count": 6,
   "id": "e434921f-f48a-4b43-8c38-adc324cecbb0",
   "metadata": {},
   "outputs": [
    {
     "name": "stdout",
     "output_type": "stream",
     "text": [
      "    이벤트    참여자\n",
      "0  True   True\n",
      "1  True  False\n",
      "2  True   True\n"
     ]
    }
   ],
   "source": [
    "# 예제4 중세 역사적 이벤트에서 참여자 정보가 누락되지 않은 값 확인하기\n",
    "\n",
    "import pandas as pd\n",
    "\n",
    "# 샘플 데이터 생성\n",
    "data = {\n",
    "    '이벤트': ['윌리엄 정복', '리처드 1세 사자왕', '백성의 군대'],\n",
    "    '참여자': ['노르만 인', None, '영국 백성']\n",
    "}\n",
    "\n",
    "df = pd.DataFrame(data)\n",
    "\n",
    "# 누락되지 않은 값 확인\n",
    "not_missing = pd.notna(df)\n",
    "\n",
    "print(not_missing)"
   ]
  }
 ],
 "metadata": {
  "kernelspec": {
   "display_name": "Python 3 (ipykernel)",
   "language": "python",
   "name": "python3"
  },
  "language_info": {
   "codemirror_mode": {
    "name": "ipython",
    "version": 3
   },
   "file_extension": ".py",
   "mimetype": "text/x-python",
   "name": "python",
   "nbconvert_exporter": "python",
   "pygments_lexer": "ipython3",
   "version": "3.10.9"
  }
 },
 "nbformat": 4,
 "nbformat_minor": 5
}
