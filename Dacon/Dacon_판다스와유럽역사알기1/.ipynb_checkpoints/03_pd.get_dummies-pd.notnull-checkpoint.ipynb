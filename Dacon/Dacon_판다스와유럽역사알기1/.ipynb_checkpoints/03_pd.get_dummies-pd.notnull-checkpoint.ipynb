{
 "cells": [
  {
   "cell_type": "markdown",
   "id": "deb5c353-6c89-4d49-90cd-b27e2ef24aaf",
   "metadata": {},
   "source": [
    "# 판다스와 유럽 역사 알기1-2\n",
    "\n",
    "- 03_\n",
    "- https://www.dacon.io/edu/131"
   ]
  },
  {
   "cell_type": "markdown",
   "id": "1037d8ad-1c8d-4d29-b26d-9bac510a770d",
   "metadata": {},
   "source": [
    "## pandas.get_dummies\n",
    "- 함수는 범주형 변수를 더미(dummy) 또는 인코딩된 변수로 변환해주는 함수입니다. \n",
    "- 이 함수를 사용하면 범주형 변수를 숫자형 변수로 변환하여 데이터프레임의 분석에 활용할 수 있습니다. \n",
    "- 주어진 열의 고유한 값들을 새로운 이진 더미 변수로 변환하여 새로운 데이터프레임을 반환합니다.¶"
   ]
  },
  {
   "cell_type": "code",
   "execution_count": 6,
   "id": "08b0a522-4923-4328-84db-8cab8a59e8af",
   "metadata": {},
   "outputs": [
    {
     "name": "stdout",
     "output_type": "stream",
     "text": [
      "        인물  철학자\n",
      "0    소크라테스    1\n",
      "1      플라톤    1\n",
      "2  아리스토텔레스    1\n",
      "3  헤라클레이토스    1\n"
     ]
    }
   ],
   "source": [
    "# 예제1 그리스 역사적 인물들의 소속을 더미 변수로 변환¶\n",
    "# 역사적 배경: 그리스의 역사적 인물들은 다양한 소속에 속할 수 있습니다. \n",
    "# 샘플 데이터: 그리스 역사적 인물들의 소속을 표현하는 데이터프레임을 생성합니다.\n",
    "\n",
    "import pandas as pd\n",
    "\n",
    "# 샘플 데이터 생성\n",
    "data = {\n",
    "    '인물': ['소크라테스', '플라톤', '아리스토텔레스', '헤라클레이토스'],\n",
    "    '소속': ['철학자', '철학자', '철학자', '철학자']\n",
    "}\n",
    "\n",
    "df = pd.DataFrame(data)\n",
    "\n",
    "# get_dummies 함수를 사용하여 더미 변수 생성\n",
    "dummy_df = pd.get_dummies(df['소속'])\n",
    "\n",
    "# 인물과 더미 변수를 병합하여 새로운 데이터프레임 생성\n",
    "merged_df = pd.concat([df['인물'], dummy_df], axis=1)\n",
    "\n",
    "print(merged_df)"
   ]
  },
  {
   "cell_type": "code",
   "execution_count": 3,
   "id": "2a0c9840-32bd-4000-ade9-78eb416c96b8",
   "metadata": {},
   "outputs": [
    {
     "name": "stdout",
     "output_type": "stream",
     "text": [
      "         이벤트  전쟁  전투\n",
      "0    페르시아 전쟁   1   0\n",
      "1  펠로포네소스 전투   0   1\n",
      "2      테베 전쟁   1   0\n",
      "3   플라타이아 전투   0   1\n",
      "4    살라미스 전투   0   1\n"
     ]
    }
   ],
   "source": [
    "# 예제2 그리스 역사적 이벤트의 유형을 더미 변수로 변환\n",
    "# 역사적 배경: 그리스의 역사적 이벤트는 다양한 유형으로 구성됩니다.\n",
    "# 샘플 데이터: 그리스 역사적 이벤트의 유형을 표현하는 데이터프레임을 생성합니다.\n",
    "\n",
    "import pandas as pd\n",
    "\n",
    "# 샘플 데이터 생성\n",
    "data = {\n",
    "    '이벤트': ['페르시아 전쟁', '펠로포네소스 전투', '테베 전쟁', '플라타이아 전투', '살라미스 전투'],\n",
    "    '유형': ['전쟁', '전투', '전쟁', '전투', '전투']\n",
    "}\n",
    "\n",
    "df = pd.DataFrame(data)\n",
    "\n",
    "# get_dummies 함수를 사용하여 더미 변수 생성\n",
    "dummy_df = pd.get_dummies(df['유형'])\n",
    "\n",
    "# 이벤트와 더미 변수를 병합하여 새로운 데이터프레임 생성\n",
    "merged_df = pd.concat([df['이벤트'], dummy_df], axis=1)\n",
    "\n",
    "print(merged_df)"
   ]
  },
  {
   "cell_type": "code",
   "execution_count": 4,
   "id": "23bdb741-f880-4d74-be36-86f517984f4d",
   "metadata": {},
   "outputs": [
    {
     "name": "stdout",
     "output_type": "stream",
     "text": [
      "           특징  고대  고전  로마  헬레니스틱\n",
      "0  다양한 신화와 전설   1   0   0      0\n",
      "1    민주주의의 시작   0   1   0      0\n",
      "2      왕국의 출현   0   0   0      1\n",
      "3   로마 제국의 성립   0   0   1      0\n"
     ]
    }
   ],
   "source": [
    "# 예제3 그리스의 역사적 시대를 더미 변수로 변환\n",
    "# 역사적 배경: 그리스의 역사적 시대는 다양한 기간으로 나뉘어집니다.\n",
    "# 샘플 데이터: 그리스 역사적 시대를 표현하는 데이터프레임을 생성합니다.\n",
    "\n",
    "import pandas as pd\n",
    "\n",
    "# 샘플 데이터 생성\n",
    "data = {\n",
    "    '시대': ['고대', '고전', '헬레니스틱', '로마'],\n",
    "    '특징': ['다양한 신화와 전설', '민주주의의 시작', '왕국의 출현', '로마 제국의 성립']\n",
    "}\n",
    "\n",
    "df = pd.DataFrame(data)\n",
    "\n",
    "# get_dummies 함수를 사용하여 더미 변수 생성\n",
    "dummy_df = pd.get_dummies(df['시대'])\n",
    "\n",
    "# 시대와 더미 변수를 병합하여 새로운 데이터프레임 생성\n",
    "merged_df = pd.concat([df['특징'], dummy_df], axis=1)\n",
    "\n",
    "print(merged_df)"
   ]
  },
  {
   "cell_type": "code",
   "execution_count": 5,
   "id": "544069f9-01f4-4a2f-9ba0-1773bcce02cc",
   "metadata": {},
   "outputs": [
    {
     "name": "stdout",
     "output_type": "stream",
     "text": [
      "     지명  도시\n",
      "0   아테네   1\n",
      "1  스파르타   1\n",
      "2  코란토스   1\n",
      "3    테베   1\n"
     ]
    }
   ],
   "source": [
    "# 예제4 그리스 역사적 지명의 종류를 더미 변수로 변환\n",
    "# 역사적 배경: 그리스는 다양한 역사적인 지명들로 이루어져 있습니다.\n",
    "# 샘플 데이터: 그리스 역사적인 지명의 종류를 표현하는 데이터프레임을 생성합니다.\n",
    "\n",
    "import pandas as pd\n",
    "\n",
    "# 샘플 데이터 생성\n",
    "data = {\n",
    "    '지명': ['아테네', '스파르타', '코란토스', '테베'],\n",
    "    '유형': ['도시', '도시', '도시', '도시']\n",
    "}\n",
    "\n",
    "df = pd.DataFrame(data)\n",
    "\n",
    "# get_dummies 함수를 사용하여 더미 변수 생성\n",
    "dummy_df = pd.get_dummies(df['유형'])\n",
    "\n",
    "# 지명과 더미 변수를 병합하여 새로운 데이터프레임 생성\n",
    "merged_df = pd.concat([df['지명'], dummy_df], axis=1)\n",
    "\n",
    "print(merged_df)"
   ]
  },
  {
   "cell_type": "markdown",
   "id": "67e666f3-be0a-410c-8c91-65799d59bedf",
   "metadata": {},
   "source": [
    " ## pandas.factorize"
   ]
  },
  {
   "cell_type": "code",
   "execution_count": null,
   "id": "0f45e732-11f8-43e0-84bd-0ee5cbe0f849",
   "metadata": {},
   "outputs": [],
   "source": []
  }
 ],
 "metadata": {
  "kernelspec": {
   "display_name": "Python 3 (ipykernel)",
   "language": "python",
   "name": "python3"
  },
  "language_info": {
   "codemirror_mode": {
    "name": "ipython",
    "version": 3
   },
   "file_extension": ".py",
   "mimetype": "text/x-python",
   "name": "python",
   "nbconvert_exporter": "python",
   "pygments_lexer": "ipython3",
   "version": "3.10.9"
  }
 },
 "nbformat": 4,
 "nbformat_minor": 5
}
