{
 "cells": [
  {
   "cell_type": "markdown",
   "id": "d49008e6-6f75-4f93-a892-5b4862081250",
   "metadata": {},
   "source": [
    "# 판다스와 유럽 역사 알기1-7\n",
    "\n",
    "- 07_\n",
    "- https://www.dacon.io/edu/131"
   ]
  },
  {
   "cell_type": "markdown",
   "id": "1e026582-9d89-45aa-9f6c-83f5905e5aa8",
   "metadata": {},
   "source": [
    "## pandas.Series.memory_usage 메서드\n",
    "- Series 객체가 메모리에서 사용하는 바이트 수를 반환합니다.\n",
    "- 이 메서드는 데이터 구조의 메모리 효율성을 평가할 때 유용합니다.\n",
    "- 각 코드 예제는 Series.memory_usage 메서드를 사용하여 pandas Series 객체의 메모리 사용량을 어떻게 확인할 수 있는지 보여줍니다. \n",
    "- deep 파라미터를 True로 설정하면 문자열과 같은 객체 데이터 타입의 실제 메모리 사용량을 더 정확하게 계산할 수 있습니다."
   ]
  },
  {
   "cell_type": "code",
   "execution_count": 4,
   "id": "d74e26a9-d3b5-41d6-8904-e36de45fd443",
   "metadata": {},
   "outputs": [
    {
     "name": "stdout",
     "output_type": "stream",
     "text": [
      "제우스 자손 Series 메모리 사용량: 579 bytes\n"
     ]
    }
   ],
   "source": [
    "# 1. ⚡ 제우스의 자손들: 제우스의 유명한 자손들\n",
    "import pandas as pd\n",
    "\n",
    "# 제우스의 자손들\n",
    "zeus_children = pd.Series(['Hercules', 'Athena', 'Apollo', 'Artemis', 'Perseus', 'Helen of Troy', 'Minos'])\n",
    "\n",
    "# 메모리 사용량 확인\n",
    "print(\"제우스 자손 Series 메모리 사용량:\", zeus_children.memory_usage(deep=True), \"bytes\")"
   ]
  },
  {
   "cell_type": "code",
   "execution_count": 5,
   "id": "d7c7689c-c913-4b6f-98ad-7749a6e5851a",
   "metadata": {},
   "outputs": [
    {
     "name": "stdout",
     "output_type": "stream",
     "text": [
      "제우스와 연관된 장소 Series 메모리 사용량 (인덱스 포함): 387 bytes\n"
     ]
    }
   ],
   "source": [
    "# 2. 🌩 제우스와 연관된 장소들: 제우스와 연관된 주요 그리스 신화 장소들\n",
    "import pandas as pd\n",
    "\n",
    "# 제우스와 연관된 장소들\n",
    "zeus_places = pd.Series(['Mount Olympus', 'Crete', 'Dodona', 'Olympia'])\n",
    "\n",
    "# 메모리 사용량 확인 (인덱스 포함)\n",
    "print(\"제우스와 연관된 장소 Series 메모리 사용량 (인덱스 포함):\", zeus_places.memory_usage(index=True, deep=True), \"bytes\")"
   ]
  },
  {
   "cell_type": "markdown",
   "id": "8216c985-fb88-42a9-b21f-32b3c9b4ee2c",
   "metadata": {},
   "source": [
    "## pandas.Series.hasnans\n",
    "- 판다스 Series 내에 결측값(NaN)이 있는지 여부를 확인하는 속성입니다. \n",
    "- 이 속성은 파라미터를 받지 않으며, 리턴 값은 불리언(Boolean)입니다. \n",
    "- True일 경우 Series 내에 적어도 하나 이상의 결측값이 있음을 의미하고, False는 결측값이 없음을 의미합니다."
   ]
  },
  {
   "cell_type": "code",
   "execution_count": 7,
   "id": "7bc477de-b3c5-4b7b-a9f3-72c594316f14",
   "metadata": {},
   "outputs": [
    {
     "name": "stdout",
     "output_type": "stream",
     "text": [
      "🌊 포세이돈의 바다에 결측값이 있는가? True\n"
     ]
    }
   ],
   "source": [
    "# 코드 예제 1: 🌊 포세이돈의 바다 🌊\n",
    "# 포세이돈은 바다와 지진의 신입니다. \n",
    "# 이 코드 예제에서는 바다의 신 포세이돈을 테마로 한 데이터를 생성하고,\n",
    "# hasnans를 사용하여 바다 데이터에 결측값이 있는지 확인합니다.\n",
    "\n",
    "import pandas as pd\n",
    "import numpy as np\n",
    "\n",
    "# 포세이돈의 바다 데이터 생성\n",
    "sea_data = pd.Series([5.5, 6.1, np.nan, 5.9, np.nan, 7.3], name=\"Poseidon's Sea Depths\")\n",
    "\n",
    "# 결측값 확인\n",
    "has_nans = sea_data.hasnans\n",
    "\n",
    "print(\"🌊 포세이돈의 바다에 결측값이 있는가?\", has_nans)"
   ]
  },
  {
   "cell_type": "code",
   "execution_count": 8,
   "id": "fc80058f-7281-4eaa-88bd-576ab9d96d84",
   "metadata": {},
   "outputs": [
    {
     "name": "stdout",
     "output_type": "stream",
     "text": [
      "🔥 헤파이스토스의 대장간에 결측값이 있는가? True\n"
     ]
    }
   ],
   "source": [
    "# 코드 예제 2: 🔥 헤파이스토스의 대장간 🔥\n",
    "# 헤파이스토스는 화재와 대장장이의 신입니다. \n",
    "# 이 코드 예제에서는 헤파이스토스의 대장간에서 만들어진 무기들의 강도를 나타내는 데이터를 생성하고, \n",
    "# hasnans를 사용하여 대장간 데이터에 결측값이 있는지 확인합니다.\n",
    "\n",
    "import pandas as pd\n",
    "import numpy as np\n",
    "\n",
    "# 헤파이스토스의 대장간 데이터 생성\n",
    "forge_strength = pd.Series([150, 200, np.nan, 180, 175, np.nan], name=\"Hephaestus' Forge Strength\")\n",
    "\n",
    "# 결측값 확인\n",
    "has_nans = forge_strength.hasnans\n",
    "\n",
    "print(\"🔥 헤파이스토스의 대장간에 결측값이 있는가?\", has_nans)"
   ]
  },
  {
   "cell_type": "markdown",
   "id": "4eba7b4d-c0ad-47c5-8815-34b917a302c8",
   "metadata": {},
   "source": [
    "## pandas.Series.empty는 판다스\n",
    "- Series 객체가 비어있는지 여부를 확인하는 속성입니다.\n",
    "- 이 속성은 파라미터를 받지 않으며, 리턴 값은 불리언(Boolean)입니다. \n",
    "- True일 경우 Series 객체가 비어있음을 의미하고, False는 Series 객체에 데이터가 존재함을 의미합니다."
   ]
  },
  {
   "cell_type": "code",
   "execution_count": 9,
   "id": "6b267a34-13cb-47c5-9803-986b19a0b2e8",
   "metadata": {},
   "outputs": [
    {
     "name": "stdout",
     "output_type": "stream",
     "text": [
      "🍇 디오니소스의 포도원이 비어있는가? True\n"
     ]
    },
    {
     "name": "stderr",
     "output_type": "stream",
     "text": [
      "C:\\Users\\kamir\\AppData\\Local\\Temp\\ipykernel_5828\\1830831577.py:9: FutureWarning: The default dtype for empty Series will be 'object' instead of 'float64' in a future version. Specify a dtype explicitly to silence this warning.\n",
      "  vineyard_data = pd.Series([], name=\"Dionysus' Vineyard\")\n"
     ]
    }
   ],
   "source": [
    "# 코드 예제 1: 🍇 디오니소스의 포도원 🍇\n",
    "# 디오니소스는 포도주, 축제, 광란의 신입니다. \n",
    "# 이 코드 예제에서는 디오니소스의 포도원을 나타내는 데이터를 생성하고, \n",
    "# empty를 사용하여 포도원 데이터가 비어있는지 확인합니다.\n",
    "\n",
    "import pandas as pd\n",
    "\n",
    "# 디오니소스의 포도원 데이터 생성\n",
    "vineyard_data = pd.Series([], name=\"Dionysus' Vineyard\")\n",
    "\n",
    "# 데이터가 비어있는지 확인\n",
    "is_empty = vineyard_data.empty\n",
    "\n",
    "print(\"🍇 디오니소스의 포도원이 비어있는가?\", is_empty)"
   ]
  },
  {
   "cell_type": "code",
   "execution_count": 10,
   "id": "1afdd085-10c6-4463-8a6c-eb5c571da73b",
   "metadata": {},
   "outputs": [
    {
     "name": "stdout",
     "output_type": "stream",
     "text": [
      "🌿 데메테르의 밀밭이 비어있는가? False\n"
     ]
    }
   ],
   "source": [
    "# 코드 예제 2: 🌿 데메테르의 밀밭 🌿\n",
    "# 데메테르는 농업과 수확의 여신입니다.\n",
    "# 이 코드 예제에서는 데메테르의 밀밭을 나타내는 데이터를 생성하고, \n",
    "# empty를 사용하여 밀밭 데이터가 비어있는지 확인합니다.\n",
    "\n",
    "import pandas as pd\n",
    "\n",
    "# 데메테르의 밀밭 데이터 생성\n",
    "wheat_field_data = pd.Series([3.5, 4.2, 5.1, 6.3], name=\"Demeter's Wheat Field\")\n",
    "\n",
    "# 데이터가 비어있는지 확인\n",
    "is_empty = wheat_field_data.empty\n",
    "\n",
    "print(\"🌿 데메테르의 밀밭이 비어있는가?\", is_empty)"
   ]
  },
  {
   "cell_type": "markdown",
   "id": "8a46bc7f-cca5-4fe0-b7a6-51ddd2afd3bc",
   "metadata": {},
   "source": [
    "## pandas.Series.dtypes는\n",
    "- 판다스 Series 객체의 데이터 유형을 반환하는 속성입니다. \n",
    "- 이 속성은 파라미터를 받지 않으며, 리턴 값은 해당 Series의 데이터 유형(dtype)을 나타내는 객체입니다."
   ]
  },
  {
   "cell_type": "code",
   "execution_count": 11,
   "id": "bdaa5cd6-29b7-439e-b8a8-0ca79fe07b4e",
   "metadata": {},
   "outputs": [
    {
     "name": "stdout",
     "output_type": "stream",
     "text": [
      "🌪️ 아이올로스의 바람 속도 데이터 유형: float64\n"
     ]
    }
   ],
   "source": [
    "# 코드 예제 1: 🌪️ 아이올로스의 바람 🌪️\n",
    "# 아이올로스는 바람의 신입니다. \n",
    "# 이 코드 예제에서는 아이올로스가 통제하는 바람의 속도를 나타내는 데이터를 생성하고,\n",
    "# dtypes를 사용하여 바람 데이터의 데이터 유형을 확인합니다.\n",
    "\n",
    "import pandas as pd\n",
    "\n",
    "# 아이올로스의 바람 속도 데이터 생성\n",
    "wind_speeds = pd.Series([20.5, 15.2, 24.3, 18.8], name=\"Aeolus' Wind Speeds\")\n",
    "\n",
    "# 데이터 유형 확인\n",
    "data_type = wind_speeds.dtypes\n",
    "\n",
    "print(\"🌪️ 아이올로스의 바람 속도 데이터 유형:\", data_type)"
   ]
  },
  {
   "cell_type": "code",
   "execution_count": 12,
   "id": "88fdb94d-aadf-4020-b027-7167b8b31942",
   "metadata": {},
   "outputs": [
    {
     "name": "stdout",
     "output_type": "stream",
     "text": [
      "🔥 헤스티아의 불꽃 밝기 데이터 유형: int64\n"
     ]
    }
   ],
   "source": [
    "# 코드 예제 2: 🔥 헤스티아의 불꽃 🔥\n",
    "# 헤스티아는 난롯가와 가정의 신입니다.\n",
    "# 이 코드 예제에서는 헤스티아의 불꽃의 밝기를 나타내는 데이터를 생성하고, \n",
    "# dtypes를 사용하여 불꽃 데이터의 데이터 유형을 확인합니다.\n",
    "\n",
    "import pandas as pd\n",
    "\n",
    "# 헤스티아의 불꽃 밝기 데이터 생성\n",
    "flame_brightness = pd.Series([90, 95, 87, 93], name=\"Hestia's Flame Brightness\")\n",
    "\n",
    "# 데이터 유형 확인\n",
    "data_type = flame_brightness.dtypes\n",
    "\n",
    "print(\"🔥 헤스티아의 불꽃 밝기 데이터 유형:\", data_type)"
   ]
  },
  {
   "cell_type": "markdown",
   "id": "4dbbb752-9a81-42d3-ba77-3b147300652a",
   "metadata": {},
   "source": [
    "## pandas.Series.name\n",
    "- 판다스 Series 객체에 이름을 설정하거나 반환하는 속성입니다. \n",
    "- 이 속성을 통해 Series에 레이블을 지정할 수 있으며, 데이터 프레임으로 변환했을 때 이 이름이 열의 이름으로 사용됩니다. \n",
    "- 파라미터를 직접 받지 않지만, 값을 할당함으로써 Series의 이름을 설정할 수 있습니다. 리턴 값은 Series의 이름(문자열)이 됩니다."
   ]
  },
  {
   "cell_type": "code",
   "execution_count": 20,
   "id": "8488d9cd-fe0f-448d-a6ae-c586f4a6849d",
   "metadata": {},
   "outputs": [
    {
     "name": "stdout",
     "output_type": "stream",
     "text": [
      "🛡️ Athena's Aegis Durability : [100  95  97  93]\n"
     ]
    }
   ],
   "source": [
    "# 코드 예제 1: 🛡️ 아테나의 방패 🛡️\n",
    "# 아테나는 지혜, 전략, 전투의 여신입니다. \n",
    "# 이 코드 예제에서는 아테나의 방패, 아이기스의 내구도를 나타내는 데이터를 생성하고, \n",
    "# name 속성을 사용하여 이 데이터에 이름을 부여합니다.\n",
    "\n",
    "import pandas as pd\n",
    "\n",
    "# 아테나의 방패 아이기스의 내구도 데이터 생성\n",
    "aegis_durability = pd.Series([100, 95, 97, 93])\n",
    "\n",
    "# 데이터에 이름 부여\n",
    "aegis_durability.name = \"Athena's Aegis Durability\"\n",
    "\n",
    "print(\"🛡️\", aegis_durability.name, \":\", aegis_durability.values)"
   ]
  },
  {
   "cell_type": "code",
   "execution_count": 21,
   "id": "3b06a665-0ec8-4e89-a870-6b496a284c55",
   "metadata": {},
   "outputs": [
    {
     "name": "stdout",
     "output_type": "stream",
     "text": [
      "🌾 Demeter's Grain Harvest : [1200 1500 1800 1300]\n"
     ]
    }
   ],
   "source": [
    "# 코드 예제 2: 🌾 데메테르의 곡물 🌾\n",
    "# 데메테르는 농업과 수확의 여신입니다.\n",
    "# 이 코드 예제에서는 데메테르가 보호하는 곡물의 수확량을 나타내는 데이터를 생성하고,\n",
    "# name 속성을 사용하여 이 데이터에 이름을 부여합니다.\n",
    "\n",
    "import pandas as pd\n",
    "\n",
    "# 데메테르의 곡물 수확량 데이터 생성\n",
    "grain_harvest = pd.Series([1200, 1500, 1800, 1300])\n",
    "\n",
    "# 데이터에 이름 부여\n",
    "grain_harvest.name = \"Demeter's Grain Harvest\"\n",
    "\n",
    "print(\"🌾\", grain_harvest.name, \":\", grain_harvest.values)"
   ]
  },
  {
   "cell_type": "markdown",
   "id": "e729193a-3d73-482a-b7de-8f9b00fd3443",
   "metadata": {},
   "source": [
    "## pandas.Series.flags\n",
    "- 판다스 Series 객체의 플래그 정보를 접근하는 속성입니다. \n",
    "- 이 속성을 통해 Series 객체에 대한 특정 플래그를 설정하거나 조회할 수 있습니다. \n",
    "- 이 속성은 직접적인 파라미터를 받지 않으며, Flags 객체를 리턴합니다. \n",
    "- 이 Flags 객체를 통해 여러 가지 플래그 상태를 확인하거나 설정할 수 있습니다."
   ]
  },
  {
   "cell_type": "code",
   "execution_count": 23,
   "id": "30f1b6e3-d742-4dc2-affb-4fc5312400b6",
   "metadata": {},
   "outputs": [
    {
     "name": "stdout",
     "output_type": "stream",
     "text": [
      "🌊 포세이돈의 파도 플래그 정보: <Flags(allows_duplicate_labels=True)>\n"
     ]
    }
   ],
   "source": [
    "# 코드 예제 1: 🌊 포세이돈의 파도 🌊\n",
    "# 포세이돈은 바다의 신으로, 강력한 파도와 바다의 주인으로 알려져 있습니다. \n",
    "# 이 코드 예제에서는 포세이돈의 파도의 높이를 나타내는 데이터를 생성하고, \n",
    "# flags 속성을 사용하여 데이터의 특성을 확인합니다.\n",
    "\n",
    "import pandas as pd\n",
    "\n",
    "# 포세이돈의 파도 높이 데이터 생성\n",
    "wave_heights = pd.Series([2.5, 3.0, 4.1, 5.2, 3.8], name=\"Poseidon's Wave Heights\")\n",
    "\n",
    "# 데이터 플래그 정보 확인\n",
    "flags_info = wave_heights.flags\n",
    "\n",
    "print(\"🌊 포세이돈의 파도 플래그 정보:\", flags_info)"
   ]
  },
  {
   "cell_type": "code",
   "execution_count": 22,
   "id": "2f4152c8-bb13-4c8e-87ce-93910b9b62c8",
   "metadata": {},
   "outputs": [
    {
     "name": "stdout",
     "output_type": "stream",
     "text": [
      "🌪️ 아이올로스의 바람 플래그 정보: <Flags(allows_duplicate_labels=True)>\n"
     ]
    }
   ],
   "source": [
    "# 코드 예제 2: 🌪️ 아이올로스의 바람 🌪️\n",
    "# 아이올로스는 바람의 신으로, 바람의 방향과 세기를 조절할 수 있는 능력을 가지고 있습니다. \n",
    "# 이 코드 예제에서는 아이올로스가 조절하는 바람의 속도를 나타내는 데이터를 생성하고,\n",
    "# flags 속성을 사용하여 데이터의 특성을 확인합니다.\n",
    "\n",
    "import pandas as pd\n",
    "\n",
    "# 아이올로스의 바람 속도 데이터 생성\n",
    "wind_speeds = pd.Series([20, 25, 15, 30, 22], name=\"Aeolus' Wind Speeds\")\n",
    "\n",
    "# 데이터 플래그 정보 확인\n",
    "flags_info = wind_speeds.flags\n",
    "\n",
    "print(\"🌪️ 아이올로스의 바람 플래그 정보:\", flags_info)"
   ]
  },
  {
   "cell_type": "markdown",
   "id": "c06ac149-1e85-407f-aa9b-0a6af46d6cda",
   "metadata": {},
   "source": [
    "## pandas.Series.set_flags\n",
    "- 판다스 Series 객체의 플래그를 설정하는 메서드입니다.\n",
    "- 이 메서드를 사용하여 Series의 특정 플래그를 설정할 수 있으며, 여러 가지 플래그를 한 번에 설정할 수도 있습니다. \n",
    "- set_flags 메서드는 주로 데이터의 변경 가능성(copyable, writable 등)과 같은 속성을 설정하는 데 사용됩니다."
   ]
  },
  {
   "cell_type": "code",
   "execution_count": 24,
   "id": "512f8c4b-d723-47e2-aa1b-6ba0586a21b5",
   "metadata": {},
   "outputs": [
    {
     "name": "stdout",
     "output_type": "stream",
     "text": [
      "🛡️ 마케도니아 호플라이트 전투력: 0    85\n",
      "1    90\n",
      "2    87\n",
      "3    92\n",
      "Name: Macedonian Hoplite Strength, dtype: int64\n"
     ]
    }
   ],
   "source": [
    "# 코드 예제 1: 🛡️ 마케도니아의 호플라이트 🛡️\n",
    "# 호플라이트는 고대 그리스의 중무장 보병입니다. \n",
    "# 마케도니아는 강력한 호플라이트 부대로 유명했습니다. \n",
    "# 이 코드 예제에서는 마케도니아 호플라이트의 전투력을 나타내는 데이터를 생성하고, \n",
    "# set_flags를 사용하여 데이터의 변경 불가능성을 설정합니다.\n",
    "\n",
    "import pandas as pd\n",
    "\n",
    "# 마케도니아 호플라이트의 전투력 데이터 생성\n",
    "hoplite_strength = pd.Series([85, 90, 87, 92], name=\"Macedonian Hoplite Strength\")\n",
    "\n",
    "# 데이터 변경 불가능하도록 플래그 설정\n",
    "immutable_strength = hoplite_strength.set_flags(copy=False)\n",
    "\n",
    "print(\"🛡️ 마케도니아 호플라이트 전투력:\", immutable_strength)"
   ]
  },
  {
   "cell_type": "code",
   "execution_count": 25,
   "id": "bfe603e8-c6a8-48a9-9891-af8c1e6200de",
   "metadata": {},
   "outputs": [
    {
     "name": "stdout",
     "output_type": "stream",
     "text": [
      "🏹 마케도니아 사냥꾼의 사냥 기술: 0    75\n",
      "1    80\n",
      "2    82\n",
      "3    78\n",
      "Name: Macedonian Hunter Skills, dtype: int64\n"
     ]
    }
   ],
   "source": [
    "# 코드 예제 2: 🏹 마케도니아의 사냥꾼 🏹\n",
    "# 마케도니아의 풍요로운 숲과 산은 사냥꾼들에게 완벽한 환경을 제공했습니다. \n",
    "# 이 코드 예제에서는 마케도니아 사냥꾼의 사냥 기술을 나타내는 데이터를 생성하고, \n",
    "# set_flags를 사용하여 중복 레이블을 허용하지 않는 플래그를 설정합니다.\n",
    "\n",
    "import pandas as pd\n",
    "\n",
    "# 마케도니아 사냥꾼의 사냥 기술 데이터 생성\n",
    "hunter_skills = pd.Series([75, 80, 82, 78], name=\"Macedonian Hunter Skills\")\n",
    "\n",
    "# 중복 레이블을 허용하지 않도록 플래그 설정\n",
    "unique_label_skills = hunter_skills.set_flags(allows_duplicate_labels=False)\n",
    "\n",
    "print(\"🏹 마케도니아 사냥꾼의 사냥 기술:\", unique_label_skills)"
   ]
  },
  {
   "cell_type": "markdown",
   "id": "65cdc21b-e1a3-4871-be95-0205ae605d85",
   "metadata": {},
   "source": [
    "## pandas.Series.astype\n",
    "- 판다스 Series의 데이터 유형을 지정된 데이터 유형으로 변환하는 메서드입니다.\n",
    "- 이 메서드는 데이터 유형을 변환하고자 할 때 사용되며, 숫자, 문자열, 날짜 시간 등 다양한 유형으로의 변환이 가능합니다."
   ]
  },
  {
   "cell_type": "code",
   "execution_count": 42,
   "id": "f0af0253-a585-4c82-8830-c3fcc50f15ea",
   "metadata": {},
   "outputs": [
    {
     "name": "stdout",
     "output_type": "stream",
     "text": [
      "🛡️ 마케도니아 전사들의 정수형 전투력 점수: 0    95\n",
      "1    87\n",
      "2    90\n",
      "3    92\n",
      "Name: Macedonian Warriors' Strength, dtype: int32\n"
     ]
    }
   ],
   "source": [
    "# 코드 예제 1: 🛡️ 마케도니아의 전사들 🛡️\n",
    "# 마케도니아는 강력한 군사력으로 유명했습니다. \n",
    "# 이 코드 예제에서는 마케도니아 전사들의 전투력 점수를 나타내는 데이터를 생성하고, \n",
    "# astype을 사용하여 점수를 정수 유형으로 변환합니다.\n",
    "\n",
    "import pandas as pd\n",
    "\n",
    "# 마케도니아 전사들의 전투력 점수 (소수점 포함)\n",
    "warrior_strength = pd.Series([95.5, 87.2, 90.3, 92.4], name=\"Macedonian Warriors' Strength\")\n",
    "\n",
    "# 전투력 점수를 정수 유형으로 변환\n",
    "integer_strength = warrior_strength.astype(int)\n",
    "\n",
    "print(\"🛡️ 마케도니아 전사들의 정수형 전투력 점수:\", integer_strength)"
   ]
  },
  {
   "cell_type": "code",
   "execution_count": 41,
   "id": "7c14935e-19ec-44e3-b088-7abc2f5c5243",
   "metadata": {},
   "outputs": [
    {
     "name": "stdout",
     "output_type": "stream",
     "text": [
      "🏛️ 마케도니아 도시 상태의 문자열 인구: 0    12000\n",
      "1     8500\n",
      "2     9500\n",
      "3    10500\n",
      "Name: Macedonian City Populations, dtype: object\n"
     ]
    }
   ],
   "source": [
    "# 코드 예제 2: 🏛️ 마케도니아의 도시 상태 🏛️\n",
    "# # 마케도니아는 다양한 도시 상태를 가지고 있었습니다. \n",
    "# 이 코드 예제에서는 마케도니아 도시 상태의 인구를 나타내는 데이터를 생성하고,\n",
    "# astype을 사용하여 인구 수를 문자열 유형으로 변환합니다.\n",
    "\n",
    "import pandas as pd\n",
    "\n",
    "# 마케도니아 도시 상태의 인구 (정수)\n",
    "city_population = pd.Series([12000, 8500, 9500, 10500], name=\"Macedonian City Populations\")\n",
    "\n",
    "# 인구 수를 문자열 유형으로 변환\n",
    "string_population = city_population.astype(str)\n",
    "\n",
    "print(\"🏛️ 마케도니아 도시 상태의 문자열 인구:\", string_population)"
   ]
  },
  {
   "cell_type": "markdown",
   "id": "01dfbbde-1794-434c-8415-49540ec15b42",
   "metadata": {},
   "source": [
    "## pandas.Series.convert_dtypes\n",
    "- Series 내의 데이터 유형을 가능한 가장 적합하고 정확한 pandas 데이터 유형으로 자동 변환하는 메서드입니다. \n",
    "- 이는 특히 정수형 데이터에서 결측치를 다룰 때 유용하며, Int64와 같은 nullable 정수 데이터 유형으로의 변환을 지원합니다."
   ]
  },
  {
   "cell_type": "code",
   "execution_count": 39,
   "id": "928b7a50-72fd-4481-bfad-427b9e6cde5e",
   "metadata": {},
   "outputs": [
    {
     "name": "stdout",
     "output_type": "stream",
     "text": [
      "🏹 마케도니아 궁수단의 정확도 점수: 0      92\n",
      "1      87\n",
      "2    <NA>\n",
      "3      94\n",
      "4      90\n",
      "Name: Macedonian Archers' Accuracy, dtype: Int64\n"
     ]
    }
   ],
   "source": [
    "# 코드 예제 1: 🏹 마케도니아의 궁수단 🏹\n",
    "# 마케도니아의 궁수단은 전장에서 중요한 역할을 했습니다. \n",
    "# 이 코드 예제에서는 궁수단의 정확도 점수를 나타내는 데이터를 생성하고, \n",
    "# convert_dtypes를 사용하여 적절한 데이터 유형으로 변환합니다.\n",
    "\n",
    "import pandas as pd\n",
    "import numpy as np\n",
    "\n",
    "# 마케도니아 궁수단의 정확도 점수 (결측치 포함)\n",
    "archer_accuracy = pd.Series([92, 87, np.nan, 94, 90], name=\"Macedonian Archers' Accuracy\")\n",
    "\n",
    "# 데이터 유형 변환\n",
    "converted_accuracy = archer_accuracy.convert_dtypes()\n",
    "\n",
    "print(\"🏹 마케도니아 궁수단의 정확도 점수:\", converted_accuracy)"
   ]
  },
  {
   "cell_type": "code",
   "execution_count": 38,
   "id": "db60cf02-08b9-4d81-a157-fb3cac91bb8b",
   "metadata": {},
   "outputs": [
    {
     "name": "stdout",
     "output_type": "stream",
     "text": [
      "🐎 마케도니아 기병대의 속도: 0    55\n",
      "1    60\n",
      "2    58\n",
      "3    63\n",
      "Name: Macedonian Cavalry Speed, dtype: string\n"
     ]
    }
   ],
   "source": [
    "# 코드 예제 2: 🐎 마케도니아의 기병대 🐎\n",
    "# 마케도니아의 기병대는 빠르고 강력했습니다. \n",
    "# 이 코드 예제에서는 기병대의 속도를 나타내는 데이터를 생성하고, \n",
    "# convert_dtypes를 사용하여 적절한 데이터 유형으로 변환합니다.\n",
    "\n",
    "import pandas as pd\n",
    "\n",
    "# 마케도니아 기병대의 속도 (문자열로 표현된 숫자)\n",
    "cavalry_speed = pd.Series([\"55\", \"60\", \"58\", \"63\"], name=\"Macedonian Cavalry Speed\")\n",
    "\n",
    "# 데이터 유형 변환\n",
    "converted_speed = cavalry_speed.convert_dtypes()\n",
    "\n",
    "print(\"🐎 마케도니아 기병대의 속도:\", converted_speed)"
   ]
  },
  {
   "cell_type": "code",
   "execution_count": 37,
   "id": "b5cf45e7-a0a1-4d9b-a97e-bd76b7655b25",
   "metadata": {},
   "outputs": [
    {
     "name": "stdout",
     "output_type": "stream",
     "text": [
      "🛡️ 마케도니아 방어 구조의 강도: 0     True\n",
      "1    False\n",
      "2        1\n",
      "3        0\n",
      "Name: Macedonian Fortification Strength, dtype: object\n"
     ]
    }
   ],
   "source": [
    "# 코드 예제 3: 🛡️ 마케도니아의 방어력 🛡️\n",
    "# 마케도니아의 방어 구조는 견고했습니다. \n",
    "# 이 코드 예제에서는 방어 구조의 강도를 나타내는 데이터를 생성하고,\n",
    "# convert_dtypes를 사용하여 적절한 데이터 유형으로 변환합니다.\n",
    "\n",
    "import pandas as pd\n",
    "\n",
    "# 마케도니아 방어 구조의 강도 (부울과 정수가 혼합된 데이터)\n",
    "fortification_strength = pd.Series([True, False, 1, 0], name=\"Macedonian Fortification Strength\")\n",
    "\n",
    "# 데이터 유형 변환\n",
    "converted_strength = fortification_strength.convert_dtypes()\n",
    "\n",
    "print(\"🛡️ 마케도니아 방어 구조의 강도:\", converted_strength)"
   ]
  },
  {
   "cell_type": "markdown",
   "id": "1bbf8480-a377-4575-8c1a-917f8ca4b801",
   "metadata": {},
   "source": [
    "## pandas.Series.infer_objects\n",
    "- Series 내의 객체 데이터 유형을 가능한 한 적절한 데이터 유형으로 추론하고 변환하는 메서드입니다.\n",
    "- 주로 데이터가 혼합된 객체 유형일 때 사용되며, 이 메서드를 통해 숫자나 날짜와 같은 더 구체적인 데이터 유형으로 변환을 시도합니다."
   ]
  },
  {
   "cell_type": "code",
   "execution_count": 36,
   "id": "0268a767-b415-424e-b461-4574e109717b",
   "metadata": {},
   "outputs": [
    {
     "name": "stdout",
     "output_type": "stream",
     "text": [
      "🌍 알렉산더 대왕의 정복지: 0    Persia\n",
      "1       332\n",
      "2     Egypt\n",
      "3       331\n",
      "4     India\n",
      "5       326\n",
      "Name: Alexander's Conquests, dtype: object\n"
     ]
    }
   ],
   "source": [
    "# 코드 예제 1: 🌍 알렉산더 대왕의 정복지 🌍\n",
    "# 알렉산더 대왕은 광대한 영토를 정복했습니다. \n",
    "# 이 코드 예제에서는 그의 주요 정복지와 해당 지역의 정복 연도를 나타내는 데이터를 생성하고,\n",
    "# infer_objects를 사용하여 데이터 유형을 추론합니다.\n",
    "\n",
    "import pandas as pd\n",
    "\n",
    "# 알렉산더 대왕의 정복지와 정복 연도\n",
    "conquests = pd.Series([\"Persia\", \"332\", \"Egypt\", \"331\", \"India\", \"326\"], name=\"Alexander's Conquests\")\n",
    "\n",
    "# 데이터 유형 추론\n",
    "inferred_conquests = conquests.infer_objects()\n",
    "\n",
    "print(\"🌍 알렉산더 대왕의 정복지:\", inferred_conquests)"
   ]
  },
  {
   "cell_type": "code",
   "execution_count": 34,
   "id": "b20b7bcd-c209-474e-b457-32f740ef547a",
   "metadata": {},
   "outputs": [
    {
     "name": "stdout",
     "output_type": "stream",
     "text": [
      "🛡️ 알렉산더 대왕의 군대: 0    Phalanx\n",
      "1      12000\n",
      "2    Cavalry\n",
      "3       5000\n",
      "4    Archers\n",
      "5       7000\n",
      "Name: Alexander's Army, dtype: object\n"
     ]
    }
   ],
   "source": [
    "# 코드 예제 2: 🛡️ 알렉산더 대왕의 군대 🛡️\n",
    "# 알렉산더 대왕의 군대는 다양한 병종으로 구성되었습니다. \n",
    "# 이 코드 예제에서는 그의 주요 병종과 해당 병종의 군사 수를 나타내는 데이터를 생성하고, \n",
    "# infer_objects를 사용하여 데이터 유형을 추론합니다.\n",
    "\n",
    "import pandas as pd\n",
    "\n",
    "# 알렉산더 대왕의 병종과 군사 수\n",
    "army_units = pd.Series([\"Phalanx\", \"12000\", \"Cavalry\", \"5000\", \"Archers\", \"7000\"], name=\"Alexander's Army\")\n",
    "\n",
    "# 데이터 유형 추론\n",
    "inferred_army = army_units.infer_objects()\n",
    "\n",
    "print(\"🛡️ 알렉산더 대왕의 군대:\", inferred_army)"
   ]
  },
  {
   "cell_type": "code",
   "execution_count": 35,
   "id": "5d0ee9c6-1938-4546-949d-af61dc0b29cf",
   "metadata": {},
   "outputs": [],
   "source": [
    "# 코드 예제 3: 🏛️ 알렉산더 대왕의 문화 유산 🏛️\n",
    "# 알렉산더 대왕은 문화와 과학에도 큰 영향을 미쳤습니다. \n",
    "# 이 코드 예제에서는 그의 주요 문화 유산과 해당 유산이 세워진 연도를 나타내는 데이터를 생성하고, \n",
    "# infer_objects를 사용하여 데이터 유형을 추론합니다.\n",
    "\n",
    "import pandas as pd\n",
    "\n",
    "# 알렉산더 대왕의 문화 유산과 세워진 연도\n",
    "cultural_heritage = pd.Series([\"Alexandria\", \"331 BC\", \"Library of Alexandria\", \"3rd century BC\"], name=\"Alexander's Cultural Heritage\")\n",
    "\n",
    "# 데이터 유형 추론\n",
    "inferred_heritage = cultural_heritage.infer_objects()"
   ]
  },
  {
   "cell_type": "code",
   "execution_count": null,
   "id": "eb26657b-f62d-44b5-8869-759628758fc5",
   "metadata": {},
   "outputs": [],
   "source": [
    "pandas.Series.copy 메서드는\n",
    "판다스 Series 객체의 복사본을 생성합니다. 이 메서드는 데이터 분석 과정에서 원본 데이터를 보존하면서 변형된 데이터를 사용하고자 할 때 유용합니다."
   ]
  },
  {
   "cell_type": "code",
   "execution_count": 32,
   "id": "92fa34ab-cd07-43bc-8477-5cc7cbdf155a",
   "metadata": {},
   "outputs": [
    {
     "name": "stdout",
     "output_type": "stream",
     "text": [
      "🌍 알렉산더 대왕의 정복 영토 복사본: 0     Egypt\n",
      "1    Persia\n",
      "2     India\n",
      "3    Greece\n",
      "Name: Alexander's Conquests, dtype: object\n"
     ]
    }
   ],
   "source": [
    "# 코드 예제 1: 🌍 알렉산더 대왕의 정복 지도 🌍\n",
    "# 알렉산더 대왕은 광범위한 영토를 정복했습니다.\n",
    "# 이 코드 예제에서는 알렉산더 대왕의 주요 정복 영토를 나타내는 데이터를 생성하고, \n",
    "# copy 메서드를 사용하여 데이터의 복사본을 만듭니다.\n",
    "\n",
    "import pandas as pd\n",
    "\n",
    "# 알렉산더 대왕의 정복 영토\n",
    "territories = pd.Series([\"Egypt\", \"Persia\", \"India\", \"Greece\"], name=\"Alexander's Conquests\")\n",
    "\n",
    "# 데이터의 복사본 생성\n",
    "territories_copy = territories.copy()\n",
    "\n",
    "print(\"🌍 알렉산더 대왕의 정복 영토 복사본:\", territories_copy)"
   ]
  },
  {
   "cell_type": "code",
   "execution_count": 33,
   "id": "84d28790-8734-4d92-a4a5-a3871c45c305",
   "metadata": {},
   "outputs": [
    {
     "name": "stdout",
     "output_type": "stream",
     "text": [
      "🛡️ 알렉산더 대왕의 전투 전략 복사본: 0           Phalanx\n",
      "1    Cavalry charge\n",
      "2     Siege tactics\n",
      "3     Naval warfare\n",
      "Name: Alexander's Strategies, dtype: object\n"
     ]
    }
   ],
   "source": [
    "# 코드 예제 2: 🛡️ 알렉산더 대왕의 전투 전략 🛡️\n",
    "# 알렉산더 대왕은 뛰어난 군사 전략가였습니다. \n",
    "# 이 코드 예제에서는 그의 주요 전투 전략을 나타내는 데이터를 생성하고, \n",
    "# copy 메서드를 사용하여 이 데이터의 복사본을 만듭니다.\n",
    "\n",
    "import pandas as pd\n",
    "\n",
    "# 알렉산더 대왕의 전투 전략\n",
    "strategies = pd.Series([\"Phalanx\", \"Cavalry charge\", \"Siege tactics\", \"Naval warfare\"], name=\"Alexander's Strategies\")\n",
    "\n",
    "# 데이터의 복사본 생성\n",
    "strategies_copy = strategies.copy()\n",
    "\n",
    "print(\"🛡️ 알렉산더 대왕의 전투 전략 복사본:\", strategies_copy)"
   ]
  },
  {
   "cell_type": "code",
   "execution_count": null,
   "id": "e19985bc-c713-40a8-8f87-a68e6bea9ff1",
   "metadata": {},
   "outputs": [],
   "source": [
    "코드 예제 3: 🏺 알렉산더 대왕의 유산 🏺\n",
    "알렉산더 대왕은 그의 정복과 함께 문화적 유산도 남겼습니다. \n",
    "이 코드 예제에서는 알렉산더 대왕이 남긴 주요 문화적 유산을 나타내는 데이터를 생성하고,\n",
    "copy 메서드를 사용하여 이 데이터의 복사본을 만듭니다.\n",
    "\n",
    "import pandas as pd\n",
    "\n",
    "# 알렉산더 대왕의 문화적 유산\n",
    "cultural_legacy = pd.Series([\"Hellenistic culture\", \"Alexandria Library\", \"Spread of Greek architecture\"], name=\"Alexander's Cultural Legacy\")\n",
    "\n",
    "# 데이터의 복사본 생성\n",
    "cultural_legacy_copy = cultural_legacy.copy()\n",
    "\n",
    "print(\"🏺 알렉산더 대왕의 문화적 유산 복사본:\", cultural_legacy_copy)"
   ]
  },
  {
   "cell_type": "markdown",
   "id": "46bbb40f-3168-4d4d-be51-09ae0b230ee4",
   "metadata": {},
   "source": [
    "## pandas.Series.bool 메서드\n",
    "- Series 객체가 단일 요소를 포함하고 있을 때, 그 요소의 불리언 값을 반환합니다. \n",
    "- 이 메서드는 Series가 오직 하나의 요소만을 가지고 있을 경우에만 사용될 수 있으며, 그렇지 않을 경우 ValueError를 발생시킵니다."
   ]
  },
  {
   "cell_type": "code",
   "execution_count": 30,
   "id": "dc7ad04d-dd69-4fb8-a908-a81d98a2bf4b",
   "metadata": {},
   "outputs": [
    {
     "name": "stdout",
     "output_type": "stream",
     "text": [
      "🛡️ 스파르타 전사의 군사 훈련이 완료되었는가? True\n"
     ]
    }
   ],
   "source": [
    "# 코드 예제 1: 🛡️ 스파르타의 전사 정신 🛡️\n",
    "# 스파르타는 강력한 군사 문화로 유명했습니다. \n",
    "# 이 코드 예제에서는 스파르타 전사의 군사 훈련 완료 여부를 나타내는 불리언 데이터를 생성하고, \n",
    "# bool 메서드를 사용하여 그 값을 확인합니다.\n",
    "\n",
    "import pandas as pd\n",
    "\n",
    "# 스파르타 전사의 군사 훈련 완료 여부\n",
    "warrior_training_complete = pd.Series([True], name=\"Spartan Warrior Training Complete\")\n",
    "\n",
    "# 훈련 완료 여부 확인\n",
    "is_training_complete = warrior_training_complete.bool()\n",
    "\n",
    "print(\"🛡️ 스파르타 전사의 군사 훈련이 완료되었는가?\", is_training_complete)"
   ]
  },
  {
   "cell_type": "code",
   "execution_count": 29,
   "id": "e6bda0f0-6f2f-441d-89d3-455620d167fa",
   "metadata": {},
   "outputs": [
    {
     "name": "stdout",
     "output_type": "stream",
     "text": [
      "🏛️ 스파르타의 의회 결정이 통과되었는가? False\n"
     ]
    }
   ],
   "source": [
    "# 코드 예제 2: 🏛️ 스파르타의 의회 결정 🏛️\n",
    "# 스파르타의 의회는 중요한 결정을 내렸습니다. \n",
    "# 이 코드 예제에서는 의회의 한 결정이 통과되었는지를 나타내는 불리언 데이터를 생성하고, \n",
    "# bool 메서드를 사용하여 그 결과를 확인합니다.\n",
    "\n",
    "import pandas as pd\n",
    "\n",
    "# 스파르타 의회의 결정 통과 여부\n",
    "council_decision_passed = pd.Series([False], name=\"Spartan Council Decision Passed\")\n",
    "\n",
    "# 결정 통과 여부 확인\n",
    "is_decision_passed = council_decision_passed.bool()\n",
    "\n",
    "print(\"🏛️ 스파르타의 의회 결정이 통과되었는가?\", is_decision_passed)"
   ]
  },
  {
   "cell_type": "code",
   "execution_count": 28,
   "id": "705406d4-239e-41cf-a698-144b44ee2fef",
   "metadata": {},
   "outputs": [
    {
     "name": "stdout",
     "output_type": "stream",
     "text": [
      "⚔️ 스파르타가 전투 준비가 완료되었는가? True\n"
     ]
    }
   ],
   "source": [
    "# 코드 예제 3: ⚔️ 스파르타의 전투 준비 상태 ⚔️\n",
    "#스파르타는 항상 전투를 준비하고 있었습니다. \n",
    "# 이 코드 예제에서는 스파르타가 전투 준비가 완료되었는지를 나타내는 불리언 데이터를 생성하고, \n",
    "# bool 메서드를 사용하여 준비 상태를 확인합니다.\n",
    "\n",
    "import pandas as pd\n",
    "\n",
    "# 스파르타의 전투 준비 완료 여부\n",
    "battle_ready = pd.Series([True], name=\"Sparta Battle Ready\")\n",
    "\n",
    "# 전투 준비 상태 확인\n",
    "is_battle_ready = battle_ready.bool()\n",
    "\n",
    "print(\"⚔️ 스파르타가 전투 준비가 완료되었는가?\", is_battle_ready)"
   ]
  },
  {
   "cell_type": "markdown",
   "id": "b4848ddd-c9fd-402b-947a-b2aa87b0a0c9",
   "metadata": {},
   "source": [
    "## pandas.Series.to_numpy 메서드\n",
    "- Series 객체를 NumPy 배열로 변환합니다.\n",
    "- 이 메서드는 데이터 분석 과정에서 판다스 객체를 NumPy 라이브러리를 사용해 처리해야 할 때 유용합니다."
   ]
  },
  {
   "cell_type": "code",
   "execution_count": 27,
   "id": "8bb2b3c8-aef9-45e9-bb72-a214f3e7cb71",
   "metadata": {},
   "outputs": [
    {
     "name": "stdout",
     "output_type": "stream",
     "text": [
      "🏛️ 아테네의 철학자들: ['Socrates' 'Plato' 'Aristotle']\n"
     ]
    }
   ],
   "source": [
    "# 코드 예제 1: 🏛️ 아테네의 철학자들 🏛️\n",
    "# 아테네는 여러 유명한 철학자를 배출했습니다. \n",
    "# 이 코드 예제에서는 아테네의 주요 철학자들의 이름을 나타내는 데이터를 생성하고, \n",
    "# to_numpy 메서드를 사용하여 NumPy 배열로 변환합니다.\n",
    "\n",
    "import pandas as pd\n",
    "\n",
    "# 아테네의 주요 철학자들\n",
    "philosophers = pd.Series([\"Socrates\", \"Plato\", \"Aristotle\"], name=\"Athenian Philosophers\")\n",
    "\n",
    "# NumPy 배열로 변환\n",
    "philosophers_array = philosophers.to_numpy()\n",
    "\n",
    "print(\"🏛️ 아테네의 철학자들:\", philosophers_array)"
   ]
  },
  {
   "cell_type": "code",
   "execution_count": 26,
   "id": "722fbc77-4497-4482-8b0a-bc8efe2cacfa",
   "metadata": {},
   "outputs": [
    {
     "name": "stdout",
     "output_type": "stream",
     "text": [
      "📜 아테네의 민주주의 사건 연도: [508 462 403]\n"
     ]
    }
   ],
   "source": [
    "# 코드 예제 2: 📜 아테네의 민주주의 📜\n",
    "# 아테네는 민주주의의 발상지로 알려져 있습니다. \n",
    "# 이 코드 예제에서는 아테네의 주요 민주주의 관련 사건들의 연도를 나타내는 데이터를 생성하고, \n",
    "# to_numpy 메서드를 사용하여 NumPy 배열로 변환합니다.\n",
    "\n",
    "import pandas as pd\n",
    "\n",
    "# 아테네의 민주주의 관련 주요 사건들의 연도\n",
    "democracy_events = pd.Series([508, 462, 403], name=\"Athenian Democracy Events\")\n",
    "\n",
    "# NumPy 배열로 변환\n",
    "events_array = democracy_events.to_numpy()\n",
    "\n",
    "print(\"📜 아테네의 민주주의 사건 연도:\", events_array)"
   ]
  },
  {
   "cell_type": "code",
   "execution_count": 19,
   "id": "616d9ec1-3b06-4c86-95e7-fef134bc6b00",
   "metadata": {},
   "outputs": [
    {
     "name": "stdout",
     "output_type": "stream",
     "text": [
      "🎭 아테네의 극장 문화 작가들: ['Aeschylus' 'Sophocles' 'Euripides' 'Aristophanes']\n"
     ]
    }
   ],
   "source": [
    "# 코드 예제 3: 🎭 아테네의 극장 문화 🎭\n",
    "# 아테네는 고대 극장 문화의 중심지였습니다.\n",
    "# 이 코드 예제에서는 아테네의 주요 희극 및 비극 작가들의 이름을 나타내는 데이터를 생성하고, \n",
    "# to_numpy 메서드를 사용하여 NumPy 배열로 변환합니다.\n",
    "\n",
    "import pandas as pd\n",
    "\n",
    "# 아테네의 주요 희극 및 비극 작가들\n",
    "playwrights = pd.Series([\"Aeschylus\", \"Sophocles\", \"Euripides\", \"Aristophanes\"], name=\"Athenian Playwrights\")\n",
    "\n",
    "# NumPy 배열로 변환\n",
    "playwrights_array = playwrights.to_numpy()\n",
    "\n",
    "print(\"🎭 아테네의 극장 문화 작가들:\", playwrights_array)"
   ]
  },
  {
   "cell_type": "code",
   "execution_count": null,
   "id": "2e395653-31e2-4f03-8d9b-c68b3a6babe3",
   "metadata": {},
   "outputs": [],
   "source": []
  }
 ],
 "metadata": {
  "kernelspec": {
   "display_name": "Python 3 (ipykernel)",
   "language": "python",
   "name": "python3"
  },
  "language_info": {
   "codemirror_mode": {
    "name": "ipython",
    "version": 3
   },
   "file_extension": ".py",
   "mimetype": "text/x-python",
   "name": "python",
   "nbconvert_exporter": "python",
   "pygments_lexer": "ipython3",
   "version": "3.10.9"
  }
 },
 "nbformat": 4,
 "nbformat_minor": 5
}
