{
 "cells": [
  {
   "cell_type": "markdown",
   "id": "7c01896f-c19c-47b5-9f6b-4e50b7639017",
   "metadata": {},
   "source": [
    "# 판다스와 유럽 역사 알기1-10\n",
    "\n",
    "- 10_\n",
    "- https://www.dacon.io/edu/131"
   ]
  },
  {
   "cell_type": "markdown",
   "id": "d27d113f-d0f3-44b5-a10a-4e6ecbb53ba5",
   "metadata": {},
   "source": [
    "## pandas.Series.radd 메서드는\n",
    "- Series 객체의 각 요소에 스칼라 값을 더하거나, 다른 Series 객체의 요소와 더하는 연산을 수행하되, 연산 순서를 반대로 적용합니다.\n",
    "- 즉, 지정된 값이 Series 객체의 요소보다 먼저 오게 됩니다. 이는 주로 연산자 오버로딩에서 사용됩니다."
   ]
  },
  {
   "cell_type": "code",
   "execution_count": 1,
   "id": "a2fb1e04-8d51-48c2-aa7f-24b522848a58",
   "metadata": {},
   "outputs": [
    {
     "name": "stdout",
     "output_type": "stream",
     "text": [
      "🎨 이집트 벽화의 최종 색상 번호:\n",
      "파랑    11\n",
      "빨강    12\n",
      "노랑    13\n",
      "Name: Base Color Number, dtype: int64\n"
     ]
    }
   ],
   "source": [
    "# 코드 예제 1: 🎨 이집트 벽화의 색상 번호 🎨\n",
    "# 고대 이집트에서 벽화는 중요한 예술 형태였으며, 각 색상은 특별한 의미를 가졌습니다. \n",
    "# 이 코드 예제에서는 벽화에 사용된 주요 색상의 기본 번호를 나타내는 데이터와 \n",
    "# 전체 벽화에 적용된 추가 번호를 더하여 최종 색상 번호를 계산합니다.\n",
    "\n",
    "import pandas as pd\n",
    "\n",
    "# 벽화에 사용된 주요 색상의 기본 번호\n",
    "base_color_number = pd.Series({\"파랑\": 1, \"빨강\": 2, \"노랑\": 3}, name=\"Base Color Number\")\n",
    "\n",
    "# 전체 벽화에 적용된 추가 번호\n",
    "additional_number = 10  # 모든 색상 번호에 10을 더함\n",
    "\n",
    "# 최종 색상 번호 계산\n",
    "final_color_number = base_color_number.radd(additional_number)\n",
    "\n",
    "print(\"🎨 이집트 벽화의 최종 색상 번호:\")\n",
    "print(final_color_number)"
   ]
  },
  {
   "cell_type": "code",
   "execution_count": 2,
   "id": "0128f91f-7055-425e-9435-977093544267",
   "metadata": {},
   "outputs": [
    {
     "name": "stdout",
     "output_type": "stream",
     "text": [
      "📜 이집트 문서의 최종 페이지 번호:\n",
      "서문    6\n",
      "본문    7\n",
      "결론    8\n",
      "Name: Initial Page Number, dtype: int64\n"
     ]
    }
   ],
   "source": [
    "# 코드 예제 2: 📜 이집트 문서의 페이지 번호 📜\n",
    "# 고대 이집트 문서는 종종 여러 페이지로 구성되었으며, 각 페이지는 번호가 매겨졌습니다. 이 코드 예제에서는 문서의 각 부분에 할당된 초기 페이지 번호와 전체 문서에 추가된 고정 페이지 수를 더하여 최종 페이지 번호를 계산합니다.\n",
    "\n",
    "import pandas as pd\n",
    "\n",
    "# 문서의 각 부분에 할당된 초기 페이지 번호\n",
    "initial_page_number = pd.Series({\"서문\": 1, \"본문\": 2, \"결론\": 3}, name=\"Initial Page Number\")\n",
    "\n",
    "# 전체 문서에 추가된 고정 페이지 수\n",
    "fixed_pages = 5  # 모든 부분 앞에 5페이지가 추가됨\n",
    "\n",
    "# 최종 페이지 번호 계산\n",
    "final_page_number = initial_page_number.radd(fixed_pages)\n",
    "\n",
    "print(\"📜 이집트 문서의 최종 페이지 번호:\")\n",
    "print(final_page_number)"
   ]
  },
  {
   "cell_type": "markdown",
   "id": "4030afb7-b7ad-4e83-a8af-a177178dd059",
   "metadata": {},
   "source": [
    "## pandas.Series.rsub 메서드는\n",
    "- 스칼라 값이나 다른 Series 객체의 요소에서 Series 객체의 각 요소를 뺀 결과를 계산합니다.\n",
    "- 이 메서드는 연산 순서가 반대인 뺄셈을 수행할 때 사용되며, 특히 연산자 오버로딩에 유용합니다."
   ]
  },
  {
   "cell_type": "code",
   "execution_count": 3,
   "id": "2d05bb18-0e71-46b8-91d9-fdcd41971109",
   "metadata": {},
   "outputs": [
    {
     "name": "stdout",
     "output_type": "stream",
     "text": [
      "📐 이집트 건축 길이의 미터 단위 변환 후 차이:\n",
      "피라미드 기초    147.6\n",
      "사원 입구      173.8\n",
      "Name: Length in Cubits, dtype: float64\n"
     ]
    }
   ],
   "source": [
    "# 코드 예제 1: 📐 이집트 건축에서의 길이 단위 변환 📐\n",
    "# 고대 이집트 건축에 사용된 길이 단위는 현대 단위로 변환할 필요가 있습니다. 이 코드 예제에서는 이집트 길이 단위(큐빗)를 현대의 미터 단위로 변환하는 과정을 나타내고, rsub 메서드를 사용하여 변환된 길이를 계산합니다.\n",
    "\n",
    "import pandas as pd\n",
    "\n",
    "# 이집트 건축에 사용된 길이 단위 (큐빗)\n",
    "egyptian_lengths = pd.Series({\"피라미드 기초\": 100, \"사원 입구\": 50}, name=\"Length in Cubits\")\n",
    "\n",
    "# 큐빗을 미터로 변환 (1 큐빗 = 0.524 미터)\n",
    "cubit_to_meter = 0.524\n",
    "\n",
    "# 현대 미터 단위로 변환된 길이 계산\n",
    "converted_lengths = cubit_to_meter * egyptian_lengths\n",
    "\n",
    "# 기준 길이에서 변환된 길이 빼기\n",
    "reference_length = 200  # 기준 길이 (미터)\n",
    "length_difference = reference_length - converted_lengths\n",
    "\n",
    "print(\"📐 이집트 건축 길이의 미터 단위 변환 후 차이:\")\n",
    "print(length_difference)"
   ]
  },
  {
   "cell_type": "code",
   "execution_count": 4,
   "id": "d27874fc-4674-4c25-a80c-93c0a2ef9b94",
   "metadata": {},
   "outputs": [
    {
     "name": "stdout",
     "output_type": "stream",
     "text": [
      "🔢 이집트 수 체계에서 변환된 수의 차이:\n",
      "수량1    80\n",
      "수량2    60\n",
      "Name: Egyptian Numbers, dtype: int64\n"
     ]
    }
   ],
   "source": [
    "# 코드 예제 2: 🔢 이집트 수학에서의 수 체계 변환 🔢\n",
    "# 고대 이집트의 수 체계는 현대의 수 체계와 다릅니다. 이 코드 예제에서는 이집트 수 체계에서 사용된 수를 현대의 수 체계로 변환하는 과정을 나타내고, rsub 메서드를 사용하여 변환된 수의 차이를 계산합니다.\n",
    "\n",
    "import pandas as pd\n",
    "\n",
    "# 이집트 수 체계에서 사용된 수\n",
    "egyptian_numbers = pd.Series({\"수량1\": 10, \"수량2\": 20}, name=\"Egyptian Numbers\")\n",
    "\n",
    "# 현대 수 체계로 변환된 수 계산 (가정: 이집트 수 * 2 = 현대 수)\n",
    "converted_numbers = egyptian_numbers * 2\n",
    "\n",
    "# 기준 수에서 변환된 수 빼기\n",
    "reference_number = 100  # 기준 수\n",
    "number_difference = reference_number - converted_numbers\n",
    "\n",
    "print(\"🔢 이집트 수 체계에서 변환된 수의 차이:\")\n",
    "print(number_difference)"
   ]
  },
  {
   "cell_type": "markdown",
   "id": "006f7aec-fd5e-4801-8ba6-94754dead7aa",
   "metadata": {},
   "source": [
    "## pandas.Series.rmul 메서드는\n",
    "- Series 객체의 각 요소에 스칼라 값을 곱하거나, 다른 Series 객체의 요소와 곱하는 연산을 수행하되,연산 순서를 반대로 적용합니다.\n",
    "- 즉, 지정된 값이 Series 객체의 요소보다 먼저 곱해집니다. 이는 주로 연산자 오버로딩에서 사용됩니다."
   ]
  },
  {
   "cell_type": "code",
   "execution_count": 5,
   "id": "e38f371c-b883-4b84-8c4d-f0fc21efa916",
   "metadata": {},
   "outputs": [],
   "source": [
    "# 코드 예제 1: 🧮 이집트 수학에서의 곱셈 표 🧮\n",
    "# 고대 이집트에서는 다양한 수학적 계산에 곱셈을 사용했습니다. \n",
    "# 이 코드 예제에서는 이집트 수학의 곱셈 표를 나타내는 데이터를 생성하고, \n",
    "# rmul 메서드를 사용하여 특정 수와의 곱셈 결과를 계산합니다.\n",
    "\n"
   ]
  },
  {
   "cell_type": "code",
   "execution_count": 6,
   "id": "3328fc40-f099-441c-a1ee-56d407b35637",
   "metadata": {},
   "outputs": [
    {
     "name": "stdout",
     "output_type": "stream",
     "text": [
      "⚖️ 이집트 무게 단위의 킬로그램으로 변환된 값:\n",
      "덴     5.0\n",
      "헤네    5.0\n",
      "dtype: float64\n"
     ]
    }
   ],
   "source": [
    "# 코드 예제 2: ⚖️ 이집트 과학에서의 무게 단위 변환 ⚖️\n",
    "# 고대 이집트에서 사용된 무게 단위는 현대 단위로 변환할 필요가 있습니다. \n",
    "# 이 코드 예제에서는 이집트 무게 단위를 현대의 킬로그램 단위로 변환하는 비율을 나타내는 데이터를 생성하고,\n",
    "# rmul 메서드를 사용하여 변환된 무게 값을 계산합니다.\n",
    "\n",
    "import pandas as pd\n",
    "\n",
    "# 이집트 무게 단위를 킬로그램으로 변환하는 비율\n",
    "egyptian_to_kg_conversion_rate = pd.Series({\"덴\": 0.1, \"헤네\": 1.0}, name=\"Conversion Rate to Kg\")\n",
    "\n",
    "# 변환에 사용될 스칼라 값 (이집트 무게 단위 값)\n",
    "egyptian_weights = pd.Series({\"덴\": 50, \"헤네\": 5}, name=\"Egyptian Weights\")\n",
    "\n",
    "# 스칼라 값과 변환 비율의 곱셈 결과 계산\n",
    "converted_weights = egyptian_weights.rmul(egyptian_to_kg_conversion_rate)\n",
    "\n",
    "print(\"⚖️ 이집트 무게 단위의 킬로그램으로 변환된 값:\")\n",
    "print(converted_weights)"
   ]
  },
  {
   "cell_type": "markdown",
   "id": "bcfdc114-ca38-4620-9b5d-57df0d8b300a",
   "metadata": {},
   "source": [
    "## pandas.Series.rdiv 메서드는\n",
    "- 스칼라 값이나 다른 Series 객체의 요소를 Series 객체의 각 요소로 나누는 연산을 수행합니다. \n",
    "- 이 메서드는 연산 순서가 반대인 나눗셈을 수행할 때 사용되며, 특히 연산자 오버로딩에 유용합니다."
   ]
  },
  {
   "cell_type": "code",
   "execution_count": 7,
   "id": "6993b0f5-58b1-4866-8319-ca9758635d88",
   "metadata": {},
   "outputs": [
    {
     "name": "stdout",
     "output_type": "stream",
     "text": [
      "🌌 지구 궤도 주기 대비 다른 행성의 궤도 주기 비율:\n",
      "금성    1.626016\n",
      "화성    0.531915\n",
      "목성    0.084317\n",
      "Name: Orbital Period, dtype: float64\n"
     ]
    }
   ],
   "source": [
    "# 코드 예제 1: 🌌 그리스 천문학에서의 행성 궤도 주기 비율 🌌\n",
    "# 고대 그리스 천문학자들은 행성들의 궤도 주기를 관측하고 기록했습니다. 이 코드 예제에서는 지구와 다른 행성의 궤도 주기를 나타내는 데이터를 생성하고, rdiv 메서드를 사용하여 지구 궤도 주기 대비 다른 행성의 궤도 주기 비율을 계산합니다.\n",
    "\n",
    "import pandas as pd\n",
    "\n",
    "# 지구 대비 다른 행성의 궤도 주기 (단위: 지구 년)\n",
    "orbital_periods = pd.Series({\"금성\": 0.615, \"화성\": 1.88, \"목성\": 11.86}, name=\"Orbital Period\")\n",
    "\n",
    "# 지구의 궤도 주기\n",
    "earth_orbital_period = 1  # 지구 궤도 주기를 1 지구 년으로 가정\n",
    "\n",
    "# 지구 궤도 주기 대비 다른 행성의 궤도 주기 비율 계산\n",
    "orbital_period_ratio = earth_orbital_period / orbital_periods\n",
    "\n",
    "print(\"🌌 지구 궤도 주기 대비 다른 행성의 궤도 주기 비율:\")\n",
    "print(orbital_period_ratio)"
   ]
  },
  {
   "cell_type": "code",
   "execution_count": 8,
   "id": "e22fd931-773e-497f-990b-0ac8f23aa6de",
   "metadata": {},
   "outputs": [
    {
     "name": "stdout",
     "output_type": "stream",
     "text": [
      "📏 비례식에 따른 미지수 B' 값 계산 결과:\n",
      "A'    0.5\n",
      "Name: Proportion B, dtype: float64\n"
     ]
    }
   ],
   "source": [
    "# 코드 예제 2: 📏 그리스 수학에서의 비례식 계산 📏\n",
    "# 고대 그리스 수학자들은 비례식을 이용해 다양한 수학 문제를 해결했습니다. \n",
    "# 이 코드 예제에서는 비례식의 한 쌍의 값과 비교할 다른 쌍의 값 중 하나를 나타내는 데이터를 생성하고, \n",
    "# rdiv 메서드를 사용하여 미지수 값을 계산합니다.\n",
    "\n",
    "import pandas as pd\n",
    "\n",
    "# 비례식의 한 쌍의 값 (A:B)\n",
    "proportion_a = pd.Series({\"A\": 2, \"B\": 3}, name=\"Proportion A\")\n",
    "\n",
    "# 비교할 다른 쌍의 값 중 하나 (A':?)\n",
    "proportion_b = pd.Series({\"A'\": 4}, name=\"Proportion B\")\n",
    "\n",
    "# 미지수 B' 값 계산 (A:B = A':B')\n",
    "unknown_value = proportion_b.rdiv(proportion_a['A'], fill_value=proportion_a['B'])\n",
    "\n",
    "print(\"📏 비례식에 따른 미지수 B' 값 계산 결과:\")\n",
    "print(unknown_value)"
   ]
  },
  {
   "cell_type": "markdown",
   "id": "b01aebe8-5a48-4506-afb7-43afb5143ab8",
   "metadata": {},
   "source": [
    "## pandas.Series.rtruediv 메서드는\n",
    "- 스칼라 값이나 다른 Series 객체의 요소를 Series 객체의 각 요소로 나누는 연산을 수행합니다. \n",
    "- 이 메서드는 연산 순서가 반대인 진정한 나눗셈(truediv)을 수행할 때 사용되며, 부동 소수점 결과를 반환합니다. Python 3에서 / 연산자는 기본적으로 진정한 나눗셈을 수행합니다."
   ]
  },
  {
   "cell_type": "code",
   "execution_count": 9,
   "id": "50d3c1a2-ceb8-4251-843f-e3256e02edbb",
   "metadata": {},
   "outputs": [
    {
     "name": "stdout",
     "output_type": "stream",
     "text": [
      "🔭 지구 대비 행성 거리 비율:\n",
      "수성    2.583319\n",
      "금성    1.382625\n",
      "화성    0.656313\n",
      "Name: Planetary Distances, dtype: float64\n"
     ]
    }
   ],
   "source": [
    "# 코드 예제 1: 🔭 그리스 천문학에서의 행성 거리 비율 🔭\n",
    "# 고대 그리스 천문학자들은 태양계 행성들의 거리를 관측하고 기록했습니다. \n",
    "# 이 코드 예제에서는 태양으로부터의 행성들의 평균 거리를 나타내는 데이터와 태양으로부터의 지구 거리를 사용하여, \n",
    "# 지구 대비 각 행성의 거리 비율을 계산합니다.\n",
    "\n",
    "import pandas as pd\n",
    "\n",
    "# 태양으로부터의 행성들의 평균 거리 (단위: 천만 km)\n",
    "planetary_distances = pd.Series({\"수성\": 5791, \"금성\": 10820, \"화성\": 22794}, name=\"Planetary Distances\")\n",
    "\n",
    "# 태양으로부터의 지구 거리\n",
    "earth_distance = 14960  # 단위: 천만 km\n",
    "\n",
    "# 지구 대비 행성 거리 비율 계산\n",
    "distance_ratio = earth_distance / planetary_distances\n",
    "\n",
    "print(\"🔭 지구 대비 행성 거리 비율:\")\n",
    "print(distance_ratio)"
   ]
  },
  {
   "cell_type": "code",
   "execution_count": 10,
   "id": "fe9896ca-1682-42ea-ab68-aa236d8f16fa",
   "metadata": {},
   "outputs": [
    {
     "name": "stdout",
     "output_type": "stream",
     "text": [
      "📐 주어진 수의 역수:\n",
      "0    0.500\n",
      "1    0.250\n",
      "2    0.125\n",
      "Name: Given Numbers, dtype: float64\n"
     ]
    }
   ],
   "source": [
    "# 코드 예제 2: 📐 그리스 수학에서의 역수 계산 📐\n",
    "# 고대 그리스 수학자들은 비례와 비율에 대한 연구를 통해 여러 수학적 발견을 했습니다.\n",
    "# 이 코드 예제에서는 주어진 수의 역수를 계산하는 과정을 나타내며, \n",
    "# rtruediv 메서드를 사용하여 각 수의 역수를 계산합니다.\n",
    "\n",
    "import pandas as pd\n",
    "\n",
    "# 주어진 수\n",
    "given_numbers = pd.Series([2, 4, 8], name=\"Given Numbers\")\n",
    "\n",
    "# 1을 주어진 수로 나누어 역수 계산\n",
    "reciprocal = 1 / given_numbers\n",
    "\n",
    "print(\"📐 주어진 수의 역수:\")\n",
    "print(reciprocal)"
   ]
  },
  {
   "cell_type": "markdown",
   "id": "82049645-1897-4036-8311-0f8c4861f967",
   "metadata": {},
   "source": [
    "##  pandas.Series.rfloordiv 메서드는\n",
    "- 스칼라 값이나 다른 Series 객체의 요소를 Series 객체의 각 요소로 나눈 후, 그 결과의 바닥값(가장 가까운 작은 정수)을 계산합니다.\n",
    "- 연산 순서는 지정된 값이 Series 객체의 요소보다 먼저 나누어지는 형태로 반대로 적용됩니다."
   ]
  },
  {
   "cell_type": "code",
   "execution_count": 11,
   "id": "a3c74727-5b8a-403a-93bd-a7f9b5411302",
   "metadata": {},
   "outputs": [
    {
     "name": "stdout",
     "output_type": "stream",
     "text": [
      "📏 표준 비율 대비 실제 기둥 높이의 배수:\n",
      "파르테논 신전    0\n",
      "제우스 신전     0\n",
      "Name: Column Heights, dtype: int64\n"
     ]
    }
   ],
   "source": [
    "# 코드 예제 1: 📏 그리스 건축에서의 기둥 높이 비율 📏\n",
    "# 고대 그리스 건축에서는 기둥의 높이가 중요한 역할을 했습니다. \n",
    "# 이 코드 예제에서는 특정 건축 작품에 사용된 기둥의 높이를 나타내는 데이터와 \n",
    "# 그 기둥 높이에 대한 표준 비율을 사용하여, 표준 비율 대비 실제 기둥 높이의 배수를 계산합니다.\n",
    "\n",
    "import pandas as pd\n",
    "\n",
    "# 건축 작품에 사용된 기둥의 높이 (미터)\n",
    "column_heights = pd.Series({\"파르테논 신전\": 10, \"제우스 신전\": 12}, name=\"Column Heights\")\n",
    "\n",
    "# 표준 기둥 높이 비율\n",
    "standard_ratio = 8  # 표준 기둥 높이는 8미터로 가정\n",
    "\n",
    "# 표준 비율 대비 실제 기둥 높이의 배수 계산\n",
    "height_multiple = standard_ratio // column_heights\n",
    "\n",
    "print(\"📏 표준 비율 대비 실제 기둥 높이의 배수:\")\n",
    "print(height_multiple)"
   ]
  },
  {
   "cell_type": "code",
   "execution_count": 12,
   "id": "1d4cd9c9-f693-45b9-be93-4affde755d95",
   "metadata": {},
   "outputs": [
    {
     "name": "stdout",
     "output_type": "stream",
     "text": [
      "🔢 분수 단위 변환 후의 배수:\n",
      "1/2     8.0\n",
      "1/4    16.0\n",
      "Name: Fractions, dtype: float64\n"
     ]
    }
   ],
   "source": [
    "# 코드 예제 2: 🔢 그리스 수학에서의 분수 단위 변환 🔢\n",
    "# 고대 그리스 수학에서는 다양한 분수를 사용하여 계산을 수행했습니다. \n",
    "# 이 코드 예제에서는 특정 분수를 나타내는 데이터와 그 분수를 다른 단위로 변환하는데 필요한 비율을 사용하여, \n",
    "# 변환된 단위의 값의 배수를 계산합니다.\n",
    "\n",
    "import pandas as pd\n",
    "\n",
    "# 특정 분수\n",
    "fractions = pd.Series({\"1/2\": 0.5, \"1/4\": 0.25}, name=\"Fractions\")\n",
    "\n",
    "# 변환 비율 (예: 1/2 분수를 4의 배수로 변환하고자 할 때)\n",
    "conversion_ratio = 4  # 변환 비율로 4를 사용\n",
    "\n",
    "# 변환된 단위의 값의 배수 계산\n",
    "converted_multiples = conversion_ratio // fractions\n",
    "\n",
    "print(\"🔢 분수 단위 변환 후의 배수:\")\n",
    "print(converted_multiples)"
   ]
  },
  {
   "cell_type": "markdown",
   "id": "7025b04e-8875-41a8-81d0-6c0d93a157ca",
   "metadata": {},
   "source": [
    "## pandas.Series.rmod 메서드는\n",
    "- 스칼라 값이나 다른 Series 객체의 요소를 Series 객체의 각 요소로 나눈 후의 나머지를 계산합니다. \n",
    "- 연산 순서는 지정된 값이 Series 객체의 요소보다 먼저 나누어지는 형태로 반대로 적용됩니다."
   ]
  },
  {
   "cell_type": "code",
   "execution_count": 14,
   "id": "bcf872c5-3f97-4b00-986e-00bf7edb2c9d",
   "metadata": {},
   "outputs": [
    {
     "name": "stdout",
     "output_type": "stream",
     "text": [
      "📏 마케도니아 건축 측정 단위의 나머지:\n",
      "길이    5\n",
      "너비    5\n",
      "높이    2\n",
      "Name: Measurement Multiples, dtype: int64\n"
     ]
    }
   ],
   "source": [
    "# 코드 예제 1: 📏 마케도니아의 건축 측정 단위 📏\n",
    "# 마케도니아에서는 건축과 관련된 다양한 측정 단위를 사용했습니다. \n",
    "# 이 코드 예제에서는 건축에 사용된 측정 단위의 배수를 나타내는 데이터와 표준 측정 단위를 사용하여, 표준 단위로 나누었을 때의 나머지를 계산합니다.\n",
    "\n",
    "import pandas as pd\n",
    "\n",
    "# 건축에 사용된 측정 단위의 배수\n",
    "measurement_multiples = pd.Series({\"길이\": 12, \"너비\": 9, \"높이\": 3}, name=\"Measurement Multiples\")\n",
    "\n",
    "# 표준 측정 단위\n",
    "standard_unit = 5  # 모든 측정은 5의 배수로 가정\n",
    "\n",
    "# 표준 단위로 나누었을 때의 나머지 계산\n",
    "remainder = standard_unit % measurement_multiples\n",
    "\n",
    "print(\"📏 마케도니아 건축 측정 단위의 나머지:\")\n",
    "print(remainder)"
   ]
  },
  {
   "cell_type": "code",
   "execution_count": null,
   "id": "bd893905-30ea-4ac5-816c-60d911f18460",
   "metadata": {},
   "outputs": [],
   "source": [
    "# 코드 예제 2: 🔢 마케도니아의 수학 문제 해결 🔢\n",
    "# 마케도니아에서는 다양한 수학적 문제 해결에 나머지 연산을 사용했습니다. \n",
    "# 이 코드 예제에서는 특정 수학 문제를 해결하기 위한 숫자의 배수를 나타내는 데이터와 주어진 수를 사용하여, 주어진 수로 나누었을 때의 나머지를 계산합니다.\n",
    "\n",
    "import pandas as pd\n",
    "\n",
    "# 수학 문제 해결을 위한 숫자의 배수\n",
    "number_multiples = pd.Series({\"숫자1\": 18, \"숫자2\": 24}, name=\"Number Multiples\")\n",
    "\n",
    "# 주어진 수\n",
    "given_number = 7  # 주어진 수로 7을 사용\n",
    "\n",
    "# 주어진 수로 나누었을 때의 나머지 계산\n",
    "problem_remainder = given_number % number_multiples\n",
    "\n",
    "print(\"🔢 마케도니아 수학 문제의 나머지:\")\n",
    "print(problem_remainder)"
   ]
  },
  {
   "cell_type": "markdown",
   "id": "7d292dde-287f-42fa-9d4a-341baf873707",
   "metadata": {},
   "source": [
    "## pandas.Series.rpow 메서드는\n",
    "- Series 객체의 각 요소를 스칼라 값이나 다른 Series 객체의 요소의 거듭제곱으로 사용하는 연산을 수행합니다. \n",
    "- 이 메서드는 연산 순서가 반대로 적용되어, Series 객체의 요소가 지수가 되고, 지정된 값이 밑이 됩니다."
   ]
  },
  {
   "cell_type": "code",
   "execution_count": null,
   "id": "ffb4ef61-fce4-4082-965e-594f638848a3",
   "metadata": {},
   "outputs": [],
   "source": [
    "# 코드 예제 1: 🖌 마케도니아 벽화의 색상 강도 변화 🖌\n",
    "# 마케도니아에서는 벽화 예술이 발달했으며, 색상의 강도와 변화가 중요한 역할을 했습니다. \n",
    "# 이 코드 예제에서는 벽화의 색상 강도를 나타내는 데이터와 색상 강도를 조절하는 데 사용된 계수를 나타내는 데이터를 생성하고, \n",
    "# rpow 메서드를 사용하여 조절된 색상 강도를 계산합니다.\n",
    "\n",
    "import pandas as pd\n",
    "\n",
    "# 벽화 색상의 초기 강도\n",
    "color_intensity = pd.Series({\"빨강\": 2, \"파랑\": 3, \"녹색\": 4}, name=\"Color Intensity\")\n",
    "\n",
    "# 색상 강도를 조절하는 계수\n",
    "adjustment_factor = 2  # 모든 색상 강도를 제곱하여 조절\n",
    "\n",
    "# 조절된 색상 강도 계산\n",
    "adjusted_intensity = adjustment_factor ** color_intensity\n",
    "\n",
    "print(\"🖌 마케도니아 벽화의 조절된 색상 강도:\")\n",
    "print(adjusted_intensity)"
   ]
  },
  {
   "cell_type": "code",
   "execution_count": 15,
   "id": "68f54f1d-f3d4-4434-a3c1-f991f8bdbb80",
   "metadata": {},
   "outputs": [
    {
     "name": "stdout",
     "output_type": "stream",
     "text": [
      "🏺 마케도니아 도자기의 증가된 패턴 복잡성:\n",
      "패턴1     3\n",
      "패턴2     9\n",
      "패턴3    27\n",
      "Name: Pattern Complexity, dtype: int64\n"
     ]
    }
   ],
   "source": [
    "# 코드 예제 2: 🏺 마케도니아 도자기의 패턴 복잡성 🏺\n",
    "# 마케도니아 도자기에는 복잡한 패턴과 디자인이 자주 사용되었습니다. \n",
    "# 이 코드 예제에서는 도자기 패턴의 기본 복잡성을 나타내는 데이터와 패턴 복잡성을 증가시키는 계수를 나타내는 데이터를 생성하고, \n",
    "# rpow 메서드를 사용하여 증가된 패턴 복잡성을 계산합니다.\n",
    "\n",
    "import pandas as pd\n",
    "\n",
    "# 도자기 패턴의 기본 복잡성\n",
    "pattern_complexity = pd.Series({\"패턴1\": 1, \"패턴2\": 2, \"패턴3\": 3}, name=\"Pattern Complexity\")\n",
    "\n",
    "# 패턴 복잡성 증가 계수\n",
    "complexity_factor = 3  # 패턴 복잡성을 3의 거듭제곱으로 증가\n",
    "\n",
    "# 증가된 패턴 복잡성 계산\n",
    "increased_complexity = complexity_factor ** pattern_complexity\n",
    "\n",
    "print(\"🏺 마케도니아 도자기의 증가된 패턴 복잡성:\")\n",
    "print(increased_complexity)"
   ]
  },
  {
   "cell_type": "markdown",
   "id": "72dbce23-f7ff-4dde-bc57-aa8176bc98e8",
   "metadata": {},
   "source": [
    "## pandas.Series.combine 메서드는\n",
    "- 두 Series 객체를 결합하여 새로운 값을 생성할 때 사용합니다.\n",
    "- 이 메서드는 두 Series의 각 요소를 결합하는 데 사용할 함수와, 한쪽 Series에만 존재하는 값에 대한 기본값을 지정할 수 있습니다."
   ]
  },
  {
   "cell_type": "code",
   "execution_count": 16,
   "id": "1717e209-5fed-47d2-a872-ce36e116f0d8",
   "metadata": {},
   "outputs": [
    {
     "name": "stdout",
     "output_type": "stream",
     "text": [
      "🎨 두 벽화 색상의 평균 강도:\n",
      "빨강    75\n",
      "파랑    75\n",
      "녹색    85\n",
      "dtype: int64\n"
     ]
    }
   ],
   "source": [
    "# 코드 예제 1: 🎨 마케도니아 벽화의 색상 혼합 🎨\n",
    "# 마케도니아의 벽화 예술에서는 다양한 색상의 혼합을 통해 뛰어난 표현력을 보여주었습니다. \n",
    "# 이 코드 예제에서는 두 가지 벽화의 색상 강도를 나타내는 데이터를 생성하고, \n",
    "# combine 메서드를 사용하여 두 벽화 색상의 평균 강도를 계산합니다.\n",
    "\n",
    "import pandas as pd\n",
    "\n",
    "# 첫 번째 벽화의 색상 강도\n",
    "color_intensity_1 = pd.Series({\"빨강\": 80, \"파랑\": 60, \"녹색\": 90}, name=\"Color Intensity 1\")\n",
    "\n",
    "# 두 번째 벽화의 색상 강도\n",
    "color_intensity_2 = pd.Series({\"빨강\": 70, \"파랑\": 90, \"녹색\": 80}, name=\"Color Intensity 2\")\n",
    "\n",
    "# 두 벽화 색상의 평균 강도 계산\n",
    "average_intensity = color_intensity_1.combine(color_intensity_2, func=lambda x, y: (x + y) / 2)\n",
    "\n",
    "print(\"🎨 두 벽화 색상의 평균 강도:\")\n",
    "print(average_intensity)"
   ]
  },
  {
   "cell_type": "code",
   "execution_count": 17,
   "id": "9041fe5c-25b6-4295-ac3d-5af354197290",
   "metadata": {},
   "outputs": [
    {
     "name": "stdout",
     "output_type": "stream",
     "text": [
      "🏺 두 도자기 패턴 중 더 복잡한 패턴의 복잡성:\n",
      "패턴 A    6\n",
      "패턴 B    7\n",
      "패턴 C    8\n",
      "dtype: int64\n"
     ]
    }
   ],
   "source": [
    "# 코드 예제 2: 🏺 마케도니아 도자기의 패턴 복잡성 비교 🏺\n",
    "# 마케도니아 도자기에 사용된 패턴은 복잡하고 다양했습니다. \n",
    "# 이 코드 예제에서는 두 가지 도자기 패턴의 복잡성을 나타내는 데이터를 생성하고, \n",
    "# combine 메서드를 사용하여 더 복잡한 패턴의 복잡성을 선택합니다.\n",
    "\n",
    "import pandas as pd\n",
    "\n",
    "# 첫 번째 도자기의 패턴 복잡성\n",
    "pattern_complexity_1 = pd.Series({\"패턴 A\": 5, \"패턴 B\": 7}, name=\"Pattern Complexity 1\")\n",
    "\n",
    "# 두 번째 도자기의 패턴 복잡성\n",
    "pattern_complexity_2 = pd.Series({\"패턴 A\": 6, \"패턴 C\": 8}, name=\"Pattern Complexity 2\")\n",
    "\n",
    "# 더 복잡한 패턴의 복잡성 선택\n",
    "higher_complexity = pattern_complexity_1.combine(pattern_complexity_2, func=max, fill_value=0)\n",
    "\n",
    "print(\"🏺 두 도자기 패턴 중 더 복잡한 패턴의 복잡성:\")\n",
    "print(higher_complexity)"
   ]
  },
  {
   "cell_type": "markdown",
   "id": "be1eff5a-ccea-43ba-bcf4-882369d8c8f0",
   "metadata": {},
   "source": [
    "## pandas.Series.combine_first 메서드는\n",
    "- 한 Series 객체의 누락된 데이터를 다른 Series 객체의 데이터로 채우는 데 사용됩니다. \n",
    "- 주로 두 데이터 소스를 병합할 때 한 소스에서 누락된 데이터를 다른 소스의 데이터로 보완하는 데 활용됩니다."
   ]
  },
  {
   "cell_type": "code",
   "execution_count": 18,
   "id": "1a265d99-4667-4d81-a2bf-29beef593e9d",
   "metadata": {},
   "outputs": [
    {
     "name": "stdout",
     "output_type": "stream",
     "text": [
      "🎨 복원된 마케도니아 벽화 색상 정보:\n",
      "녹색    90.0\n",
      "빨강    70.0\n",
      "파랑    80.0\n",
      "Name: Original Colors, dtype: float64\n"
     ]
    }
   ],
   "source": [
    "# 코드 예제 1: 🎨 마케도니아 벽화 색상 복원 🎨\n",
    "# 마케도니아의 고대 벽화에서 일부 색상 정보가 시간이 지나면서 손상되었습니다. \n",
    "# 이 코드 예제에서는 원본 벽화의 색상 정보와 보존된 색상 정보를 나타내는 데이터를 생성하고, \n",
    "# combine_first 메서드를 사용하여 손상된 부분을 보존된 정보로 복원합니다.\n",
    "\n",
    "import pandas as pd\n",
    "import numpy as np\n",
    "\n",
    "# 원본 벽화의 색상 정보 (손상된 부분은 NaN으로 표시)\n",
    "original_colors = pd.Series({\"빨강\": np.nan, \"파랑\": 80, \"녹색\": np.nan}, name=\"Original Colors\")\n",
    "\n",
    "# 보존된 색상 정보\n",
    "preserved_colors = pd.Series({\"빨강\": 70, \"녹색\": 90}, name=\"Preserved Colors\")\n",
    "\n",
    "# 손상된 부분을 보존된 색상 정보로 복원\n",
    "restored_colors = original_colors.combine_first(preserved_colors)\n",
    "\n",
    "print(\"🎨 복원된 마케도니아 벽화 색상 정보:\")\n",
    "print(restored_colors)"
   ]
  },
  {
   "cell_type": "code",
   "execution_count": 19,
   "id": "71d696d2-de34-468d-aee0-9514121214d2",
   "metadata": {},
   "outputs": [
    {
     "name": "stdout",
     "output_type": "stream",
     "text": [
      "🏺 보완된 마케도니아 도자기 디자인 요소:\n",
      "모양     동물\n",
      "문양    나선형\n",
      "색상    청록색\n",
      "Name: Original Design, dtype: object\n"
     ]
    }
   ],
   "source": [
    "# 코드 예제 2: 🏺 마케도니아 도자기 디자인 요소 보완 🏺\n",
    "# 일부 마케도니아 도자기에서 디자인 요소가 불완전하게 보존되었습니다. \n",
    "# 이 코드 예제에서는 원본 도자기의 디자인 요소와 추가 발굴을 통해 확인된 디자인 요소를 나타내는 데이터를 생성하고, \n",
    "# combine_first 메서드를 사용하여 불완전한 디자인 요소를 보완합니다.\n",
    "\n",
    "import pandas as pd\n",
    "import numpy as np\n",
    "\n",
    "# 원본 도자기의 디자인 요소 (불완전한 부분은 NaN으로 표시)\n",
    "original_design = pd.Series({\"문양\": \"나선형\", \"색상\": np.nan}, name=\"Original Design\")\n",
    "\n",
    "# 추가 발굴을 통해 확인된 디자인 요소\n",
    "additional_discovery = pd.Series({\"색상\": \"청록색\", \"모양\": \"동물\"}, name=\"Additional Discovery\")\n",
    "\n",
    "# 불완전한 디자인 요소를 추가 발굴 정보로 보완\n",
    "complemented_design = original_design.combine_first(additional_discovery)\n",
    "\n",
    "print(\"🏺 보완된 마케도니아 도자기 디자인 요소:\")\n",
    "print(complemented_design)"
   ]
  },
  {
   "cell_type": "markdown",
   "id": "79e84b0f-6eec-42b9-ad77-b1da0a0f9ffe",
   "metadata": {},
   "source": [
    "## pandas.Series.round 메서드는\n",
    "- Series 객체의 각 숫자형 요소를 지정된 소수점 자리에서 반올림합니다. 이 메서드는 데이터를 보다 쉽게 이해하고 분석할 수 있도록 숫자를 단순화하는 데 유용합니다."
   ]
  },
  {
   "cell_type": "code",
   "execution_count": null,
   "id": "2523b152-713e-4e83-827d-98051aa418ef",
   "metadata": {},
   "outputs": [],
   "source": [
    "# 코드 예제 1: 🔭 그리스 천문학에서의 행성 거리 반올림 🔭\n",
    "# 고대 그리스 천문학자들은 태양계 행성들의 거리를 관측하고 기록했습니다. \n",
    "# 이 코드 예제에서는 태양으로부터 각 행성까지의 거리를 나타내는 데이터를 생성하고, \n",
    "# round 메서드를 사용하여 이 거리들을 가장 가까운 백만 킬로미터로 반올림합니다.\n",
    "\n",
    "import pandas as pd\n",
    "\n",
    "# 태양으로부터의 행성들의 거리 (단위: 백만 km)\n",
    "planetary_distances = pd.Series({\"수성\": 57.91, \"금성\": 108.21, \"화성\": 227.94}, name=\"Planetary Distances\")\n",
    "\n",
    "# 가장 가까운 백만 킬로미터로 반올림\n",
    "rounded_distances = planetary_distances.round(-1)\n",
    "\n",
    "print(\"🔭 태양으로부터의 행성 거리 반올림 (단위: 백만 km):\")\n",
    "print(rounded_distances)"
   ]
  },
  {
   "cell_type": "code",
   "execution_count": 20,
   "id": "9b961f0f-065a-4a28-b2dc-af0eb403c213",
   "metadata": {},
   "outputs": [
    {
     "name": "stdout",
     "output_type": "stream",
     "text": [
      "📏 원주율 값의 소수점 둘째 자리까지 반올림:\n",
      "0    3.14\n",
      "1    3.14\n",
      "2    3.14\n",
      "Name: Pi Approximations, dtype: float64\n"
     ]
    }
   ],
   "source": [
    "# 코드 예제 2: 📏 그리스 수학에서의 원주율 값 반올림 📏\n",
    "# 고대 그리스 수학자들은 원주율 π의 값을 다양한 방법으로 계산했습니다. \n",
    "# 이 코드 예제에서는 원주율의 근사값을 나타내는 데이터를 생성하고, \n",
    "# round 메서드를 사용하여 이 값을 소수점 둘째 자리까지 반올림합니다.\n",
    "\n",
    "import pandas as pd\n",
    "\n",
    "# 원주율의 근사값\n",
    "pi_approximations = pd.Series([3.14159, 3.142857, 3.14159265359], name=\"Pi Approximations\")\n",
    "\n",
    "# 소수점 둘째 자리까지 반올림\n",
    "rounded_pi = pi_approximations.round(2)\n",
    "\n",
    "print(\"📏 원주율 값의 소수점 둘째 자리까지 반올림:\")\n",
    "print(rounded_pi)"
   ]
  },
  {
   "cell_type": "markdown",
   "id": "fc5bd3a7-f100-4125-a7a2-8f059738a816",
   "metadata": {},
   "source": [
    "## pandas.Series.lt 메서드는\n",
    "- Series 객체의 각 요소가 다른 Series 객체나 스칼라 값보다 작은지 여부를 비교합니다.\n",
    "- 이 메서드는 \"less than\"의 약자로, 두 값을 비교하여 첫 번째 값이 두 번째 값보다 작을 경우 True, 그렇지 않을 경우 False를 반환합니다."
   ]
  },
  {
   "cell_type": "code",
   "execution_count": 21,
   "id": "9e698ad0-3d17-4224-a786-d678e937080e",
   "metadata": {},
   "outputs": [
    {
     "name": "stdout",
     "output_type": "stream",
     "text": [
      "🔭 지구보다 태양에 더 가까운 행성:\n",
      "수성     True\n",
      "금성     True\n",
      "지구    False\n",
      "화성    False\n",
      "Name: Planetary Distances, dtype: bool\n"
     ]
    }
   ],
   "source": [
    "# 코드 예제 1: 🔭 그리스 천문학에서의 행성 거리 비교 🔭\n",
    "# 고대 그리스 천문학자들은 태양계 행성들의 거리를 관측하고 기록했습니다. \n",
    "# 이 코드 예제에서는 태양으로부터 각 행성까지의 거리를 나타내는 데이터와 지구로부터의 평균 거리를 비교하여, 지구보다 태양에 더 가까운 행성들을 찾습니다.\n",
    "\n",
    "import pandas as pd\n",
    "\n",
    "# 태양으로부터의 행성들의 거리 (단위: 백만 km)\n",
    "planetary_distances = pd.Series({\"수성\": 57.91, \"금성\": 108.21, \"지구\": 149.60, \"화성\": 227.94}, name=\"Planetary Distances\")\n",
    "\n",
    "# 지구로부터의 평균 거리\n",
    "earth_distance = 149.60\n",
    "\n",
    "# 지구보다 태양에 더 가까운 행성 찾기\n",
    "closer_to_sun = planetary_distances.lt(earth_distance)\n",
    "\n",
    "print(\"🔭 지구보다 태양에 더 가까운 행성:\")\n",
    "print(closer_to_sun)"
   ]
  },
  {
   "cell_type": "code",
   "execution_count": 22,
   "id": "a855a823-64b9-4c29-bf83-efaa56b0d78c",
   "metadata": {},
   "outputs": [
    {
     "name": "stdout",
     "output_type": "stream",
     "text": [
      "📐 기준 길이보다 짧은 변을 가진 도형:\n",
      "삼각형     True\n",
      "사각형     True\n",
      "원      False\n",
      "Name: Shape Sides, dtype: bool\n"
     ]
    }
   ],
   "source": [
    "# 코드 예제 2: 📐 그리스 수학에서의 기하학적 비교 📐\n",
    "# 고대 그리스 수학자들은 다양한 기하학적 도형과 그 속성을 연구했습니다. \n",
    "# 이 코드 예제에서는 특정 도형의 변의 길이를 나타내는 데이터와 주어진 기준 길이를 비교하여, 기준 길이보다 짧은 변을 가진 도형을 찾습니다.\n",
    "\n",
    "import pandas as pd\n",
    "\n",
    "# 도형의 변의 길이 (단위: cm)\n",
    "shape_sides = pd.Series({\"삼각형\": 25, \"사각형\": 40, \"원\": 150}, name=\"Shape Sides\")\n",
    "\n",
    "# 주어진 기준 길이\n",
    "standard_length = 50\n",
    "\n",
    "# 기준 길이보다 짧은 변을 가진 도형 찾기\n",
    "shorter_sides = shape_sides.lt(standard_length)\n",
    "\n",
    "print(\"📐 기준 길이보다 짧은 변을 가진 도형:\")\n",
    "print(shorter_sides)"
   ]
  },
  {
   "cell_type": "markdown",
   "id": "e22694fc-ad01-4878-94b6-feaca2f17ccf",
   "metadata": {},
   "source": [
    "## pandas.Series.gt 메서드는\n",
    "- Series 객체의 각 요소가 다른 Series 객체나 스칼라 값보다 큰지 여부를 비교합니다. 이 메서드는 \"greater than\"의 약자로, 두 값을 비교하여 첫 번째 값이 두 번째 값보다 클 경우 True, 그렇지 않을 경우 False를 반환합니다."
   ]
  },
  {
   "cell_type": "code",
   "execution_count": 23,
   "id": "04e02f6e-4dbc-49fd-bf9e-61bb31d8c586",
   "metadata": {},
   "outputs": [
    {
     "name": "stdout",
     "output_type": "stream",
     "text": [
      "🔭 지구보다 긴 궤도 주기를 가진 행성:\n",
      "수성    False\n",
      "금성    False\n",
      "지구    False\n",
      "화성     True\n",
      "Name: Orbital Periods, dtype: bool\n"
     ]
    }
   ],
   "source": [
    "# 코드 예제 1: 🔭 그리스 천문학에서의 행성 궤도 주기 비교 🔭\n",
    "# 고대 그리스 천문학자들은 태양계 행성들의 궤도 주기를 관측하고 기록했습니다. \n",
    "# 이 코드 예제에서는 지구의 궤도 주기와 다른 행성들의 궤도 주기를 나타내는 데이터를 비교하여, 지구보다 긴 궤도 주기를 가진 행성들을 찾습니다.\n",
    "\n",
    "import pandas as pd\n",
    "\n",
    "# 지구를 포함한 행성들의 궤도 주기 (단위: 지구 년)\n",
    "orbital_periods = pd.Series({\"수성\": 0.24, \"금성\": 0.62, \"지구\": 1, \"화성\": 1.88}, name=\"Orbital Periods\")\n",
    "\n",
    "# 지구의 궤도 주기\n",
    "earth_period = 1\n",
    "\n",
    "# 지구보다 긴 궤도 주기를 가진 행성 찾기\n",
    "longer_periods = orbital_periods.gt(earth_period)\n",
    "\n",
    "print(\"🔭 지구보다 긴 궤도 주기를 가진 행성:\")\n",
    "print(longer_periods)"
   ]
  },
  {
   "cell_type": "code",
   "execution_count": 24,
   "id": "9f2a2265-a3b3-4528-b193-dff5da4cabab",
   "metadata": {},
   "outputs": [
    {
     "name": "stdout",
     "output_type": "stream",
     "text": [
      "📐 기준 수보다 큰 기하학적 수:\n",
      "√2    False\n",
      "√3    False\n",
      "√5     True\n",
      "π      True\n",
      "Name: Geometric Numbers, dtype: bool\n"
     ]
    }
   ],
   "source": [
    "# 코드 예제 2: 📐 그리스 수학에서의 기하학적 수 비교 📐\n",
    "# 고대 그리스 수학자들은 다양한 기하학적 수와 그 비율을 연구했습니다. \n",
    "# 이 코드 예제에서는 주어진 기하학적 수를 나타내는 데이터와 고정된 기준 수를 비교하여, 기준 수보다 큰 기하학적 수를 찾습니다.\n",
    "\n",
    "import pandas as pd\n",
    "\n",
    "# 기하학적 수\n",
    "geometric_numbers = pd.Series([1.414, 1.732, 2.236, 3.142], index=[\"√2\", \"√3\", \"√5\", \"π\"], name=\"Geometric Numbers\")\n",
    "\n",
    "# 고정된 기준 수\n",
    "standard_number = 2\n",
    "\n",
    "# 기준 수보다 큰 기하학적 수 찾기\n",
    "greater_numbers = geometric_numbers.gt(standard_number)\n",
    "\n",
    "print(\"📐 기준 수보다 큰 기하학적 수:\")\n",
    "print(greater_numbers)"
   ]
  },
  {
   "cell_type": "markdown",
   "id": "338c8111-d0d5-4058-bb69-d369473634af",
   "metadata": {},
   "source": [
    "## pandas.Series.le 메서드는\n",
    "- Series 객체의 각 요소가 다른 Series 객체나 스칼라 값보다 작거나 같은지 여부를 비교합니다. \n",
    "- 이 메서드는 \"less than or equal to\"의 약자로, 두 값을 비교하여 첫 번째 값이 두 번째 값보다 작거나 같을 경우 True, 그렇지 않을 경우 False를 반환합니다."
   ]
  },
  {
   "cell_type": "code",
   "execution_count": 25,
   "id": "87367061-eaab-4a76-9480-448d65f35b57",
   "metadata": {},
   "outputs": [
    {
     "name": "stdout",
     "output_type": "stream",
     "text": [
      "🌌 장비로 관측 가능한 별자리:\n",
      "오리온        True\n",
      "빅딥         True\n",
      "카시오페이아    False\n",
      "Name: Constellation Brightness, dtype: bool\n"
     ]
    }
   ],
   "source": [
    "# 코드 예제 1: 🌌 아테네 천문학에서의 별자리 관측 🌌\n",
    "# 아테네의 고대 천문학자들은 별자리와 천체의 움직임을 관측하여 기록했습니다. \n",
    "# 이 코드 예제에서는 관측 가능한 별자리의 최대 밝기와 관측 장비의 한계 밝기를 비교하여, 장비로 관측 가능한 별자리들을 찾습니다.\n",
    "\n",
    "import pandas as pd\n",
    "\n",
    "# 관측 가능한 별자리의 최대 밝기 (단위: 등급)\n",
    "constellation_brightness = pd.Series({\"오리온\": 0.4, \"빅딥\": 1.2, \"카시오페이아\": 2.0}, name=\"Constellation Brightness\")\n",
    "\n",
    "# 관측 장비의 한계 밝기 (단위: 등급)\n",
    "equipment_limit = 1.5\n",
    "\n",
    "# 장비로 관측 가능한 별자리 찾기\n",
    "observable_constellations = constellation_brightness.le(equipment_limit)\n",
    "\n",
    "print(\"🌌 장비로 관측 가능한 별자리:\")\n",
    "print(observable_constellations)"
   ]
  },
  {
   "cell_type": "code",
   "execution_count": 26,
   "id": "fc35e632-daf4-42c2-bae2-1e8979022eb2",
   "metadata": {},
   "outputs": [
    {
     "name": "stdout",
     "output_type": "stream",
     "text": [
      "📏 표준보다 짧거나 같은 길이 단위를 가진 구조물:\n",
      "스타디움    False\n",
      "테아트론     True\n",
      "아고라      True\n",
      "Name: Project Lengths, dtype: bool\n"
     ]
    }
   ],
   "source": [
    "# 코드 예제 2: 📏 아테네 수학에서의 길이 단위 비교 📏\n",
    "# 아테네에서는 건축과 수학 계산에 다양한 길이 단위를 사용했습니다. \n",
    "# 이 코드 예제에서는 건축 프로젝트에 사용된 길이 단위와 표준 길이 단위를 비교하여, 표준보다 짧거나 같은 길이 단위를 가진 구조물을 찾습니다.\n",
    "\n",
    "import pandas as pd\n",
    "\n",
    "# 건축 프로젝트에 사용된 길이 단위 (단위: 미터)\n",
    "project_lengths = pd.Series({\"스타디움\": 200, \"테아트론\": 150, \"아고라\": 120}, name=\"Project Lengths\")\n",
    "\n",
    "# 표준 길이 단위 (단위: 미터)\n",
    "standard_length = 180\n",
    "\n",
    "# 표준보다 짧거나 같은 길이 단위를 가진 구조물 찾기\n",
    "within_standard = project_lengths.le(standard_length)\n",
    "\n",
    "print(\"📏 표준보다 짧거나 같은 길이 단위를 가진 구조물:\")\n",
    "print(within_standard)"
   ]
  },
  {
   "cell_type": "markdown",
   "id": "5d2ee516-8807-4417-9d4b-e76dcb506c90",
   "metadata": {},
   "source": [
    "##  pandas.Series.ge 메서드\n",
    "- Series 객체의 각 요소가 다른 Series 객체나 스칼라 값보다 크거나 같은지 여부를 비교합니다. \n",
    "- 이 메서드는 \"greater than or equal to\"의 약자로, 두 값을 비교하여 첫 번째 값이 두 번째 값보다 크거나 같을 경우 True, 그렇지 않을 경우 False를 반환합니다."
   ]
  },
  {
   "cell_type": "code",
   "execution_count": 27,
   "id": "1a7306a2-4f84-48f3-a9e6-de073965acd1",
   "metadata": {},
   "outputs": [
    {
     "name": "stdout",
     "output_type": "stream",
     "text": [
      "🔭 콜로세움보다 크거나 같은 규모의 공학적 업적:\n",
      "콜로세움         True\n",
      "판테온         False\n",
      "카라칼라 목욕탕     True\n",
      "Name: Engineering Achievements, dtype: bool\n"
     ]
    }
   ],
   "source": [
    "# 코드 예제 1: 🔭 로마 시대의 공학적 업적 비교 🔭\n",
    "# 로마는 다양한 공학적 업적으로 유명합니다. 이 코드 예제에서는 로마 시대의 몇 가지 공학적 업적의 규모를 나타내는 데이터와 로마 콜로세움의 규모를 비교하여, 콜로세움보다 크거나 같은 규모의 업적들을 찾습니다.\n",
    "\n",
    "import pandas as pd\n",
    "\n",
    "# 로마 시대의 공학적 업적의 규모 (단위: 미터)\n",
    "engineering_achievements = pd.Series({\"콜로세움\": 48, \"판테온\": 43, \"카라칼라 목욕탕\": 54}, name=\"Engineering Achievements\")\n",
    "\n",
    "# 로마 콜로세움의 규모\n",
    "colosseum_size = 48\n",
    "\n",
    "# 콜로세움보다 크거나 같은 규모의 업적 찾기\n",
    "equal_or_larger = engineering_achievements.ge(colosseum_size)\n",
    "\n",
    "print(\"🔭 콜로세움보다 크거나 같은 규모의 공학적 업적:\")\n",
    "print(equal_or_larger)"
   ]
  },
  {
   "cell_type": "code",
   "execution_count": 29,
   "id": "cafccb25-788c-4b9c-91e6-707f1c9207b0",
   "metadata": {},
   "outputs": [
    {
     "name": "stdout",
     "output_type": "stream",
     "text": [
      "📐 기준 수치보다 크거나 같은 로마 건축 요소:\n",
      "아쿠아듀크 높이     True\n",
      "포럼 너비        True\n",
      "도로 폭        False\n",
      "Name: Roman Numerals, dtype: bool\n"
     ]
    }
   ],
   "source": [
    "# 코드 예제 2: 📐 로마 수학에서의 수치 비교 📐\n",
    "# 로마 시대에는 건축과 공학에서 중요한 수치가 사용되었습니다. \n",
    "# 이 코드 예제에서는 로마 건축에 사용된 몇 가지 중요한 수치와 주어진 기준 수치를 비교하여, 기준 수치보다 크거나 같은 수치를 가진 건축 요소들을 찾습니다.\n",
    "\n",
    "import pandas as pd\n",
    "\n",
    "# 로마 건축에 사용된 중요한 수치\n",
    "roman_numerals = pd.Series({\"아쿠아듀크 높이\": 50, \"포럼 너비\": 80, \"도로 폭\": 10}, name=\"Roman Numerals\")\n",
    "\n",
    "# 주어진 기준 수치\n",
    "standard_number = 30\n",
    "\n",
    "# 기준 수치보다 크거나 같은 건축 요소 찾기\n",
    "equal_or_greater = roman_numerals.ge(standard_number)\n",
    "\n",
    "print(\"📐 기준 수치보다 크거나 같은 로마 건축 요소:\")\n",
    "print(equal_or_greater)"
   ]
  },
  {
   "cell_type": "code",
   "execution_count": null,
   "id": "f6a503b9-6523-4f99-b017-35407fc50c23",
   "metadata": {},
   "outputs": [],
   "source": []
  }
 ],
 "metadata": {
  "kernelspec": {
   "display_name": "Python 3 (ipykernel)",
   "language": "python",
   "name": "python3"
  },
  "language_info": {
   "codemirror_mode": {
    "name": "ipython",
    "version": 3
   },
   "file_extension": ".py",
   "mimetype": "text/x-python",
   "name": "python",
   "nbconvert_exporter": "python",
   "pygments_lexer": "ipython3",
   "version": "3.10.9"
  }
 },
 "nbformat": 4,
 "nbformat_minor": 5
}
