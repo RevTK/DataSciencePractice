{
 "cells": [
  {
   "cell_type": "markdown",
   "id": "7c01896f-c19c-47b5-9f6b-4e50b7639017",
   "metadata": {},
   "source": [
    "# 판다스와 유럽 역사 알기1-10\n",
    "\n",
    "- 10_\n",
    "- https://www.dacon.io/edu/131"
   ]
  },
  {
   "cell_type": "code",
   "execution_count": null,
   "id": "b2a94eab-5c42-44a4-abcf-c22867c4df5a",
   "metadata": {},
   "outputs": [],
   "source": []
  }
 ],
 "metadata": {
  "kernelspec": {
   "display_name": "Python 3 (ipykernel)",
   "language": "python",
   "name": "python3"
  },
  "language_info": {
   "codemirror_mode": {
    "name": "ipython",
    "version": 3
   },
   "file_extension": ".py",
   "mimetype": "text/x-python",
   "name": "python",
   "nbconvert_exporter": "python",
   "pygments_lexer": "ipython3",
   "version": "3.10.9"
  }
 },
 "nbformat": 4,
 "nbformat_minor": 5
}
