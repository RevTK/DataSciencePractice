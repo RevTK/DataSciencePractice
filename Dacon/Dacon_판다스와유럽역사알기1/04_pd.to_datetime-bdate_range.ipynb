{
 "cells": [
  {
   "cell_type": "markdown",
   "id": "36ba22aa-c0f1-4859-9a5e-5470f60e844b",
   "metadata": {},
   "source": [
    "# 판다스와 유럽 역사 알기1-4\n",
    "\n",
    "- 04_날짜_시간\n",
    "- https://www.dacon.io/edu/131"
   ]
  },
  {
   "cell_type": "code",
   "execution_count": 3,
   "id": "9547804f-06ca-4eec-a41b-884f654754d2",
   "metadata": {},
   "outputs": [
    {
     "name": "stdout",
     "output_type": "stream",
     "text": [
      "     이벤트     연도    장소\n",
      "0   True   True  True\n",
      "1   True  False  True\n",
      "2  False   True  True\n",
      "3   True   True  True\n"
     ]
    }
   ],
   "source": [
    "# 예제1 중세 역사적 이벤트에서 누락되지 않은 값 확인하기\n",
    "\n",
    "import pandas as pd\n",
    "\n",
    "# 샘플 데이터 생성\n",
    "data = {\n",
    "    '이벤트': ['십자군 전쟁', '백성의 군대', None, '노르만 정복'],\n",
    "    '연도': [1096, None, 1066, 1090],\n",
    "    '장소': ['중동', '유럽', '영국', '이탈리아']\n",
    "}\n",
    "\n",
    "df = pd.DataFrame(data)\n",
    "\n",
    "# 누락되지 않은 값 확인\n",
    "not_missing = pd.notna(df)\n",
    "\n",
    "print(not_missing)"
   ]
  },
  {
   "cell_type": "code",
   "execution_count": 4,
   "id": "ba537323-ba11-4a6b-91b6-5a71edc5e9c4",
   "metadata": {},
   "outputs": [
    {
     "name": "stdout",
     "output_type": "stream",
     "text": [
      "     인물   생년월일\n",
      "0  True   True\n",
      "1  True  False\n",
      "2  True   True\n"
     ]
    }
   ],
   "source": [
    "# 예제2 중세 역사적 인물의 생년월일을 숫자로 변환하기\n",
    "\n",
    "import pandas as pd\n",
    "\n",
    "# 샘플 데이터 생성\n",
    "data = {\n",
    "    '인물': ['윌리엄 1세', '리처드 1세', '헨리 2세'],\n",
    "    '생년월일': ['1028', None, '1133']\n",
    "}\n",
    "\n",
    "df = pd.DataFrame(data)\n",
    "\n",
    "# 누락되지 않은 값 확인\n",
    "not_missing = pd.notna(df)\n",
    "\n",
    "print(not_missing)"
   ]
  },
  {
   "cell_type": "code",
   "execution_count": 5,
   "id": "3ab912dc-17a2-415f-b243-55fb4770d661",
   "metadata": {},
   "outputs": [
    {
     "name": "stdout",
     "output_type": "stream",
     "text": [
      "    이벤트     장소\n",
      "0  True   True\n",
      "1  True   True\n",
      "2  True  False\n",
      "3  True   True\n"
     ]
    }
   ],
   "source": [
    "# 예제3 중세 역사적 이벤트의 장소 정보가 누락되지 않은 값 확인하기\n",
    "\n",
    "import pandas as pd\n",
    "\n",
    "# 샘플 데이터 생성\n",
    "data = {\n",
    "    '이벤트': ['마그나 카르타', '영겁의 전쟁', '첼시 대회', '카스틸라 수호전'],\n",
    "    '장소': ['영국', '미국', None, '스페인']\n",
    "}\n",
    "\n",
    "df = pd.DataFrame(data)\n",
    "\n",
    "# 누락되지 않은 값 확인\n",
    "not_missing = pd.notna(df)\n",
    "\n",
    "print(not_missing)"
   ]
  },
  {
   "cell_type": "code",
   "execution_count": 6,
   "id": "90c02fa7-68c8-487f-8780-69220806bdb1",
   "metadata": {},
   "outputs": [
    {
     "name": "stdout",
     "output_type": "stream",
     "text": [
      "    이벤트    참여자\n",
      "0  True   True\n",
      "1  True  False\n",
      "2  True   True\n"
     ]
    }
   ],
   "source": [
    "# 예제4 중세 역사적 이벤트에서 참여자 정보가 누락되지 않은 값 확인하기\n",
    "\n",
    "import pandas as pd\n",
    "\n",
    "# 샘플 데이터 생성\n",
    "data = {\n",
    "    '이벤트': ['윌리엄 정복', '리처드 1세 사자왕', '백성의 군대'],\n",
    "    '참여자': ['노르만 인', None, '영국 백성']\n",
    "}\n",
    "\n",
    "df = pd.DataFrame(data)\n",
    "\n",
    "# 누락되지 않은 값 확인\n",
    "not_missing = pd.notna(df)\n",
    "\n",
    "print(not_missing)"
   ]
  },
  {
   "cell_type": "markdown",
   "id": "e602800f-35f7-4ac8-ab1d-558de6c9a931",
   "metadata": {},
   "source": [
    "## pandas.to_datetime\n",
    "- pandas의 to_datetime 함수를 사용할 때, 기본적으로 날짜와 시간은 나노초 정밀도로 처리됩니다.\n",
    "- 1066년 같은 과거의 날짜는 pandas의 시간 범위를 벗어납니다. \n",
    "- pandas는 일반적으로 1677년부터 2262년 사이의 날짜만 지원합니다."
   ]
  },
  {
   "cell_type": "code",
   "execution_count": 9,
   "id": "eae120c8-6125-4434-a0f3-6b4229b47279",
   "metadata": {},
   "outputs": [
    {
     "name": "stdout",
     "output_type": "stream",
     "text": [
      "       이벤트         날짜\n",
      "0   윌리엄 정복 1966-09-25\n",
      "1  마그나 카르타 1915-06-15\n",
      "2    첼시 대회 1981-06-12\n",
      "       이벤트          날짜\n",
      "0   윌리엄 정복  1066-09-25\n",
      "1  마그나 카르타  1215-06-15\n",
      "2    첼시 대회  1381-06-12\n"
     ]
    }
   ],
   "source": [
    "# 예제1 중세 역사적 이벤트의 날짜를 datetime 형식으로 변환하기\n",
    "\n",
    "import pandas as pd\n",
    "\n",
    "# 샘플 데이터 생성\n",
    "data = {\n",
    "    '이벤트': ['윌리엄 정복', '마그나 카르타', '첼시 대회'],\n",
    "    '날짜': ['1966-09-25', '1915-06-15', '1981-06-12'] #실제 '날짜': ['1066-09-25', '1215-06-15', '1381-06-12']\n",
    "}\n",
    "\n",
    "df = pd.DataFrame(data)\n",
    "\n",
    "df['날짜'] = pd.to_datetime(df['날짜'], yearfirst=True)\n",
    "print(df)\n",
    "\n",
    "# 샘플 데이터 생성\n",
    "data = {\n",
    "    '이벤트': ['윌리엄 정복', '마그나 카르타', '첼시 대회'],\n",
    "    '날짜': ['1066-09-25', '1215-06-15', '1381-06-12']\n",
    "}\n",
    "\n",
    "df = pd.DataFrame(data)\n",
    "\n",
    "# 날짜를 object 타입으로 유지\n",
    "df['날짜'] = df['날짜'].astype('object')\n",
    "\n",
    "print(df)"
   ]
  },
  {
   "cell_type": "code",
   "execution_count": 10,
   "id": "97ed5ffe-a0d8-42aa-9a45-669007bba87a",
   "metadata": {},
   "outputs": [
    {
     "name": "stdout",
     "output_type": "stream",
     "text": [
      "       인물       생년월일\n",
      "0  윌리엄 1세 1928-07-03\n",
      "1  리처드 1세 1957-09-08\n",
      "2   헨리 2세 1933-10-01\n"
     ]
    }
   ],
   "source": [
    "# 예제2 중세 역사적 인물의 생년월일을 datetime 형식으로 변환하기\n",
    "\n",
    "import pandas as pd\n",
    "\n",
    "# 샘플 데이터 생성\n",
    "data = {\n",
    "    '인물': ['윌리엄 1세', '리처드 1세', '헨리 2세'],\n",
    "    '생년월일': ['1928-07-03', '1957-09-08', '1933-10-01'] #'생년월일': ['1028-07-03', '1157-09-08', '1133-10-01']\n",
    "}\n",
    "\n",
    "df = pd.DataFrame(data)\n",
    "\n",
    "# 생년월일을 datetime 형식으로 변환\n",
    "df['생년월일'] = pd.to_datetime(df['생년월일'])\n",
    "\n",
    "print(df)"
   ]
  },
  {
   "cell_type": "code",
   "execution_count": 11,
   "id": "9e4d0d13-fa96-4367-93ab-2ee4c4a8d9a1",
   "metadata": {},
   "outputs": [
    {
     "name": "stdout",
     "output_type": "stream",
     "text": [
      "       이벤트        종료일\n",
      "0   십자군 전쟁 1999-07-15\n",
      "1   영겁의 전쟁 1970-08-25\n",
      "2  마그나 카르타 1915-06-19\n"
     ]
    }
   ],
   "source": [
    "# 예제3 중세 역사적 이벤트의 종료일을 datetime 형식으로 변환하기\n",
    "\n",
    "import pandas as pd\n",
    "\n",
    "# 샘플 데이터 생성\n",
    "data = {\n",
    "    '이벤트': ['십자군 전쟁', '영겁의 전쟁', '마그나 카르타'],\n",
    "    '종료일': ['1999-07-15', '1970-08-25', '1915-06-19'] #['1099-07-15', '1270-08-25', '1215-06-19']\n",
    "}\n",
    "\n",
    "df = pd.DataFrame(data)\n",
    "\n",
    "# 종료일을 datetime 형식으로 변환\n",
    "df['종료일'] = pd.to_datetime(df['종료일'])\n",
    "\n",
    "print(df)"
   ]
  },
  {
   "cell_type": "code",
   "execution_count": 12,
   "id": "c3a74285-5198-4d53-b80b-c99519dbc7f3",
   "metadata": {},
   "outputs": [
    {
     "name": "stdout",
     "output_type": "stream",
     "text": [
      "       이벤트        시작일\n",
      "0   백성의 군대 1966-01-05\n",
      "1   노르만 정복 1966-10-14\n",
      "2  크리티아 왕조 1912-09-03\n"
     ]
    }
   ],
   "source": [
    "# 예제4 역사적 이벤트의 시작일을 datetime 형식으로 변환하기\n",
    "\n",
    "import pandas as pd\n",
    "\n",
    "# 샘플 데이터 생성\n",
    "data = {\n",
    "    '이벤트': ['백성의 군대', '노르만 정복', '크리티아 왕조'],\n",
    "    '시작일': ['1966-01-05', '1966-10-14', '1912-09-03'] # '시작일': ['1066-01-05', '1066-10-14', '1212-09-03']\n",
    "}\n",
    "\n",
    "df = pd.DataFrame(data)\n",
    "\n",
    "# 시작일을 datetime 형식으로 변환\n",
    "df['시작일'] = pd.to_datetime(df['시작일'])\n",
    "\n",
    "print(df)"
   ]
  },
  {
   "cell_type": "markdown",
   "id": "c7644f4d-7dbf-4e7d-b67c-2bdfa460a190",
   "metadata": {},
   "source": [
    "## pandas.to_timedelta"
   ]
  },
  {
   "cell_type": "code",
   "execution_count": 14,
   "id": "fcb1c8d4-cbbb-4238-9716-a736e324e5b4",
   "metadata": {},
   "outputs": [
    {
     "name": "stdout",
     "output_type": "stream",
     "text": [
      "1953-11-29 00:00:00\n",
      "1999-05-12 00:00:00\n",
      "1999-05-08 00:00:00\n",
      "1947-01-05 00:00:00\n"
     ]
    }
   ],
   "source": [
    "# 1. 단일 값 변환\n",
    "pd.to_timedelta('1 days')\n",
    "\n",
    "# 2. 리스트 벼환\n",
    "pd.to_timedelta(['1 days', '2 hours', '30 minutes'])\n",
    "\n",
    "# 3. Series 변환\n",
    "pd.to_timedelta(pd.Series(['1 days', '2 hours', '3 minutes']))\n",
    "\n",
    "# 4. 오류 처리 🚫\n",
    "pd.to_timedelta('30 minutes', errors='coerce')\n",
    "\n",
    "# 5. 성당 건설 시간 ⛪\n",
    "# 1248년 쾰른 대성당 건설 시작\n",
    "start_date = pd.Timestamp('1948-08-15') #실제 년도 ('1248-08-15')\n",
    "# 건설에 걸린 시간을 타임델타로 변환\n",
    "construction_duration = pd.to_timedelta('1932 day')\n",
    "# 완공 날짜 계산\n",
    "completion_date = start_date + construction_duration\n",
    "print(completion_date)\n",
    "\n",
    "# 6. 십자군 원정 기간 🛡️\n",
    "# 첫 번째 십자군 원정 시작\n",
    "first_crusade_start = pd.Timestamp('1996-08-15') #실제 년도 ('1096-08-15')\n",
    "# 원정 기간을 타임델타로 변환\n",
    "crusade_duration = pd.to_timedelta('1000 day') # ('3 years')\n",
    "# 원정 종료 날짜 계산\n",
    "crusade_end = first_crusade_start + crusade_duration\n",
    "print(crusade_end)\n",
    "\n",
    "# 7. 중세 시장 개최 기간 🏰\n",
    "# 시장 개최 시작 날짜\n",
    "market_start = pd.Timestamp('1999-05-01') #('1400-05-01')\n",
    "# 시장 개최 기간을 타임델타로 변환\n",
    "market_duration = pd.to_timedelta('7 days')\n",
    "# 시장 종료 날짜 계산\n",
    "market_end = market_start + market_duration\n",
    "print(market_end)\n",
    "\n",
    "# 8. 흑사병 확산 기간 🦠\n",
    "# 흑사병 유럽 도착 연도\n",
    "plague_arrival = pd.Timestamp('1947-01-01') ## ('1347-01-01')\n",
    "# 흑사병 확산 기간을 타임델타로 변환\n",
    "plague_spread_duration = pd.to_timedelta('4 day')  # ('4 years')\n",
    "# 흑사병 확산 종료 연도 계산\n",
    "plague_end = plague_arrival + plague_spread_duration\n",
    "print(plague_end)"
   ]
  },
  {
   "cell_type": "markdown",
   "id": "295e1478-1aa6-477b-befb-94647d896b52",
   "metadata": {},
   "source": [
    "## pandas.date_range\n",
    "\n",
    "- 특정한 주기에 따라 날짜 범위를 생성하는 데 사용됩니다. \n",
    "- 이 함수는 시계열 데이터를 작업할 때 특히 유용합니다."
   ]
  },
  {
   "cell_type": "code",
   "execution_count": 15,
   "id": "48bc4fa7-d3ac-46b0-9c4f-4101927a5e6c",
   "metadata": {},
   "outputs": [
    {
     "name": "stdout",
     "output_type": "stream",
     "text": [
      "DatetimeIndex(['1915-06-15', '1915-06-16', '1915-06-17', '1915-06-18',\n",
      "               '1915-06-19', '1915-06-20', '1915-06-21'],\n",
      "              dtype='datetime64[ns]', freq='D')\n",
      "DatetimeIndex(['1900-01-01', '1900-01-02', '1900-01-03', '1900-01-04',\n",
      "               '1900-01-05', '1900-01-06', '1900-01-07', '1900-01-08',\n",
      "               '1900-01-09', '1900-01-10', '1900-01-11', '1900-01-12',\n",
      "               '1900-01-13', '1900-01-14', '1900-01-15', '1900-01-16',\n",
      "               '1900-01-17', '1900-01-18', '1900-01-19', '1900-01-20',\n",
      "               '1900-01-21', '1900-01-22', '1900-01-23', '1900-01-24',\n",
      "               '1900-01-25', '1900-01-26', '1900-01-27', '1900-01-28',\n",
      "               '1900-01-29', '1900-01-30'],\n",
      "              dtype='datetime64[ns]', freq='D')\n",
      "DatetimeIndex(['1937-07-24', '1937-07-25', '1937-07-26', '1937-07-27',\n",
      "               '1937-07-28', '1937-07-29', '1937-07-30'],\n",
      "              dtype='datetime64[ns]', freq='D')\n",
      "DatetimeIndex(['1946-08-26'], dtype='datetime64[ns]', freq='D')\n"
     ]
    }
   ],
   "source": [
    "# 1. 일별 날짜 범위 생성 📆\n",
    "pd.date_range(start='1900-01-01', end='1900-01-10', freq='D') #start='1300-01-01', end='1300-01-10'\n",
    "\n",
    "# 2. 월별 날짜 범위 생성 🗓️\n",
    "pd.date_range(start='1900-01-01', periods=6, freq='M') #start='1400-01-01'\n",
    "\n",
    "# 3. 주별 날짜 범위 생성 📅\n",
    "pd.date_range(start='1900-01-01', periods=4, freq='W') #start='1200-01-01',\n",
    "\n",
    "# 4. 시간별 날짜 범위 생성 🕒\n",
    "pd.date_range(start='1950-01-01', periods=24, freq='H') #start='1450-01-01'\n",
    "\n",
    "# 중세 역사 스토리텔링 예제\n",
    "# 5. 매그나 카르타 서명 주 📜\n",
    "# 매그나 카르타 서명 날짜\n",
    "signing_date = '1915-06-15' #'1215-06-15'\n",
    "# 서명 주의 날짜 범위 생성\n",
    "magna_carta_week = pd.date_range(start=signing_date, periods=7, freq='D')\n",
    "print(magna_carta_week)\n",
    "\n",
    "# 6. 플로렌스 르네상스 시작 월 🎨\n",
    "# 르네상스 시작 연도\n",
    "renaissance_start = '1900-01-01' #실제 '1400-01-01'\n",
    "# 시작 월의 날짜 범위 생성\n",
    "renaissance_month = pd.date_range(start=renaissance_start, periods=30, freq='D')\n",
    "print(renaissance_month)\n",
    "\n",
    "# 7. 백년 전쟁 시작 주 ⚔️\n",
    "# 백년 전쟁 시작 날짜\n",
    "war_start = '1937-07-24' #'1337-07-24' \n",
    "# 시작 주의 날짜 범위 생성\n",
    "hundred_years_war_week = pd.date_range(start=war_start, periods=7, freq='D')\n",
    "print(hundred_years_war_week)\n",
    "\n",
    "# 8. 크레시 전투 일 🏹\n",
    "# 크레시 전투 날짜\n",
    "crecy_battle_date = '1946-08-26' #'1346-08-26'\n",
    "# 전투 날의 날짜 범위 생성\n",
    "crecy_battle_day = pd.date_range(start=crecy_battle_date, periods=1, freq='D')\n",
    "print(crecy_battle_day)"
   ]
  },
  {
   "cell_type": "code",
   "execution_count": 16,
   "id": "75086ee7-7ca8-4c2e-a09e-dcc4967cd62c",
   "metadata": {},
   "outputs": [
    {
     "name": "stdout",
     "output_type": "stream",
     "text": [
      "DatetimeIndex(['1815-06-15', '1815-06-16', '1815-06-17', '1815-06-18',\n",
      "               '1815-06-19', '1815-06-20', '1815-06-21'],\n",
      "              dtype='datetime64[ns]', freq='D')\n",
      "DatetimeIndex(['1900-01-01', '1900-01-02', '1900-01-03', '1900-01-04',\n",
      "               '1900-01-05', '1900-01-06', '1900-01-07', '1900-01-08',\n",
      "               '1900-01-09', '1900-01-10', '1900-01-11', '1900-01-12',\n",
      "               '1900-01-13', '1900-01-14', '1900-01-15', '1900-01-16',\n",
      "               '1900-01-17', '1900-01-18', '1900-01-19', '1900-01-20',\n",
      "               '1900-01-21', '1900-01-22', '1900-01-23', '1900-01-24',\n",
      "               '1900-01-25', '1900-01-26', '1900-01-27', '1900-01-28',\n",
      "               '1900-01-29', '1900-01-30'],\n",
      "              dtype='datetime64[ns]', freq='D')\n",
      "DatetimeIndex(['1937-07-24', '1937-07-25', '1937-07-26', '1937-07-27',\n",
      "               '1937-07-28', '1937-07-29', '1937-07-30'],\n",
      "              dtype='datetime64[ns]', freq='D')\n"
     ]
    }
   ],
   "source": [
    "# 1. 마그나 카르타 서명 주간 📜\n",
    "# 마그나 카르타 서명 날짜\n",
    "서명일 = '1815-06-15' #실제 '1215-06-15'\n",
    "# 서명 주간 날짜 생성\n",
    "서명_주간 = pd.date_range(start=서명일, periods=7, freq='D')\n",
    "print(서명_주간)\n",
    "\n",
    "# 2. 플로렌스 르네상스 시작 달 🎨\n",
    "# 르네상스 시작 날짜\n",
    "시작일 = '1900-01-01'  #실제 '1400-01-01\n",
    "# 시작 달 날짜 생성\n",
    "시작_달 = pd.date_range(start=시작일, periods=30, freq='D')\n",
    "print(시작_달)\n",
    "\n",
    "# 3. 백년 전쟁 시작 주간 ⚔️\n",
    "# 백년 전쟁 시작 날짜\n",
    "시작일 = '1937-07-24'   #실제 '1337-07-24'\n",
    "# 시작 주간 날짜 생성\n",
    "시작_주간 = pd.date_range(start=시작일, periods=7, freq='D')\n",
    "print(시작_주간)"
   ]
  },
  {
   "cell_type": "markdown",
   "id": "40340609-ffd8-4506-8365-f9ac0f313cb2",
   "metadata": {},
   "source": [
    "## pandas.bdate_range 예제"
   ]
  },
  {
   "cell_type": "code",
   "execution_count": 17,
   "id": "9a6a6864-28ba-4e4c-ba0a-b3ade98fce4d",
   "metadata": {},
   "outputs": [
    {
     "name": "stdout",
     "output_type": "stream",
     "text": [
      "DatetimeIndex(['1900-01-01', '1900-01-02', '1900-01-03', '1900-01-04',\n",
      "               '1900-01-05', '1900-01-08', '1900-01-09', '1900-01-10'],\n",
      "              dtype='datetime64[ns]', freq='B')\n",
      "DatetimeIndex(['1900-01-01', '1900-01-02', '1900-01-03', '1900-01-04',\n",
      "               '1900-01-05'],\n",
      "              dtype='datetime64[ns]', freq='B')\n",
      "DatetimeIndex(['1900-01-01', '1900-01-02', '1900-01-03', '1900-01-04',\n",
      "               '1900-01-05', '1900-01-08', '1900-01-09', '1900-01-10',\n",
      "               '1900-01-11', '1900-01-12', '1900-01-15', '1900-01-16',\n",
      "               '1900-01-17', '1900-01-18', '1900-01-19', '1900-01-22',\n",
      "               '1900-01-23', '1900-01-24', '1900-01-25', '1900-01-26',\n",
      "               '1900-01-29', '1900-01-30', '1900-01-31'],\n",
      "              dtype='datetime64[ns]', freq='C')\n",
      "['1900-01-01', '1900-01-02']\n",
      "DatetimeIndex(['1955-05-23', '1955-05-24', '1955-05-25', '1955-05-26',\n",
      "               '1955-05-27', '1955-05-30', '1955-05-31'],\n",
      "              dtype='datetime64[ns]', freq='B')\n",
      "DatetimeIndex(['1900-04-02', '1900-04-03', '1900-04-04', '1900-04-05',\n",
      "               '1900-04-06'],\n",
      "              dtype='datetime64[ns]', freq='B')\n",
      "DatetimeIndex(['1934-03-01', '1934-03-02', '1934-03-05', '1934-03-06',\n",
      "               '1934-03-07'],\n",
      "              dtype='datetime64[ns]', freq='B')\n",
      "DatetimeIndex(['1800-01-01', '1800-01-02', '1800-01-03', '1800-01-06',\n",
      "               '1800-01-07'],\n",
      "              dtype='datetime64[ns]', freq='B')\n"
     ]
    }
   ],
   "source": [
    "# 1. 평일 날짜 생성하기 🏢\n",
    "week_day1 = pd.bdate_range(start='1900-01-01', end='1900-01-10') #(start='1300-01-01', end='1300-01-10')\n",
    "print(week_day1)\n",
    "\n",
    "# 2. 특정 기간의 평일 생성하기 📅\n",
    "week_day2 = pd.bdate_range(start='1900-01-01', periods=5) #(start='1400-01-01', periods=5)\n",
    "print(week_day2)\n",
    "\n",
    "# 3. 주말 제외하고 날짜 생성하기 🚫🏖️\n",
    "week_day3 = custom_bdate_range = pd.bdate_range(start='1900-01-01', end='1900-01-31', weekmask='Mon Tue Wed Thu Fri', freq='C') #(start='1200-01-01', end='1200-01-31'\n",
    "print(week_day3)\n",
    "\n",
    "# 4. 특정 휴일 제외하고 날짜 생성하기 🚫🎉\n",
    "week_day4 = holidays = ['1900-01-01', '1900-01-02'] #['1200-01-01', '1200-01-02']\n",
    "pd.bdate_range(start='1900-01-01', end='1900-01-10', holidays=holidays, freq='C') #(start='1200-01-01', end='1200-01-10'\n",
    "print(week_day4)\n",
    "\n",
    "# 5. 장미전쟁 평일 기록 🌹\n",
    "# 장미전쟁 시작 날짜\n",
    "전쟁_시작일 = '1955-05-22' #'1455-05-22'\n",
    "# 평일 기록 생성\n",
    "장미전쟁_평일 = pd.bdate_range(start=전쟁_시작일, periods=7)\n",
    "print(장미전쟁_평일)\n",
    "\n",
    "# 6. 빈센조 벨리니의 베니스 평일 🎨\n",
    "# 벨리니의 활동 기간 중 한 주\n",
    "활동_시작일 = '1900-04-01' #'1500-04-01'\n",
    "# 평일 기록 생성\n",
    "벨리니_평일 = pd.bdate_range(start=활동_시작일, periods=5)\n",
    "print(벨리니_평일)\n",
    "\n",
    "# 7. 메디치 가문의 피렌체 평일 🏛️\n",
    "# 메디치 가문의 활동 기간 중 한 주\n",
    "메디치_시작일 = '1934-03-01' #'1434-03-01'\n",
    "# 평일 기록 생성\n",
    "메디치_평일 = pd.bdate_range(start=메디치_시작일, periods=5)\n",
    "print(메디치_평일)\n",
    "\n",
    "# 8. 카를 대제의 평일 👑\n",
    "# 카를 대제의 통치 기간 중 한 주\n",
    "통치_시작일 = '1800-01-01' #'800-01-01'\n",
    "# 평일 기록 생성\n",
    "카를대제_평일 = pd.bdate_range(start=통치_시작일, periods=5)\n",
    "print(카를대제_평일)"
   ]
  },
  {
   "cell_type": "code",
   "execution_count": null,
   "id": "561670eb-985c-4fc9-9cf6-c3592b38b649",
   "metadata": {},
   "outputs": [],
   "source": []
  }
 ],
 "metadata": {
  "kernelspec": {
   "display_name": "Python 3 (ipykernel)",
   "language": "python",
   "name": "python3"
  },
  "language_info": {
   "codemirror_mode": {
    "name": "ipython",
    "version": 3
   },
   "file_extension": ".py",
   "mimetype": "text/x-python",
   "name": "python",
   "nbconvert_exporter": "python",
   "pygments_lexer": "ipython3",
   "version": "3.10.9"
  }
 },
 "nbformat": 4,
 "nbformat_minor": 5
}
