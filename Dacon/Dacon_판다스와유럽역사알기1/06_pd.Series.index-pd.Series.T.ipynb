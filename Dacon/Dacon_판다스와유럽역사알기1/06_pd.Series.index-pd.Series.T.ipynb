{
 "cells": [
  {
   "cell_type": "markdown",
   "id": "148330f8-1268-4879-9524-4f8ddbcaf775",
   "metadata": {},
   "source": [
    "# 판다스와 유럽 역사 알기1-6\n",
    "\n",
    "- 06_\n",
    "- https://www.dacon.io/edu/131"
   ]
  },
  {
   "cell_type": "markdown",
   "id": "13555f32-674f-4db2-aef7-6cfa33ac7dbf",
   "metadata": {},
   "source": [
    "## pandas.Series\n",
    "- 일련의 데이터를 1차원 배열로 나타내는 pandas의 기본 데이터 구조입니다. \n",
    "- 각 데이터 항목은 고유한 인덱스에 연결됩니다."
   ]
  },
  {
   "cell_type": "code",
   "execution_count": 1,
   "id": "891ecdc5-3b11-40b1-816e-e08a140704f5",
   "metadata": {},
   "outputs": [
    {
     "name": "stdout",
     "output_type": "stream",
     "text": [
      "Vasco da Gama                              India\n",
      "Christopher Columbus                    Americas\n",
      "Ferdinand Magellan      Circumnavigate the Earth\n",
      "Name: Discoveries, dtype: object\n"
     ]
    }
   ],
   "source": [
    "# 1. 탐험가와 발견: 대항해 시대 탐험가들과 그들의 주요 발견\n",
    "\n",
    "import pandas as pd\n",
    "\n",
    "# 탐험가와 그들의 발견\n",
    "explorers_discoveries = pd.Series(\n",
    "    data=['India', 'Americas', 'Circumnavigate the Earth'],\n",
    "    index=['Vasco da Gama', 'Christopher Columbus', 'Ferdinand Magellan'],\n",
    "    name='Discoveries'\n",
    ")\n",
    "\n",
    "print(explorers_discoveries)"
   ]
  },
  {
   "cell_type": "code",
   "execution_count": 2,
   "id": "948fe825-9a3d-47ec-bd4b-cf64a8f4678e",
   "metadata": {},
   "outputs": [
    {
     "name": "stdout",
     "output_type": "stream",
     "text": [
      "Spices    100\n",
      "Silk      200\n",
      "Gold      300\n",
      "Name: Prices, dtype: int64\n"
     ]
    }
   ],
   "source": [
    "# 2. 📦 교역품 가격: 대항해 시대 교역품과 그 가격\n",
    "import pandas as pd\n",
    "\n",
    "# 교역품과 가격\n",
    "trade_goods_prices = pd.Series(\n",
    "    {'Spices': 100, 'Silk': 200, 'Gold': 300},\n",
    "    name='Prices'\n",
    ")\n",
    "\n",
    "print(trade_goods_prices)"
   ]
  },
  {
   "cell_type": "code",
   "execution_count": 3,
   "id": "d1a5653c-58cf-4bad-b360-6918dd460e2e",
   "metadata": {},
   "outputs": [
    {
     "name": "stdout",
     "output_type": "stream",
     "text": [
      "Battle of Diu          Victory\n",
      "Battle of Preveza       Defeat\n",
      "Battle of Lepanto    Stalemate\n",
      "dtype: category\n",
      "Categories (3, object): ['Defeat', 'Stalemate', 'Victory']\n"
     ]
    }
   ],
   "source": [
    "# 전투 결과: 대항해 시대 주요 전투의 결과\n",
    "import pandas as pd\n",
    "\n",
    "# 전투 결과\n",
    "battle_outcomes = pd.Series(\n",
    "    ['Victory', 'Defeat', 'Stalemate'],\n",
    "    index=['Battle of Diu', 'Battle of Preveza', 'Battle of Lepanto'],\n",
    "    dtype='category'\n",
    ")\n",
    "\n",
    "print(battle_outcomes)"
   ]
  },
  {
   "cell_type": "markdown",
   "id": "bfcfc433-d0fb-4029-83e5-07568e15e3fc",
   "metadata": {},
   "source": [
    "## Series.index 속성\n",
    "- pandas Series의 인덱스를 반환합니다.\n",
    "- 이 인덱스는 Series의 각 데이터 항목을 고유하게 식별하는 라벨 역할을 합니다."
   ]
  },
  {
   "cell_type": "code",
   "execution_count": 4,
   "id": "ddd463bb-eca2-4318-96eb-d3653b112de3",
   "metadata": {},
   "outputs": [
    {
     "name": "stdout",
     "output_type": "stream",
     "text": [
      "탐험가 인덱스:\n",
      " Index(['Vasco da Gama', 'Christopher Columbus', 'Ferdinand Magellan'], dtype='object')\n"
     ]
    }
   ],
   "source": [
    "# 1. 탐험가의 발견: 대항해 시대 탐험가들이 발견한 땅의 목록을 인덱스로 사용하기\n",
    "import pandas as pd\n",
    "\n",
    "# 탐험가의 발견\n",
    "discoveries = pd.Series(\n",
    "    ['India', 'Americas', 'Circumnavigate the Earth'],\n",
    "    index=['Vasco da Gama', 'Christopher Columbus', 'Ferdinand Magellan']\n",
    ")\n",
    "\n",
    "# 인덱스 출력\n",
    "print(\"탐험가 인덱스:\\n\", discoveries.index)"
   ]
  },
  {
   "cell_type": "code",
   "execution_count": 6,
   "id": "834efd53-ac7a-45f3-8162-8376cb349ef5",
   "metadata": {},
   "outputs": [
    {
     "name": "stdout",
     "output_type": "stream",
     "text": [
      "교역품 인덱스:\n",
      " Index(['Spices', 'Silk', 'Gold'], dtype='object')\n"
     ]
    }
   ],
   "source": [
    "# 2. 교역품 가격: 대항해 시대 교역품의 가격 인덱스\n",
    "import pandas as pd\n",
    "\n",
    "# 교역품 가격\n",
    "goods_prices = pd.Series({'Spices': 100, 'Silk': 200, 'Gold': 300})\n",
    "\n",
    "# 인덱스 출력\n",
    "print(\"교역품 인덱스:\\n\", goods_prices.index)"
   ]
  },
  {
   "cell_type": "code",
   "execution_count": 7,
   "id": "4884b303-5ac7-4674-b4e2-b859a1ced4ef",
   "metadata": {},
   "outputs": [
    {
     "name": "stdout",
     "output_type": "stream",
     "text": [
      "전투 인덱스:\n",
      " Index(['Battle of Diu', 'Battle of Preveza', 'Battle of Lepanto'], dtype='object')\n"
     ]
    }
   ],
   "source": [
    "# 3. 전투 결과: 대항해 시대 전투의 결과를 나타내는 Series의 인덱스\n",
    "import pandas as pd\n",
    "\n",
    "# 전투 결과\n",
    "battle_results = pd.Series(['Victory', 'Defeat', 'Stalemate'], index=['Battle of Diu', 'Battle of Preveza', 'Battle of Lepanto'])\n",
    "\n",
    "# 인덱스 출력\n",
    "print(\"전투 인덱스:\\n\", battle_results.index)"
   ]
  },
  {
   "cell_type": "markdown",
   "id": "658624e7-2f24-4acb-b30d-bade0b15c048",
   "metadata": {},
   "source": [
    "## Series.array 속성\n",
    "- pandas Series 내부의 데이터 배열을 반환합니다. \n",
    "- 이 속성을 통해 Series의 데이터를 PandasArray 또는 ExtensionArray 형태로 직접 접근할 수 있습니다."
   ]
  },
  {
   "cell_type": "code",
   "execution_count": 8,
   "id": "7a5d6793-de21-4bae-80da-c5034d738cb1",
   "metadata": {},
   "outputs": [
    {
     "name": "stdout",
     "output_type": "stream",
     "text": [
      "발견된 지역 배열:\n",
      " <PandasArray>\n",
      "['India', 'Americas', 'Australia']\n",
      "Length: 3, dtype: object\n"
     ]
    }
   ],
   "source": [
    "# 1. 탐험가의 발견 배열: 대항해 시대 탐험가들이 발견한 땅의 배열\n",
    "import pandas as pd\n",
    "\n",
    "# 탐험가의 발견\n",
    "discoveries = pd.Series(['India', 'Americas', 'Australia'], index=['Vasco da Gama', 'Christopher Columbus', 'James Cook'])\n",
    "\n",
    "# 내부 데이터 배열 접근\n",
    "print(\"발견된 지역 배열:\\n\", discoveries.array)"
   ]
  },
  {
   "cell_type": "code",
   "execution_count": 9,
   "id": "ff7eab24-319a-43f0-a20a-fa97751f97fc",
   "metadata": {},
   "outputs": [
    {
     "name": "stdout",
     "output_type": "stream",
     "text": [
      "교역품 가격 배열:\n",
      " <PandasArray>\n",
      "[100, 200, 150]\n",
      "Length: 3, dtype: int64\n"
     ]
    }
   ],
   "source": [
    "# 2. 교역품 가격: 대항해 시대에 중요한 교역품의 가격\n",
    "import pandas as pd\n",
    "\n",
    "# 교역품 가격\n",
    "goods_prices = pd.Series([100, 200, 150], index=['Spices', 'Silk', 'Tea'])\n",
    "\n",
    "# 내부 데이터 배열 접근\n",
    "print(\"교역품 가격 배열:\\n\", goods_prices.array)"
   ]
  },
  {
   "cell_type": "code",
   "execution_count": 10,
   "id": "2d50f78c-2c13-4c0a-8b44-24ac1dca709a",
   "metadata": {},
   "outputs": [
    {
     "name": "stdout",
     "output_type": "stream",
     "text": [
      "항해 거리 배열:\n",
      " <PandasArray>\n",
      "[7000, 5000, 9000]\n",
      "Length: 3, dtype: int64\n"
     ]
    }
   ],
   "source": [
    "# 3. 항해 거리: 대항해 시대 탐험가들이 항해한 거리(단위: 마일)\n",
    "import pandas as pd\n",
    "\n",
    "# 항해 거리\n",
    "voyage_distances = pd.Series([7000, 5000, 9000], index=['Vasco da Gama', 'Christopher Columbus', 'Ferdinand Magellan'])\n",
    "# 내부 데이터 배열 접근\n",
    "print(\"항해 거리 배열:\\n\", voyage_distances.array)"
   ]
  },
  {
   "cell_type": "markdown",
   "id": "3bf47a6b-d5b5-4ea2-9884-479e2f8964c9",
   "metadata": {},
   "source": [
    "## pandas.Series.values\n",
    "- Series 내의 데이터를 NumPy 배열로 반환합니다. \n",
    "- 이 속성을 통해 pandas 구조에서 기본 데이터에 접근할 수 있으며, 이 데이터는 분석이나 계산에 직접 사용될 수 있습니다."
   ]
  },
  {
   "cell_type": "code",
   "execution_count": 11,
   "id": "126b0650-9462-45dc-82a2-3fdd9899b8e4",
   "metadata": {},
   "outputs": [
    {
     "name": "stdout",
     "output_type": "stream",
     "text": [
      "철학자들 배열:\n",
      " ['Socrates' 'Plato' 'Aristotle']\n"
     ]
    }
   ],
   "source": [
    "# 1. 🏛️ 유명한 철학자들: 고대 그리스의 유명한 철학자들의 리스트\n",
    "import pandas as pd\n",
    "\n",
    "# 유명한 그리스 철학자들\n",
    "philosophers = pd.Series(['Socrates', 'Plato', 'Aristotle'])\n",
    "\n",
    "# 내부 데이터 배열 접근\n",
    "print(\"철학자들 배열:\\n\", philosophers.values)"
   ]
  },
  {
   "cell_type": "code",
   "execution_count": 12,
   "id": "fe29fd96-bc60-4f7e-9e1b-a71fe62f8d3b",
   "metadata": {},
   "outputs": [
    {
     "name": "stdout",
     "output_type": "stream",
     "text": [
      "저작들 배열:\n",
      " ['The Republic' 'Nicomachean Ethics' 'Metaphysics']\n"
     ]
    }
   ],
   "source": [
    "# 2. 중요한 저작들: 고대 그리스 철학자들의 중요한 저작들\n",
    "import pandas as pd\n",
    "\n",
    "# 중요한 그리스 철학 저작들\n",
    "works = pd.Series(['The Republic', 'Nicomachean Ethics', 'Metaphysics'], index=['Plato', 'Aristotle', 'Aristotle'])\n",
    "\n",
    "# 내부 데이터 배열 접근\n",
    "print(\"저작들 배열:\\n\", works.values)"
   ]
  },
  {
   "cell_type": "code",
   "execution_count": 13,
   "id": "c2d37229-51f4-4cce-8667-f1aafc80ce97",
   "metadata": {},
   "outputs": [
    {
     "name": "stdout",
     "output_type": "stream",
     "text": [
      "도시 국가 인구 배열:\n",
      " [10000  8000  5000]\n"
     ]
    }
   ],
   "source": [
    "# 3. 고대 도시 국가들의 인구: 고대 그리스의 도시 국가들과 그 인구\n",
    "import pandas as pd\n",
    "\n",
    "# 고대 그리스 도시 국가들의 인구\n",
    "city_states_population = pd.Series([10000, 8000, 5000], index=['Athens', 'Sparta', 'Corinth'])\n",
    "\n",
    "# 내부 데이터 배열 접근\n",
    "print(\"도시 국가 인구 배열:\\n\", city_states_population.values)"
   ]
  },
  {
   "cell_type": "markdown",
   "id": "aa59515e-4af4-457b-b62d-e184250b2159",
   "metadata": {},
   "source": [
    "# pandas.Series.dtypes\n",
    "- pandas Series 내의 데이터 타입을 반환합니다.\n",
    "- Series는 단일 타입의 데이터를 저장하기 때문에, 이 속성은 Series 내 데이터의 타입 정보를 제공합니다."
   ]
  },
  {
   "cell_type": "code",
   "execution_count": 16,
   "id": "3996f075-c8db-402f-b52b-43f5a28f13f0",
   "metadata": {},
   "outputs": [
    {
     "name": "stdout",
     "output_type": "stream",
     "text": [
      "철학자 이름 데이터 타입: object\n"
     ]
    }
   ],
   "source": [
    "# 1. 🏛️ 유명한 철학자들: 고대 그리스의 유명한 철학자들의 이름\n",
    "import pandas as pd\n",
    "\n",
    "# 유명한 그리스 철학자들\n",
    "philosophers = pd.Series(['Socrates', 'Plato', 'Aristotle'])\n",
    "\n",
    "# 데이터 타입 확인\n",
    "print(\"철학자 이름 데이터 타입:\", philosophers.dtypes)"
   ]
  },
  {
   "cell_type": "code",
   "execution_count": 17,
   "id": "790dca1d-e915-4770-84f3-67de172c81b8",
   "metadata": {},
   "outputs": [
    {
     "name": "stdout",
     "output_type": "stream",
     "text": [
      "희극 작가 작품 수 데이터 타입: int64\n"
     ]
    }
   ],
   "source": [
    "# 2. 🎭 고대 그리스 희극 작가들: 고대 그리스의 희극 작가들과 그들의 주요 작품 수\n",
    "import pandas as pd\n",
    "\n",
    "# 고대 그리스 희극 작가들과 그들의 작품 수\n",
    "comedians = pd.Series({'Aristophanes': 40, 'Menander': 105, 'Eupolis': 35})\n",
    "\n",
    "# 데이터 타입 확인\n",
    "print(\"희극 작가 작품 수 데이터 타입:\", comedians.dtypes)"
   ]
  },
  {
   "cell_type": "code",
   "execution_count": 18,
   "id": "c68c71a0-29ff-46ec-8de2-ed6b405b55cc",
   "metadata": {},
   "outputs": [
    {
     "name": "stdout",
     "output_type": "stream",
     "text": [
      "도시 국가 면적 데이터 타입: float64\n"
     ]
    }
   ],
   "source": [
    "# 3. 🏺 고대 그리스 도시 국가들의 면적: 고대 그리스의 주요 도시 국가들과 그 면적(제곱킬로미터)\n",
    "import pandas as pd\n",
    "\n",
    "# 고대 그리스 도시 국가들의 면적\n",
    "city_states_area = pd.Series({'Athens': 2.39, 'Sparta': 8.30, 'Corinth': 9.44})\n",
    "\n",
    "# 데이터 타입 확인\n",
    "print(\"도시 국가 면적 데이터 타입:\", city_states_area.dtypes)"
   ]
  },
  {
   "cell_type": "markdown",
   "id": "d66a6661-28bb-4e1b-958c-928dd8944beb",
   "metadata": {},
   "source": [
    "# pandas.Series.shape\n",
    "- pandas Series의 형태를 나타내는 튜플을 반환합니다.\n",
    "- 이 속성은 Series 내의 요소 개수를 포함하는 단일 차원 튜플을 제공합니다."
   ]
  },
  {
   "cell_type": "code",
   "execution_count": 19,
   "id": "592f03e8-5b42-4358-b171-f80fc135a939",
   "metadata": {},
   "outputs": [
    {
     "name": "stdout",
     "output_type": "stream",
     "text": [
      "철학자 Series 형태: (5,)\n"
     ]
    }
   ],
   "source": [
    "# 1. 고대 그리스 철학자들: 고대 그리스의 유명한 철학자들\n",
    "import pandas as pd\n",
    "\n",
    "# 고대 그리스 철학자들\n",
    "philosophers = pd.Series(['Socrates', 'Plato', 'Aristotle', 'Democritus', 'Pythagoras'])\n",
    "\n",
    "# Series 형태 확인\n",
    "print(\"철학자 Series 형태:\", philosophers.shape)"
   ]
  },
  {
   "cell_type": "code",
   "execution_count": 20,
   "id": "d3fa118b-4c90-4354-ac36-0211866f4244",
   "metadata": {},
   "outputs": [
    {
     "name": "stdout",
     "output_type": "stream",
     "text": [
      "철학 학파 Series 형태: (6,)\n"
     ]
    }
   ],
   "source": [
    "# 2. 고대 그리스 학파들: 고대 그리스의 주요 철학 학파들\n",
    "import pandas as pd\n",
    "\n",
    "# 고대 그리스 철학 학파들\n",
    "schools = pd.Series(['Platonism', 'Aristotelianism', 'Cynicism', 'Stoicism', 'Epicureanism', 'Skepticism'])\n",
    "\n",
    "# Series 형태 확인\n",
    "print(\"철학 학파 Series 형태:\", schools.shape)"
   ]
  },
  {
   "cell_type": "code",
   "execution_count": 21,
   "id": "e5d9f7f3-e0d7-470e-abb3-ed94165b1db3",
   "metadata": {},
   "outputs": [
    {
     "name": "stdout",
     "output_type": "stream",
     "text": [
      "희극 작가 Series 형태: (7,)\n"
     ]
    }
   ],
   "source": [
    "# 3. 고대 그리스 희극 작가들: 고대 그리스의 유명한 희극 작가들\n",
    "import pandas as pd\n",
    "\n",
    "# 고대 그리스 희극 작가들\n",
    "comedians = pd.Series(['Aristophanes', 'Menander', 'Eupolis', 'Cratinus', 'Philemon', 'Diphilus', 'Apollodorus'])\n",
    "\n",
    "# Series 형태 확인\n",
    "print(\"희극 작가 Series 형태:\", comedians.shape)"
   ]
  },
  {
   "cell_type": "markdown",
   "id": "73ec3eab-452c-4d35-b46e-bf062c14990f",
   "metadata": {},
   "source": [
    "# pandas.Series.nbytes\n",
    "- pandas Series가 메모리에서 차지하는 총 바이트 수를 반환합니다. \n",
    "- 이 속성을 사용하여 데이터 구조의 메모리 효율성을 평가할 수 있습니다."
   ]
  },
  {
   "cell_type": "code",
   "execution_count": 23,
   "id": "63f3b180-4810-417b-94f6-23a5a1b9cebe",
   "metadata": {},
   "outputs": [
    {
     "name": "stdout",
     "output_type": "stream",
     "text": [
      "도자기 스타일 Series 메모리 사용량: 40 bytes\n"
     ]
    }
   ],
   "source": [
    "# 1. 고대 그리스 도자기 스타일: 고대 그리스의 주요 도자기 스타일\n",
    "import pandas as pd\n",
    "\n",
    "# 고대| 그리스 도자기 스타일\n",
    "pottery_styles = pd.Series(['Geometric', 'Orientalizing', 'Black Figure', 'Red Figure', 'White Ground'])\n",
    "\n",
    "# 메모리 사용량 확인\n",
    "print(\"도자기 스타일 Series 메모리 사용량:\", pottery_styles.nbytes, \"bytes\")"
   ]
  },
  {
   "cell_type": "code",
   "execution_count": 24,
   "id": "ab765d80-9172-4d6c-868f-a2d8f2878cd0",
   "metadata": {},
   "outputs": [
    {
     "name": "stdout",
     "output_type": "stream",
     "text": [
      "조각가 Series 메모리 사용량: 40 bytes\n"
     ]
    }
   ],
   "source": [
    "# 2. 고대 그리스 조각가들: 고대 그리스의 유명한 조각가들\n",
    "import pandas as pd\n",
    "\n",
    "# 고대 그리스 조각가들\n",
    "sculptors = pd.Series(['Phidias', 'Polykleitos', 'Myron', 'Praxiteles', 'Lysippos'])\n",
    "\n",
    "# 메모리 사용량 확인\n",
    "print(\"조각가 Series 메모리 사용량:\", sculptors.nbytes, \"bytes\")"
   ]
  },
  {
   "cell_type": "code",
   "execution_count": 25,
   "id": "0ba8b9aa-82d5-4303-8a64-3c118affd477",
   "metadata": {},
   "outputs": [
    {
     "name": "stdout",
     "output_type": "stream",
     "text": [
      "건축 양식 Series 메모리 사용량: 24 bytes\n"
     ]
    }
   ],
   "source": [
    "# 3. 고대 그리스 건축 양식: 고대 그리스의 주요 건축 양식\n",
    "import pandas as pd\n",
    "\n",
    "# 고대 그리스 건축 양식\n",
    "architectural_styles = pd.Series(['Doric', 'Ionic', 'Corinthian'])\n",
    "\n",
    "# 메모리 사용량 확인\n",
    "print(\"건축 양식 Series 메모리 사용량:\", architectural_styles.nbytes, \"bytes\")"
   ]
  },
  {
   "cell_type": "markdown",
   "id": "05f974a7-0e6b-4492-a6e4-085d1b7d69e4",
   "metadata": {},
   "source": [
    "## pandas.Series.ndim 속성\n",
    "- pandas Series의 차원 수를 나타냅니다.\n",
    "- Series는 1차원 데이터 구조이므로, 이 속성의 값은 항상 1입니다."
   ]
  },
  {
   "cell_type": "code",
   "execution_count": 28,
   "id": "5a6c6aa1-7878-48f5-8095-bd549f21f96b",
   "metadata": {},
   "outputs": [
    {
     "name": "stdout",
     "output_type": "stream",
     "text": [
      "아테네 정치 체제 Series 차원: 1\n"
     ]
    }
   ],
   "source": [
    "# 1. 고대 아테네의 정치 체제: 고대 아테네에서 사용된 주요 정치 체제들\n",
    "import pandas as pd\n",
    "\n",
    "# 고대 아테네의 정치 체제\n",
    "athenian_politics = pd.Series(['Monarchy', 'Aristocracy', 'Tyranny', 'Democracy'])\n",
    "\n",
    "# 차원 확인\n",
    "print(\"아테네 정치 체제 Series 차원:\", athenian_politics.ndim)"
   ]
  },
  {
   "cell_type": "code",
   "execution_count": 29,
   "id": "75006f67-24a9-47cd-bca7-d86d23aaa614",
   "metadata": {},
   "outputs": [
    {
     "name": "stdout",
     "output_type": "stream",
     "text": [
      "스파르타 군사 체제 Series 차원: 1\n"
     ]
    }
   ],
   "source": [
    "# 2. 스파르타의 군사 체제: 고대 스파르타의 군사 조직 구조\n",
    "import pandas as pd\n",
    "\n",
    "# 스파르타의 군사 체제\n",
    "spartan_military = pd.Series(['Kings', 'Gerousia', 'Ephors', 'Apella', 'Helots'])\n",
    "\n",
    "# 차원 확인\n",
    "print(\"스파르타 군사 체제 Series 차원:\", spartan_military.ndim)"
   ]
  },
  {
   "cell_type": "code",
   "execution_count": 30,
   "id": "a3ce3ccc-3db5-4c9f-9456-738bc1aac09b",
   "metadata": {},
   "outputs": [
    {
     "name": "stdout",
     "output_type": "stream",
     "text": [
      "그리스 도시 국가 Series 차원: 1\n"
     ]
    }
   ],
   "source": [
    "# 3. 고대 그리스 도시 국가들: 고대 그리스의 주요 도시 국가들\n",
    "import pandas as pd\n",
    "\n",
    "# 고대 그리스 도시 국가들\n",
    "city_states = pd.Series(['Athens', 'Sparta', 'Corinth', 'Thebes', 'Argos'])\n",
    "\n",
    "# 차원 확인\n",
    "print(\"그리스 도시 국가 Series 차원:\", city_states.ndim)"
   ]
  },
  {
   "cell_type": "markdown",
   "id": "477941df-2d03-4dd0-ae5d-165f6fcdff5d",
   "metadata": {},
   "source": [
    "## pandas.Series.size\n",
    "- pandas Series 내의 요소 개수를 나타냅니다. \n",
    "- 이 속성은 Series의 크기를 알고 싶을 때 유용하게 사용될 수 있습니다."
   ]
  },
  {
   "cell_type": "code",
   "execution_count": 33,
   "id": "1c6f1264-51be-4db1-95e6-c2a19e01eca7",
   "metadata": {},
   "outputs": [
    {
     "name": "stdout",
     "output_type": "stream",
     "text": [
      "그리스 신들 Series 크기: 8\n"
     ]
    }
   ],
   "source": [
    "# 1. 주요 그리스 신들: 고대 그리스의 주요 신들\n",
    "import pandas as pd\n",
    "\n",
    "# 주요 그리스 신들\n",
    "greek_gods = pd.Series(['Zeus', 'Hera', 'Poseidon', 'Demeter', 'Athena', 'Apollo', 'Artemis', 'Ares'])\n",
    "\n",
    "# 요소 개수 확인\n",
    "print(\"그리스 신들 Series 크기:\", greek_gods.size)"
   ]
  },
  {
   "cell_type": "code",
   "execution_count": 34,
   "id": "2839bc2f-ecaa-49c2-a01f-a70965278148",
   "metadata": {},
   "outputs": [
    {
     "name": "stdout",
     "output_type": "stream",
     "text": [
      "트로이 전쟁 영웅들 Series 크기: 5\n"
     ]
    }
   ],
   "source": [
    "# 2. 트로이 전쟁의 영웅들: 트로이 전쟁에서 중요한 역할을 한 영웅들\n",
    "import pandas as pd\n",
    "\n",
    "# 트로이 전쟁의 영웅들\n",
    "trojan_heroes = pd.Series(['Achilles', 'Hector', 'Odysseus', 'Paris', 'Helen'])\n",
    "\n",
    "# 요소 개수 확인\n",
    "print(\"트로이 전쟁 영웅들 Series 크기:\", trojan_heroes.size)"
   ]
  },
  {
   "cell_type": "code",
   "execution_count": 35,
   "id": "3e50ef3b-9a87-48bc-ac01-eec774695d2e",
   "metadata": {},
   "outputs": [
    {
     "name": "stdout",
     "output_type": "stream",
     "text": [
      "오디세우스 모험 Series 크기: 5\n"
     ]
    }
   ],
   "source": [
    "# 3. 오디세우스의 모험: 오디세우스가 경험한 모험들\n",
    "import pandas as pd\n",
    "\n",
    "# 오디세우스의 모험\n",
    "odysseus_adventures = pd.Series(['Cyclopes', 'Lotus Eaters', 'Sirens', 'Scylla and Charybdis', 'Calypso'])\n",
    "\n",
    "# 요소 개수 확인\n",
    "print(\"오디세우스 모험 Series 크기:\", odysseus_adventures.size)"
   ]
  },
  {
   "cell_type": "markdown",
   "id": "43883644-7915-41a2-8045-608955ea9b37",
   "metadata": {},
   "source": [
    "## pandas.Series.T\n",
    "- pandas Series의 전치(transpose)를 나타냅니다. \n",
    "- 하지만 Series는 1차원 데이터 구조이기 때문에, 전치를 적용해도 원본 Series와 동일합니다. \n",
    "- 이 속성은 주로 일관성을 위해 DataFrame과의 호환성을 갖추기 위해 제공됩니다."
   ]
  },
  {
   "cell_type": "code",
   "execution_count": 39,
   "id": "9293037c-5b73-4406-a35c-0c72ee34da78",
   "metadata": {},
   "outputs": [
    {
     "name": "stdout",
     "output_type": "stream",
     "text": [
      "트로이 전쟁 인물들 (전치):\n",
      " 0     Achilles\n",
      "1       Hector\n",
      "2     Odysseus\n",
      "3        Paris\n",
      "4    Agamemnon\n",
      "dtype: object\n"
     ]
    }
   ],
   "source": [
    "# 1. 트로이 전쟁의 주요 인물들: 트로이 전쟁에서 중요한 역할을 한 인물들\n",
    "import pandas as pd\n",
    "\n",
    "# 트로이 전쟁의 주요 인물들\n",
    "trojan_characters = pd.Series(['Achilles', 'Hector', 'Odysseus', 'Paris', 'Agamemnon'])\n",
    "\n",
    "# 전치 사용 (변화 없음)\n",
    "print(\"트로이 전쟁 인물들 (전치):\\n\", trojan_characters.T)"
   ]
  },
  {
   "cell_type": "code",
   "execution_count": 40,
   "id": "8642f210-b5f0-459e-8c3f-8a9c2e018d3c",
   "metadata": {},
   "outputs": [
    {
     "name": "stdout",
     "output_type": "stream",
     "text": [
      "트로이 전쟁의 신들 (전치):\n",
      " 0       Athena\n",
      "1       Apollo\n",
      "2    Aphrodite\n",
      "3         Zeus\n",
      "4         Hera\n",
      "dtype: object\n"
     ]
    }
   ],
   "source": [
    "# 2. 트로이 전쟁의 신들: 트로이 전쟁에 개입한 그리스 신들\n",
    "import pandas as pd\n",
    "\n",
    "# 트로이 전쟁에 개입한 신들\n",
    "gods_in_trojan_war = pd.Series(['Athena', 'Apollo', 'Aphrodite', 'Zeus', 'Hera'])\n",
    "\n",
    "# 전치 사용 (변화 없음)\n",
    "print(\"트로이 전쟁의 신들 (전치):\\n\", gods_in_trojan_war.T)"
   ]
  },
  {
   "cell_type": "code",
   "execution_count": 41,
   "id": "3b8277c9-aec1-4beb-bc30-f2b5687f36d1",
   "metadata": {},
   "outputs": [
    {
     "name": "stdout",
     "output_type": "stream",
     "text": [
      "트로이 전쟁의 무기들 (전치):\n",
      " 0            Sword\n",
      "1            Spear\n",
      "2    Bow and Arrow\n",
      "3           Shield\n",
      "dtype: object\n"
     ]
    }
   ],
   "source": [
    "# 3. 트로이 전쟁의 무기들: 트로이 전쟁에서 사용된 주요 무기\n",
    "import pandas as pd\n",
    "\n",
    "# 트로이 전쟁의 무기들\n",
    "trojan_war_weapons = pd.Series(['Sword', 'Spear', 'Bow and Arrow', 'Shield'])\n",
    "\n",
    "# 전치 사용 (변화 없음)\n",
    "print(\"트로이 전쟁의 무기들 (전치):\\n\", trojan_war_weapons.T)"
   ]
  },
  {
   "cell_type": "code",
   "execution_count": null,
   "id": "deee9f1f-019b-4014-8c1d-0e9b8496e7d3",
   "metadata": {},
   "outputs": [],
   "source": []
  }
 ],
 "metadata": {
  "kernelspec": {
   "display_name": "Python 3 (ipykernel)",
   "language": "python",
   "name": "python3"
  },
  "language_info": {
   "codemirror_mode": {
    "name": "ipython",
    "version": 3
   },
   "file_extension": ".py",
   "mimetype": "text/x-python",
   "name": "python",
   "nbconvert_exporter": "python",
   "pygments_lexer": "ipython3",
   "version": "3.10.9"
  }
 },
 "nbformat": 4,
 "nbformat_minor": 5
}
